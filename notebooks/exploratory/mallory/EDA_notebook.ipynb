{
 "cells": [
  {
   "cell_type": "markdown",
   "id": "9d44dd5f-57fc-499b-acf0-08b305caa65a",
   "metadata": {},
   "source": [
    "## Importing Libraries"
   ]
  },
  {
   "cell_type": "code",
   "execution_count": 4,
   "id": "d5965d65-2210-4a83-9c01-3e80a4cb5392",
   "metadata": {},
   "outputs": [],
   "source": [
    "import pandas as pd \n",
    "import numpy as np \n",
    "from sklearn.model_selection import cross_val_score, train_test_split\n",
    "from sklearn.impute import SimpleImputer\n",
    "from sklearn.ensemble import BaggingClassifier\n",
    "from sklearn.metrics import plot_confusion_matrix, auc, classification_report\n",
    "from sklearn.linear_model import LogisticRegression\n",
    "from sklearn.pipeline import Pipeline\n",
    "from sklearn.tree import DecisionTreeRegressor, DecisionTreeClassifier\n",
    "from sklearn.preprocessing import OneHotEncoder, StandardScaler\n",
    "from sklearn.ensemble import RandomForestClassifier, RandomForestRegressor\n",
    "from imblearn.over_sampling import SMOTE\n",
    "import matplotlib.pyplot as plt\n",
    "import seaborn as sns\n",
    "from sklearn.preprocessing import OneHotEncoder"
   ]
  },
  {
   "cell_type": "markdown",
   "id": "f35f226e-2274-40c1-8245-160d72951243",
   "metadata": {},
   "source": [
    "decision tree, random forrest"
   ]
  },
  {
   "cell_type": "markdown",
   "id": "228a597e-784c-4476-825d-7577800717c0",
   "metadata": {},
   "source": [
    "## Importing Data"
   ]
  },
  {
   "cell_type": "code",
   "execution_count": 5,
   "id": "9710746e-a3d4-4a7c-809b-f88e83aac667",
   "metadata": {},
   "outputs": [
    {
     "data": {
      "text/html": [
       "<div>\n",
       "<style scoped>\n",
       "    .dataframe tbody tr th:only-of-type {\n",
       "        vertical-align: middle;\n",
       "    }\n",
       "\n",
       "    .dataframe tbody tr th {\n",
       "        vertical-align: top;\n",
       "    }\n",
       "\n",
       "    .dataframe thead th {\n",
       "        text-align: right;\n",
       "    }\n",
       "</style>\n",
       "<table border=\"1\" class=\"dataframe\">\n",
       "  <thead>\n",
       "    <tr style=\"text-align: right;\">\n",
       "      <th></th>\n",
       "      <th>REF</th>\n",
       "      <th>Company (Manufacturer)</th>\n",
       "      <th>Company Location</th>\n",
       "      <th>Review Date</th>\n",
       "      <th>Country of Bean Origin</th>\n",
       "      <th>Specific Bean Origin or Bar Name</th>\n",
       "      <th>Cocoa Percent</th>\n",
       "      <th>Ingredients</th>\n",
       "      <th>Most Memorable Characteristics</th>\n",
       "      <th>Rating</th>\n",
       "    </tr>\n",
       "  </thead>\n",
       "  <tbody>\n",
       "    <tr>\n",
       "      <th>0</th>\n",
       "      <td>2454</td>\n",
       "      <td>5150</td>\n",
       "      <td>U.S.A.</td>\n",
       "      <td>2019</td>\n",
       "      <td>Madagascar</td>\n",
       "      <td>Bejofo Estate, batch 1</td>\n",
       "      <td>76%</td>\n",
       "      <td>3- B,S,C</td>\n",
       "      <td>cocoa, blackberry, full body</td>\n",
       "      <td>3.75</td>\n",
       "    </tr>\n",
       "    <tr>\n",
       "      <th>1</th>\n",
       "      <td>2458</td>\n",
       "      <td>5150</td>\n",
       "      <td>U.S.A.</td>\n",
       "      <td>2019</td>\n",
       "      <td>Dominican Republic</td>\n",
       "      <td>Zorzal, batch 1</td>\n",
       "      <td>76%</td>\n",
       "      <td>3- B,S,C</td>\n",
       "      <td>cocoa, vegetal, savory</td>\n",
       "      <td>3.50</td>\n",
       "    </tr>\n",
       "    <tr>\n",
       "      <th>2</th>\n",
       "      <td>2454</td>\n",
       "      <td>5150</td>\n",
       "      <td>U.S.A.</td>\n",
       "      <td>2019</td>\n",
       "      <td>Tanzania</td>\n",
       "      <td>Kokoa Kamili, batch 1</td>\n",
       "      <td>76%</td>\n",
       "      <td>3- B,S,C</td>\n",
       "      <td>rich cocoa, fatty, bready</td>\n",
       "      <td>3.25</td>\n",
       "    </tr>\n",
       "    <tr>\n",
       "      <th>3</th>\n",
       "      <td>797</td>\n",
       "      <td>A. Morin</td>\n",
       "      <td>France</td>\n",
       "      <td>2012</td>\n",
       "      <td>Peru</td>\n",
       "      <td>Peru</td>\n",
       "      <td>63%</td>\n",
       "      <td>4- B,S,C,L</td>\n",
       "      <td>fruity, melon, roasty</td>\n",
       "      <td>3.75</td>\n",
       "    </tr>\n",
       "    <tr>\n",
       "      <th>4</th>\n",
       "      <td>797</td>\n",
       "      <td>A. Morin</td>\n",
       "      <td>France</td>\n",
       "      <td>2012</td>\n",
       "      <td>Bolivia</td>\n",
       "      <td>Bolivia</td>\n",
       "      <td>70%</td>\n",
       "      <td>4- B,S,C,L</td>\n",
       "      <td>vegetal, nutty</td>\n",
       "      <td>3.50</td>\n",
       "    </tr>\n",
       "    <tr>\n",
       "      <th>...</th>\n",
       "      <td>...</td>\n",
       "      <td>...</td>\n",
       "      <td>...</td>\n",
       "      <td>...</td>\n",
       "      <td>...</td>\n",
       "      <td>...</td>\n",
       "      <td>...</td>\n",
       "      <td>...</td>\n",
       "      <td>...</td>\n",
       "      <td>...</td>\n",
       "    </tr>\n",
       "    <tr>\n",
       "      <th>2357</th>\n",
       "      <td>1205</td>\n",
       "      <td>Zotter</td>\n",
       "      <td>Austria</td>\n",
       "      <td>2014</td>\n",
       "      <td>Blend</td>\n",
       "      <td>Raw</td>\n",
       "      <td>80%</td>\n",
       "      <td>4- B,S*,C,Sa</td>\n",
       "      <td>waxy, cloying, vegetal</td>\n",
       "      <td>2.75</td>\n",
       "    </tr>\n",
       "    <tr>\n",
       "      <th>2358</th>\n",
       "      <td>1996</td>\n",
       "      <td>Zotter</td>\n",
       "      <td>Austria</td>\n",
       "      <td>2017</td>\n",
       "      <td>Colombia</td>\n",
       "      <td>APROCAFA, Acandi</td>\n",
       "      <td>75%</td>\n",
       "      <td>3- B,S,C</td>\n",
       "      <td>strong nutty, marshmallow</td>\n",
       "      <td>3.75</td>\n",
       "    </tr>\n",
       "    <tr>\n",
       "      <th>2359</th>\n",
       "      <td>2170</td>\n",
       "      <td>Zotter</td>\n",
       "      <td>Austria</td>\n",
       "      <td>2018</td>\n",
       "      <td>Belize</td>\n",
       "      <td>Maya Mtn</td>\n",
       "      <td>72%</td>\n",
       "      <td>3- B,S,C</td>\n",
       "      <td>muted, roasty, accessible</td>\n",
       "      <td>3.50</td>\n",
       "    </tr>\n",
       "    <tr>\n",
       "      <th>2360</th>\n",
       "      <td>2170</td>\n",
       "      <td>Zotter</td>\n",
       "      <td>Austria</td>\n",
       "      <td>2018</td>\n",
       "      <td>Congo</td>\n",
       "      <td>Mountains of the Moon</td>\n",
       "      <td>70%</td>\n",
       "      <td>3- B,S,C</td>\n",
       "      <td>fatty, mild nuts, mild fruit</td>\n",
       "      <td>3.25</td>\n",
       "    </tr>\n",
       "    <tr>\n",
       "      <th>2361</th>\n",
       "      <td>2036</td>\n",
       "      <td>Zotter</td>\n",
       "      <td>Austria</td>\n",
       "      <td>2018</td>\n",
       "      <td>Blend</td>\n",
       "      <td>Dry Aged, 30 yr Anniversary bar</td>\n",
       "      <td>75%</td>\n",
       "      <td>3- B,S,C</td>\n",
       "      <td>fatty, earthy, cocoa</td>\n",
       "      <td>3.00</td>\n",
       "    </tr>\n",
       "  </tbody>\n",
       "</table>\n",
       "<p>2362 rows × 10 columns</p>\n",
       "</div>"
      ],
      "text/plain": [
       "       REF Company (Manufacturer) Company Location  Review Date  \\\n",
       "0     2454                   5150           U.S.A.         2019   \n",
       "1     2458                   5150           U.S.A.         2019   \n",
       "2     2454                   5150           U.S.A.         2019   \n",
       "3      797               A. Morin           France         2012   \n",
       "4      797               A. Morin           France         2012   \n",
       "...    ...                    ...              ...          ...   \n",
       "2357  1205                 Zotter          Austria         2014   \n",
       "2358  1996                 Zotter          Austria         2017   \n",
       "2359  2170                 Zotter          Austria         2018   \n",
       "2360  2170                 Zotter          Austria         2018   \n",
       "2361  2036                 Zotter          Austria         2018   \n",
       "\n",
       "     Country of Bean Origin Specific Bean Origin or Bar Name Cocoa Percent  \\\n",
       "0                Madagascar           Bejofo Estate, batch 1           76%   \n",
       "1        Dominican Republic                  Zorzal, batch 1           76%   \n",
       "2                  Tanzania            Kokoa Kamili, batch 1           76%   \n",
       "3                      Peru                             Peru           63%   \n",
       "4                   Bolivia                          Bolivia           70%   \n",
       "...                     ...                              ...           ...   \n",
       "2357                  Blend                              Raw           80%   \n",
       "2358               Colombia                 APROCAFA, Acandi           75%   \n",
       "2359                 Belize                         Maya Mtn           72%   \n",
       "2360                  Congo            Mountains of the Moon           70%   \n",
       "2361                  Blend  Dry Aged, 30 yr Anniversary bar           75%   \n",
       "\n",
       "       Ingredients Most Memorable Characteristics  Rating  \n",
       "0         3- B,S,C   cocoa, blackberry, full body    3.75  \n",
       "1         3- B,S,C         cocoa, vegetal, savory    3.50  \n",
       "2         3- B,S,C      rich cocoa, fatty, bready    3.25  \n",
       "3       4- B,S,C,L          fruity, melon, roasty    3.75  \n",
       "4       4- B,S,C,L                 vegetal, nutty    3.50  \n",
       "...            ...                            ...     ...  \n",
       "2357  4- B,S*,C,Sa         waxy, cloying, vegetal    2.75  \n",
       "2358      3- B,S,C      strong nutty, marshmallow    3.75  \n",
       "2359      3- B,S,C      muted, roasty, accessible    3.50  \n",
       "2360      3- B,S,C   fatty, mild nuts, mild fruit    3.25  \n",
       "2361      3- B,S,C           fatty, earthy, cocoa    3.00  \n",
       "\n",
       "[2362 rows x 10 columns]"
      ]
     },
     "execution_count": 5,
     "metadata": {},
     "output_type": "execute_result"
    }
   ],
   "source": [
    "all_data = pd.read_csv('../../../data/chocolate.csv')\n",
    "all_data"
   ]
  },
  {
   "cell_type": "code",
   "execution_count": 45,
   "id": "b9349e13-a6de-4f39-b61a-b26f28a524f5",
   "metadata": {},
   "outputs": [
    {
     "name": "stdout",
     "output_type": "stream",
     "text": [
      "<class 'pandas.core.frame.DataFrame'>\n",
      "RangeIndex: 2362 entries, 0 to 2361\n",
      "Data columns (total 10 columns):\n",
      " #   Column                            Non-Null Count  Dtype  \n",
      "---  ------                            --------------  -----  \n",
      " 0   ref                               2362 non-null   int64  \n",
      " 1   company_manufacturer              2362 non-null   object \n",
      " 2   company_location                  2362 non-null   object \n",
      " 3   review_date                       2362 non-null   int64  \n",
      " 4   country_of_bean_origin            2362 non-null   object \n",
      " 5   specific_bean_origin_or_bar_name  2362 non-null   object \n",
      " 6   cocoa_percent                     2362 non-null   object \n",
      " 7   ingredients                       2274 non-null   object \n",
      " 8   most_memorable_characteristics    2362 non-null   object \n",
      " 9   rating                            2362 non-null   float64\n",
      "dtypes: float64(1), int64(2), object(7)\n",
      "memory usage: 184.7+ KB\n"
     ]
    }
   ],
   "source": [
    "all_data.info()"
   ]
  },
  {
   "cell_type": "markdown",
   "id": "f1882e0c-5433-4cef-aa4f-dc7d8d6006fa",
   "metadata": {},
   "source": [
    "## Data Cleaning"
   ]
  },
  {
   "cell_type": "markdown",
   "id": "1f35bd92-42d2-49dd-832d-d508cca5aa87",
   "metadata": {},
   "source": [
    "### Replacing column spaces with underscores and lower casing column names for simplicity when calling them. "
   ]
  },
  {
   "cell_type": "code",
   "execution_count": 46,
   "id": "8ff81c95-6d6f-447b-afa0-97acf15e0007",
   "metadata": {},
   "outputs": [
    {
     "data": {
      "text/html": [
       "<div>\n",
       "<style scoped>\n",
       "    .dataframe tbody tr th:only-of-type {\n",
       "        vertical-align: middle;\n",
       "    }\n",
       "\n",
       "    .dataframe tbody tr th {\n",
       "        vertical-align: top;\n",
       "    }\n",
       "\n",
       "    .dataframe thead th {\n",
       "        text-align: right;\n",
       "    }\n",
       "</style>\n",
       "<table border=\"1\" class=\"dataframe\">\n",
       "  <thead>\n",
       "    <tr style=\"text-align: right;\">\n",
       "      <th></th>\n",
       "      <th>ref</th>\n",
       "      <th>company_manufacturer</th>\n",
       "      <th>company_location</th>\n",
       "      <th>review_date</th>\n",
       "      <th>country_of_bean_origin</th>\n",
       "      <th>specific_bean_origin_or_bar_name</th>\n",
       "      <th>cocoa_percent</th>\n",
       "      <th>ingredients</th>\n",
       "      <th>most_memorable_characteristics</th>\n",
       "      <th>rating</th>\n",
       "    </tr>\n",
       "  </thead>\n",
       "  <tbody>\n",
       "    <tr>\n",
       "      <th>0</th>\n",
       "      <td>2454</td>\n",
       "      <td>5150</td>\n",
       "      <td>U.S.A.</td>\n",
       "      <td>2019</td>\n",
       "      <td>Madagascar</td>\n",
       "      <td>Bejofo Estate, batch 1</td>\n",
       "      <td>76</td>\n",
       "      <td>3- B,S,C</td>\n",
       "      <td>cocoa, blackberry, full body</td>\n",
       "      <td>3.75</td>\n",
       "    </tr>\n",
       "    <tr>\n",
       "      <th>1</th>\n",
       "      <td>2458</td>\n",
       "      <td>5150</td>\n",
       "      <td>U.S.A.</td>\n",
       "      <td>2019</td>\n",
       "      <td>Dominican Republic</td>\n",
       "      <td>Zorzal, batch 1</td>\n",
       "      <td>76</td>\n",
       "      <td>3- B,S,C</td>\n",
       "      <td>cocoa, vegetal, savory</td>\n",
       "      <td>3.50</td>\n",
       "    </tr>\n",
       "    <tr>\n",
       "      <th>2</th>\n",
       "      <td>2454</td>\n",
       "      <td>5150</td>\n",
       "      <td>U.S.A.</td>\n",
       "      <td>2019</td>\n",
       "      <td>Tanzania</td>\n",
       "      <td>Kokoa Kamili, batch 1</td>\n",
       "      <td>76</td>\n",
       "      <td>3- B,S,C</td>\n",
       "      <td>rich cocoa, fatty, bready</td>\n",
       "      <td>3.25</td>\n",
       "    </tr>\n",
       "    <tr>\n",
       "      <th>3</th>\n",
       "      <td>797</td>\n",
       "      <td>A. Morin</td>\n",
       "      <td>France</td>\n",
       "      <td>2012</td>\n",
       "      <td>Peru</td>\n",
       "      <td>Peru</td>\n",
       "      <td>63</td>\n",
       "      <td>4- B,S,C,L</td>\n",
       "      <td>fruity, melon, roasty</td>\n",
       "      <td>3.75</td>\n",
       "    </tr>\n",
       "    <tr>\n",
       "      <th>4</th>\n",
       "      <td>797</td>\n",
       "      <td>A. Morin</td>\n",
       "      <td>France</td>\n",
       "      <td>2012</td>\n",
       "      <td>Bolivia</td>\n",
       "      <td>Bolivia</td>\n",
       "      <td>70</td>\n",
       "      <td>4- B,S,C,L</td>\n",
       "      <td>vegetal, nutty</td>\n",
       "      <td>3.50</td>\n",
       "    </tr>\n",
       "    <tr>\n",
       "      <th>...</th>\n",
       "      <td>...</td>\n",
       "      <td>...</td>\n",
       "      <td>...</td>\n",
       "      <td>...</td>\n",
       "      <td>...</td>\n",
       "      <td>...</td>\n",
       "      <td>...</td>\n",
       "      <td>...</td>\n",
       "      <td>...</td>\n",
       "      <td>...</td>\n",
       "    </tr>\n",
       "    <tr>\n",
       "      <th>2357</th>\n",
       "      <td>1205</td>\n",
       "      <td>Zotter</td>\n",
       "      <td>Austria</td>\n",
       "      <td>2014</td>\n",
       "      <td>Blend</td>\n",
       "      <td>Raw</td>\n",
       "      <td>80</td>\n",
       "      <td>4- B,S*,C,Sa</td>\n",
       "      <td>waxy, cloying, vegetal</td>\n",
       "      <td>2.75</td>\n",
       "    </tr>\n",
       "    <tr>\n",
       "      <th>2358</th>\n",
       "      <td>1996</td>\n",
       "      <td>Zotter</td>\n",
       "      <td>Austria</td>\n",
       "      <td>2017</td>\n",
       "      <td>Colombia</td>\n",
       "      <td>APROCAFA, Acandi</td>\n",
       "      <td>75</td>\n",
       "      <td>3- B,S,C</td>\n",
       "      <td>strong nutty, marshmallow</td>\n",
       "      <td>3.75</td>\n",
       "    </tr>\n",
       "    <tr>\n",
       "      <th>2359</th>\n",
       "      <td>2170</td>\n",
       "      <td>Zotter</td>\n",
       "      <td>Austria</td>\n",
       "      <td>2018</td>\n",
       "      <td>Belize</td>\n",
       "      <td>Maya Mtn</td>\n",
       "      <td>72</td>\n",
       "      <td>3- B,S,C</td>\n",
       "      <td>muted, roasty, accessible</td>\n",
       "      <td>3.50</td>\n",
       "    </tr>\n",
       "    <tr>\n",
       "      <th>2360</th>\n",
       "      <td>2170</td>\n",
       "      <td>Zotter</td>\n",
       "      <td>Austria</td>\n",
       "      <td>2018</td>\n",
       "      <td>Congo</td>\n",
       "      <td>Mountains of the Moon</td>\n",
       "      <td>70</td>\n",
       "      <td>3- B,S,C</td>\n",
       "      <td>fatty, mild nuts, mild fruit</td>\n",
       "      <td>3.25</td>\n",
       "    </tr>\n",
       "    <tr>\n",
       "      <th>2361</th>\n",
       "      <td>2036</td>\n",
       "      <td>Zotter</td>\n",
       "      <td>Austria</td>\n",
       "      <td>2018</td>\n",
       "      <td>Blend</td>\n",
       "      <td>Dry Aged, 30 yr Anniversary bar</td>\n",
       "      <td>75</td>\n",
       "      <td>3- B,S,C</td>\n",
       "      <td>fatty, earthy, cocoa</td>\n",
       "      <td>3.00</td>\n",
       "    </tr>\n",
       "  </tbody>\n",
       "</table>\n",
       "<p>2362 rows × 10 columns</p>\n",
       "</div>"
      ],
      "text/plain": [
       "       ref company_manufacturer company_location  review_date  \\\n",
       "0     2454                 5150           U.S.A.         2019   \n",
       "1     2458                 5150           U.S.A.         2019   \n",
       "2     2454                 5150           U.S.A.         2019   \n",
       "3      797             A. Morin           France         2012   \n",
       "4      797             A. Morin           France         2012   \n",
       "...    ...                  ...              ...          ...   \n",
       "2357  1205               Zotter          Austria         2014   \n",
       "2358  1996               Zotter          Austria         2017   \n",
       "2359  2170               Zotter          Austria         2018   \n",
       "2360  2170               Zotter          Austria         2018   \n",
       "2361  2036               Zotter          Austria         2018   \n",
       "\n",
       "     country_of_bean_origin specific_bean_origin_or_bar_name cocoa_percent  \\\n",
       "0                Madagascar           Bejofo Estate, batch 1            76   \n",
       "1        Dominican Republic                  Zorzal, batch 1            76   \n",
       "2                  Tanzania            Kokoa Kamili, batch 1            76   \n",
       "3                      Peru                             Peru            63   \n",
       "4                   Bolivia                          Bolivia            70   \n",
       "...                     ...                              ...           ...   \n",
       "2357                  Blend                              Raw            80   \n",
       "2358               Colombia                 APROCAFA, Acandi            75   \n",
       "2359                 Belize                         Maya Mtn            72   \n",
       "2360                  Congo            Mountains of the Moon            70   \n",
       "2361                  Blend  Dry Aged, 30 yr Anniversary bar            75   \n",
       "\n",
       "       ingredients most_memorable_characteristics  rating  \n",
       "0         3- B,S,C   cocoa, blackberry, full body    3.75  \n",
       "1         3- B,S,C         cocoa, vegetal, savory    3.50  \n",
       "2         3- B,S,C      rich cocoa, fatty, bready    3.25  \n",
       "3       4- B,S,C,L          fruity, melon, roasty    3.75  \n",
       "4       4- B,S,C,L                 vegetal, nutty    3.50  \n",
       "...            ...                            ...     ...  \n",
       "2357  4- B,S*,C,Sa         waxy, cloying, vegetal    2.75  \n",
       "2358      3- B,S,C      strong nutty, marshmallow    3.75  \n",
       "2359      3- B,S,C      muted, roasty, accessible    3.50  \n",
       "2360      3- B,S,C   fatty, mild nuts, mild fruit    3.25  \n",
       "2361      3- B,S,C           fatty, earthy, cocoa    3.00  \n",
       "\n",
       "[2362 rows x 10 columns]"
      ]
     },
     "execution_count": 46,
     "metadata": {},
     "output_type": "execute_result"
    }
   ],
   "source": [
    "all_data.columns = all_data.columns.str.replace(' ', '_').str.replace('(', '').str.replace(')', '').str.lower()\n",
    "\n",
    "all_data = all_data.replace(\"%\", \"\", regex=True)\n",
    "all_data"
   ]
  },
  {
   "cell_type": "code",
   "execution_count": 47,
   "id": "805d181c-f361-4437-8bc2-7a1a3ddfbcb5",
   "metadata": {},
   "outputs": [],
   "source": [
    "df =  all_data.copy()"
   ]
  },
  {
   "cell_type": "code",
   "execution_count": 49,
   "id": "7fd1af54-edc1-4caf-8ecd-3dc461e538ce",
   "metadata": {},
   "outputs": [
    {
     "name": "stdout",
     "output_type": "stream",
     "text": [
      "<class 'pandas.core.frame.DataFrame'>\n",
      "RangeIndex: 2362 entries, 0 to 2361\n",
      "Data columns (total 10 columns):\n",
      " #   Column                            Non-Null Count  Dtype  \n",
      "---  ------                            --------------  -----  \n",
      " 0   ref                               2362 non-null   int64  \n",
      " 1   company_manufacturer              2362 non-null   object \n",
      " 2   company_location                  2362 non-null   object \n",
      " 3   review_date                       2362 non-null   int64  \n",
      " 4   country_of_bean_origin            2362 non-null   object \n",
      " 5   specific_bean_origin_or_bar_name  2362 non-null   object \n",
      " 6   cocoa_percent                     2362 non-null   object \n",
      " 7   ingredients                       2274 non-null   object \n",
      " 8   most_memorable_characteristics    2362 non-null   object \n",
      " 9   rating                            2362 non-null   float64\n",
      "dtypes: float64(1), int64(2), object(7)\n",
      "memory usage: 184.7+ KB\n"
     ]
    }
   ],
   "source": [
    "df.info()"
   ]
  },
  {
   "cell_type": "code",
   "execution_count": 50,
   "id": "29c9f7b5-731a-486a-88eb-f666eda791b2",
   "metadata": {},
   "outputs": [
    {
     "data": {
      "text/plain": [
       "Venezuela              246\n",
       "Peru                   223\n",
       "Ecuador                216\n",
       "Dominican Republic     211\n",
       "Madagascar             168\n",
       "                      ... \n",
       "Suriname                 1\n",
       "Martinique               1\n",
       "Burma                    1\n",
       "Sao Tome & Principe      1\n",
       "Sumatra                  1\n",
       "Name: country_of_bean_origin, Length: 61, dtype: int64"
      ]
     },
     "execution_count": 50,
     "metadata": {},
     "output_type": "execute_result"
    }
   ],
   "source": [
    "df.country_of_bean_origin.value_counts()"
   ]
  },
  {
   "cell_type": "markdown",
   "id": "ac94b362-1ef6-4e01-a0fd-333f3485bb2a",
   "metadata": {},
   "source": [
    "**creating new columns called ingredient_list where the number is  removed from the original ingredient column.**"
   ]
  },
  {
   "cell_type": "code",
   "execution_count": 51,
   "id": "ba2bfe5b-bf5d-4097-bea3-71f47f60e4b8",
   "metadata": {},
   "outputs": [],
   "source": [
    "# retreiving rows from the third index and on - leaving out rows with empty values\n",
    "df['ingredient_list'] = [np.nan if l is np.nan else l[3:] for l in df['ingredients']]"
   ]
  },
  {
   "cell_type": "code",
   "execution_count": 52,
   "id": "7b3d0b1c-05d6-43a2-8f73-652d34f29468",
   "metadata": {},
   "outputs": [
    {
     "data": {
      "text/plain": [
       "B,S,C          903\n",
       "B,S            661\n",
       "B,S,C,L        273\n",
       "B,S,C,V,L      184\n",
       "B,S,C,V        139\n",
       "B,S*            31\n",
       "B,S*,C,Sa       20\n",
       "B,S*,C          12\n",
       "B,S,L            8\n",
       "B,S*,C,V         7\n",
       ",S,C,V,Sa        6\n",
       "B,S,V,L          5\n",
       "B,S,C,Sa         5\n",
       "B                5\n",
       ",S,C,V,L,Sa      4\n",
       "B,S,V            3\n",
       "B,S*,V,L         3\n",
       "B,S*,C,L         2\n",
       "B,S*,Sa          1\n",
       "B,C              1\n",
       "B,S,C,L,Sa       1\n",
       "Name: ingredient_list, dtype: int64"
      ]
     },
     "execution_count": 52,
     "metadata": {},
     "output_type": "execute_result"
    }
   ],
   "source": [
    "df['ingredient_list'].value_counts()"
   ]
  },
  {
   "cell_type": "code",
   "execution_count": 11,
   "id": "7a06d8a1-3e25-49a3-aa35-0aeea3cca04d",
   "metadata": {},
   "outputs": [],
   "source": [
    "# leaving out occurances below 8 \n",
    "\n",
    "most_common = (df['ingredient_list'].value_counts()).iloc[:9].index\n",
    "\n",
    "\n",
    "df = df[df['ingredient_list'].isin(most_common)]"
   ]
  },
  {
   "cell_type": "code",
   "execution_count": 12,
   "id": "f4034129-654f-4ceb-bc8a-b72524ffd036",
   "metadata": {},
   "outputs": [
    {
     "data": {
      "text/html": [
       "<div>\n",
       "<style scoped>\n",
       "    .dataframe tbody tr th:only-of-type {\n",
       "        vertical-align: middle;\n",
       "    }\n",
       "\n",
       "    .dataframe tbody tr th {\n",
       "        vertical-align: top;\n",
       "    }\n",
       "\n",
       "    .dataframe thead th {\n",
       "        text-align: right;\n",
       "    }\n",
       "</style>\n",
       "<table border=\"1\" class=\"dataframe\">\n",
       "  <thead>\n",
       "    <tr style=\"text-align: right;\">\n",
       "      <th></th>\n",
       "      <th>ref</th>\n",
       "      <th>company_manufacturer</th>\n",
       "      <th>company_location</th>\n",
       "      <th>review_date</th>\n",
       "      <th>country_of_bean_origin</th>\n",
       "      <th>specific_bean_origin_or_bar_name</th>\n",
       "      <th>cocoa_percent</th>\n",
       "      <th>ingredients</th>\n",
       "      <th>most_memorable_characteristics</th>\n",
       "      <th>rating</th>\n",
       "      <th>ingredient_list</th>\n",
       "    </tr>\n",
       "  </thead>\n",
       "  <tbody>\n",
       "    <tr>\n",
       "      <th>0</th>\n",
       "      <td>2454</td>\n",
       "      <td>5150</td>\n",
       "      <td>U.S.A.</td>\n",
       "      <td>2019</td>\n",
       "      <td>Madagascar</td>\n",
       "      <td>Bejofo Estate, batch 1</td>\n",
       "      <td>76</td>\n",
       "      <td>3- B,S,C</td>\n",
       "      <td>cocoa, blackberry, full body</td>\n",
       "      <td>3.75</td>\n",
       "      <td>B,S,C</td>\n",
       "    </tr>\n",
       "    <tr>\n",
       "      <th>1</th>\n",
       "      <td>2458</td>\n",
       "      <td>5150</td>\n",
       "      <td>U.S.A.</td>\n",
       "      <td>2019</td>\n",
       "      <td>Dominican Republic</td>\n",
       "      <td>Zorzal, batch 1</td>\n",
       "      <td>76</td>\n",
       "      <td>3- B,S,C</td>\n",
       "      <td>cocoa, vegetal, savory</td>\n",
       "      <td>3.50</td>\n",
       "      <td>B,S,C</td>\n",
       "    </tr>\n",
       "    <tr>\n",
       "      <th>2</th>\n",
       "      <td>2454</td>\n",
       "      <td>5150</td>\n",
       "      <td>U.S.A.</td>\n",
       "      <td>2019</td>\n",
       "      <td>Tanzania</td>\n",
       "      <td>Kokoa Kamili, batch 1</td>\n",
       "      <td>76</td>\n",
       "      <td>3- B,S,C</td>\n",
       "      <td>rich cocoa, fatty, bready</td>\n",
       "      <td>3.25</td>\n",
       "      <td>B,S,C</td>\n",
       "    </tr>\n",
       "    <tr>\n",
       "      <th>3</th>\n",
       "      <td>797</td>\n",
       "      <td>A. Morin</td>\n",
       "      <td>France</td>\n",
       "      <td>2012</td>\n",
       "      <td>Peru</td>\n",
       "      <td>Peru</td>\n",
       "      <td>63</td>\n",
       "      <td>4- B,S,C,L</td>\n",
       "      <td>fruity, melon, roasty</td>\n",
       "      <td>3.75</td>\n",
       "      <td>B,S,C,L</td>\n",
       "    </tr>\n",
       "    <tr>\n",
       "      <th>4</th>\n",
       "      <td>797</td>\n",
       "      <td>A. Morin</td>\n",
       "      <td>France</td>\n",
       "      <td>2012</td>\n",
       "      <td>Bolivia</td>\n",
       "      <td>Bolivia</td>\n",
       "      <td>70</td>\n",
       "      <td>4- B,S,C,L</td>\n",
       "      <td>vegetal, nutty</td>\n",
       "      <td>3.50</td>\n",
       "      <td>B,S,C,L</td>\n",
       "    </tr>\n",
       "    <tr>\n",
       "      <th>...</th>\n",
       "      <td>...</td>\n",
       "      <td>...</td>\n",
       "      <td>...</td>\n",
       "      <td>...</td>\n",
       "      <td>...</td>\n",
       "      <td>...</td>\n",
       "      <td>...</td>\n",
       "      <td>...</td>\n",
       "      <td>...</td>\n",
       "      <td>...</td>\n",
       "      <td>...</td>\n",
       "    </tr>\n",
       "    <tr>\n",
       "      <th>2357</th>\n",
       "      <td>1205</td>\n",
       "      <td>Zotter</td>\n",
       "      <td>Austria</td>\n",
       "      <td>2014</td>\n",
       "      <td>Blend</td>\n",
       "      <td>Raw</td>\n",
       "      <td>80</td>\n",
       "      <td>4- B,S*,C,Sa</td>\n",
       "      <td>waxy, cloying, vegetal</td>\n",
       "      <td>2.75</td>\n",
       "      <td>B,S*,C,Sa</td>\n",
       "    </tr>\n",
       "    <tr>\n",
       "      <th>2358</th>\n",
       "      <td>1996</td>\n",
       "      <td>Zotter</td>\n",
       "      <td>Austria</td>\n",
       "      <td>2017</td>\n",
       "      <td>Colombia</td>\n",
       "      <td>APROCAFA, Acandi</td>\n",
       "      <td>75</td>\n",
       "      <td>3- B,S,C</td>\n",
       "      <td>strong nutty, marshmallow</td>\n",
       "      <td>3.75</td>\n",
       "      <td>B,S,C</td>\n",
       "    </tr>\n",
       "    <tr>\n",
       "      <th>2359</th>\n",
       "      <td>2170</td>\n",
       "      <td>Zotter</td>\n",
       "      <td>Austria</td>\n",
       "      <td>2018</td>\n",
       "      <td>Belize</td>\n",
       "      <td>Maya Mtn</td>\n",
       "      <td>72</td>\n",
       "      <td>3- B,S,C</td>\n",
       "      <td>muted, roasty, accessible</td>\n",
       "      <td>3.50</td>\n",
       "      <td>B,S,C</td>\n",
       "    </tr>\n",
       "    <tr>\n",
       "      <th>2360</th>\n",
       "      <td>2170</td>\n",
       "      <td>Zotter</td>\n",
       "      <td>Austria</td>\n",
       "      <td>2018</td>\n",
       "      <td>Congo</td>\n",
       "      <td>Mountains of the Moon</td>\n",
       "      <td>70</td>\n",
       "      <td>3- B,S,C</td>\n",
       "      <td>fatty, mild nuts, mild fruit</td>\n",
       "      <td>3.25</td>\n",
       "      <td>B,S,C</td>\n",
       "    </tr>\n",
       "    <tr>\n",
       "      <th>2361</th>\n",
       "      <td>2036</td>\n",
       "      <td>Zotter</td>\n",
       "      <td>Austria</td>\n",
       "      <td>2018</td>\n",
       "      <td>Blend</td>\n",
       "      <td>Dry Aged, 30 yr Anniversary bar</td>\n",
       "      <td>75</td>\n",
       "      <td>3- B,S,C</td>\n",
       "      <td>fatty, earthy, cocoa</td>\n",
       "      <td>3.00</td>\n",
       "      <td>B,S,C</td>\n",
       "    </tr>\n",
       "  </tbody>\n",
       "</table>\n",
       "<p>2231 rows × 11 columns</p>\n",
       "</div>"
      ],
      "text/plain": [
       "       ref company_manufacturer company_location  review_date  \\\n",
       "0     2454                 5150           U.S.A.         2019   \n",
       "1     2458                 5150           U.S.A.         2019   \n",
       "2     2454                 5150           U.S.A.         2019   \n",
       "3      797             A. Morin           France         2012   \n",
       "4      797             A. Morin           France         2012   \n",
       "...    ...                  ...              ...          ...   \n",
       "2357  1205               Zotter          Austria         2014   \n",
       "2358  1996               Zotter          Austria         2017   \n",
       "2359  2170               Zotter          Austria         2018   \n",
       "2360  2170               Zotter          Austria         2018   \n",
       "2361  2036               Zotter          Austria         2018   \n",
       "\n",
       "     country_of_bean_origin specific_bean_origin_or_bar_name cocoa_percent  \\\n",
       "0                Madagascar           Bejofo Estate, batch 1            76   \n",
       "1        Dominican Republic                  Zorzal, batch 1            76   \n",
       "2                  Tanzania            Kokoa Kamili, batch 1            76   \n",
       "3                      Peru                             Peru            63   \n",
       "4                   Bolivia                          Bolivia            70   \n",
       "...                     ...                              ...           ...   \n",
       "2357                  Blend                              Raw            80   \n",
       "2358               Colombia                 APROCAFA, Acandi            75   \n",
       "2359                 Belize                         Maya Mtn            72   \n",
       "2360                  Congo            Mountains of the Moon            70   \n",
       "2361                  Blend  Dry Aged, 30 yr Anniversary bar            75   \n",
       "\n",
       "       ingredients most_memorable_characteristics  rating ingredient_list  \n",
       "0         3- B,S,C   cocoa, blackberry, full body    3.75           B,S,C  \n",
       "1         3- B,S,C         cocoa, vegetal, savory    3.50           B,S,C  \n",
       "2         3- B,S,C      rich cocoa, fatty, bready    3.25           B,S,C  \n",
       "3       4- B,S,C,L          fruity, melon, roasty    3.75         B,S,C,L  \n",
       "4       4- B,S,C,L                 vegetal, nutty    3.50         B,S,C,L  \n",
       "...            ...                            ...     ...             ...  \n",
       "2357  4- B,S*,C,Sa         waxy, cloying, vegetal    2.75       B,S*,C,Sa  \n",
       "2358      3- B,S,C      strong nutty, marshmallow    3.75           B,S,C  \n",
       "2359      3- B,S,C      muted, roasty, accessible    3.50           B,S,C  \n",
       "2360      3- B,S,C   fatty, mild nuts, mild fruit    3.25           B,S,C  \n",
       "2361      3- B,S,C           fatty, earthy, cocoa    3.00           B,S,C  \n",
       "\n",
       "[2231 rows x 11 columns]"
      ]
     },
     "execution_count": 12,
     "metadata": {},
     "output_type": "execute_result"
    }
   ],
   "source": [
    "df"
   ]
  },
  {
   "cell_type": "markdown",
   "id": "74158839-3603-49e7-b92c-3288ab2b430d",
   "metadata": {},
   "source": [
    "# Exploratory Data Analysis"
   ]
  },
  {
   "cell_type": "markdown",
   "id": "888a2c58-7fca-4748-9261-ad249d313786",
   "metadata": {},
   "source": [
    "### Determining the relationships of ingredients and cocoa percentage with chocolate rating"
   ]
  },
  {
   "cell_type": "code",
   "execution_count": 13,
   "id": "87970f93-cd86-4c60-a22d-1745a3991775",
   "metadata": {},
   "outputs": [
    {
     "name": "stdout",
     "output_type": "stream",
     "text": [
      "<class 'pandas.core.frame.DataFrame'>\n",
      "Int64Index: 2231 entries, 0 to 2361\n",
      "Data columns (total 11 columns):\n",
      " #   Column                            Non-Null Count  Dtype  \n",
      "---  ------                            --------------  -----  \n",
      " 0   ref                               2231 non-null   int64  \n",
      " 1   company_manufacturer              2231 non-null   object \n",
      " 2   company_location                  2231 non-null   object \n",
      " 3   review_date                       2231 non-null   int64  \n",
      " 4   country_of_bean_origin            2231 non-null   object \n",
      " 5   specific_bean_origin_or_bar_name  2231 non-null   object \n",
      " 6   cocoa_percent                     2231 non-null   object \n",
      " 7   ingredients                       2231 non-null   object \n",
      " 8   most_memorable_characteristics    2231 non-null   object \n",
      " 9   rating                            2231 non-null   float64\n",
      " 10  ingredient_list                   2231 non-null   object \n",
      "dtypes: float64(1), int64(2), object(8)\n",
      "memory usage: 209.2+ KB\n"
     ]
    }
   ],
   "source": [
    "df.info()"
   ]
  },
  {
   "cell_type": "code",
   "execution_count": 14,
   "id": "37cb2957-993c-4032-ba60-0ef95e0ada97",
   "metadata": {},
   "outputs": [],
   "source": [
    "df.cocoa_percent=df.cocoa_percent.astype(float)"
   ]
  },
  {
   "cell_type": "code",
   "execution_count": 15,
   "id": "95e69dae-5842-4234-b67e-7e0626840cb3",
   "metadata": {},
   "outputs": [
    {
     "data": {
      "text/html": [
       "<div>\n",
       "<style scoped>\n",
       "    .dataframe tbody tr th:only-of-type {\n",
       "        vertical-align: middle;\n",
       "    }\n",
       "\n",
       "    .dataframe tbody tr th {\n",
       "        vertical-align: top;\n",
       "    }\n",
       "\n",
       "    .dataframe thead th {\n",
       "        text-align: right;\n",
       "    }\n",
       "</style>\n",
       "<table border=\"1\" class=\"dataframe\">\n",
       "  <thead>\n",
       "    <tr style=\"text-align: right;\">\n",
       "      <th></th>\n",
       "      <th></th>\n",
       "      <th>ref</th>\n",
       "      <th>review_date</th>\n",
       "    </tr>\n",
       "    <tr>\n",
       "      <th>cocoa_percent</th>\n",
       "      <th>rating</th>\n",
       "      <th></th>\n",
       "      <th></th>\n",
       "    </tr>\n",
       "  </thead>\n",
       "  <tbody>\n",
       "    <tr>\n",
       "      <th>46.0</th>\n",
       "      <th>2.75</th>\n",
       "      <td>552.000000</td>\n",
       "      <td>2010.000000</td>\n",
       "    </tr>\n",
       "    <tr>\n",
       "      <th>50.0</th>\n",
       "      <th>3.75</th>\n",
       "      <td>572.000000</td>\n",
       "      <td>2010.000000</td>\n",
       "    </tr>\n",
       "    <tr>\n",
       "      <th>53.0</th>\n",
       "      <th>2.00</th>\n",
       "      <td>32.000000</td>\n",
       "      <td>2006.000000</td>\n",
       "    </tr>\n",
       "    <tr>\n",
       "      <th rowspan=\"2\" valign=\"top\">55.0</th>\n",
       "      <th>2.50</th>\n",
       "      <td>823.000000</td>\n",
       "      <td>2011.666667</td>\n",
       "    </tr>\n",
       "    <tr>\n",
       "      <th>2.75</th>\n",
       "      <td>726.666667</td>\n",
       "      <td>2011.166667</td>\n",
       "    </tr>\n",
       "    <tr>\n",
       "      <th>...</th>\n",
       "      <th>...</th>\n",
       "      <td>...</td>\n",
       "      <td>...</td>\n",
       "    </tr>\n",
       "    <tr>\n",
       "      <th>90.0</th>\n",
       "      <th>3.75</th>\n",
       "      <td>1117.000000</td>\n",
       "      <td>2013.000000</td>\n",
       "    </tr>\n",
       "    <tr>\n",
       "      <th rowspan=\"3\" valign=\"top\">91.0</th>\n",
       "      <th>1.50</th>\n",
       "      <td>259.000000</td>\n",
       "      <td>2008.000000</td>\n",
       "    </tr>\n",
       "    <tr>\n",
       "      <th>2.00</th>\n",
       "      <td>188.000000</td>\n",
       "      <td>2007.000000</td>\n",
       "    </tr>\n",
       "    <tr>\n",
       "      <th>3.00</th>\n",
       "      <td>387.000000</td>\n",
       "      <td>2009.000000</td>\n",
       "    </tr>\n",
       "    <tr>\n",
       "      <th>99.0</th>\n",
       "      <th>2.00</th>\n",
       "      <td>81.000000</td>\n",
       "      <td>2006.000000</td>\n",
       "    </tr>\n",
       "  </tbody>\n",
       "</table>\n",
       "<p>216 rows × 2 columns</p>\n",
       "</div>"
      ],
      "text/plain": [
       "                              ref  review_date\n",
       "cocoa_percent rating                          \n",
       "46.0          2.75     552.000000  2010.000000\n",
       "50.0          3.75     572.000000  2010.000000\n",
       "53.0          2.00      32.000000  2006.000000\n",
       "55.0          2.50     823.000000  2011.666667\n",
       "              2.75     726.666667  2011.166667\n",
       "...                           ...          ...\n",
       "90.0          3.75    1117.000000  2013.000000\n",
       "91.0          1.50     259.000000  2008.000000\n",
       "              2.00     188.000000  2007.000000\n",
       "              3.00     387.000000  2009.000000\n",
       "99.0          2.00      81.000000  2006.000000\n",
       "\n",
       "[216 rows x 2 columns]"
      ]
     },
     "execution_count": 15,
     "metadata": {},
     "output_type": "execute_result"
    }
   ],
   "source": [
    "df.groupby(['cocoa_percent', 'rating']).mean()"
   ]
  },
  {
   "cell_type": "code",
   "execution_count": 16,
   "id": "a296490f-c485-42f5-b030-faf23fb9ac29",
   "metadata": {},
   "outputs": [
    {
     "name": "stdout",
     "output_type": "stream",
     "text": [
      "Ingredient_list\n",
      "B,S,C B,S,C,L B,S B,S,C,V B,S,C,V,L B,S* B,S*,C B,S,L B,S*,C,Sa\n"
     ]
    }
   ],
   "source": [
    "print('Ingredient_list')\n",
    "print(*list(df.ingredient_list.unique()))"
   ]
  },
  {
   "cell_type": "code",
   "execution_count": 17,
   "id": "b5fd3b03-6f97-4777-8d12-953265e56ae1",
   "metadata": {},
   "outputs": [
    {
     "data": {
      "text/plain": [
       "ingredient_list\n",
       "B,S          3.220272\n",
       "B,S*         2.959677\n",
       "B,S*,C       2.937500\n",
       "B,S*,C,Sa    3.112500\n",
       "B,S,C        3.276024\n",
       "B,S,C,L      3.203297\n",
       "B,S,C,V      2.967626\n",
       "B,S,C,V,L    3.089674\n",
       "B,S,L        2.687500\n",
       "Name: rating, dtype: float64"
      ]
     },
     "execution_count": 17,
     "metadata": {},
     "output_type": "execute_result"
    }
   ],
   "source": [
    "mean_ingredient_list = df.groupby('ingredient_list').mean()['rating']\n",
    "mean_ingredient_list\n"
   ]
  },
  {
   "cell_type": "code",
   "execution_count": 18,
   "id": "2127b9a9-218b-4ea5-a1a9-96dd8679b4db",
   "metadata": {},
   "outputs": [
    {
     "data": {
      "text/plain": [
       "ingredient_list\n",
       "B,S          3.220272\n",
       "B,S*         2.959677\n",
       "B,S*,C       2.937500\n",
       "B,S*,C,Sa    3.112500\n",
       "B,S,C        3.276024\n",
       "B,S,C,L      3.203297\n",
       "B,S,C,V      2.967626\n",
       "B,S,C,V,L    3.089674\n",
       "B,S,L        2.687500\n",
       "Name: rating, dtype: float64"
      ]
     },
     "execution_count": 18,
     "metadata": {},
     "output_type": "execute_result"
    }
   ],
   "source": [
    "mean_ingredient_list"
   ]
  },
  {
   "cell_type": "code",
   "execution_count": 19,
   "id": "b1fb6e28-a93d-4bbf-86ff-45d4bfc66423",
   "metadata": {},
   "outputs": [
    {
     "data": {
      "image/png": "[encoded data removed]",
      "text/plain": [
       "<Figure size 720x504 with 1 Axes>"
      ]
     },
     "metadata": {
      "needs_background": "light"
     },
     "output_type": "display_data"
    }
   ],
   "source": [
    "import pandas as pd\n",
    "from matplotlib import pyplot as plt\n",
    "\n",
    "x = mean_ingredient_list.index\n",
    " \n",
    "y = mean_ingredient_list.values\n",
    " \n",
    "\n",
    "fig = plt.figure(figsize =(10, 7))\n",
    " \n",
    "\n",
    "plt.bar(x, y)\n",
    " \n",
    "\n",
    "plt.show()"
   ]
  },
  {
   "cell_type": "markdown",
   "id": "b1d9f83f-c29e-45a3-97c2-d754b5d466f4",
   "metadata": {},
   "source": [
    "**this graph is showing the mean rating for every list combination of ingredients in our  dataframe.**"
   ]
  },
  {
   "cell_type": "code",
   "execution_count": 20,
   "id": "8c60a916-1b2a-42d4-9d86-e75c3230f3dc",
   "metadata": {},
   "outputs": [
    {
     "name": "stderr",
     "output_type": "stream",
     "text": [
      "/Users/mallorywilson/opt/anaconda3/envs/flatiron/lib/python3.8/site-packages/seaborn/categorical.py:3704: UserWarning: The `factorplot` function has been renamed to `catplot`. The original name will be removed in a future release. Please update your code. Note that the default `kind` in `factorplot` (`'point'`) has changed `'strip'` in `catplot`.\n",
      "  warnings.warn(msg)\n",
      "/Users/mallorywilson/opt/anaconda3/envs/flatiron/lib/python3.8/site-packages/seaborn/_decorators.py:36: FutureWarning: Pass the following variable as a keyword arg: x. From version 0.12, the only valid positional argument will be `data`, and passing other arguments without an explicit keyword will result in an error or misinterpretation.\n",
      "  warnings.warn(\n"
     ]
    },
    {
     "data": {
      "text/plain": [
       "<seaborn.axisgrid.FacetGrid at 0x10ebd5f10>"
      ]
     },
     "execution_count": 20,
     "metadata": {},
     "output_type": "execute_result"
    },
    {
     "data": {
      "image/png": "[encoded data removed]",
      "text/plain": [
       "<Figure size 360x360 with 1 Axes>"
      ]
     },
     "metadata": {
      "needs_background": "light"
     },
     "output_type": "display_data"
    }
   ],
   "source": [
    "sns.factorplot('ingredient_list', data=df, kind='count')"
   ]
  },
  {
   "cell_type": "markdown",
   "id": "5b239590-14fb-4d2a-b3eb-e9c20db6b823",
   "metadata": {},
   "source": [
    "**this is graph is showing how many of  each ingredient list there are in the dataframe. It also shows that the ingredient list,  B,S,C has the highest  value count.**\n"
   ]
  },
  {
   "cell_type": "code",
   "execution_count": 21,
   "id": "a524e825-6b68-4ff1-bdb2-e1f6d49cde7e",
   "metadata": {},
   "outputs": [
    {
     "data": {
      "text/plain": [
       "<matplotlib.axes._subplots.AxesSubplot at 0x124f38700>"
      ]
     },
     "execution_count": 21,
     "metadata": {},
     "output_type": "execute_result"
    },
    {
     "data": {
      "image/png": "[encoded data removed]",
      "text/plain": [
       "<Figure size 1800x1440 with 1 Axes>"
      ]
     },
     "metadata": {
      "needs_background": "light"
     },
     "output_type": "display_data"
    }
   ],
   "source": [
    "plt.figure (figsize= (25,20))\n",
    "sns.barplot(x=df.ingredient_list, y=df.rating)"
   ]
  },
  {
   "cell_type": "markdown",
   "id": "b7a33438-40ba-4262-8aa5-3ac7e942e9e7",
   "metadata": {},
   "source": [
    "**This graph  is showing that the  list B,S,C has  the  highest average rating. It seems that as there  are  more ingredients in the chocolate, the rating goes down a little. It does not seem like we will need to bin this features seeing as the ingredient list is pretty much already binned. Each combination is its  own bin. The graph shows that B,S,L has the lowest rating.**"
   ]
  },
  {
   "cell_type": "code",
   "execution_count": 22,
   "id": "f224a4f1-71e8-409d-991b-7eae8ea5c027",
   "metadata": {},
   "outputs": [],
   "source": [
    "#df.cocoa_percent.value_counts()"
   ]
  },
  {
   "cell_type": "code",
   "execution_count": 23,
   "id": "24c5c145-443f-44f8-b7ca-93cac4739757",
   "metadata": {},
   "outputs": [
    {
     "name": "stderr",
     "output_type": "stream",
     "text": [
      "/Users/mallorywilson/opt/anaconda3/envs/flatiron/lib/python3.8/site-packages/seaborn/categorical.py:3704: UserWarning: The `factorplot` function has been renamed to `catplot`. The original name will be removed in a future release. Please update your code. Note that the default `kind` in `factorplot` (`'point'`) has changed `'strip'` in `catplot`.\n",
      "  warnings.warn(msg)\n",
      "/Users/mallorywilson/opt/anaconda3/envs/flatiron/lib/python3.8/site-packages/seaborn/_decorators.py:36: FutureWarning: Pass the following variable as a keyword arg: x. From version 0.12, the only valid positional argument will be `data`, and passing other arguments without an explicit keyword will result in an error or misinterpretation.\n",
      "  warnings.warn(\n"
     ]
    },
    {
     "data": {
      "text/plain": [
       "<seaborn.axisgrid.FacetGrid at 0x123e1bf70>"
      ]
     },
     "execution_count": 23,
     "metadata": {},
     "output_type": "execute_result"
    },
    {
     "data": {
      "image/png": "[encoded data removed]",
      "text/plain": [
       "<Figure size 360x360 with 1 Axes>"
      ]
     },
     "metadata": {
      "needs_background": "light"
     },
     "output_type": "display_data"
    }
   ],
   "source": [
    "\n",
    "sns.factorplot('cocoa_percent', data=df, kind='count')"
   ]
  },
  {
   "cell_type": "markdown",
   "id": "5c045b51-d81f-49ff-bfeb-7f3d1af491d1",
   "metadata": {},
   "source": [
    "**this graph shows how  many of each cocoa percent there are**"
   ]
  },
  {
   "cell_type": "code",
   "execution_count": 24,
   "id": "1edf3145-b6bd-4d2e-b7ef-b835905713cc",
   "metadata": {},
   "outputs": [
    {
     "data": {
      "image/png": "[encoded data removed]",
      "text/plain": [
       "<Figure size 720x504 with 1 Axes>"
      ]
     },
     "metadata": {
      "needs_background": "light"
     },
     "output_type": "display_data"
    }
   ],
   "source": [
    "cocoa_percent = (df['cocoa_percent'] )\n",
    "rating = df['rating']\n",
    " \n",
    "# Figure Size\n",
    "fig = plt.figure(figsize =(10, 7))\n",
    " \n",
    "# Horizontal Bar Plot\n",
    "plt.bar(cocoa_percent, rating)\n",
    " \n",
    "# Show Plot\n",
    "plt.show()"
   ]
  },
  {
   "cell_type": "code",
   "execution_count": 25,
   "id": "7f55fe99-82a5-4760-9a1d-841dfe78b57b",
   "metadata": {},
   "outputs": [
    {
     "data": {
      "text/plain": [
       "<matplotlib.axes._subplots.AxesSubplot at 0x126cd6670>"
      ]
     },
     "execution_count": 25,
     "metadata": {},
     "output_type": "execute_result"
    },
    {
     "data": {
      "image/png": "[encoded data removed]",
      "text/plain": [
       "<Figure size 1800x1440 with 1 Axes>"
      ]
     },
     "metadata": {
      "needs_background": "light"
     },
     "output_type": "display_data"
    }
   ],
   "source": [
    "plt.figure (figsize= (25,20))\n",
    "sns.lineplot(data=df, x=df.cocoa_percent, y=df.rating)"
   ]
  },
  {
   "cell_type": "markdown",
   "id": "dda27ac4-0d54-422b-aab0-2d9441bfbeeb",
   "metadata": {},
   "source": [
    "**This line plot between cocoa_percent and rating displays that the chocolate with the highest rating has 50% of cocoa. It seems as though the middle percent of cocoa_percent has a higher rating and the higher the cocoa_percent is the worse the rating is.**"
   ]
  },
  {
   "cell_type": "markdown",
   "id": "631790f3-65f8-4093-8e1c-3fc1174a6e8d",
   "metadata": {},
   "source": [
    "###  creating a  new column called  rating class, where 0 would be in the row  if the rating is less than three and where 1 would be  in  the row if the rating is greater than 3."
   ]
  },
  {
   "cell_type": "code",
   "execution_count": 26,
   "id": "8054432c-c2d5-4b05-93f4-a2d09f902099",
   "metadata": {},
   "outputs": [],
   "source": [
    "\n",
    "df['rating_class'] = [1 if r >= 3 else 0 for r in df['rating']]"
   ]
  },
  {
   "cell_type": "code",
   "execution_count": 27,
   "id": "d3533b1e-9dbc-460d-adf2-e7b9b1918f35",
   "metadata": {},
   "outputs": [
    {
     "data": {
      "text/html": [
       "<div>\n",
       "<style scoped>\n",
       "    .dataframe tbody tr th:only-of-type {\n",
       "        vertical-align: middle;\n",
       "    }\n",
       "\n",
       "    .dataframe tbody tr th {\n",
       "        vertical-align: top;\n",
       "    }\n",
       "\n",
       "    .dataframe thead th {\n",
       "        text-align: right;\n",
       "    }\n",
       "</style>\n",
       "<table border=\"1\" class=\"dataframe\">\n",
       "  <thead>\n",
       "    <tr style=\"text-align: right;\">\n",
       "      <th></th>\n",
       "      <th>ref</th>\n",
       "      <th>company_manufacturer</th>\n",
       "      <th>company_location</th>\n",
       "      <th>review_date</th>\n",
       "      <th>country_of_bean_origin</th>\n",
       "      <th>specific_bean_origin_or_bar_name</th>\n",
       "      <th>cocoa_percent</th>\n",
       "      <th>ingredients</th>\n",
       "      <th>most_memorable_characteristics</th>\n",
       "      <th>rating</th>\n",
       "      <th>ingredient_list</th>\n",
       "      <th>rating_class</th>\n",
       "    </tr>\n",
       "  </thead>\n",
       "  <tbody>\n",
       "    <tr>\n",
       "      <th>0</th>\n",
       "      <td>2454</td>\n",
       "      <td>5150</td>\n",
       "      <td>U.S.A.</td>\n",
       "      <td>2019</td>\n",
       "      <td>Madagascar</td>\n",
       "      <td>Bejofo Estate, batch 1</td>\n",
       "      <td>76.0</td>\n",
       "      <td>3- B,S,C</td>\n",
       "      <td>cocoa, blackberry, full body</td>\n",
       "      <td>3.75</td>\n",
       "      <td>B,S,C</td>\n",
       "      <td>1</td>\n",
       "    </tr>\n",
       "    <tr>\n",
       "      <th>1</th>\n",
       "      <td>2458</td>\n",
       "      <td>5150</td>\n",
       "      <td>U.S.A.</td>\n",
       "      <td>2019</td>\n",
       "      <td>Dominican Republic</td>\n",
       "      <td>Zorzal, batch 1</td>\n",
       "      <td>76.0</td>\n",
       "      <td>3- B,S,C</td>\n",
       "      <td>cocoa, vegetal, savory</td>\n",
       "      <td>3.50</td>\n",
       "      <td>B,S,C</td>\n",
       "      <td>1</td>\n",
       "    </tr>\n",
       "    <tr>\n",
       "      <th>2</th>\n",
       "      <td>2454</td>\n",
       "      <td>5150</td>\n",
       "      <td>U.S.A.</td>\n",
       "      <td>2019</td>\n",
       "      <td>Tanzania</td>\n",
       "      <td>Kokoa Kamili, batch 1</td>\n",
       "      <td>76.0</td>\n",
       "      <td>3- B,S,C</td>\n",
       "      <td>rich cocoa, fatty, bready</td>\n",
       "      <td>3.25</td>\n",
       "      <td>B,S,C</td>\n",
       "      <td>1</td>\n",
       "    </tr>\n",
       "    <tr>\n",
       "      <th>3</th>\n",
       "      <td>797</td>\n",
       "      <td>A. Morin</td>\n",
       "      <td>France</td>\n",
       "      <td>2012</td>\n",
       "      <td>Peru</td>\n",
       "      <td>Peru</td>\n",
       "      <td>63.0</td>\n",
       "      <td>4- B,S,C,L</td>\n",
       "      <td>fruity, melon, roasty</td>\n",
       "      <td>3.75</td>\n",
       "      <td>B,S,C,L</td>\n",
       "      <td>1</td>\n",
       "    </tr>\n",
       "    <tr>\n",
       "      <th>4</th>\n",
       "      <td>797</td>\n",
       "      <td>A. Morin</td>\n",
       "      <td>France</td>\n",
       "      <td>2012</td>\n",
       "      <td>Bolivia</td>\n",
       "      <td>Bolivia</td>\n",
       "      <td>70.0</td>\n",
       "      <td>4- B,S,C,L</td>\n",
       "      <td>vegetal, nutty</td>\n",
       "      <td>3.50</td>\n",
       "      <td>B,S,C,L</td>\n",
       "      <td>1</td>\n",
       "    </tr>\n",
       "    <tr>\n",
       "      <th>...</th>\n",
       "      <td>...</td>\n",
       "      <td>...</td>\n",
       "      <td>...</td>\n",
       "      <td>...</td>\n",
       "      <td>...</td>\n",
       "      <td>...</td>\n",
       "      <td>...</td>\n",
       "      <td>...</td>\n",
       "      <td>...</td>\n",
       "      <td>...</td>\n",
       "      <td>...</td>\n",
       "      <td>...</td>\n",
       "    </tr>\n",
       "    <tr>\n",
       "      <th>2357</th>\n",
       "      <td>1205</td>\n",
       "      <td>Zotter</td>\n",
       "      <td>Austria</td>\n",
       "      <td>2014</td>\n",
       "      <td>Blend</td>\n",
       "      <td>Raw</td>\n",
       "      <td>80.0</td>\n",
       "      <td>4- B,S*,C,Sa</td>\n",
       "      <td>waxy, cloying, vegetal</td>\n",
       "      <td>2.75</td>\n",
       "      <td>B,S*,C,Sa</td>\n",
       "      <td>0</td>\n",
       "    </tr>\n",
       "    <tr>\n",
       "      <th>2358</th>\n",
       "      <td>1996</td>\n",
       "      <td>Zotter</td>\n",
       "      <td>Austria</td>\n",
       "      <td>2017</td>\n",
       "      <td>Colombia</td>\n",
       "      <td>APROCAFA, Acandi</td>\n",
       "      <td>75.0</td>\n",
       "      <td>3- B,S,C</td>\n",
       "      <td>strong nutty, marshmallow</td>\n",
       "      <td>3.75</td>\n",
       "      <td>B,S,C</td>\n",
       "      <td>1</td>\n",
       "    </tr>\n",
       "    <tr>\n",
       "      <th>2359</th>\n",
       "      <td>2170</td>\n",
       "      <td>Zotter</td>\n",
       "      <td>Austria</td>\n",
       "      <td>2018</td>\n",
       "      <td>Belize</td>\n",
       "      <td>Maya Mtn</td>\n",
       "      <td>72.0</td>\n",
       "      <td>3- B,S,C</td>\n",
       "      <td>muted, roasty, accessible</td>\n",
       "      <td>3.50</td>\n",
       "      <td>B,S,C</td>\n",
       "      <td>1</td>\n",
       "    </tr>\n",
       "    <tr>\n",
       "      <th>2360</th>\n",
       "      <td>2170</td>\n",
       "      <td>Zotter</td>\n",
       "      <td>Austria</td>\n",
       "      <td>2018</td>\n",
       "      <td>Congo</td>\n",
       "      <td>Mountains of the Moon</td>\n",
       "      <td>70.0</td>\n",
       "      <td>3- B,S,C</td>\n",
       "      <td>fatty, mild nuts, mild fruit</td>\n",
       "      <td>3.25</td>\n",
       "      <td>B,S,C</td>\n",
       "      <td>1</td>\n",
       "    </tr>\n",
       "    <tr>\n",
       "      <th>2361</th>\n",
       "      <td>2036</td>\n",
       "      <td>Zotter</td>\n",
       "      <td>Austria</td>\n",
       "      <td>2018</td>\n",
       "      <td>Blend</td>\n",
       "      <td>Dry Aged, 30 yr Anniversary bar</td>\n",
       "      <td>75.0</td>\n",
       "      <td>3- B,S,C</td>\n",
       "      <td>fatty, earthy, cocoa</td>\n",
       "      <td>3.00</td>\n",
       "      <td>B,S,C</td>\n",
       "      <td>1</td>\n",
       "    </tr>\n",
       "  </tbody>\n",
       "</table>\n",
       "<p>2231 rows × 12 columns</p>\n",
       "</div>"
      ],
      "text/plain": [
       "       ref company_manufacturer company_location  review_date  \\\n",
       "0     2454                 5150           U.S.A.         2019   \n",
       "1     2458                 5150           U.S.A.         2019   \n",
       "2     2454                 5150           U.S.A.         2019   \n",
       "3      797             A. Morin           France         2012   \n",
       "4      797             A. Morin           France         2012   \n",
       "...    ...                  ...              ...          ...   \n",
       "2357  1205               Zotter          Austria         2014   \n",
       "2358  1996               Zotter          Austria         2017   \n",
       "2359  2170               Zotter          Austria         2018   \n",
       "2360  2170               Zotter          Austria         2018   \n",
       "2361  2036               Zotter          Austria         2018   \n",
       "\n",
       "     country_of_bean_origin specific_bean_origin_or_bar_name  cocoa_percent  \\\n",
       "0                Madagascar           Bejofo Estate, batch 1           76.0   \n",
       "1        Dominican Republic                  Zorzal, batch 1           76.0   \n",
       "2                  Tanzania            Kokoa Kamili, batch 1           76.0   \n",
       "3                      Peru                             Peru           63.0   \n",
       "4                   Bolivia                          Bolivia           70.0   \n",
       "...                     ...                              ...            ...   \n",
       "2357                  Blend                              Raw           80.0   \n",
       "2358               Colombia                 APROCAFA, Acandi           75.0   \n",
       "2359                 Belize                         Maya Mtn           72.0   \n",
       "2360                  Congo            Mountains of the Moon           70.0   \n",
       "2361                  Blend  Dry Aged, 30 yr Anniversary bar           75.0   \n",
       "\n",
       "       ingredients most_memorable_characteristics  rating ingredient_list  \\\n",
       "0         3- B,S,C   cocoa, blackberry, full body    3.75           B,S,C   \n",
       "1         3- B,S,C         cocoa, vegetal, savory    3.50           B,S,C   \n",
       "2         3- B,S,C      rich cocoa, fatty, bready    3.25           B,S,C   \n",
       "3       4- B,S,C,L          fruity, melon, roasty    3.75         B,S,C,L   \n",
       "4       4- B,S,C,L                 vegetal, nutty    3.50         B,S,C,L   \n",
       "...            ...                            ...     ...             ...   \n",
       "2357  4- B,S*,C,Sa         waxy, cloying, vegetal    2.75       B,S*,C,Sa   \n",
       "2358      3- B,S,C      strong nutty, marshmallow    3.75           B,S,C   \n",
       "2359      3- B,S,C      muted, roasty, accessible    3.50           B,S,C   \n",
       "2360      3- B,S,C   fatty, mild nuts, mild fruit    3.25           B,S,C   \n",
       "2361      3- B,S,C           fatty, earthy, cocoa    3.00           B,S,C   \n",
       "\n",
       "      rating_class  \n",
       "0                1  \n",
       "1                1  \n",
       "2                1  \n",
       "3                1  \n",
       "4                1  \n",
       "...            ...  \n",
       "2357             0  \n",
       "2358             1  \n",
       "2359             1  \n",
       "2360             1  \n",
       "2361             1  \n",
       "\n",
       "[2231 rows x 12 columns]"
      ]
     },
     "execution_count": 27,
     "metadata": {},
     "output_type": "execute_result"
    }
   ],
   "source": [
    "df"
   ]
  },
  {
   "cell_type": "code",
   "execution_count": 28,
   "id": "5123990f-7554-4849-953c-fb809ee6a1eb",
   "metadata": {},
   "outputs": [
    {
     "data": {
      "text/plain": [
       "{1: 0.7794710891976692, 0: 0.22052891080233078}"
      ]
     },
     "execution_count": 28,
     "metadata": {},
     "output_type": "execute_result"
    }
   ],
   "source": [
    "class_pcts = df['rating_class'].value_counts(normalize=True).to_dict()\n",
    "class_pcts"
   ]
  },
  {
   "cell_type": "code",
   "execution_count": 29,
   "id": "edf4f376-d9c9-428c-8b2b-e4d882ecd600",
   "metadata": {},
   "outputs": [
    {
     "data": {
      "text/plain": [
       "{0: 71.88922764227642, 1: 71.26451983898792}"
      ]
     },
     "execution_count": 29,
     "metadata": {},
     "output_type": "execute_result"
    }
   ],
   "source": [
    "groups = df.groupby('rating_class').mean()['cocoa_percent'].to_dict()\n",
    "groups"
   ]
  },
  {
   "cell_type": "code",
   "execution_count": 30,
   "id": "8a6958a8-a9c9-434d-b33a-060388c49f04",
   "metadata": {},
   "outputs": [
    {
     "data": {
      "text/plain": [
       "1    1739\n",
       "0     492\n",
       "Name: rating_class, dtype: int64"
      ]
     },
     "execution_count": 30,
     "metadata": {},
     "output_type": "execute_result"
    }
   ],
   "source": [
    "df['rating_class'].value_counts()\n"
   ]
  },
  {
   "cell_type": "code",
   "execution_count": 31,
   "id": "f5b4a1f2-b2ce-4748-8edc-7172b214da90",
   "metadata": {},
   "outputs": [],
   "source": [
    "weighted_avgs = {}\n",
    "for i in list(range(2)):\n",
    "    weighted_avgs[i] = class_pcts[i] * groups[i]"
   ]
  },
  {
   "cell_type": "code",
   "execution_count": 32,
   "id": "26a5addc-763e-4021-b932-128886b3ad0f",
   "metadata": {},
   "outputs": [
    {
     "data": {
      "text/plain": [
       "{0: 15.85365307037203, 1: 55.54863290004482}"
      ]
     },
     "execution_count": 32,
     "metadata": {},
     "output_type": "execute_result"
    }
   ],
   "source": [
    "weighted_avgs"
   ]
  },
  {
   "cell_type": "code",
   "execution_count": 33,
   "id": "bcf96675-72ca-4e8a-bad1-499b13e79ec9",
   "metadata": {},
   "outputs": [
    {
     "data": {
      "image/png": "[encoded data removed]",
      "text/plain": [
       "<Figure size 1800x1440 with 1 Axes>"
      ]
     },
     "metadata": {
      "needs_background": "light"
     },
     "output_type": "display_data"
    }
   ],
   "source": [
    "plt.figure (figsize= (25,20))\n",
    "ax = sns.barplot(x=df.cocoa_percent, y=df.rating)"
   ]
  },
  {
   "cell_type": "markdown",
   "id": "9c720938-a113-4281-b3af-118442b9f9ae",
   "metadata": {},
   "source": [
    "**this graph just shows  the relationship  between cocoa percent and the  ratings. When  the cocoa percent is  in the 70's range it the  bars are steady**"
   ]
  },
  {
   "cell_type": "code",
   "execution_count": 34,
   "id": "972fd605-6f7e-4f62-bac3-97ade88d6bc4",
   "metadata": {},
   "outputs": [
    {
     "data": {
      "text/plain": [
       "{0: 15.85365307037203, 1: 55.54863290004482}"
      ]
     },
     "execution_count": 34,
     "metadata": {},
     "output_type": "execute_result"
    }
   ],
   "source": [
    "weighted_avgs"
   ]
  },
  {
   "cell_type": "code",
   "execution_count": 35,
   "id": "f56f38ae-87ee-4103-bd78-2d858c51728f",
   "metadata": {},
   "outputs": [
    {
     "name": "stderr",
     "output_type": "stream",
     "text": [
      "/Users/mallorywilson/opt/anaconda3/envs/flatiron/lib/python3.8/site-packages/seaborn/_decorators.py:36: FutureWarning: Pass the following variables as keyword args: x, y. From version 0.12, the only valid positional argument will be `data`, and passing other arguments without an explicit keyword will result in an error or misinterpretation.\n",
      "  warnings.warn(\n"
     ]
    },
    {
     "data": {
      "text/plain": [
       "<matplotlib.axes._subplots.AxesSubplot at 0x12760fc70>"
      ]
     },
     "execution_count": 35,
     "metadata": {},
     "output_type": "execute_result"
    },
    {
     "data": {
      "image/png": "[encoded data removed]",
      "text/plain": [
       "<Figure size 864x720 with 1 Axes>"
      ]
     },
     "metadata": {
      "needs_background": "light"
     },
     "output_type": "display_data"
    }
   ],
   "source": [
    "x = list(weighted_avgs.keys())\n",
    "y = list(weighted_avgs.values())\n",
    "fig, ax = plt.subplots(figsize=(12,10))\n",
    "sns.barplot(x, y, ax=ax)"
   ]
  },
  {
   "cell_type": "markdown",
   "id": "2d57ece3-e087-473e-b83c-6bb20981e612",
   "metadata": {},
   "source": [
    "**this graph shows the  relationnship between the rated class and the weighted averages in general. you can see  that the weighted average is higher when the rating is higher thann 3.**"
   ]
  },
  {
   "cell_type": "code",
   "execution_count": 36,
   "id": "85fe1c00-bfec-4015-9c01-f1a8994cb76a",
   "metadata": {},
   "outputs": [
    {
     "data": {
      "text/plain": [
       "<matplotlib.axes._subplots.AxesSubplot at 0x126b56970>"
      ]
     },
     "execution_count": 36,
     "metadata": {},
     "output_type": "execute_result"
    },
    {
     "data": {
      "image/png": "[encoded data removed]",
      "text/plain": [
       "<Figure size 864x720 with 1 Axes>"
      ]
     },
     "metadata": {
      "needs_background": "light"
     },
     "output_type": "display_data"
    }
   ],
   "source": [
    "fig, ax = plt.subplots(figsize=(12, 10))\n",
    "sns.countplot(data=df, x='cocoa_percent', hue='rating_class', ax=ax)"
   ]
  },
  {
   "cell_type": "markdown",
   "id": "8158f23b-a6ac-4b82-80aa-b6d37470aa20",
   "metadata": {},
   "source": [
    "**this graph is showing the relationship between cocoa percent and the rating class. Basically, it shows how many values of cocoa percent are in each ratinng class for each percent.**\n"
   ]
  },
  {
   "cell_type": "code",
   "execution_count": 37,
   "id": "de45a096-d1a3-456b-863e-3a469635b3de",
   "metadata": {},
   "outputs": [
    {
     "data": {
      "text/html": [
       "<div>\n",
       "<style scoped>\n",
       "    .dataframe tbody tr th:only-of-type {\n",
       "        vertical-align: middle;\n",
       "    }\n",
       "\n",
       "    .dataframe tbody tr th {\n",
       "        vertical-align: top;\n",
       "    }\n",
       "\n",
       "    .dataframe thead th {\n",
       "        text-align: right;\n",
       "    }\n",
       "</style>\n",
       "<table border=\"1\" class=\"dataframe\">\n",
       "  <thead>\n",
       "    <tr style=\"text-align: right;\">\n",
       "      <th></th>\n",
       "      <th>ref</th>\n",
       "      <th>company_manufacturer</th>\n",
       "      <th>company_location</th>\n",
       "      <th>review_date</th>\n",
       "      <th>country_of_bean_origin</th>\n",
       "      <th>specific_bean_origin_or_bar_name</th>\n",
       "      <th>cocoa_percent</th>\n",
       "      <th>ingredients</th>\n",
       "      <th>most_memorable_characteristics</th>\n",
       "      <th>rating</th>\n",
       "      <th>ingredient_list</th>\n",
       "      <th>rating_class</th>\n",
       "    </tr>\n",
       "  </thead>\n",
       "  <tbody>\n",
       "    <tr>\n",
       "      <th>0</th>\n",
       "      <td>2454</td>\n",
       "      <td>5150</td>\n",
       "      <td>U.S.A.</td>\n",
       "      <td>2019</td>\n",
       "      <td>Madagascar</td>\n",
       "      <td>Bejofo Estate, batch 1</td>\n",
       "      <td>76.0</td>\n",
       "      <td>3- B,S,C</td>\n",
       "      <td>cocoa, blackberry, full body</td>\n",
       "      <td>3.75</td>\n",
       "      <td>B,S,C</td>\n",
       "      <td>1</td>\n",
       "    </tr>\n",
       "    <tr>\n",
       "      <th>1</th>\n",
       "      <td>2458</td>\n",
       "      <td>5150</td>\n",
       "      <td>U.S.A.</td>\n",
       "      <td>2019</td>\n",
       "      <td>Dominican Republic</td>\n",
       "      <td>Zorzal, batch 1</td>\n",
       "      <td>76.0</td>\n",
       "      <td>3- B,S,C</td>\n",
       "      <td>cocoa, vegetal, savory</td>\n",
       "      <td>3.50</td>\n",
       "      <td>B,S,C</td>\n",
       "      <td>1</td>\n",
       "    </tr>\n",
       "    <tr>\n",
       "      <th>2</th>\n",
       "      <td>2454</td>\n",
       "      <td>5150</td>\n",
       "      <td>U.S.A.</td>\n",
       "      <td>2019</td>\n",
       "      <td>Tanzania</td>\n",
       "      <td>Kokoa Kamili, batch 1</td>\n",
       "      <td>76.0</td>\n",
       "      <td>3- B,S,C</td>\n",
       "      <td>rich cocoa, fatty, bready</td>\n",
       "      <td>3.25</td>\n",
       "      <td>B,S,C</td>\n",
       "      <td>1</td>\n",
       "    </tr>\n",
       "    <tr>\n",
       "      <th>3</th>\n",
       "      <td>797</td>\n",
       "      <td>A. Morin</td>\n",
       "      <td>France</td>\n",
       "      <td>2012</td>\n",
       "      <td>Peru</td>\n",
       "      <td>Peru</td>\n",
       "      <td>63.0</td>\n",
       "      <td>4- B,S,C,L</td>\n",
       "      <td>fruity, melon, roasty</td>\n",
       "      <td>3.75</td>\n",
       "      <td>B,S,C,L</td>\n",
       "      <td>1</td>\n",
       "    </tr>\n",
       "    <tr>\n",
       "      <th>4</th>\n",
       "      <td>797</td>\n",
       "      <td>A. Morin</td>\n",
       "      <td>France</td>\n",
       "      <td>2012</td>\n",
       "      <td>Bolivia</td>\n",
       "      <td>Bolivia</td>\n",
       "      <td>70.0</td>\n",
       "      <td>4- B,S,C,L</td>\n",
       "      <td>vegetal, nutty</td>\n",
       "      <td>3.50</td>\n",
       "      <td>B,S,C,L</td>\n",
       "      <td>1</td>\n",
       "    </tr>\n",
       "    <tr>\n",
       "      <th>...</th>\n",
       "      <td>...</td>\n",
       "      <td>...</td>\n",
       "      <td>...</td>\n",
       "      <td>...</td>\n",
       "      <td>...</td>\n",
       "      <td>...</td>\n",
       "      <td>...</td>\n",
       "      <td>...</td>\n",
       "      <td>...</td>\n",
       "      <td>...</td>\n",
       "      <td>...</td>\n",
       "      <td>...</td>\n",
       "    </tr>\n",
       "    <tr>\n",
       "      <th>2357</th>\n",
       "      <td>1205</td>\n",
       "      <td>Zotter</td>\n",
       "      <td>Austria</td>\n",
       "      <td>2014</td>\n",
       "      <td>Blend</td>\n",
       "      <td>Raw</td>\n",
       "      <td>80.0</td>\n",
       "      <td>4- B,S*,C,Sa</td>\n",
       "      <td>waxy, cloying, vegetal</td>\n",
       "      <td>2.75</td>\n",
       "      <td>B,S*,C,Sa</td>\n",
       "      <td>0</td>\n",
       "    </tr>\n",
       "    <tr>\n",
       "      <th>2358</th>\n",
       "      <td>1996</td>\n",
       "      <td>Zotter</td>\n",
       "      <td>Austria</td>\n",
       "      <td>2017</td>\n",
       "      <td>Colombia</td>\n",
       "      <td>APROCAFA, Acandi</td>\n",
       "      <td>75.0</td>\n",
       "      <td>3- B,S,C</td>\n",
       "      <td>strong nutty, marshmallow</td>\n",
       "      <td>3.75</td>\n",
       "      <td>B,S,C</td>\n",
       "      <td>1</td>\n",
       "    </tr>\n",
       "    <tr>\n",
       "      <th>2359</th>\n",
       "      <td>2170</td>\n",
       "      <td>Zotter</td>\n",
       "      <td>Austria</td>\n",
       "      <td>2018</td>\n",
       "      <td>Belize</td>\n",
       "      <td>Maya Mtn</td>\n",
       "      <td>72.0</td>\n",
       "      <td>3- B,S,C</td>\n",
       "      <td>muted, roasty, accessible</td>\n",
       "      <td>3.50</td>\n",
       "      <td>B,S,C</td>\n",
       "      <td>1</td>\n",
       "    </tr>\n",
       "    <tr>\n",
       "      <th>2360</th>\n",
       "      <td>2170</td>\n",
       "      <td>Zotter</td>\n",
       "      <td>Austria</td>\n",
       "      <td>2018</td>\n",
       "      <td>Congo</td>\n",
       "      <td>Mountains of the Moon</td>\n",
       "      <td>70.0</td>\n",
       "      <td>3- B,S,C</td>\n",
       "      <td>fatty, mild nuts, mild fruit</td>\n",
       "      <td>3.25</td>\n",
       "      <td>B,S,C</td>\n",
       "      <td>1</td>\n",
       "    </tr>\n",
       "    <tr>\n",
       "      <th>2361</th>\n",
       "      <td>2036</td>\n",
       "      <td>Zotter</td>\n",
       "      <td>Austria</td>\n",
       "      <td>2018</td>\n",
       "      <td>Blend</td>\n",
       "      <td>Dry Aged, 30 yr Anniversary bar</td>\n",
       "      <td>75.0</td>\n",
       "      <td>3- B,S,C</td>\n",
       "      <td>fatty, earthy, cocoa</td>\n",
       "      <td>3.00</td>\n",
       "      <td>B,S,C</td>\n",
       "      <td>1</td>\n",
       "    </tr>\n",
       "  </tbody>\n",
       "</table>\n",
       "<p>2231 rows × 12 columns</p>\n",
       "</div>"
      ],
      "text/plain": [
       "       ref company_manufacturer company_location  review_date  \\\n",
       "0     2454                 5150           U.S.A.         2019   \n",
       "1     2458                 5150           U.S.A.         2019   \n",
       "2     2454                 5150           U.S.A.         2019   \n",
       "3      797             A. Morin           France         2012   \n",
       "4      797             A. Morin           France         2012   \n",
       "...    ...                  ...              ...          ...   \n",
       "2357  1205               Zotter          Austria         2014   \n",
       "2358  1996               Zotter          Austria         2017   \n",
       "2359  2170               Zotter          Austria         2018   \n",
       "2360  2170               Zotter          Austria         2018   \n",
       "2361  2036               Zotter          Austria         2018   \n",
       "\n",
       "     country_of_bean_origin specific_bean_origin_or_bar_name  cocoa_percent  \\\n",
       "0                Madagascar           Bejofo Estate, batch 1           76.0   \n",
       "1        Dominican Republic                  Zorzal, batch 1           76.0   \n",
       "2                  Tanzania            Kokoa Kamili, batch 1           76.0   \n",
       "3                      Peru                             Peru           63.0   \n",
       "4                   Bolivia                          Bolivia           70.0   \n",
       "...                     ...                              ...            ...   \n",
       "2357                  Blend                              Raw           80.0   \n",
       "2358               Colombia                 APROCAFA, Acandi           75.0   \n",
       "2359                 Belize                         Maya Mtn           72.0   \n",
       "2360                  Congo            Mountains of the Moon           70.0   \n",
       "2361                  Blend  Dry Aged, 30 yr Anniversary bar           75.0   \n",
       "\n",
       "       ingredients most_memorable_characteristics  rating ingredient_list  \\\n",
       "0         3- B,S,C   cocoa, blackberry, full body    3.75           B,S,C   \n",
       "1         3- B,S,C         cocoa, vegetal, savory    3.50           B,S,C   \n",
       "2         3- B,S,C      rich cocoa, fatty, bready    3.25           B,S,C   \n",
       "3       4- B,S,C,L          fruity, melon, roasty    3.75         B,S,C,L   \n",
       "4       4- B,S,C,L                 vegetal, nutty    3.50         B,S,C,L   \n",
       "...            ...                            ...     ...             ...   \n",
       "2357  4- B,S*,C,Sa         waxy, cloying, vegetal    2.75       B,S*,C,Sa   \n",
       "2358      3- B,S,C      strong nutty, marshmallow    3.75           B,S,C   \n",
       "2359      3- B,S,C      muted, roasty, accessible    3.50           B,S,C   \n",
       "2360      3- B,S,C   fatty, mild nuts, mild fruit    3.25           B,S,C   \n",
       "2361      3- B,S,C           fatty, earthy, cocoa    3.00           B,S,C   \n",
       "\n",
       "      rating_class  \n",
       "0                1  \n",
       "1                1  \n",
       "2                1  \n",
       "3                1  \n",
       "4                1  \n",
       "...            ...  \n",
       "2357             0  \n",
       "2358             1  \n",
       "2359             1  \n",
       "2360             1  \n",
       "2361             1  \n",
       "\n",
       "[2231 rows x 12 columns]"
      ]
     },
     "execution_count": 37,
     "metadata": {},
     "output_type": "execute_result"
    }
   ],
   "source": [
    "df"
   ]
  },
  {
   "cell_type": "markdown",
   "id": "d5f5cb21-3baf-48cb-90d8-82bbcf321f1f",
   "metadata": {},
   "source": [
    "# Preprocessing"
   ]
  },
  {
   "cell_type": "markdown",
   "id": "e6fcba9a-23ef-41e8-86c3-74204cbb6939",
   "metadata": {},
   "source": [
    "### Clarifying important predictor values (x) for the target value (y)."
   ]
  },
  {
   "cell_type": "code",
   "execution_count": 38,
   "id": "afc4182a-af37-419b-a565-8e9532ad4855",
   "metadata": {},
   "outputs": [],
   "source": [
    "features = df.drop(['rating',  'ingredients', 'specific_bean_origin_or_bar_name', 'ref'], axis =1)\n",
    "X = features\n",
    "y = df.rating\n"
   ]
  },
  {
   "cell_type": "code",
   "execution_count": 39,
   "id": "9002b38c-8df5-4d70-824c-520c44538864",
   "metadata": {},
   "outputs": [
    {
     "data": {
      "text/html": [
       "<div>\n",
       "<style scoped>\n",
       "    .dataframe tbody tr th:only-of-type {\n",
       "        vertical-align: middle;\n",
       "    }\n",
       "\n",
       "    .dataframe tbody tr th {\n",
       "        vertical-align: top;\n",
       "    }\n",
       "\n",
       "    .dataframe thead th {\n",
       "        text-align: right;\n",
       "    }\n",
       "</style>\n",
       "<table border=\"1\" class=\"dataframe\">\n",
       "  <thead>\n",
       "    <tr style=\"text-align: right;\">\n",
       "      <th></th>\n",
       "      <th>company_manufacturer</th>\n",
       "      <th>company_location</th>\n",
       "      <th>review_date</th>\n",
       "      <th>country_of_bean_origin</th>\n",
       "      <th>cocoa_percent</th>\n",
       "      <th>most_memorable_characteristics</th>\n",
       "      <th>ingredient_list</th>\n",
       "      <th>rating_class</th>\n",
       "    </tr>\n",
       "  </thead>\n",
       "  <tbody>\n",
       "    <tr>\n",
       "      <th>0</th>\n",
       "      <td>5150</td>\n",
       "      <td>U.S.A.</td>\n",
       "      <td>2019</td>\n",
       "      <td>Madagascar</td>\n",
       "      <td>76.0</td>\n",
       "      <td>cocoa, blackberry, full body</td>\n",
       "      <td>B,S,C</td>\n",
       "      <td>1</td>\n",
       "    </tr>\n",
       "    <tr>\n",
       "      <th>1</th>\n",
       "      <td>5150</td>\n",
       "      <td>U.S.A.</td>\n",
       "      <td>2019</td>\n",
       "      <td>Dominican Republic</td>\n",
       "      <td>76.0</td>\n",
       "      <td>cocoa, vegetal, savory</td>\n",
       "      <td>B,S,C</td>\n",
       "      <td>1</td>\n",
       "    </tr>\n",
       "    <tr>\n",
       "      <th>2</th>\n",
       "      <td>5150</td>\n",
       "      <td>U.S.A.</td>\n",
       "      <td>2019</td>\n",
       "      <td>Tanzania</td>\n",
       "      <td>76.0</td>\n",
       "      <td>rich cocoa, fatty, bready</td>\n",
       "      <td>B,S,C</td>\n",
       "      <td>1</td>\n",
       "    </tr>\n",
       "    <tr>\n",
       "      <th>3</th>\n",
       "      <td>A. Morin</td>\n",
       "      <td>France</td>\n",
       "      <td>2012</td>\n",
       "      <td>Peru</td>\n",
       "      <td>63.0</td>\n",
       "      <td>fruity, melon, roasty</td>\n",
       "      <td>B,S,C,L</td>\n",
       "      <td>1</td>\n",
       "    </tr>\n",
       "    <tr>\n",
       "      <th>4</th>\n",
       "      <td>A. Morin</td>\n",
       "      <td>France</td>\n",
       "      <td>2012</td>\n",
       "      <td>Bolivia</td>\n",
       "      <td>70.0</td>\n",
       "      <td>vegetal, nutty</td>\n",
       "      <td>B,S,C,L</td>\n",
       "      <td>1</td>\n",
       "    </tr>\n",
       "    <tr>\n",
       "      <th>...</th>\n",
       "      <td>...</td>\n",
       "      <td>...</td>\n",
       "      <td>...</td>\n",
       "      <td>...</td>\n",
       "      <td>...</td>\n",
       "      <td>...</td>\n",
       "      <td>...</td>\n",
       "      <td>...</td>\n",
       "    </tr>\n",
       "    <tr>\n",
       "      <th>2357</th>\n",
       "      <td>Zotter</td>\n",
       "      <td>Austria</td>\n",
       "      <td>2014</td>\n",
       "      <td>Blend</td>\n",
       "      <td>80.0</td>\n",
       "      <td>waxy, cloying, vegetal</td>\n",
       "      <td>B,S*,C,Sa</td>\n",
       "      <td>0</td>\n",
       "    </tr>\n",
       "    <tr>\n",
       "      <th>2358</th>\n",
       "      <td>Zotter</td>\n",
       "      <td>Austria</td>\n",
       "      <td>2017</td>\n",
       "      <td>Colombia</td>\n",
       "      <td>75.0</td>\n",
       "      <td>strong nutty, marshmallow</td>\n",
       "      <td>B,S,C</td>\n",
       "      <td>1</td>\n",
       "    </tr>\n",
       "    <tr>\n",
       "      <th>2359</th>\n",
       "      <td>Zotter</td>\n",
       "      <td>Austria</td>\n",
       "      <td>2018</td>\n",
       "      <td>Belize</td>\n",
       "      <td>72.0</td>\n",
       "      <td>muted, roasty, accessible</td>\n",
       "      <td>B,S,C</td>\n",
       "      <td>1</td>\n",
       "    </tr>\n",
       "    <tr>\n",
       "      <th>2360</th>\n",
       "      <td>Zotter</td>\n",
       "      <td>Austria</td>\n",
       "      <td>2018</td>\n",
       "      <td>Congo</td>\n",
       "      <td>70.0</td>\n",
       "      <td>fatty, mild nuts, mild fruit</td>\n",
       "      <td>B,S,C</td>\n",
       "      <td>1</td>\n",
       "    </tr>\n",
       "    <tr>\n",
       "      <th>2361</th>\n",
       "      <td>Zotter</td>\n",
       "      <td>Austria</td>\n",
       "      <td>2018</td>\n",
       "      <td>Blend</td>\n",
       "      <td>75.0</td>\n",
       "      <td>fatty, earthy, cocoa</td>\n",
       "      <td>B,S,C</td>\n",
       "      <td>1</td>\n",
       "    </tr>\n",
       "  </tbody>\n",
       "</table>\n",
       "<p>2231 rows × 8 columns</p>\n",
       "</div>"
      ],
      "text/plain": [
       "     company_manufacturer company_location  review_date  \\\n",
       "0                    5150           U.S.A.         2019   \n",
       "1                    5150           U.S.A.         2019   \n",
       "2                    5150           U.S.A.         2019   \n",
       "3                A. Morin           France         2012   \n",
       "4                A. Morin           France         2012   \n",
       "...                   ...              ...          ...   \n",
       "2357               Zotter          Austria         2014   \n",
       "2358               Zotter          Austria         2017   \n",
       "2359               Zotter          Austria         2018   \n",
       "2360               Zotter          Austria         2018   \n",
       "2361               Zotter          Austria         2018   \n",
       "\n",
       "     country_of_bean_origin  cocoa_percent most_memorable_characteristics  \\\n",
       "0                Madagascar           76.0   cocoa, blackberry, full body   \n",
       "1        Dominican Republic           76.0         cocoa, vegetal, savory   \n",
       "2                  Tanzania           76.0      rich cocoa, fatty, bready   \n",
       "3                      Peru           63.0          fruity, melon, roasty   \n",
       "4                   Bolivia           70.0                 vegetal, nutty   \n",
       "...                     ...            ...                            ...   \n",
       "2357                  Blend           80.0         waxy, cloying, vegetal   \n",
       "2358               Colombia           75.0      strong nutty, marshmallow   \n",
       "2359                 Belize           72.0      muted, roasty, accessible   \n",
       "2360                  Congo           70.0   fatty, mild nuts, mild fruit   \n",
       "2361                  Blend           75.0           fatty, earthy, cocoa   \n",
       "\n",
       "     ingredient_list  rating_class  \n",
       "0              B,S,C             1  \n",
       "1              B,S,C             1  \n",
       "2              B,S,C             1  \n",
       "3            B,S,C,L             1  \n",
       "4            B,S,C,L             1  \n",
       "...              ...           ...  \n",
       "2357       B,S*,C,Sa             0  \n",
       "2358           B,S,C             1  \n",
       "2359           B,S,C             1  \n",
       "2360           B,S,C             1  \n",
       "2361           B,S,C             1  \n",
       "\n",
       "[2231 rows x 8 columns]"
      ]
     },
     "execution_count": 39,
     "metadata": {},
     "output_type": "execute_result"
    }
   ],
   "source": [
    "features"
   ]
  },
  {
   "cell_type": "markdown",
   "id": "2a77071f-941d-4206-88af-6a8f7cb17913",
   "metadata": {},
   "source": [
    "### Splitting the data into three subsets of training and validation data for the future models.\n",
    "    Two train test splits create three subsets of the original dataset which allows for the training data to not be bled into the test data - this reduced model's bias towards the pre-existing testing data, thus assuring maximum performance on future test sets which the model has never been exposed. "
   ]
  },
  {
   "cell_type": "code",
   "execution_count": 40,
   "id": "9d45875f-a5e2-4c7e-9069-2c5240127a38",
   "metadata": {},
   "outputs": [],
   "source": [
    "#performing train test split for test set (subsets 1/3)\n",
    "X_tr, X_test, y_tr, y_test = train_test_split(X, y, test_size=.15, random_state=42)\n",
    "\n",
    "\n",
    "#performing a train test split for train and validation set (subsets - 3/3)\n",
    "X_train, X_val, y_train, y_val = train_test_split(X_tr, y_tr, test_size=.15, random_state=42) "
   ]
  },
  {
   "cell_type": "code",
   "execution_count": 41,
   "id": "cc4dc596-164f-4f40-91f3-2f33f1a0a896",
   "metadata": {},
   "outputs": [
    {
     "data": {
      "text/plain": [
       "((1896, 8), (1896,))"
      ]
     },
     "execution_count": 41,
     "metadata": {},
     "output_type": "execute_result"
    }
   ],
   "source": [
    "#checking to ensure the shape of the columns and rows are still the same for the X and y values after the train test split.\n",
    "X_tr.shape, y_tr.shape"
   ]
  },
  {
   "cell_type": "code",
   "execution_count": 42,
   "id": "63b34e23-1d3f-41c6-83ba-4c0d75c55203",
   "metadata": {},
   "outputs": [
    {
     "data": {
      "text/plain": [
       "company_manufacturer              0\n",
       "company_location                  0\n",
       "review_date                       0\n",
       "country_of_bean_origin            0\n",
       "cocoa_percent                     0\n",
       "most_memorable_characteristics    0\n",
       "ingredient_list                   0\n",
       "rating_class                      0\n",
       "dtype: int64"
      ]
     },
     "execution_count": 42,
     "metadata": {},
     "output_type": "execute_result"
    }
   ],
   "source": [
    "#ingredients have 88 rows that have no imputs.\n",
    "X_train.isna().sum()"
   ]
  },
  {
   "cell_type": "code",
   "execution_count": 43,
   "id": "542efff4-1f6c-47ec-9789-7f77edf4bfc6",
   "metadata": {},
   "outputs": [
    {
     "data": {
      "text/html": [
       "<div>\n",
       "<style scoped>\n",
       "    .dataframe tbody tr th:only-of-type {\n",
       "        vertical-align: middle;\n",
       "    }\n",
       "\n",
       "    .dataframe tbody tr th {\n",
       "        vertical-align: top;\n",
       "    }\n",
       "\n",
       "    .dataframe thead th {\n",
       "        text-align: right;\n",
       "    }\n",
       "</style>\n",
       "<table border=\"1\" class=\"dataframe\">\n",
       "  <thead>\n",
       "    <tr style=\"text-align: right;\">\n",
       "      <th></th>\n",
       "      <th>company_manufacturer</th>\n",
       "      <th>company_location</th>\n",
       "      <th>review_date</th>\n",
       "      <th>country_of_bean_origin</th>\n",
       "      <th>cocoa_percent</th>\n",
       "      <th>most_memorable_characteristics</th>\n",
       "      <th>ingredient_list</th>\n",
       "      <th>rating_class</th>\n",
       "    </tr>\n",
       "  </thead>\n",
       "  <tbody>\n",
       "    <tr>\n",
       "      <th>1327</th>\n",
       "      <td>Madecasse (Cinagra)</td>\n",
       "      <td>Madagascar</td>\n",
       "      <td>2008</td>\n",
       "      <td>Madagascar</td>\n",
       "      <td>67.0</td>\n",
       "      <td>sandy, red berry, cocoa</td>\n",
       "      <td>B,S,C,V,L</td>\n",
       "      <td>1</td>\n",
       "    </tr>\n",
       "    <tr>\n",
       "      <th>1535</th>\n",
       "      <td>Monsoon</td>\n",
       "      <td>U.S.A.</td>\n",
       "      <td>2021</td>\n",
       "      <td>Ecuador</td>\n",
       "      <td>75.0</td>\n",
       "      <td>intense, floral, cocoa,long lasting</td>\n",
       "      <td>B,S</td>\n",
       "      <td>1</td>\n",
       "    </tr>\n",
       "    <tr>\n",
       "      <th>1612</th>\n",
       "      <td>Odyssey</td>\n",
       "      <td>U.S.A.</td>\n",
       "      <td>2020</td>\n",
       "      <td>Uganda</td>\n",
       "      <td>70.0</td>\n",
       "      <td>dominant hazelnut, fudge</td>\n",
       "      <td>B,S</td>\n",
       "      <td>1</td>\n",
       "    </tr>\n",
       "    <tr>\n",
       "      <th>1293</th>\n",
       "      <td>Lindt &amp; Sprungli</td>\n",
       "      <td>Switzerland</td>\n",
       "      <td>2007</td>\n",
       "      <td>Blend</td>\n",
       "      <td>85.0</td>\n",
       "      <td>harsh burnt, mild cocoa, tang</td>\n",
       "      <td>B,S,C,V</td>\n",
       "      <td>1</td>\n",
       "    </tr>\n",
       "    <tr>\n",
       "      <th>860</th>\n",
       "      <td>Franceschi</td>\n",
       "      <td>Venezuela</td>\n",
       "      <td>2012</td>\n",
       "      <td>Venezuela</td>\n",
       "      <td>70.0</td>\n",
       "      <td>nutty, dried fruit</td>\n",
       "      <td>B,S,C</td>\n",
       "      <td>1</td>\n",
       "    </tr>\n",
       "    <tr>\n",
       "      <th>...</th>\n",
       "      <td>...</td>\n",
       "      <td>...</td>\n",
       "      <td>...</td>\n",
       "      <td>...</td>\n",
       "      <td>...</td>\n",
       "      <td>...</td>\n",
       "      <td>...</td>\n",
       "      <td>...</td>\n",
       "    </tr>\n",
       "    <tr>\n",
       "      <th>2043</th>\n",
       "      <td>Soma</td>\n",
       "      <td>Canada</td>\n",
       "      <td>2017</td>\n",
       "      <td>Colombia</td>\n",
       "      <td>70.0</td>\n",
       "      <td>creamy, honey, marshmallow</td>\n",
       "      <td>B,S,C</td>\n",
       "      <td>1</td>\n",
       "    </tr>\n",
       "    <tr>\n",
       "      <th>1978</th>\n",
       "      <td>Snake &amp; Butterfly</td>\n",
       "      <td>U.S.A.</td>\n",
       "      <td>2011</td>\n",
       "      <td>Ghana</td>\n",
       "      <td>67.0</td>\n",
       "      <td>perfume, strong chemical</td>\n",
       "      <td>B,S,C</td>\n",
       "      <td>0</td>\n",
       "    </tr>\n",
       "    <tr>\n",
       "      <th>1169</th>\n",
       "      <td>Kah Kow - USA</td>\n",
       "      <td>Dominican Republic</td>\n",
       "      <td>2019</td>\n",
       "      <td>Dominican Republic</td>\n",
       "      <td>70.0</td>\n",
       "      <td>sandy, sweet, acidic</td>\n",
       "      <td>B,S,C</td>\n",
       "      <td>1</td>\n",
       "    </tr>\n",
       "    <tr>\n",
       "      <th>826</th>\n",
       "      <td>Finnia</td>\n",
       "      <td>Canada</td>\n",
       "      <td>2020</td>\n",
       "      <td>Mexico</td>\n",
       "      <td>70.0</td>\n",
       "      <td>banana, bland, sour, off</td>\n",
       "      <td>B,S,C</td>\n",
       "      <td>1</td>\n",
       "    </tr>\n",
       "    <tr>\n",
       "      <th>1922</th>\n",
       "      <td>Seahorse</td>\n",
       "      <td>U.S.A.</td>\n",
       "      <td>2018</td>\n",
       "      <td>Honduras</td>\n",
       "      <td>70.0</td>\n",
       "      <td>dry, earthy, surface mark</td>\n",
       "      <td>B,S</td>\n",
       "      <td>0</td>\n",
       "    </tr>\n",
       "  </tbody>\n",
       "</table>\n",
       "<p>1611 rows × 8 columns</p>\n",
       "</div>"
      ],
      "text/plain": [
       "     company_manufacturer    company_location  review_date  \\\n",
       "1327  Madecasse (Cinagra)          Madagascar         2008   \n",
       "1535              Monsoon              U.S.A.         2021   \n",
       "1612              Odyssey              U.S.A.         2020   \n",
       "1293     Lindt & Sprungli         Switzerland         2007   \n",
       "860            Franceschi           Venezuela         2012   \n",
       "...                   ...                 ...          ...   \n",
       "2043                 Soma              Canada         2017   \n",
       "1978    Snake & Butterfly              U.S.A.         2011   \n",
       "1169        Kah Kow - USA  Dominican Republic         2019   \n",
       "826                Finnia              Canada         2020   \n",
       "1922             Seahorse              U.S.A.         2018   \n",
       "\n",
       "     country_of_bean_origin  cocoa_percent  \\\n",
       "1327             Madagascar           67.0   \n",
       "1535                Ecuador           75.0   \n",
       "1612                 Uganda           70.0   \n",
       "1293                  Blend           85.0   \n",
       "860               Venezuela           70.0   \n",
       "...                     ...            ...   \n",
       "2043               Colombia           70.0   \n",
       "1978                  Ghana           67.0   \n",
       "1169     Dominican Republic           70.0   \n",
       "826                  Mexico           70.0   \n",
       "1922               Honduras           70.0   \n",
       "\n",
       "           most_memorable_characteristics ingredient_list  rating_class  \n",
       "1327              sandy, red berry, cocoa       B,S,C,V,L             1  \n",
       "1535  intense, floral, cocoa,long lasting             B,S             1  \n",
       "1612             dominant hazelnut, fudge             B,S             1  \n",
       "1293        harsh burnt, mild cocoa, tang         B,S,C,V             1  \n",
       "860                    nutty, dried fruit           B,S,C             1  \n",
       "...                                   ...             ...           ...  \n",
       "2043           creamy, honey, marshmallow           B,S,C             1  \n",
       "1978             perfume, strong chemical           B,S,C             0  \n",
       "1169                 sandy, sweet, acidic           B,S,C             1  \n",
       "826              banana, bland, sour, off           B,S,C             1  \n",
       "1922            dry, earthy, surface mark             B,S             0  \n",
       "\n",
       "[1611 rows x 8 columns]"
      ]
     },
     "execution_count": 43,
     "metadata": {},
     "output_type": "execute_result"
    }
   ],
   "source": [
    "X_train\n"
   ]
  },
  {
   "cell_type": "markdown",
   "id": "835b40ae-b97f-4229-ad83-73b19fd7b035",
   "metadata": {},
   "source": [
    "#### Since there are no null values, we do not need to impute  or  one hot  encode most of the features. However, we need to one hot encode the ingredient list column in order to seperate each of  the individual lists into  their own column."
   ]
  },
  {
   "cell_type": "code",
   "execution_count": 54,
   "id": "5e796ec1-19bf-43fb-95e0-35b1c34cae3e",
   "metadata": {},
   "outputs": [
    {
     "data": {
      "text/plain": [
       "OneHotEncoder()"
      ]
     },
     "execution_count": 54,
     "metadata": {},
     "output_type": "execute_result"
    }
   ],
   "source": [
    "ohe  = OneHotEncoder()\n",
    "ohe.fit(X_train[['ingredient_list']])"
   ]
  },
  {
   "cell_type": "code",
   "execution_count": 55,
   "id": "84d94f50-3324-4933-8bd1-43fbd1741b14",
   "metadata": {},
   "outputs": [
    {
     "data": {
      "text/plain": [
       "<1611x9 sparse matrix of type '<class 'numpy.float64'>'\n",
       "\twith 1611 stored elements in Compressed Sparse Row format>"
      ]
     },
     "execution_count": 55,
     "metadata": {},
     "output_type": "execute_result"
    }
   ],
   "source": [
    "X_train_encoded = ohe.transform(X_train[['ingredient_list']])\n",
    "X_train_encoded"
   ]
  },
  {
   "cell_type": "markdown",
   "id": "9992afe3-404a-4d2f-8f30-b65fa0ab6ddf",
   "metadata": {},
   "source": [
    "# Modeling"
   ]
  },
  {
   "cell_type": "code",
   "execution_count": 90,
   "id": "9145e471-0ed3-4f14-aef8-89c3b0ad4a90",
   "metadata": {
    "tags": []
   },
   "outputs": [],
   "source": [
    "def modeling_function(model, X_train, y_train, X_val, y_val):\n",
    "\n",
    "    # fit model on training data\n",
    "    model.fit(X_train, y_train)\n",
    "\n",
    "    # make predictions on training and validation data\n",
    "    train_preds = model.predict(X_train)\n",
    "    val_preds = model.predict(X_val)\n",
    "\n",
    "    # Print accuracy score\n",
    "    print('Training accuracy: ', accuracy_score(y_train, train_preds))\n",
    "    print('Validation accuracy: ', accuracy_score(y_val, val_preds))\n",
    "\n",
    "    # return fitted model\n",
    "    return model"
   ]
  },
  {
   "cell_type": "markdown",
   "id": "e4e0f9ce-016a-4d2a-9c72-7713f25c6511",
   "metadata": {},
   "source": [
    "#### Decision Tree Model"
   ]
  },
  {
   "cell_type": "code",
   "execution_count": 91,
   "id": "28a9de85-f03a-452d-bcfa-cda795b3f73d",
   "metadata": {},
   "outputs": [],
   "source": [
    "dt = DecisionTreeClassifier(random_state=2021)"
   ]
  },
  {
   "cell_type": "code",
   "execution_count": 1,
   "id": "7f5a6c40-2be4-4615-a269-7eec1b529a76",
   "metadata": {},
   "outputs": [],
   "source": [
    "#dt = modeling_function(dt, X_train, y_train, X_val, y_val)"
   ]
  },
  {
   "cell_type": "code",
   "execution_count": 97,
   "id": "5f2b396d-922f-432e-b48e-bb22fdab1bd2",
   "metadata": {},
   "outputs": [
    {
     "data": {
      "text/plain": [
       "ref                                   int64\n",
       "company_manufacturer                 object\n",
       "company_location                     object\n",
       "review_date                           int64\n",
       "country_of_bean_origin               object\n",
       "specific_bean_origin_or_bar_name     object\n",
       "cocoa_percent                       float64\n",
       "ingredients                          object\n",
       "most_memorable_characteristics       object\n",
       "rating                              float64\n",
       "ingredient_list                      object\n",
       "rating_class                          int64\n",
       "dtype: object"
      ]
     },
     "execution_count": 97,
     "metadata": {},
     "output_type": "execute_result"
    }
   ],
   "source": [
    "df.dtypes"
   ]
  },
  {
   "cell_type": "code",
   "execution_count": 56,
   "id": "1dc8181e-5282-4ad3-874e-993f29e96e37",
   "metadata": {},
   "outputs": [],
   "source": [
    "from imblearn.over_sampling import SMOTE"
   ]
  },
  {
   "cell_type": "code",
   "execution_count": null,
   "id": "b142bcfa-859b-4683-91e5-66d418a9a7de",
   "metadata": {},
   "outputs": [],
   "source": []
  },
  {
   "cell_type": "code",
   "execution_count": null,
   "id": "0dcb9402-258b-4d55-ab7f-065d160a305e",
   "metadata": {},
   "outputs": [],
   "source": []
  }
 ],
 "metadata": {
  "kernelspec": {
   "display_name": "flatiron",
   "language": "python",
   "name": "flatiron"
  },
  "language_info": {
   "codemirror_mode": {
    "name": "ipython",
    "version": 3
   },
   "file_extension": ".py",
   "mimetype": "text/x-python",
   "name": "python",
   "nbconvert_exporter": "python",
   "pygments_lexer": "ipython3",
   "version": "3.8.10"
  }
 },
 "nbformat": 4,
 "nbformat_minor": 5
}
