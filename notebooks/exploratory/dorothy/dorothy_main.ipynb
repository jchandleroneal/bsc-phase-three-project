{
 "cells": [
  {
   "cell_type": "code",
   "execution_count": 1,
   "metadata": {},
   "outputs": [
    {
     "data": {
      "text/html": [
       "<div>\n",
       "<style scoped>\n",
       "    .dataframe tbody tr th:only-of-type {\n",
       "        vertical-align: middle;\n",
       "    }\n",
       "\n",
       "    .dataframe tbody tr th {\n",
       "        vertical-align: top;\n",
       "    }\n",
       "\n",
       "    .dataframe thead th {\n",
       "        text-align: right;\n",
       "    }\n",
       "</style>\n",
       "<table border=\"1\" class=\"dataframe\">\n",
       "  <thead>\n",
       "    <tr style=\"text-align: right;\">\n",
       "      <th></th>\n",
       "      <th>REF</th>\n",
       "      <th>Company (Manufacturer)</th>\n",
       "      <th>Company Location</th>\n",
       "      <th>Review Date</th>\n",
       "      <th>Country of Bean Origin</th>\n",
       "      <th>Specific Bean Origin or Bar Name</th>\n",
       "      <th>Cocoa Percent</th>\n",
       "      <th>Ingredients</th>\n",
       "      <th>Most Memorable Characteristics</th>\n",
       "      <th>Rating</th>\n",
       "    </tr>\n",
       "  </thead>\n",
       "  <tbody>\n",
       "    <tr>\n",
       "      <th>0</th>\n",
       "      <td>2454</td>\n",
       "      <td>5150</td>\n",
       "      <td>U.S.A.</td>\n",
       "      <td>2019</td>\n",
       "      <td>Madagascar</td>\n",
       "      <td>Bejofo Estate, batch 1</td>\n",
       "      <td>76%</td>\n",
       "      <td>3- B,S,C</td>\n",
       "      <td>cocoa, blackberry, full body</td>\n",
       "      <td>3.75</td>\n",
       "    </tr>\n",
       "    <tr>\n",
       "      <th>1</th>\n",
       "      <td>2458</td>\n",
       "      <td>5150</td>\n",
       "      <td>U.S.A.</td>\n",
       "      <td>2019</td>\n",
       "      <td>Dominican Republic</td>\n",
       "      <td>Zorzal, batch 1</td>\n",
       "      <td>76%</td>\n",
       "      <td>3- B,S,C</td>\n",
       "      <td>cocoa, vegetal, savory</td>\n",
       "      <td>3.50</td>\n",
       "    </tr>\n",
       "    <tr>\n",
       "      <th>2</th>\n",
       "      <td>2454</td>\n",
       "      <td>5150</td>\n",
       "      <td>U.S.A.</td>\n",
       "      <td>2019</td>\n",
       "      <td>Tanzania</td>\n",
       "      <td>Kokoa Kamili, batch 1</td>\n",
       "      <td>76%</td>\n",
       "      <td>3- B,S,C</td>\n",
       "      <td>rich cocoa, fatty, bready</td>\n",
       "      <td>3.25</td>\n",
       "    </tr>\n",
       "    <tr>\n",
       "      <th>3</th>\n",
       "      <td>797</td>\n",
       "      <td>A. Morin</td>\n",
       "      <td>France</td>\n",
       "      <td>2012</td>\n",
       "      <td>Peru</td>\n",
       "      <td>Peru</td>\n",
       "      <td>63%</td>\n",
       "      <td>4- B,S,C,L</td>\n",
       "      <td>fruity, melon, roasty</td>\n",
       "      <td>3.75</td>\n",
       "    </tr>\n",
       "    <tr>\n",
       "      <th>4</th>\n",
       "      <td>797</td>\n",
       "      <td>A. Morin</td>\n",
       "      <td>France</td>\n",
       "      <td>2012</td>\n",
       "      <td>Bolivia</td>\n",
       "      <td>Bolivia</td>\n",
       "      <td>70%</td>\n",
       "      <td>4- B,S,C,L</td>\n",
       "      <td>vegetal, nutty</td>\n",
       "      <td>3.50</td>\n",
       "    </tr>\n",
       "    <tr>\n",
       "      <th>...</th>\n",
       "      <td>...</td>\n",
       "      <td>...</td>\n",
       "      <td>...</td>\n",
       "      <td>...</td>\n",
       "      <td>...</td>\n",
       "      <td>...</td>\n",
       "      <td>...</td>\n",
       "      <td>...</td>\n",
       "      <td>...</td>\n",
       "      <td>...</td>\n",
       "    </tr>\n",
       "    <tr>\n",
       "      <th>2357</th>\n",
       "      <td>1205</td>\n",
       "      <td>Zotter</td>\n",
       "      <td>Austria</td>\n",
       "      <td>2014</td>\n",
       "      <td>Blend</td>\n",
       "      <td>Raw</td>\n",
       "      <td>80%</td>\n",
       "      <td>4- B,S*,C,Sa</td>\n",
       "      <td>waxy, cloying, vegetal</td>\n",
       "      <td>2.75</td>\n",
       "    </tr>\n",
       "    <tr>\n",
       "      <th>2358</th>\n",
       "      <td>1996</td>\n",
       "      <td>Zotter</td>\n",
       "      <td>Austria</td>\n",
       "      <td>2017</td>\n",
       "      <td>Colombia</td>\n",
       "      <td>APROCAFA, Acandi</td>\n",
       "      <td>75%</td>\n",
       "      <td>3- B,S,C</td>\n",
       "      <td>strong nutty, marshmallow</td>\n",
       "      <td>3.75</td>\n",
       "    </tr>\n",
       "    <tr>\n",
       "      <th>2359</th>\n",
       "      <td>2170</td>\n",
       "      <td>Zotter</td>\n",
       "      <td>Austria</td>\n",
       "      <td>2018</td>\n",
       "      <td>Belize</td>\n",
       "      <td>Maya Mtn</td>\n",
       "      <td>72%</td>\n",
       "      <td>3- B,S,C</td>\n",
       "      <td>muted, roasty, accessible</td>\n",
       "      <td>3.50</td>\n",
       "    </tr>\n",
       "    <tr>\n",
       "      <th>2360</th>\n",
       "      <td>2170</td>\n",
       "      <td>Zotter</td>\n",
       "      <td>Austria</td>\n",
       "      <td>2018</td>\n",
       "      <td>Congo</td>\n",
       "      <td>Mountains of the Moon</td>\n",
       "      <td>70%</td>\n",
       "      <td>3- B,S,C</td>\n",
       "      <td>fatty, mild nuts, mild fruit</td>\n",
       "      <td>3.25</td>\n",
       "    </tr>\n",
       "    <tr>\n",
       "      <th>2361</th>\n",
       "      <td>2036</td>\n",
       "      <td>Zotter</td>\n",
       "      <td>Austria</td>\n",
       "      <td>2018</td>\n",
       "      <td>Blend</td>\n",
       "      <td>Dry Aged, 30 yr Anniversary bar</td>\n",
       "      <td>75%</td>\n",
       "      <td>3- B,S,C</td>\n",
       "      <td>fatty, earthy, cocoa</td>\n",
       "      <td>3.00</td>\n",
       "    </tr>\n",
       "  </tbody>\n",
       "</table>\n",
       "<p>2362 rows × 10 columns</p>\n",
       "</div>"
      ],
      "text/plain": [
       "       REF Company (Manufacturer) Company Location  Review Date  \\\n",
       "0     2454                   5150           U.S.A.         2019   \n",
       "1     2458                   5150           U.S.A.         2019   \n",
       "2     2454                   5150           U.S.A.         2019   \n",
       "3      797               A. Morin           France         2012   \n",
       "4      797               A. Morin           France         2012   \n",
       "...    ...                    ...              ...          ...   \n",
       "2357  1205                 Zotter          Austria         2014   \n",
       "2358  1996                 Zotter          Austria         2017   \n",
       "2359  2170                 Zotter          Austria         2018   \n",
       "2360  2170                 Zotter          Austria         2018   \n",
       "2361  2036                 Zotter          Austria         2018   \n",
       "\n",
       "     Country of Bean Origin Specific Bean Origin or Bar Name Cocoa Percent  \\\n",
       "0                Madagascar           Bejofo Estate, batch 1           76%   \n",
       "1        Dominican Republic                  Zorzal, batch 1           76%   \n",
       "2                  Tanzania            Kokoa Kamili, batch 1           76%   \n",
       "3                      Peru                             Peru           63%   \n",
       "4                   Bolivia                          Bolivia           70%   \n",
       "...                     ...                              ...           ...   \n",
       "2357                  Blend                              Raw           80%   \n",
       "2358               Colombia                 APROCAFA, Acandi           75%   \n",
       "2359                 Belize                         Maya Mtn           72%   \n",
       "2360                  Congo            Mountains of the Moon           70%   \n",
       "2361                  Blend  Dry Aged, 30 yr Anniversary bar           75%   \n",
       "\n",
       "       Ingredients Most Memorable Characteristics  Rating  \n",
       "0         3- B,S,C   cocoa, blackberry, full body    3.75  \n",
       "1         3- B,S,C         cocoa, vegetal, savory    3.50  \n",
       "2         3- B,S,C      rich cocoa, fatty, bready    3.25  \n",
       "3       4- B,S,C,L          fruity, melon, roasty    3.75  \n",
       "4       4- B,S,C,L                 vegetal, nutty    3.50  \n",
       "...            ...                            ...     ...  \n",
       "2357  4- B,S*,C,Sa         waxy, cloying, vegetal    2.75  \n",
       "2358      3- B,S,C      strong nutty, marshmallow    3.75  \n",
       "2359      3- B,S,C      muted, roasty, accessible    3.50  \n",
       "2360      3- B,S,C   fatty, mild nuts, mild fruit    3.25  \n",
       "2361      3- B,S,C           fatty, earthy, cocoa    3.00  \n",
       "\n",
       "[2362 rows x 10 columns]"
      ]
     },
     "execution_count": 1,
     "metadata": {},
     "output_type": "execute_result"
    }
   ],
   "source": [
    "import pandas as pd \n",
    "import numpy as np \n",
    "from sklearn.model_selection import cross_val_score, train_test_split\n",
    "from sklearn.impute import SimpleImputer\n",
    "from sklearn.ensemble import BaggingClassifier\n",
    "from sklearn.metrics import plot_confusion_matrix, auc, classification_report\n",
    "from sklearn.linear_model import LogisticRegression\n",
    "from sklearn.pipeline import Pipeline\n",
    "from sklearn.tree import DecisionTreeRegressor, DecisionTreeClassifier\n",
    "from sklearn.preprocessing import OneHotEncoder, StandardScaler\n",
    "from sklearn.ensemble import RandomForestClassifier, RandomForestRegressor\n",
    "# from imblearn.over_sampling import SMOTE\n",
    "\n",
    "df = pd.read_csv('../../../data/chocolate.csv')\n",
    "df"
   ]
  },
  {
   "cell_type": "code",
   "execution_count": 2,
   "metadata": {},
   "outputs": [
    {
     "name": "stdout",
     "output_type": "stream",
     "text": [
      "<class 'pandas.core.frame.DataFrame'>\n",
      "RangeIndex: 2362 entries, 0 to 2361\n",
      "Data columns (total 10 columns):\n",
      " #   Column                            Non-Null Count  Dtype  \n",
      "---  ------                            --------------  -----  \n",
      " 0   REF                               2362 non-null   int64  \n",
      " 1   Company (Manufacturer)            2362 non-null   object \n",
      " 2   Company Location                  2362 non-null   object \n",
      " 3   Review Date                       2362 non-null   int64  \n",
      " 4   Country of Bean Origin            2362 non-null   object \n",
      " 5   Specific Bean Origin or Bar Name  2362 non-null   object \n",
      " 6   Cocoa Percent                     2362 non-null   object \n",
      " 7   Ingredients                       2274 non-null   object \n",
      " 8   Most Memorable Characteristics    2362 non-null   object \n",
      " 9   Rating                            2362 non-null   float64\n",
      "dtypes: float64(1), int64(2), object(7)\n",
      "memory usage: 184.7+ KB\n"
     ]
    }
   ],
   "source": [
    "df.info()"
   ]
  },
  {
   "cell_type": "markdown",
   "metadata": {},
   "source": [
    "## Took out the percent sign in the cocoa column, took out the , and - in the ingredients ##"
   ]
  },
  {
   "cell_type": "code",
   "execution_count": 3,
   "metadata": {},
   "outputs": [
    {
     "data": {
      "text/html": [
       "<div>\n",
       "<style scoped>\n",
       "    .dataframe tbody tr th:only-of-type {\n",
       "        vertical-align: middle;\n",
       "    }\n",
       "\n",
       "    .dataframe tbody tr th {\n",
       "        vertical-align: top;\n",
       "    }\n",
       "\n",
       "    .dataframe thead th {\n",
       "        text-align: right;\n",
       "    }\n",
       "</style>\n",
       "<table border=\"1\" class=\"dataframe\">\n",
       "  <thead>\n",
       "    <tr style=\"text-align: right;\">\n",
       "      <th></th>\n",
       "      <th>ref</th>\n",
       "      <th>company_manufacturer</th>\n",
       "      <th>company_location</th>\n",
       "      <th>review_date</th>\n",
       "      <th>country_of_bean_origin</th>\n",
       "      <th>specific_bean_origin_or_bar_name</th>\n",
       "      <th>cocoa_percent</th>\n",
       "      <th>ingredients</th>\n",
       "      <th>most_memorable_characteristics</th>\n",
       "      <th>rating</th>\n",
       "    </tr>\n",
       "  </thead>\n",
       "  <tbody>\n",
       "    <tr>\n",
       "      <th>0</th>\n",
       "      <td>2454</td>\n",
       "      <td>5150</td>\n",
       "      <td>U.S.A.</td>\n",
       "      <td>2019</td>\n",
       "      <td>Madagascar</td>\n",
       "      <td>Bejofo Estate  batch 1</td>\n",
       "      <td>76</td>\n",
       "      <td>3  B S C</td>\n",
       "      <td>cocoa  blackberry  full body</td>\n",
       "      <td>3.75</td>\n",
       "    </tr>\n",
       "    <tr>\n",
       "      <th>1</th>\n",
       "      <td>2458</td>\n",
       "      <td>5150</td>\n",
       "      <td>U.S.A.</td>\n",
       "      <td>2019</td>\n",
       "      <td>Dominican Republic</td>\n",
       "      <td>Zorzal  batch 1</td>\n",
       "      <td>76</td>\n",
       "      <td>3  B S C</td>\n",
       "      <td>cocoa  vegetal  savory</td>\n",
       "      <td>3.50</td>\n",
       "    </tr>\n",
       "    <tr>\n",
       "      <th>2</th>\n",
       "      <td>2454</td>\n",
       "      <td>5150</td>\n",
       "      <td>U.S.A.</td>\n",
       "      <td>2019</td>\n",
       "      <td>Tanzania</td>\n",
       "      <td>Kokoa Kamili  batch 1</td>\n",
       "      <td>76</td>\n",
       "      <td>3  B S C</td>\n",
       "      <td>rich cocoa  fatty  bready</td>\n",
       "      <td>3.25</td>\n",
       "    </tr>\n",
       "    <tr>\n",
       "      <th>3</th>\n",
       "      <td>797</td>\n",
       "      <td>A. Morin</td>\n",
       "      <td>France</td>\n",
       "      <td>2012</td>\n",
       "      <td>Peru</td>\n",
       "      <td>Peru</td>\n",
       "      <td>63</td>\n",
       "      <td>4  B S C L</td>\n",
       "      <td>fruity  melon  roasty</td>\n",
       "      <td>3.75</td>\n",
       "    </tr>\n",
       "    <tr>\n",
       "      <th>4</th>\n",
       "      <td>797</td>\n",
       "      <td>A. Morin</td>\n",
       "      <td>France</td>\n",
       "      <td>2012</td>\n",
       "      <td>Bolivia</td>\n",
       "      <td>Bolivia</td>\n",
       "      <td>70</td>\n",
       "      <td>4  B S C L</td>\n",
       "      <td>vegetal  nutty</td>\n",
       "      <td>3.50</td>\n",
       "    </tr>\n",
       "  </tbody>\n",
       "</table>\n",
       "</div>"
      ],
      "text/plain": [
       "    ref company_manufacturer company_location  review_date  \\\n",
       "0  2454                 5150           U.S.A.         2019   \n",
       "1  2458                 5150           U.S.A.         2019   \n",
       "2  2454                 5150           U.S.A.         2019   \n",
       "3   797             A. Morin           France         2012   \n",
       "4   797             A. Morin           France         2012   \n",
       "\n",
       "  country_of_bean_origin specific_bean_origin_or_bar_name cocoa_percent  \\\n",
       "0             Madagascar           Bejofo Estate  batch 1           76    \n",
       "1     Dominican Republic                  Zorzal  batch 1           76    \n",
       "2               Tanzania            Kokoa Kamili  batch 1           76    \n",
       "3                   Peru                             Peru           63    \n",
       "4                Bolivia                          Bolivia           70    \n",
       "\n",
       "  ingredients most_memorable_characteristics  rating  \n",
       "0    3  B S C   cocoa  blackberry  full body    3.75  \n",
       "1    3  B S C         cocoa  vegetal  savory    3.50  \n",
       "2    3  B S C      rich cocoa  fatty  bready    3.25  \n",
       "3  4  B S C L          fruity  melon  roasty    3.75  \n",
       "4  4  B S C L                 vegetal  nutty    3.50  "
      ]
     },
     "execution_count": 3,
     "metadata": {},
     "output_type": "execute_result"
    }
   ],
   "source": [
    "df.columns = df.columns.str.replace(' ', '_').str.replace('(','').str.replace(')','').str.lower()\n",
    "\n",
    "#cocoa_percent\n",
    "df = df.replace('%',' ', regex=True)\n",
    "\n",
    "#ingredients\n",
    "df = df.replace(',',' ', regex=True)\n",
    "df = df.replace('-',' ', regex=True)\n",
    "\n",
    "df.head()"
   ]
  },
  {
   "cell_type": "markdown",
   "metadata": {},
   "source": [
    "### Changing Number Columns into Floats ###"
   ]
  },
  {
   "cell_type": "code",
   "execution_count": 4,
   "metadata": {},
   "outputs": [],
   "source": [
    "df[\"cocoa_percent\"] = df.cocoa_percent.astype(float)\n",
    "#df[\"review_date\"] = df.review_date.astype(float)"
   ]
  },
  {
   "cell_type": "code",
   "execution_count": 5,
   "metadata": {},
   "outputs": [
    {
     "name": "stdout",
     "output_type": "stream",
     "text": [
      "<class 'pandas.core.frame.DataFrame'>\n",
      "RangeIndex: 2362 entries, 0 to 2361\n",
      "Data columns (total 10 columns):\n",
      " #   Column                            Non-Null Count  Dtype  \n",
      "---  ------                            --------------  -----  \n",
      " 0   ref                               2362 non-null   int64  \n",
      " 1   company_manufacturer              2362 non-null   object \n",
      " 2   company_location                  2362 non-null   object \n",
      " 3   review_date                       2362 non-null   int64  \n",
      " 4   country_of_bean_origin            2362 non-null   object \n",
      " 5   specific_bean_origin_or_bar_name  2362 non-null   object \n",
      " 6   cocoa_percent                     2362 non-null   float64\n",
      " 7   ingredients                       2274 non-null   object \n",
      " 8   most_memorable_characteristics    2362 non-null   object \n",
      " 9   rating                            2362 non-null   float64\n",
      "dtypes: float64(2), int64(2), object(6)\n",
      "memory usage: 184.7+ KB\n"
     ]
    }
   ],
   "source": [
    "df.info()"
   ]
  },
  {
   "cell_type": "code",
   "execution_count": 6,
   "metadata": {},
   "outputs": [
    {
     "data": {
      "text/plain": [
       "ref                                  0\n",
       "company_manufacturer                 0\n",
       "company_location                     0\n",
       "review_date                          0\n",
       "country_of_bean_origin               0\n",
       "specific_bean_origin_or_bar_name     0\n",
       "cocoa_percent                        0\n",
       "ingredients                         88\n",
       "most_memorable_characteristics       0\n",
       "rating                               0\n",
       "dtype: int64"
      ]
     },
     "execution_count": 6,
     "metadata": {},
     "output_type": "execute_result"
    }
   ],
   "source": [
    "#ingredients have 88 rows that have no inputs.\n",
    "df.isna().sum()"
   ]
  },
  {
   "cell_type": "markdown",
   "metadata": {},
   "source": [
    "## comparing relationship to review date and rating ## "
   ]
  },
  {
   "cell_type": "code",
   "execution_count": 7,
   "metadata": {},
   "outputs": [],
   "source": [
    "average_ratings_review_date = df.groupby('review_date')['rating'].mean().sort_values().to_dict()"
   ]
  },
  {
   "cell_type": "code",
   "execution_count": 8,
   "metadata": {},
   "outputs": [],
   "source": [
    "company_date_counts = df['review_date'].value_counts(normalize=True).to_dict()"
   ]
  },
  {
   "cell_type": "code",
   "execution_count": 9,
   "metadata": {},
   "outputs": [
    {
     "data": {
      "text/plain": [
       "[2006,\n",
       " 2007,\n",
       " 2008,\n",
       " 2009,\n",
       " 2010,\n",
       " 2011,\n",
       " 2012,\n",
       " 2013,\n",
       " 2014,\n",
       " 2015,\n",
       " 2016,\n",
       " 2017,\n",
       " 2018,\n",
       " 2019,\n",
       " 2020,\n",
       " 2021]"
      ]
     },
     "execution_count": 9,
     "metadata": {},
     "output_type": "execute_result"
    }
   ],
   "source": [
    "date_range = list(range(2006, 2022))\n",
    "date_range"
   ]
  },
  {
   "cell_type": "code",
   "execution_count": 10,
   "metadata": {},
   "outputs": [
    {
     "data": {
      "image/png": "[encoded data removed]",
      "text/plain": [
       "<Figure size 1080x432 with 1 Axes>"
      ]
     },
     "metadata": {
      "needs_background": "light"
     },
     "output_type": "display_data"
    }
   ],
   "source": [
    "import matplotlib.pyplot as plt\n",
    "rev_date = df.review_date.unique()\n",
    "weighted_rating = []\n",
    "for rev in rev_date:\n",
    "    count = company_date_counts[rev]\n",
    "    rating = average_ratings_review_date[rev]\n",
    "    weighted_rating.append(count * rating)\n",
    "    \n",
    "sorted_vals = sorted(list(zip(weighted_rating, rev_date)))\n",
    "x = [val[1] for val in sorted_vals]\n",
    "y = [val[0] for val in sorted_vals]\n",
    "\n",
    "plt.figure(figsize=(15,6))\n",
    "plt.bar(x, y)\n",
    "plt.xticks(rotation=90, ticks=date_range);"
   ]
  },
  {
   "cell_type": "markdown",
   "metadata": {},
   "source": [
    "The review date tends to fluctuate between the years. In the year 2015 it is shown to have the highest peak of rating. Years 2014,2016, and 2018 also seem to have higher rating correlation. This is interesting because these years are consistant except for in 2017 there is a drop. I am going to group these years together but leave out 2017 so it does not lower the higher averages. It looks like most ratings are consistant with a range of years and then shifts and then stays the same and then shifts. Interesting to see that they stay pretty consistent with their groupsings."
   ]
  },
  {
   "cell_type": "markdown",
   "metadata": {},
   "source": [
    "### Review Date Bin ###"
   ]
  },
  {
   "cell_type": "code",
   "execution_count": 11,
   "metadata": {},
   "outputs": [
    {
     "data": {
      "text/plain": [
       "0       2019\n",
       "1       2019\n",
       "2       2019\n",
       "3       2012\n",
       "4       2012\n",
       "        ... \n",
       "2357    2014\n",
       "2358    2017\n",
       "2359    2018\n",
       "2360    2018\n",
       "2361    2018\n",
       "Name: review_date, Length: 2362, dtype: int64"
      ]
     },
     "execution_count": 11,
     "metadata": {},
     "output_type": "execute_result"
    }
   ],
   "source": [
    "df.review_date"
   ]
  },
  {
   "cell_type": "code",
   "execution_count": 12,
   "metadata": {},
   "outputs": [
    {
     "data": {
      "text/plain": [
       "review_date\n",
       "2006    3.004032\n",
       "2007    3.102740\n",
       "2008    3.000000\n",
       "2009    3.073171\n",
       "2010    3.152273\n",
       "2011    3.257669\n",
       "2012    3.180412\n",
       "2013    3.197011\n",
       "2014    3.189271\n",
       "2015    3.244718\n",
       "2016    3.226027\n",
       "2017    3.361905\n",
       "2018    3.192325\n",
       "2019    3.134021\n",
       "2020    3.256173\n",
       "2021    3.500000\n",
       "Name: rating, dtype: float64"
      ]
     },
     "execution_count": 12,
     "metadata": {},
     "output_type": "execute_result"
    }
   ],
   "source": [
    "df.groupby('review_date').mean()['rating']"
   ]
  },
  {
   "cell_type": "code",
   "execution_count": 13,
   "metadata": {},
   "outputs": [
    {
     "data": {
      "text/plain": [
       "(2006, 2007, 2008, 2010, 2017, 2020, 2021)"
      ]
     },
     "execution_count": 13,
     "metadata": {},
     "output_type": "execute_result"
    }
   ],
   "source": [
    "#smallest rating\n",
    "first_bin_date = (2006, 2007, 2008, 2010, 2017, 2020, 2021)\n",
    "first_bin_date"
   ]
  },
  {
   "cell_type": "code",
   "execution_count": 14,
   "metadata": {},
   "outputs": [
    {
     "data": {
      "text/plain": [
       "(2009, 2011, 2012, 2013, 2019)"
      ]
     },
     "execution_count": 14,
     "metadata": {},
     "output_type": "execute_result"
    }
   ],
   "source": [
    "#medium rating\n",
    "second_bin_date = (2009, 2011, 2012, 2013, 2019)\n",
    "second_bin_date"
   ]
  },
  {
   "cell_type": "code",
   "execution_count": 15,
   "metadata": {},
   "outputs": [
    {
     "data": {
      "text/plain": [
       "(2014, 2015, 2016, 2018)"
      ]
     },
     "execution_count": 15,
     "metadata": {},
     "output_type": "execute_result"
    }
   ],
   "source": [
    "#higher rating\n",
    "third_bin_date = (2014, 2015, 2016, 2018)\n",
    "third_bin_date"
   ]
  },
  {
   "cell_type": "code",
   "execution_count": 16,
   "metadata": {},
   "outputs": [],
   "source": [
    "#setting variable to low rating group\n",
    "bin_a_index = df[df.review_date.isin(first_bin_date)].index\n",
    "df.at[bin_a_index, 'review_date_bin'] = 'a'"
   ]
  },
  {
   "cell_type": "code",
   "execution_count": 17,
   "metadata": {},
   "outputs": [],
   "source": [
    "#setting variable to medium rating group\n",
    "bin_b_index = df[df.review_date.isin(second_bin_date)].index\n",
    "df.at[bin_b_index, 'review_date_bin'] = 'b'"
   ]
  },
  {
   "cell_type": "code",
   "execution_count": 18,
   "metadata": {},
   "outputs": [],
   "source": [
    "#setting variable to higher rating group\n",
    "bin_c_index = df[df.review_date.isin(third_bin_date)].index\n",
    "df.at[bin_c_index, 'review_date_bin'] = 'c'"
   ]
  },
  {
   "cell_type": "code",
   "execution_count": 19,
   "metadata": {},
   "outputs": [
    {
     "data": {
      "text/html": [
       "<div>\n",
       "<style scoped>\n",
       "    .dataframe tbody tr th:only-of-type {\n",
       "        vertical-align: middle;\n",
       "    }\n",
       "\n",
       "    .dataframe tbody tr th {\n",
       "        vertical-align: top;\n",
       "    }\n",
       "\n",
       "    .dataframe thead th {\n",
       "        text-align: right;\n",
       "    }\n",
       "</style>\n",
       "<table border=\"1\" class=\"dataframe\">\n",
       "  <thead>\n",
       "    <tr style=\"text-align: right;\">\n",
       "      <th></th>\n",
       "      <th>ref</th>\n",
       "      <th>company_manufacturer</th>\n",
       "      <th>company_location</th>\n",
       "      <th>review_date</th>\n",
       "      <th>country_of_bean_origin</th>\n",
       "      <th>specific_bean_origin_or_bar_name</th>\n",
       "      <th>cocoa_percent</th>\n",
       "      <th>ingredients</th>\n",
       "      <th>most_memorable_characteristics</th>\n",
       "      <th>rating</th>\n",
       "      <th>review_date_bin</th>\n",
       "    </tr>\n",
       "  </thead>\n",
       "  <tbody>\n",
       "    <tr>\n",
       "      <th>0</th>\n",
       "      <td>2454</td>\n",
       "      <td>5150</td>\n",
       "      <td>U.S.A.</td>\n",
       "      <td>2019</td>\n",
       "      <td>Madagascar</td>\n",
       "      <td>Bejofo Estate  batch 1</td>\n",
       "      <td>76.0</td>\n",
       "      <td>3  B S C</td>\n",
       "      <td>cocoa  blackberry  full body</td>\n",
       "      <td>3.75</td>\n",
       "      <td>b</td>\n",
       "    </tr>\n",
       "    <tr>\n",
       "      <th>1</th>\n",
       "      <td>2458</td>\n",
       "      <td>5150</td>\n",
       "      <td>U.S.A.</td>\n",
       "      <td>2019</td>\n",
       "      <td>Dominican Republic</td>\n",
       "      <td>Zorzal  batch 1</td>\n",
       "      <td>76.0</td>\n",
       "      <td>3  B S C</td>\n",
       "      <td>cocoa  vegetal  savory</td>\n",
       "      <td>3.50</td>\n",
       "      <td>b</td>\n",
       "    </tr>\n",
       "    <tr>\n",
       "      <th>2</th>\n",
       "      <td>2454</td>\n",
       "      <td>5150</td>\n",
       "      <td>U.S.A.</td>\n",
       "      <td>2019</td>\n",
       "      <td>Tanzania</td>\n",
       "      <td>Kokoa Kamili  batch 1</td>\n",
       "      <td>76.0</td>\n",
       "      <td>3  B S C</td>\n",
       "      <td>rich cocoa  fatty  bready</td>\n",
       "      <td>3.25</td>\n",
       "      <td>b</td>\n",
       "    </tr>\n",
       "    <tr>\n",
       "      <th>3</th>\n",
       "      <td>797</td>\n",
       "      <td>A. Morin</td>\n",
       "      <td>France</td>\n",
       "      <td>2012</td>\n",
       "      <td>Peru</td>\n",
       "      <td>Peru</td>\n",
       "      <td>63.0</td>\n",
       "      <td>4  B S C L</td>\n",
       "      <td>fruity  melon  roasty</td>\n",
       "      <td>3.75</td>\n",
       "      <td>b</td>\n",
       "    </tr>\n",
       "    <tr>\n",
       "      <th>4</th>\n",
       "      <td>797</td>\n",
       "      <td>A. Morin</td>\n",
       "      <td>France</td>\n",
       "      <td>2012</td>\n",
       "      <td>Bolivia</td>\n",
       "      <td>Bolivia</td>\n",
       "      <td>70.0</td>\n",
       "      <td>4  B S C L</td>\n",
       "      <td>vegetal  nutty</td>\n",
       "      <td>3.50</td>\n",
       "      <td>b</td>\n",
       "    </tr>\n",
       "    <tr>\n",
       "      <th>...</th>\n",
       "      <td>...</td>\n",
       "      <td>...</td>\n",
       "      <td>...</td>\n",
       "      <td>...</td>\n",
       "      <td>...</td>\n",
       "      <td>...</td>\n",
       "      <td>...</td>\n",
       "      <td>...</td>\n",
       "      <td>...</td>\n",
       "      <td>...</td>\n",
       "      <td>...</td>\n",
       "    </tr>\n",
       "    <tr>\n",
       "      <th>2357</th>\n",
       "      <td>1205</td>\n",
       "      <td>Zotter</td>\n",
       "      <td>Austria</td>\n",
       "      <td>2014</td>\n",
       "      <td>Blend</td>\n",
       "      <td>Raw</td>\n",
       "      <td>80.0</td>\n",
       "      <td>4  B S* C Sa</td>\n",
       "      <td>waxy  cloying  vegetal</td>\n",
       "      <td>2.75</td>\n",
       "      <td>c</td>\n",
       "    </tr>\n",
       "    <tr>\n",
       "      <th>2358</th>\n",
       "      <td>1996</td>\n",
       "      <td>Zotter</td>\n",
       "      <td>Austria</td>\n",
       "      <td>2017</td>\n",
       "      <td>Colombia</td>\n",
       "      <td>APROCAFA  Acandi</td>\n",
       "      <td>75.0</td>\n",
       "      <td>3  B S C</td>\n",
       "      <td>strong nutty  marshmallow</td>\n",
       "      <td>3.75</td>\n",
       "      <td>a</td>\n",
       "    </tr>\n",
       "    <tr>\n",
       "      <th>2359</th>\n",
       "      <td>2170</td>\n",
       "      <td>Zotter</td>\n",
       "      <td>Austria</td>\n",
       "      <td>2018</td>\n",
       "      <td>Belize</td>\n",
       "      <td>Maya Mtn</td>\n",
       "      <td>72.0</td>\n",
       "      <td>3  B S C</td>\n",
       "      <td>muted  roasty  accessible</td>\n",
       "      <td>3.50</td>\n",
       "      <td>c</td>\n",
       "    </tr>\n",
       "    <tr>\n",
       "      <th>2360</th>\n",
       "      <td>2170</td>\n",
       "      <td>Zotter</td>\n",
       "      <td>Austria</td>\n",
       "      <td>2018</td>\n",
       "      <td>Congo</td>\n",
       "      <td>Mountains of the Moon</td>\n",
       "      <td>70.0</td>\n",
       "      <td>3  B S C</td>\n",
       "      <td>fatty  mild nuts  mild fruit</td>\n",
       "      <td>3.25</td>\n",
       "      <td>c</td>\n",
       "    </tr>\n",
       "    <tr>\n",
       "      <th>2361</th>\n",
       "      <td>2036</td>\n",
       "      <td>Zotter</td>\n",
       "      <td>Austria</td>\n",
       "      <td>2018</td>\n",
       "      <td>Blend</td>\n",
       "      <td>Dry Aged  30 yr Anniversary bar</td>\n",
       "      <td>75.0</td>\n",
       "      <td>3  B S C</td>\n",
       "      <td>fatty  earthy  cocoa</td>\n",
       "      <td>3.00</td>\n",
       "      <td>c</td>\n",
       "    </tr>\n",
       "  </tbody>\n",
       "</table>\n",
       "<p>2362 rows × 11 columns</p>\n",
       "</div>"
      ],
      "text/plain": [
       "       ref company_manufacturer company_location  review_date  \\\n",
       "0     2454                 5150           U.S.A.         2019   \n",
       "1     2458                 5150           U.S.A.         2019   \n",
       "2     2454                 5150           U.S.A.         2019   \n",
       "3      797             A. Morin           France         2012   \n",
       "4      797             A. Morin           France         2012   \n",
       "...    ...                  ...              ...          ...   \n",
       "2357  1205               Zotter          Austria         2014   \n",
       "2358  1996               Zotter          Austria         2017   \n",
       "2359  2170               Zotter          Austria         2018   \n",
       "2360  2170               Zotter          Austria         2018   \n",
       "2361  2036               Zotter          Austria         2018   \n",
       "\n",
       "     country_of_bean_origin specific_bean_origin_or_bar_name  cocoa_percent  \\\n",
       "0                Madagascar           Bejofo Estate  batch 1           76.0   \n",
       "1        Dominican Republic                  Zorzal  batch 1           76.0   \n",
       "2                  Tanzania            Kokoa Kamili  batch 1           76.0   \n",
       "3                      Peru                             Peru           63.0   \n",
       "4                   Bolivia                          Bolivia           70.0   \n",
       "...                     ...                              ...            ...   \n",
       "2357                  Blend                              Raw           80.0   \n",
       "2358               Colombia                 APROCAFA  Acandi           75.0   \n",
       "2359                 Belize                         Maya Mtn           72.0   \n",
       "2360                  Congo            Mountains of the Moon           70.0   \n",
       "2361                  Blend  Dry Aged  30 yr Anniversary bar           75.0   \n",
       "\n",
       "       ingredients most_memorable_characteristics  rating review_date_bin  \n",
       "0         3  B S C   cocoa  blackberry  full body    3.75               b  \n",
       "1         3  B S C         cocoa  vegetal  savory    3.50               b  \n",
       "2         3  B S C      rich cocoa  fatty  bready    3.25               b  \n",
       "3       4  B S C L          fruity  melon  roasty    3.75               b  \n",
       "4       4  B S C L                 vegetal  nutty    3.50               b  \n",
       "...            ...                            ...     ...             ...  \n",
       "2357  4  B S* C Sa         waxy  cloying  vegetal    2.75               c  \n",
       "2358      3  B S C      strong nutty  marshmallow    3.75               a  \n",
       "2359      3  B S C      muted  roasty  accessible    3.50               c  \n",
       "2360      3  B S C   fatty  mild nuts  mild fruit    3.25               c  \n",
       "2361      3  B S C           fatty  earthy  cocoa    3.00               c  \n",
       "\n",
       "[2362 rows x 11 columns]"
      ]
     },
     "execution_count": 19,
     "metadata": {},
     "output_type": "execute_result"
    }
   ],
   "source": [
    "df"
   ]
  },
  {
   "cell_type": "markdown",
   "metadata": {},
   "source": [
    "### Cocoa Percent Bucket and Bin ###"
   ]
  },
  {
   "cell_type": "markdown",
   "metadata": {},
   "source": [
    "##### mallory working on cocoa percent #####"
   ]
  },
  {
   "cell_type": "code",
   "execution_count": 20,
   "metadata": {},
   "outputs": [],
   "source": [
    "#breaking down cocoa percent to 2 different groups \n",
    "df['cocoa_bucket'] = pd.qcut(df['cocoa_percent'], q=2, duplicates='drop')"
   ]
  },
  {
   "cell_type": "code",
   "execution_count": 21,
   "metadata": {},
   "outputs": [
    {
     "data": {
      "text/plain": [
       "0        (70.0, 100.0]\n",
       "1        (70.0, 100.0]\n",
       "2        (70.0, 100.0]\n",
       "3       (41.999, 70.0]\n",
       "4       (41.999, 70.0]\n",
       "             ...      \n",
       "2357     (70.0, 100.0]\n",
       "2358     (70.0, 100.0]\n",
       "2359     (70.0, 100.0]\n",
       "2360    (41.999, 70.0]\n",
       "2361     (70.0, 100.0]\n",
       "Name: cocoa_bucket, Length: 2362, dtype: category\n",
       "Categories (2, interval[float64]): [(41.999, 70.0] < (70.0, 100.0]]"
      ]
     },
     "execution_count": 21,
     "metadata": {},
     "output_type": "execute_result"
    }
   ],
   "source": [
    "df['cocoa_bucket']"
   ]
  },
  {
   "cell_type": "code",
   "execution_count": 22,
   "metadata": {},
   "outputs": [
    {
     "data": {
      "text/plain": [
       "(41.999, 70.0]    1335\n",
       "(70.0, 100.0]     1027\n",
       "Name: cocoa_bucket, dtype: int64"
      ]
     },
     "execution_count": 22,
     "metadata": {},
     "output_type": "execute_result"
    }
   ],
   "source": [
    "df['cocoa_bucket'].value_counts()"
   ]
  },
  {
   "cell_type": "code",
   "execution_count": 23,
   "metadata": {},
   "outputs": [
    {
     "data": {
      "text/plain": [
       "cocoa_bucket\n",
       "(41.999, 70.0]    3.238839\n",
       "(70.0, 100.0]     3.120497\n",
       "Name: rating, dtype: float64"
      ]
     },
     "execution_count": 23,
     "metadata": {},
     "output_type": "execute_result"
    }
   ],
   "source": [
    "#cocoa bucket and rating\n",
    "df.groupby('cocoa_bucket').mean()['rating']"
   ]
  },
  {
   "cell_type": "code",
   "execution_count": 24,
   "metadata": {},
   "outputs": [],
   "source": [
    "#if greater than or equal to 3 then its 1 and if its less than 3 its 0\n",
    "df['rating_class'] = [1 if r >= 3 else 0 for r in df['rating']]"
   ]
  },
  {
   "cell_type": "code",
   "execution_count": 25,
   "metadata": {},
   "outputs": [
    {
     "data": {
      "text/html": [
       "<div>\n",
       "<style scoped>\n",
       "    .dataframe tbody tr th:only-of-type {\n",
       "        vertical-align: middle;\n",
       "    }\n",
       "\n",
       "    .dataframe tbody tr th {\n",
       "        vertical-align: top;\n",
       "    }\n",
       "\n",
       "    .dataframe thead th {\n",
       "        text-align: right;\n",
       "    }\n",
       "</style>\n",
       "<table border=\"1\" class=\"dataframe\">\n",
       "  <thead>\n",
       "    <tr style=\"text-align: right;\">\n",
       "      <th></th>\n",
       "      <th>ref</th>\n",
       "      <th>company_manufacturer</th>\n",
       "      <th>company_location</th>\n",
       "      <th>review_date</th>\n",
       "      <th>country_of_bean_origin</th>\n",
       "      <th>specific_bean_origin_or_bar_name</th>\n",
       "      <th>cocoa_percent</th>\n",
       "      <th>ingredients</th>\n",
       "      <th>most_memorable_characteristics</th>\n",
       "      <th>rating</th>\n",
       "      <th>review_date_bin</th>\n",
       "      <th>cocoa_bucket</th>\n",
       "      <th>rating_class</th>\n",
       "    </tr>\n",
       "  </thead>\n",
       "  <tbody>\n",
       "    <tr>\n",
       "      <th>0</th>\n",
       "      <td>2454</td>\n",
       "      <td>5150</td>\n",
       "      <td>U.S.A.</td>\n",
       "      <td>2019</td>\n",
       "      <td>Madagascar</td>\n",
       "      <td>Bejofo Estate  batch 1</td>\n",
       "      <td>76.0</td>\n",
       "      <td>3  B S C</td>\n",
       "      <td>cocoa  blackberry  full body</td>\n",
       "      <td>3.75</td>\n",
       "      <td>b</td>\n",
       "      <td>(70.0, 100.0]</td>\n",
       "      <td>1</td>\n",
       "    </tr>\n",
       "    <tr>\n",
       "      <th>1</th>\n",
       "      <td>2458</td>\n",
       "      <td>5150</td>\n",
       "      <td>U.S.A.</td>\n",
       "      <td>2019</td>\n",
       "      <td>Dominican Republic</td>\n",
       "      <td>Zorzal  batch 1</td>\n",
       "      <td>76.0</td>\n",
       "      <td>3  B S C</td>\n",
       "      <td>cocoa  vegetal  savory</td>\n",
       "      <td>3.50</td>\n",
       "      <td>b</td>\n",
       "      <td>(70.0, 100.0]</td>\n",
       "      <td>1</td>\n",
       "    </tr>\n",
       "    <tr>\n",
       "      <th>2</th>\n",
       "      <td>2454</td>\n",
       "      <td>5150</td>\n",
       "      <td>U.S.A.</td>\n",
       "      <td>2019</td>\n",
       "      <td>Tanzania</td>\n",
       "      <td>Kokoa Kamili  batch 1</td>\n",
       "      <td>76.0</td>\n",
       "      <td>3  B S C</td>\n",
       "      <td>rich cocoa  fatty  bready</td>\n",
       "      <td>3.25</td>\n",
       "      <td>b</td>\n",
       "      <td>(70.0, 100.0]</td>\n",
       "      <td>1</td>\n",
       "    </tr>\n",
       "    <tr>\n",
       "      <th>3</th>\n",
       "      <td>797</td>\n",
       "      <td>A. Morin</td>\n",
       "      <td>France</td>\n",
       "      <td>2012</td>\n",
       "      <td>Peru</td>\n",
       "      <td>Peru</td>\n",
       "      <td>63.0</td>\n",
       "      <td>4  B S C L</td>\n",
       "      <td>fruity  melon  roasty</td>\n",
       "      <td>3.75</td>\n",
       "      <td>b</td>\n",
       "      <td>(41.999, 70.0]</td>\n",
       "      <td>1</td>\n",
       "    </tr>\n",
       "    <tr>\n",
       "      <th>4</th>\n",
       "      <td>797</td>\n",
       "      <td>A. Morin</td>\n",
       "      <td>France</td>\n",
       "      <td>2012</td>\n",
       "      <td>Bolivia</td>\n",
       "      <td>Bolivia</td>\n",
       "      <td>70.0</td>\n",
       "      <td>4  B S C L</td>\n",
       "      <td>vegetal  nutty</td>\n",
       "      <td>3.50</td>\n",
       "      <td>b</td>\n",
       "      <td>(41.999, 70.0]</td>\n",
       "      <td>1</td>\n",
       "    </tr>\n",
       "    <tr>\n",
       "      <th>...</th>\n",
       "      <td>...</td>\n",
       "      <td>...</td>\n",
       "      <td>...</td>\n",
       "      <td>...</td>\n",
       "      <td>...</td>\n",
       "      <td>...</td>\n",
       "      <td>...</td>\n",
       "      <td>...</td>\n",
       "      <td>...</td>\n",
       "      <td>...</td>\n",
       "      <td>...</td>\n",
       "      <td>...</td>\n",
       "      <td>...</td>\n",
       "    </tr>\n",
       "    <tr>\n",
       "      <th>2357</th>\n",
       "      <td>1205</td>\n",
       "      <td>Zotter</td>\n",
       "      <td>Austria</td>\n",
       "      <td>2014</td>\n",
       "      <td>Blend</td>\n",
       "      <td>Raw</td>\n",
       "      <td>80.0</td>\n",
       "      <td>4  B S* C Sa</td>\n",
       "      <td>waxy  cloying  vegetal</td>\n",
       "      <td>2.75</td>\n",
       "      <td>c</td>\n",
       "      <td>(70.0, 100.0]</td>\n",
       "      <td>0</td>\n",
       "    </tr>\n",
       "    <tr>\n",
       "      <th>2358</th>\n",
       "      <td>1996</td>\n",
       "      <td>Zotter</td>\n",
       "      <td>Austria</td>\n",
       "      <td>2017</td>\n",
       "      <td>Colombia</td>\n",
       "      <td>APROCAFA  Acandi</td>\n",
       "      <td>75.0</td>\n",
       "      <td>3  B S C</td>\n",
       "      <td>strong nutty  marshmallow</td>\n",
       "      <td>3.75</td>\n",
       "      <td>a</td>\n",
       "      <td>(70.0, 100.0]</td>\n",
       "      <td>1</td>\n",
       "    </tr>\n",
       "    <tr>\n",
       "      <th>2359</th>\n",
       "      <td>2170</td>\n",
       "      <td>Zotter</td>\n",
       "      <td>Austria</td>\n",
       "      <td>2018</td>\n",
       "      <td>Belize</td>\n",
       "      <td>Maya Mtn</td>\n",
       "      <td>72.0</td>\n",
       "      <td>3  B S C</td>\n",
       "      <td>muted  roasty  accessible</td>\n",
       "      <td>3.50</td>\n",
       "      <td>c</td>\n",
       "      <td>(70.0, 100.0]</td>\n",
       "      <td>1</td>\n",
       "    </tr>\n",
       "    <tr>\n",
       "      <th>2360</th>\n",
       "      <td>2170</td>\n",
       "      <td>Zotter</td>\n",
       "      <td>Austria</td>\n",
       "      <td>2018</td>\n",
       "      <td>Congo</td>\n",
       "      <td>Mountains of the Moon</td>\n",
       "      <td>70.0</td>\n",
       "      <td>3  B S C</td>\n",
       "      <td>fatty  mild nuts  mild fruit</td>\n",
       "      <td>3.25</td>\n",
       "      <td>c</td>\n",
       "      <td>(41.999, 70.0]</td>\n",
       "      <td>1</td>\n",
       "    </tr>\n",
       "    <tr>\n",
       "      <th>2361</th>\n",
       "      <td>2036</td>\n",
       "      <td>Zotter</td>\n",
       "      <td>Austria</td>\n",
       "      <td>2018</td>\n",
       "      <td>Blend</td>\n",
       "      <td>Dry Aged  30 yr Anniversary bar</td>\n",
       "      <td>75.0</td>\n",
       "      <td>3  B S C</td>\n",
       "      <td>fatty  earthy  cocoa</td>\n",
       "      <td>3.00</td>\n",
       "      <td>c</td>\n",
       "      <td>(70.0, 100.0]</td>\n",
       "      <td>1</td>\n",
       "    </tr>\n",
       "  </tbody>\n",
       "</table>\n",
       "<p>2362 rows × 13 columns</p>\n",
       "</div>"
      ],
      "text/plain": [
       "       ref company_manufacturer company_location  review_date  \\\n",
       "0     2454                 5150           U.S.A.         2019   \n",
       "1     2458                 5150           U.S.A.         2019   \n",
       "2     2454                 5150           U.S.A.         2019   \n",
       "3      797             A. Morin           France         2012   \n",
       "4      797             A. Morin           France         2012   \n",
       "...    ...                  ...              ...          ...   \n",
       "2357  1205               Zotter          Austria         2014   \n",
       "2358  1996               Zotter          Austria         2017   \n",
       "2359  2170               Zotter          Austria         2018   \n",
       "2360  2170               Zotter          Austria         2018   \n",
       "2361  2036               Zotter          Austria         2018   \n",
       "\n",
       "     country_of_bean_origin specific_bean_origin_or_bar_name  cocoa_percent  \\\n",
       "0                Madagascar           Bejofo Estate  batch 1           76.0   \n",
       "1        Dominican Republic                  Zorzal  batch 1           76.0   \n",
       "2                  Tanzania            Kokoa Kamili  batch 1           76.0   \n",
       "3                      Peru                             Peru           63.0   \n",
       "4                   Bolivia                          Bolivia           70.0   \n",
       "...                     ...                              ...            ...   \n",
       "2357                  Blend                              Raw           80.0   \n",
       "2358               Colombia                 APROCAFA  Acandi           75.0   \n",
       "2359                 Belize                         Maya Mtn           72.0   \n",
       "2360                  Congo            Mountains of the Moon           70.0   \n",
       "2361                  Blend  Dry Aged  30 yr Anniversary bar           75.0   \n",
       "\n",
       "       ingredients most_memorable_characteristics  rating review_date_bin  \\\n",
       "0         3  B S C   cocoa  blackberry  full body    3.75               b   \n",
       "1         3  B S C         cocoa  vegetal  savory    3.50               b   \n",
       "2         3  B S C      rich cocoa  fatty  bready    3.25               b   \n",
       "3       4  B S C L          fruity  melon  roasty    3.75               b   \n",
       "4       4  B S C L                 vegetal  nutty    3.50               b   \n",
       "...            ...                            ...     ...             ...   \n",
       "2357  4  B S* C Sa         waxy  cloying  vegetal    2.75               c   \n",
       "2358      3  B S C      strong nutty  marshmallow    3.75               a   \n",
       "2359      3  B S C      muted  roasty  accessible    3.50               c   \n",
       "2360      3  B S C   fatty  mild nuts  mild fruit    3.25               c   \n",
       "2361      3  B S C           fatty  earthy  cocoa    3.00               c   \n",
       "\n",
       "        cocoa_bucket  rating_class  \n",
       "0      (70.0, 100.0]             1  \n",
       "1      (70.0, 100.0]             1  \n",
       "2      (70.0, 100.0]             1  \n",
       "3     (41.999, 70.0]             1  \n",
       "4     (41.999, 70.0]             1  \n",
       "...              ...           ...  \n",
       "2357   (70.0, 100.0]             0  \n",
       "2358   (70.0, 100.0]             1  \n",
       "2359   (70.0, 100.0]             1  \n",
       "2360  (41.999, 70.0]             1  \n",
       "2361   (70.0, 100.0]             1  \n",
       "\n",
       "[2362 rows x 13 columns]"
      ]
     },
     "execution_count": 25,
     "metadata": {},
     "output_type": "execute_result"
    }
   ],
   "source": [
    "df"
   ]
  },
  {
   "cell_type": "markdown",
   "metadata": {},
   "source": [
    "### comparing cocoa bucket with rating class ###"
   ]
  },
  {
   "cell_type": "code",
   "execution_count": 26,
   "metadata": {},
   "outputs": [],
   "source": [
    "import seaborn as sns"
   ]
  },
  {
   "cell_type": "code",
   "execution_count": 27,
   "metadata": {},
   "outputs": [
    {
     "data": {
      "image/png": "[encoded data removed]",
      "text/plain": [
       "<Figure size 864x432 with 1 Axes>"
      ]
     },
     "metadata": {
      "needs_background": "light"
     },
     "output_type": "display_data"
    }
   ],
   "source": [
    "fig, ax = plt.subplots(figsize = (12,6))\n",
    "sns.countplot(x='cocoa_bucket',data=df, hue='rating_class', ax=ax)\n",
    "\n",
    "plt.xlabel('Range of Cocoa Percentage', fontsize=16)\n",
    "plt.ylabel('Total Number of Chocolate Bars', fontsize=16)\n",
    "plt.title('Cocoa Percentage Reltionship with Rating', fontsize=25);"
   ]
  },
  {
   "cell_type": "markdown",
   "metadata": {},
   "source": [
    "the X-label indicates the range of cocoa percentage \n",
    "the Y-label indicated the number of times each cocoa percentage\n",
    "the Hue indicates 1 as a High Rating and 0 as a Low Rating\n"
   ]
  },
  {
   "cell_type": "markdown",
   "metadata": {},
   "source": [
    "### Country of Bean Origin ###"
   ]
  },
  {
   "cell_type": "code",
   "execution_count": 28,
   "metadata": {},
   "outputs": [
    {
     "data": {
      "text/plain": [
       "Venezuela              246\n",
       "Peru                   223\n",
       "Ecuador                216\n",
       "Dominican Republic     211\n",
       "Madagascar             168\n",
       "                      ... \n",
       "Sumatra                  1\n",
       "Burma                    1\n",
       "Sulawesi                 1\n",
       "Sao Tome & Principe      1\n",
       "Suriname                 1\n",
       "Name: country_of_bean_origin, Length: 61, dtype: int64"
      ]
     },
     "execution_count": 28,
     "metadata": {},
     "output_type": "execute_result"
    }
   ],
   "source": [
    "df['country_of_bean_origin'].value_counts()"
   ]
  },
  {
   "cell_type": "code",
   "execution_count": 29,
   "metadata": {},
   "outputs": [],
   "source": [
    "#country bean origin and rating\n",
    "average_ratings_bean_origin = df.groupby('country_of_bean_origin')['rating'].mean().sort_values().to_dict()\n"
   ]
  },
  {
   "cell_type": "code",
   "execution_count": 30,
   "metadata": {},
   "outputs": [],
   "source": [
    "bean_origin_counts = df['country_of_bean_origin'].value_counts(normalize=True).to_dict()"
   ]
  },
  {
   "cell_type": "code",
   "execution_count": 31,
   "metadata": {},
   "outputs": [
    {
     "data": {
      "image/png": "[encoded data removed]",
      "text/plain": [
       "<Figure size 1080x432 with 1 Axes>"
      ]
     },
     "metadata": {
      "needs_background": "light"
     },
     "output_type": "display_data"
    }
   ],
   "source": [
    "import matplotlib.pyplot as plt\n",
    "bean_origin = df.country_of_bean_origin.unique()\n",
    "weighted_rating = []\n",
    "for bean in bean_origin:\n",
    "    count = bean_origin_counts[bean]\n",
    "    rating = average_ratings_bean_origin[bean]\n",
    "    weighted_rating.append(count * rating)\n",
    "    \n",
    "sorted_vals = sorted(list(zip(weighted_rating, bean_origin)))\n",
    "x = [val[1] for val in sorted_vals]\n",
    "y = [val[0] for val in sorted_vals]\n",
    "\n",
    "plt.figure(figsize=(15,6))\n",
    "plt.bar(x, y)\n",
    "plt.xticks(rotation=90);"
   ]
  },
  {
   "cell_type": "markdown",
   "metadata": {},
   "source": [
    "This visual of country bean of origin is pretty streamline. Background knowledge of chocolate beans is that that it likes to grow in a hot environment which lines up with the graph above. Venezuela as a bean origin is the highest. I am going to do 5 different groups including: the very low countries of Martinique to Solomon Islands and then there is a handful of countries that produce beans but do not provide an average of high rankings which are the countries of Congo to Guatemala, then there seems to be another small raise in rankings from Columbia to Nicaragua and the final grouping of the highest ranking average of bean origins seems to be from Blend to Venezuela. With these combinations I am going to create bins to group the origins together by average increase of ranking averages."
   ]
  },
  {
   "cell_type": "code",
   "execution_count": 32,
   "metadata": {},
   "outputs": [
    {
     "data": {
      "text/plain": [
       "['Martinique',\n",
       " 'Principe',\n",
       " 'St.Vincent Grenadines',\n",
       " 'Burma',\n",
       " 'DR Congo',\n",
       " 'Sumatra',\n",
       " 'Gabon',\n",
       " 'Sulawesi',\n",
       " 'Suriname',\n",
       " 'Sao Tome & Principe',\n",
       " 'Sri Lanka',\n",
       " 'Taiwan',\n",
       " 'Tobago',\n",
       " 'Nigeria',\n",
       " 'Cameroon',\n",
       " 'Liberia',\n",
       " 'Samoa',\n",
       " 'Togo',\n",
       " 'Australia',\n",
       " 'Sierra Leone',\n",
       " 'Puerto Rico',\n",
       " 'Thailand',\n",
       " 'Ivory Coast',\n",
       " 'El Salvador',\n",
       " 'Malaysia',\n",
       " 'Panama',\n",
       " 'St. Lucia',\n",
       " 'Solomon Islands']"
      ]
     },
     "execution_count": 32,
     "metadata": {},
     "output_type": "execute_result"
    }
   ],
   "source": [
    "#first bin from Martinique to Solomon Islands\n",
    "first_bin_origin = x[:28]\n",
    "first_bin_origin"
   ]
  },
  {
   "cell_type": "code",
   "execution_count": 33,
   "metadata": {},
   "outputs": [
    {
     "data": {
      "text/plain": [
       "True"
      ]
     },
     "execution_count": 33,
     "metadata": {},
     "output_type": "execute_result"
    }
   ],
   "source": [
    "'Guatemala' in x"
   ]
  },
  {
   "cell_type": "code",
   "execution_count": 34,
   "metadata": {},
   "outputs": [],
   "source": [
    "df['bean_origin_bin'] = 1\n",
    "bin_a_index = df[df.country_of_bean_origin.isin(first_bin_origin)].index\n",
    "df.at[bin_a_index, 'bean_origin_bin'] = 'a'"
   ]
  },
  {
   "cell_type": "code",
   "execution_count": 35,
   "metadata": {},
   "outputs": [],
   "source": [
    "#second to Guatemala\n",
    "idx = x.index('Guatemala') + 1\n",
    "second_bin_origin = x[28:idx]\n",
    "bin_b_index = df[df.country_of_bean_origin.isin(second_bin_origin)].index\n",
    "df.at[bin_b_index, 'bean_origin_bin'] = 'b'"
   ]
  },
  {
   "cell_type": "code",
   "execution_count": 36,
   "metadata": {},
   "outputs": [],
   "source": [
    "#third to Nicaragua\n",
    "idx2 = x.index('Nicaragua')+1\n",
    "third_bin_origin = x[idx:idx2]\n",
    "bin_c_index = df[df.country_of_bean_origin.isin(third_bin_origin)].index\n",
    "df.at[bin_c_index, 'bean_origin_bin'] = 'c'"
   ]
  },
  {
   "cell_type": "code",
   "execution_count": 37,
   "metadata": {},
   "outputs": [],
   "source": [
    "#fourth to Venezuela\n",
    "idx3 = x.index('Blend')\n",
    "fourth_bin_origin = x[idx3:]\n",
    "bin_d_index = df[df.country_of_bean_origin.isin(fourth_bin_origin)].index\n",
    "df.at[bin_d_index, 'bean_origin_bin'] = 'd'"
   ]
  },
  {
   "cell_type": "code",
   "execution_count": 38,
   "metadata": {},
   "outputs": [
    {
     "data": {
      "text/plain": [
       "d    1216\n",
       "b     532\n",
       "c     518\n",
       "a      96\n",
       "Name: bean_origin_bin, dtype: int64"
      ]
     },
     "execution_count": 38,
     "metadata": {},
     "output_type": "execute_result"
    }
   ],
   "source": [
    "df['bean_origin_bin'].value_counts()"
   ]
  },
  {
   "cell_type": "code",
   "execution_count": 39,
   "metadata": {},
   "outputs": [
    {
     "data": {
      "text/html": [
       "<div>\n",
       "<style scoped>\n",
       "    .dataframe tbody tr th:only-of-type {\n",
       "        vertical-align: middle;\n",
       "    }\n",
       "\n",
       "    .dataframe tbody tr th {\n",
       "        vertical-align: top;\n",
       "    }\n",
       "\n",
       "    .dataframe thead th {\n",
       "        text-align: right;\n",
       "    }\n",
       "</style>\n",
       "<table border=\"1\" class=\"dataframe\">\n",
       "  <thead>\n",
       "    <tr style=\"text-align: right;\">\n",
       "      <th></th>\n",
       "      <th>ref</th>\n",
       "      <th>company_manufacturer</th>\n",
       "      <th>company_location</th>\n",
       "      <th>review_date</th>\n",
       "      <th>country_of_bean_origin</th>\n",
       "      <th>specific_bean_origin_or_bar_name</th>\n",
       "      <th>cocoa_percent</th>\n",
       "      <th>ingredients</th>\n",
       "      <th>most_memorable_characteristics</th>\n",
       "      <th>rating</th>\n",
       "      <th>review_date_bin</th>\n",
       "      <th>cocoa_bucket</th>\n",
       "      <th>rating_class</th>\n",
       "      <th>bean_origin_bin</th>\n",
       "    </tr>\n",
       "  </thead>\n",
       "  <tbody>\n",
       "    <tr>\n",
       "      <th>0</th>\n",
       "      <td>2454</td>\n",
       "      <td>5150</td>\n",
       "      <td>U.S.A.</td>\n",
       "      <td>2019</td>\n",
       "      <td>Madagascar</td>\n",
       "      <td>Bejofo Estate  batch 1</td>\n",
       "      <td>76.0</td>\n",
       "      <td>3  B S C</td>\n",
       "      <td>cocoa  blackberry  full body</td>\n",
       "      <td>3.75</td>\n",
       "      <td>b</td>\n",
       "      <td>(70.0, 100.0]</td>\n",
       "      <td>1</td>\n",
       "      <td>d</td>\n",
       "    </tr>\n",
       "    <tr>\n",
       "      <th>1</th>\n",
       "      <td>2458</td>\n",
       "      <td>5150</td>\n",
       "      <td>U.S.A.</td>\n",
       "      <td>2019</td>\n",
       "      <td>Dominican Republic</td>\n",
       "      <td>Zorzal  batch 1</td>\n",
       "      <td>76.0</td>\n",
       "      <td>3  B S C</td>\n",
       "      <td>cocoa  vegetal  savory</td>\n",
       "      <td>3.50</td>\n",
       "      <td>b</td>\n",
       "      <td>(70.0, 100.0]</td>\n",
       "      <td>1</td>\n",
       "      <td>d</td>\n",
       "    </tr>\n",
       "    <tr>\n",
       "      <th>2</th>\n",
       "      <td>2454</td>\n",
       "      <td>5150</td>\n",
       "      <td>U.S.A.</td>\n",
       "      <td>2019</td>\n",
       "      <td>Tanzania</td>\n",
       "      <td>Kokoa Kamili  batch 1</td>\n",
       "      <td>76.0</td>\n",
       "      <td>3  B S C</td>\n",
       "      <td>rich cocoa  fatty  bready</td>\n",
       "      <td>3.25</td>\n",
       "      <td>b</td>\n",
       "      <td>(70.0, 100.0]</td>\n",
       "      <td>1</td>\n",
       "      <td>c</td>\n",
       "    </tr>\n",
       "    <tr>\n",
       "      <th>3</th>\n",
       "      <td>797</td>\n",
       "      <td>A. Morin</td>\n",
       "      <td>France</td>\n",
       "      <td>2012</td>\n",
       "      <td>Peru</td>\n",
       "      <td>Peru</td>\n",
       "      <td>63.0</td>\n",
       "      <td>4  B S C L</td>\n",
       "      <td>fruity  melon  roasty</td>\n",
       "      <td>3.75</td>\n",
       "      <td>b</td>\n",
       "      <td>(41.999, 70.0]</td>\n",
       "      <td>1</td>\n",
       "      <td>d</td>\n",
       "    </tr>\n",
       "    <tr>\n",
       "      <th>4</th>\n",
       "      <td>797</td>\n",
       "      <td>A. Morin</td>\n",
       "      <td>France</td>\n",
       "      <td>2012</td>\n",
       "      <td>Bolivia</td>\n",
       "      <td>Bolivia</td>\n",
       "      <td>70.0</td>\n",
       "      <td>4  B S C L</td>\n",
       "      <td>vegetal  nutty</td>\n",
       "      <td>3.50</td>\n",
       "      <td>b</td>\n",
       "      <td>(41.999, 70.0]</td>\n",
       "      <td>1</td>\n",
       "      <td>c</td>\n",
       "    </tr>\n",
       "    <tr>\n",
       "      <th>...</th>\n",
       "      <td>...</td>\n",
       "      <td>...</td>\n",
       "      <td>...</td>\n",
       "      <td>...</td>\n",
       "      <td>...</td>\n",
       "      <td>...</td>\n",
       "      <td>...</td>\n",
       "      <td>...</td>\n",
       "      <td>...</td>\n",
       "      <td>...</td>\n",
       "      <td>...</td>\n",
       "      <td>...</td>\n",
       "      <td>...</td>\n",
       "      <td>...</td>\n",
       "    </tr>\n",
       "    <tr>\n",
       "      <th>2357</th>\n",
       "      <td>1205</td>\n",
       "      <td>Zotter</td>\n",
       "      <td>Austria</td>\n",
       "      <td>2014</td>\n",
       "      <td>Blend</td>\n",
       "      <td>Raw</td>\n",
       "      <td>80.0</td>\n",
       "      <td>4  B S* C Sa</td>\n",
       "      <td>waxy  cloying  vegetal</td>\n",
       "      <td>2.75</td>\n",
       "      <td>c</td>\n",
       "      <td>(70.0, 100.0]</td>\n",
       "      <td>0</td>\n",
       "      <td>d</td>\n",
       "    </tr>\n",
       "    <tr>\n",
       "      <th>2358</th>\n",
       "      <td>1996</td>\n",
       "      <td>Zotter</td>\n",
       "      <td>Austria</td>\n",
       "      <td>2017</td>\n",
       "      <td>Colombia</td>\n",
       "      <td>APROCAFA  Acandi</td>\n",
       "      <td>75.0</td>\n",
       "      <td>3  B S C</td>\n",
       "      <td>strong nutty  marshmallow</td>\n",
       "      <td>3.75</td>\n",
       "      <td>a</td>\n",
       "      <td>(70.0, 100.0]</td>\n",
       "      <td>1</td>\n",
       "      <td>c</td>\n",
       "    </tr>\n",
       "    <tr>\n",
       "      <th>2359</th>\n",
       "      <td>2170</td>\n",
       "      <td>Zotter</td>\n",
       "      <td>Austria</td>\n",
       "      <td>2018</td>\n",
       "      <td>Belize</td>\n",
       "      <td>Maya Mtn</td>\n",
       "      <td>72.0</td>\n",
       "      <td>3  B S C</td>\n",
       "      <td>muted  roasty  accessible</td>\n",
       "      <td>3.50</td>\n",
       "      <td>c</td>\n",
       "      <td>(70.0, 100.0]</td>\n",
       "      <td>1</td>\n",
       "      <td>c</td>\n",
       "    </tr>\n",
       "    <tr>\n",
       "      <th>2360</th>\n",
       "      <td>2170</td>\n",
       "      <td>Zotter</td>\n",
       "      <td>Austria</td>\n",
       "      <td>2018</td>\n",
       "      <td>Congo</td>\n",
       "      <td>Mountains of the Moon</td>\n",
       "      <td>70.0</td>\n",
       "      <td>3  B S C</td>\n",
       "      <td>fatty  mild nuts  mild fruit</td>\n",
       "      <td>3.25</td>\n",
       "      <td>c</td>\n",
       "      <td>(41.999, 70.0]</td>\n",
       "      <td>1</td>\n",
       "      <td>b</td>\n",
       "    </tr>\n",
       "    <tr>\n",
       "      <th>2361</th>\n",
       "      <td>2036</td>\n",
       "      <td>Zotter</td>\n",
       "      <td>Austria</td>\n",
       "      <td>2018</td>\n",
       "      <td>Blend</td>\n",
       "      <td>Dry Aged  30 yr Anniversary bar</td>\n",
       "      <td>75.0</td>\n",
       "      <td>3  B S C</td>\n",
       "      <td>fatty  earthy  cocoa</td>\n",
       "      <td>3.00</td>\n",
       "      <td>c</td>\n",
       "      <td>(70.0, 100.0]</td>\n",
       "      <td>1</td>\n",
       "      <td>d</td>\n",
       "    </tr>\n",
       "  </tbody>\n",
       "</table>\n",
       "<p>2362 rows × 14 columns</p>\n",
       "</div>"
      ],
      "text/plain": [
       "       ref company_manufacturer company_location  review_date  \\\n",
       "0     2454                 5150           U.S.A.         2019   \n",
       "1     2458                 5150           U.S.A.         2019   \n",
       "2     2454                 5150           U.S.A.         2019   \n",
       "3      797             A. Morin           France         2012   \n",
       "4      797             A. Morin           France         2012   \n",
       "...    ...                  ...              ...          ...   \n",
       "2357  1205               Zotter          Austria         2014   \n",
       "2358  1996               Zotter          Austria         2017   \n",
       "2359  2170               Zotter          Austria         2018   \n",
       "2360  2170               Zotter          Austria         2018   \n",
       "2361  2036               Zotter          Austria         2018   \n",
       "\n",
       "     country_of_bean_origin specific_bean_origin_or_bar_name  cocoa_percent  \\\n",
       "0                Madagascar           Bejofo Estate  batch 1           76.0   \n",
       "1        Dominican Republic                  Zorzal  batch 1           76.0   \n",
       "2                  Tanzania            Kokoa Kamili  batch 1           76.0   \n",
       "3                      Peru                             Peru           63.0   \n",
       "4                   Bolivia                          Bolivia           70.0   \n",
       "...                     ...                              ...            ...   \n",
       "2357                  Blend                              Raw           80.0   \n",
       "2358               Colombia                 APROCAFA  Acandi           75.0   \n",
       "2359                 Belize                         Maya Mtn           72.0   \n",
       "2360                  Congo            Mountains of the Moon           70.0   \n",
       "2361                  Blend  Dry Aged  30 yr Anniversary bar           75.0   \n",
       "\n",
       "       ingredients most_memorable_characteristics  rating review_date_bin  \\\n",
       "0         3  B S C   cocoa  blackberry  full body    3.75               b   \n",
       "1         3  B S C         cocoa  vegetal  savory    3.50               b   \n",
       "2         3  B S C      rich cocoa  fatty  bready    3.25               b   \n",
       "3       4  B S C L          fruity  melon  roasty    3.75               b   \n",
       "4       4  B S C L                 vegetal  nutty    3.50               b   \n",
       "...            ...                            ...     ...             ...   \n",
       "2357  4  B S* C Sa         waxy  cloying  vegetal    2.75               c   \n",
       "2358      3  B S C      strong nutty  marshmallow    3.75               a   \n",
       "2359      3  B S C      muted  roasty  accessible    3.50               c   \n",
       "2360      3  B S C   fatty  mild nuts  mild fruit    3.25               c   \n",
       "2361      3  B S C           fatty  earthy  cocoa    3.00               c   \n",
       "\n",
       "        cocoa_bucket  rating_class bean_origin_bin  \n",
       "0      (70.0, 100.0]             1               d  \n",
       "1      (70.0, 100.0]             1               d  \n",
       "2      (70.0, 100.0]             1               c  \n",
       "3     (41.999, 70.0]             1               d  \n",
       "4     (41.999, 70.0]             1               c  \n",
       "...              ...           ...             ...  \n",
       "2357   (70.0, 100.0]             0               d  \n",
       "2358   (70.0, 100.0]             1               c  \n",
       "2359   (70.0, 100.0]             1               c  \n",
       "2360  (41.999, 70.0]             1               b  \n",
       "2361   (70.0, 100.0]             1               d  \n",
       "\n",
       "[2362 rows x 14 columns]"
      ]
     },
     "execution_count": 39,
     "metadata": {},
     "output_type": "execute_result"
    }
   ],
   "source": [
    "df"
   ]
  },
  {
   "cell_type": "markdown",
   "metadata": {},
   "source": [
    "### specific bean origin or bar name ###"
   ]
  },
  {
   "cell_type": "code",
   "execution_count": 40,
   "metadata": {},
   "outputs": [
    {
     "data": {
      "text/plain": [
       "Madagascar                       55\n",
       "Ecuador                          43\n",
       "Peru                             40\n",
       "Dominican Republic               37\n",
       "Chuao                            25\n",
       "                                 ..\n",
       "Maya Mtn  Batch 454  Heirloom     1\n",
       "Marcial  single Cote  2012        1\n",
       "Akessons  Sambirano Valley        1\n",
       "Diego/ original micro             1\n",
       "Congo  Gorilla bar                1\n",
       "Name: specific_bean_origin_or_bar_name, Length: 1475, dtype: int64"
      ]
     },
     "execution_count": 40,
     "metadata": {},
     "output_type": "execute_result"
    }
   ],
   "source": [
    "df['specific_bean_origin_or_bar_name'].value_counts()"
   ]
  },
  {
   "cell_type": "code",
   "execution_count": 41,
   "metadata": {},
   "outputs": [],
   "source": [
    "#specific bean origin bar name and rating\n",
    "average_ratings_bean_origin_bar_name = df.groupby('specific_bean_origin_or_bar_name')['rating'].mean().sort_values().to_dict()"
   ]
  },
  {
   "cell_type": "code",
   "execution_count": 42,
   "metadata": {},
   "outputs": [],
   "source": [
    "bean_origin_bar_name_counts = df['specific_bean_origin_or_bar_name'].value_counts(normalize=True).to_dict()"
   ]
  },
  {
   "cell_type": "code",
   "execution_count": 43,
   "metadata": {},
   "outputs": [
    {
     "data": {
      "image/png": "[encoded data removed]",
      "text/plain": [
       "<Figure size 1080x432 with 1 Axes>"
      ]
     },
     "metadata": {
      "needs_background": "light"
     },
     "output_type": "display_data"
    }
   ],
   "source": [
    "import matplotlib.pyplot as plt\n",
    "origin_bar = df.specific_bean_origin_or_bar_name.unique()\n",
    "weighted_rating = []\n",
    "for origin in origin_bar:\n",
    "    count = bean_origin_bar_name_counts[origin]\n",
    "    rating = average_ratings_bean_origin_bar_name[origin]\n",
    "    weighted_rating.append(count * rating)\n",
    "    \n",
    "sorted_vals = sorted(list(zip(weighted_rating, origin_bar)))\n",
    "x = [val[1] for val in sorted_vals]\n",
    "y = [val[0] for val in sorted_vals]\n",
    "\n",
    "plt.figure(figsize=(15,6))\n",
    "plt.bar(x, y)\n",
    "plt.xticks(rotation=90);"
   ]
  },
  {
   "cell_type": "markdown",
   "metadata": {},
   "source": [
    "This is obviously a hot mess!!! This graph is showing where the bean origins are specifically showing where they are being made given the specific bar name. This is a lot of information and it is not extremely necessary to look at the specific areas within the country that the specific chocolate bars are being made. The specific data points are producing different ways the information is given and how specific the information is. Some of the points just repeat the country and do not give more details, others go super specific and give the bar name and even what batch it was in, others give the batch it was in and then follow by the bar name. This column is very unorganized and it is not necessarily worth it to go through and spend the time cleaning it. Decision has been made to drop the column"
   ]
  },
  {
   "cell_type": "markdown",
   "metadata": {},
   "source": [
    "### company_(manufacturer) ###"
   ]
  },
  {
   "cell_type": "code",
   "execution_count": 44,
   "metadata": {},
   "outputs": [
    {
     "data": {
      "text/plain": [
       "Soma             52\n",
       "Arete            32\n",
       "Fresco           31\n",
       "Bonnat           29\n",
       "Pralus           25\n",
       "                 ..\n",
       "Pinellas          1\n",
       "The Barn          1\n",
       "Lilla             1\n",
       "Luisa's Vegan     1\n",
       "Tree to Bar       1\n",
       "Name: company_manufacturer, Length: 552, dtype: int64"
      ]
     },
     "execution_count": 44,
     "metadata": {},
     "output_type": "execute_result"
    }
   ],
   "source": [
    "df['company_manufacturer'].value_counts()"
   ]
  },
  {
   "cell_type": "code",
   "execution_count": 45,
   "metadata": {},
   "outputs": [],
   "source": [
    "#company manufacturer and rating\n",
    "average_ratings_company_manufacturer = df.groupby('company_manufacturer')['rating'].mean().sort_values().to_dict()"
   ]
  },
  {
   "cell_type": "code",
   "execution_count": 46,
   "metadata": {},
   "outputs": [],
   "source": [
    "company_manudacturer_counts = df['company_manufacturer'].value_counts(normalize=True).to_dict()"
   ]
  },
  {
   "cell_type": "code",
   "execution_count": 47,
   "metadata": {},
   "outputs": [
    {
     "data": {
      "text/plain": [
       "Soma             52\n",
       "Arete            32\n",
       "Fresco           31\n",
       "Bonnat           29\n",
       "Pralus           25\n",
       "                 ..\n",
       "Pinellas          1\n",
       "The Barn          1\n",
       "Lilla             1\n",
       "Luisa's Vegan     1\n",
       "Tree to Bar       1\n",
       "Name: company_manufacturer, Length: 552, dtype: int64"
      ]
     },
     "execution_count": 47,
     "metadata": {},
     "output_type": "execute_result"
    }
   ],
   "source": [
    "df['company_manufacturer'].value_counts()"
   ]
  },
  {
   "cell_type": "code",
   "execution_count": 48,
   "metadata": {},
   "outputs": [
    {
     "data": {
      "image/png": "[encoded data removed]",
      "text/plain": [
       "<Figure size 1080x432 with 1 Axes>"
      ]
     },
     "metadata": {
      "needs_background": "light"
     },
     "output_type": "display_data"
    }
   ],
   "source": [
    "import matplotlib.pyplot as plt\n",
    "comp_manufacturer = df['company_manufacturer'].unique()\n",
    "weighted_rating = []\n",
    "for comp in comp_manufacturer:\n",
    "    count = company_manudacturer_counts[comp]\n",
    "    rating = average_ratings_company_manufacturer[comp]\n",
    "    weighted_rating.append(count * rating)\n",
    "    \n",
    "sorted_vals = sorted(list(zip(weighted_rating, comp_manufacturer)))\n",
    "x = [val[1] for val in sorted_vals]\n",
    "y = [val[0] for val in sorted_vals]\n",
    "\n",
    "plt.figure(figsize=(15,6))\n",
    "plt.bar(x, y)\n",
    "plt.xticks(rotation=90);"
   ]
  },
  {
   "cell_type": "code",
   "execution_count": 49,
   "metadata": {},
   "outputs": [],
   "source": [
    "df['comp_manufact_bin'] = 1"
   ]
  },
  {
   "cell_type": "code",
   "execution_count": 50,
   "metadata": {},
   "outputs": [],
   "source": [
    "first_bin = x[:200]\n",
    "\n",
    "\n",
    "bin_a_index = df[df.company_manufacturer.isin(first_bin)].index\n",
    "df.at[bin_a_index, 'comp_manufact_bin'] = 'a'"
   ]
  },
  {
   "cell_type": "code",
   "execution_count": 51,
   "metadata": {},
   "outputs": [],
   "source": [
    "second_bin = x[200:350]\n",
    "\n",
    "bin_b_index = df[df.company_manufacturer.isin(second_bin)].index\n",
    "df.at[bin_b_index, 'comp_manufact_bin'] = 'b'"
   ]
  },
  {
   "cell_type": "code",
   "execution_count": 52,
   "metadata": {},
   "outputs": [],
   "source": [
    "third_bin = x[350:451]\n",
    "\n",
    "bin_c_index = df[df.company_manufacturer.isin(third_bin)].index\n",
    "df.at[bin_c_index, 'comp_manufact_bin'] = 'c'"
   ]
  },
  {
   "cell_type": "code",
   "execution_count": 53,
   "metadata": {},
   "outputs": [],
   "source": [
    "fourth_bin = x[451:]\n",
    "\n",
    "bin_d_index = df[df.company_manufacturer.isin(fourth_bin)].index\n",
    "df.at[bin_d_index, 'comp_manufact_bin'] = 'd'"
   ]
  },
  {
   "cell_type": "code",
   "execution_count": 54,
   "metadata": {},
   "outputs": [
    {
     "data": {
      "text/plain": [
       "d    1206\n",
       "c     485\n",
       "b     422\n",
       "a     249\n",
       "Name: comp_manufact_bin, dtype: int64"
      ]
     },
     "execution_count": 54,
     "metadata": {},
     "output_type": "execute_result"
    }
   ],
   "source": [
    "df.comp_manufact_bin.value_counts()"
   ]
  },
  {
   "cell_type": "code",
   "execution_count": 55,
   "metadata": {},
   "outputs": [
    {
     "data": {
      "text/html": [
       "<div>\n",
       "<style scoped>\n",
       "    .dataframe tbody tr th:only-of-type {\n",
       "        vertical-align: middle;\n",
       "    }\n",
       "\n",
       "    .dataframe tbody tr th {\n",
       "        vertical-align: top;\n",
       "    }\n",
       "\n",
       "    .dataframe thead th {\n",
       "        text-align: right;\n",
       "    }\n",
       "</style>\n",
       "<table border=\"1\" class=\"dataframe\">\n",
       "  <thead>\n",
       "    <tr style=\"text-align: right;\">\n",
       "      <th></th>\n",
       "      <th>ref</th>\n",
       "      <th>company_manufacturer</th>\n",
       "      <th>company_location</th>\n",
       "      <th>review_date</th>\n",
       "      <th>country_of_bean_origin</th>\n",
       "      <th>specific_bean_origin_or_bar_name</th>\n",
       "      <th>cocoa_percent</th>\n",
       "      <th>ingredients</th>\n",
       "      <th>most_memorable_characteristics</th>\n",
       "      <th>rating</th>\n",
       "      <th>review_date_bin</th>\n",
       "      <th>cocoa_bucket</th>\n",
       "      <th>rating_class</th>\n",
       "      <th>bean_origin_bin</th>\n",
       "      <th>comp_manufact_bin</th>\n",
       "    </tr>\n",
       "  </thead>\n",
       "  <tbody>\n",
       "    <tr>\n",
       "      <th>0</th>\n",
       "      <td>2454</td>\n",
       "      <td>5150</td>\n",
       "      <td>U.S.A.</td>\n",
       "      <td>2019</td>\n",
       "      <td>Madagascar</td>\n",
       "      <td>Bejofo Estate  batch 1</td>\n",
       "      <td>76.0</td>\n",
       "      <td>3  B S C</td>\n",
       "      <td>cocoa  blackberry  full body</td>\n",
       "      <td>3.75</td>\n",
       "      <td>b</td>\n",
       "      <td>(70.0, 100.0]</td>\n",
       "      <td>1</td>\n",
       "      <td>d</td>\n",
       "      <td>b</td>\n",
       "    </tr>\n",
       "    <tr>\n",
       "      <th>1</th>\n",
       "      <td>2458</td>\n",
       "      <td>5150</td>\n",
       "      <td>U.S.A.</td>\n",
       "      <td>2019</td>\n",
       "      <td>Dominican Republic</td>\n",
       "      <td>Zorzal  batch 1</td>\n",
       "      <td>76.0</td>\n",
       "      <td>3  B S C</td>\n",
       "      <td>cocoa  vegetal  savory</td>\n",
       "      <td>3.50</td>\n",
       "      <td>b</td>\n",
       "      <td>(70.0, 100.0]</td>\n",
       "      <td>1</td>\n",
       "      <td>d</td>\n",
       "      <td>b</td>\n",
       "    </tr>\n",
       "    <tr>\n",
       "      <th>2</th>\n",
       "      <td>2454</td>\n",
       "      <td>5150</td>\n",
       "      <td>U.S.A.</td>\n",
       "      <td>2019</td>\n",
       "      <td>Tanzania</td>\n",
       "      <td>Kokoa Kamili  batch 1</td>\n",
       "      <td>76.0</td>\n",
       "      <td>3  B S C</td>\n",
       "      <td>rich cocoa  fatty  bready</td>\n",
       "      <td>3.25</td>\n",
       "      <td>b</td>\n",
       "      <td>(70.0, 100.0]</td>\n",
       "      <td>1</td>\n",
       "      <td>c</td>\n",
       "      <td>b</td>\n",
       "    </tr>\n",
       "    <tr>\n",
       "      <th>3</th>\n",
       "      <td>797</td>\n",
       "      <td>A. Morin</td>\n",
       "      <td>France</td>\n",
       "      <td>2012</td>\n",
       "      <td>Peru</td>\n",
       "      <td>Peru</td>\n",
       "      <td>63.0</td>\n",
       "      <td>4  B S C L</td>\n",
       "      <td>fruity  melon  roasty</td>\n",
       "      <td>3.75</td>\n",
       "      <td>b</td>\n",
       "      <td>(41.999, 70.0]</td>\n",
       "      <td>1</td>\n",
       "      <td>d</td>\n",
       "      <td>d</td>\n",
       "    </tr>\n",
       "    <tr>\n",
       "      <th>4</th>\n",
       "      <td>797</td>\n",
       "      <td>A. Morin</td>\n",
       "      <td>France</td>\n",
       "      <td>2012</td>\n",
       "      <td>Bolivia</td>\n",
       "      <td>Bolivia</td>\n",
       "      <td>70.0</td>\n",
       "      <td>4  B S C L</td>\n",
       "      <td>vegetal  nutty</td>\n",
       "      <td>3.50</td>\n",
       "      <td>b</td>\n",
       "      <td>(41.999, 70.0]</td>\n",
       "      <td>1</td>\n",
       "      <td>c</td>\n",
       "      <td>d</td>\n",
       "    </tr>\n",
       "    <tr>\n",
       "      <th>...</th>\n",
       "      <td>...</td>\n",
       "      <td>...</td>\n",
       "      <td>...</td>\n",
       "      <td>...</td>\n",
       "      <td>...</td>\n",
       "      <td>...</td>\n",
       "      <td>...</td>\n",
       "      <td>...</td>\n",
       "      <td>...</td>\n",
       "      <td>...</td>\n",
       "      <td>...</td>\n",
       "      <td>...</td>\n",
       "      <td>...</td>\n",
       "      <td>...</td>\n",
       "      <td>...</td>\n",
       "    </tr>\n",
       "    <tr>\n",
       "      <th>2357</th>\n",
       "      <td>1205</td>\n",
       "      <td>Zotter</td>\n",
       "      <td>Austria</td>\n",
       "      <td>2014</td>\n",
       "      <td>Blend</td>\n",
       "      <td>Raw</td>\n",
       "      <td>80.0</td>\n",
       "      <td>4  B S* C Sa</td>\n",
       "      <td>waxy  cloying  vegetal</td>\n",
       "      <td>2.75</td>\n",
       "      <td>c</td>\n",
       "      <td>(70.0, 100.0]</td>\n",
       "      <td>0</td>\n",
       "      <td>d</td>\n",
       "      <td>d</td>\n",
       "    </tr>\n",
       "    <tr>\n",
       "      <th>2358</th>\n",
       "      <td>1996</td>\n",
       "      <td>Zotter</td>\n",
       "      <td>Austria</td>\n",
       "      <td>2017</td>\n",
       "      <td>Colombia</td>\n",
       "      <td>APROCAFA  Acandi</td>\n",
       "      <td>75.0</td>\n",
       "      <td>3  B S C</td>\n",
       "      <td>strong nutty  marshmallow</td>\n",
       "      <td>3.75</td>\n",
       "      <td>a</td>\n",
       "      <td>(70.0, 100.0]</td>\n",
       "      <td>1</td>\n",
       "      <td>c</td>\n",
       "      <td>d</td>\n",
       "    </tr>\n",
       "    <tr>\n",
       "      <th>2359</th>\n",
       "      <td>2170</td>\n",
       "      <td>Zotter</td>\n",
       "      <td>Austria</td>\n",
       "      <td>2018</td>\n",
       "      <td>Belize</td>\n",
       "      <td>Maya Mtn</td>\n",
       "      <td>72.0</td>\n",
       "      <td>3  B S C</td>\n",
       "      <td>muted  roasty  accessible</td>\n",
       "      <td>3.50</td>\n",
       "      <td>c</td>\n",
       "      <td>(70.0, 100.0]</td>\n",
       "      <td>1</td>\n",
       "      <td>c</td>\n",
       "      <td>d</td>\n",
       "    </tr>\n",
       "    <tr>\n",
       "      <th>2360</th>\n",
       "      <td>2170</td>\n",
       "      <td>Zotter</td>\n",
       "      <td>Austria</td>\n",
       "      <td>2018</td>\n",
       "      <td>Congo</td>\n",
       "      <td>Mountains of the Moon</td>\n",
       "      <td>70.0</td>\n",
       "      <td>3  B S C</td>\n",
       "      <td>fatty  mild nuts  mild fruit</td>\n",
       "      <td>3.25</td>\n",
       "      <td>c</td>\n",
       "      <td>(41.999, 70.0]</td>\n",
       "      <td>1</td>\n",
       "      <td>b</td>\n",
       "      <td>d</td>\n",
       "    </tr>\n",
       "    <tr>\n",
       "      <th>2361</th>\n",
       "      <td>2036</td>\n",
       "      <td>Zotter</td>\n",
       "      <td>Austria</td>\n",
       "      <td>2018</td>\n",
       "      <td>Blend</td>\n",
       "      <td>Dry Aged  30 yr Anniversary bar</td>\n",
       "      <td>75.0</td>\n",
       "      <td>3  B S C</td>\n",
       "      <td>fatty  earthy  cocoa</td>\n",
       "      <td>3.00</td>\n",
       "      <td>c</td>\n",
       "      <td>(70.0, 100.0]</td>\n",
       "      <td>1</td>\n",
       "      <td>d</td>\n",
       "      <td>d</td>\n",
       "    </tr>\n",
       "  </tbody>\n",
       "</table>\n",
       "<p>2362 rows × 15 columns</p>\n",
       "</div>"
      ],
      "text/plain": [
       "       ref company_manufacturer company_location  review_date  \\\n",
       "0     2454                 5150           U.S.A.         2019   \n",
       "1     2458                 5150           U.S.A.         2019   \n",
       "2     2454                 5150           U.S.A.         2019   \n",
       "3      797             A. Morin           France         2012   \n",
       "4      797             A. Morin           France         2012   \n",
       "...    ...                  ...              ...          ...   \n",
       "2357  1205               Zotter          Austria         2014   \n",
       "2358  1996               Zotter          Austria         2017   \n",
       "2359  2170               Zotter          Austria         2018   \n",
       "2360  2170               Zotter          Austria         2018   \n",
       "2361  2036               Zotter          Austria         2018   \n",
       "\n",
       "     country_of_bean_origin specific_bean_origin_or_bar_name  cocoa_percent  \\\n",
       "0                Madagascar           Bejofo Estate  batch 1           76.0   \n",
       "1        Dominican Republic                  Zorzal  batch 1           76.0   \n",
       "2                  Tanzania            Kokoa Kamili  batch 1           76.0   \n",
       "3                      Peru                             Peru           63.0   \n",
       "4                   Bolivia                          Bolivia           70.0   \n",
       "...                     ...                              ...            ...   \n",
       "2357                  Blend                              Raw           80.0   \n",
       "2358               Colombia                 APROCAFA  Acandi           75.0   \n",
       "2359                 Belize                         Maya Mtn           72.0   \n",
       "2360                  Congo            Mountains of the Moon           70.0   \n",
       "2361                  Blend  Dry Aged  30 yr Anniversary bar           75.0   \n",
       "\n",
       "       ingredients most_memorable_characteristics  rating review_date_bin  \\\n",
       "0         3  B S C   cocoa  blackberry  full body    3.75               b   \n",
       "1         3  B S C         cocoa  vegetal  savory    3.50               b   \n",
       "2         3  B S C      rich cocoa  fatty  bready    3.25               b   \n",
       "3       4  B S C L          fruity  melon  roasty    3.75               b   \n",
       "4       4  B S C L                 vegetal  nutty    3.50               b   \n",
       "...            ...                            ...     ...             ...   \n",
       "2357  4  B S* C Sa         waxy  cloying  vegetal    2.75               c   \n",
       "2358      3  B S C      strong nutty  marshmallow    3.75               a   \n",
       "2359      3  B S C      muted  roasty  accessible    3.50               c   \n",
       "2360      3  B S C   fatty  mild nuts  mild fruit    3.25               c   \n",
       "2361      3  B S C           fatty  earthy  cocoa    3.00               c   \n",
       "\n",
       "        cocoa_bucket  rating_class bean_origin_bin comp_manufact_bin  \n",
       "0      (70.0, 100.0]             1               d                 b  \n",
       "1      (70.0, 100.0]             1               d                 b  \n",
       "2      (70.0, 100.0]             1               c                 b  \n",
       "3     (41.999, 70.0]             1               d                 d  \n",
       "4     (41.999, 70.0]             1               c                 d  \n",
       "...              ...           ...             ...               ...  \n",
       "2357   (70.0, 100.0]             0               d                 d  \n",
       "2358   (70.0, 100.0]             1               c                 d  \n",
       "2359   (70.0, 100.0]             1               c                 d  \n",
       "2360  (41.999, 70.0]             1               b                 d  \n",
       "2361   (70.0, 100.0]             1               d                 d  \n",
       "\n",
       "[2362 rows x 15 columns]"
      ]
     },
     "execution_count": 55,
     "metadata": {},
     "output_type": "execute_result"
    }
   ],
   "source": [
    "df"
   ]
  },
  {
   "cell_type": "markdown",
   "metadata": {},
   "source": [
    "### comparing company manufacturer with rating class ###"
   ]
  },
  {
   "cell_type": "code",
   "execution_count": 56,
   "metadata": {},
   "outputs": [
    {
     "data": {
      "text/plain": [
       "<AxesSubplot:xlabel='comp_manufact_bin', ylabel='count'>"
      ]
     },
     "execution_count": 56,
     "metadata": {},
     "output_type": "execute_result"
    },
    {
     "data": {
      "image/png": "[encoded data removed]",
      "text/plain": [
       "<Figure size 864x432 with 1 Axes>"
      ]
     },
     "metadata": {
      "needs_background": "light"
     },
     "output_type": "display_data"
    }
   ],
   "source": [
    "fig, ax = plt.subplots(figsize = (12,6))\n",
    "sns.countplot(data=df, x='comp_manufact_bin', hue='rating_class', ax=ax)"
   ]
  },
  {
   "cell_type": "markdown",
   "metadata": {},
   "source": [
    "The rating of 3 or above is occuring more often than less than 3 in all of the manufacture bins. The grouping with ratings of 3 or above occuring the most often is group d and the group with the least amount is group a. Group a tends to encompass a lot of countries that do not have the right climate to allow cocoa plants to prosper, group d tends to have countries who have super warm climates and are closest to the equator which is prime condition for cocoa plants to grow and survive."
   ]
  },
  {
   "cell_type": "markdown",
   "metadata": {},
   "source": [
    "### Creating ingredient list column from Mallory ###"
   ]
  },
  {
   "cell_type": "code",
   "execution_count": 57,
   "metadata": {},
   "outputs": [],
   "source": [
    "# retreiving rows from the third index and on - leaving out rows with empty values\n",
    "df['ingredient_list'] = [np.nan if l is np.nan else l[3:] for l in df['ingredients']]"
   ]
  },
  {
   "cell_type": "code",
   "execution_count": 59,
   "metadata": {},
   "outputs": [],
   "source": [
    "# leaving out occurances below 8\n",
    "most_common = (df['ingredient_list'].value_counts()).iloc[:9].index\n",
    "df = df[df['ingredient_list'].isin(most_common)]"
   ]
  },
  {
   "cell_type": "code",
   "execution_count": 60,
   "metadata": {},
   "outputs": [
    {
     "data": {
      "text/html": [
       "<div>\n",
       "<style scoped>\n",
       "    .dataframe tbody tr th:only-of-type {\n",
       "        vertical-align: middle;\n",
       "    }\n",
       "\n",
       "    .dataframe tbody tr th {\n",
       "        vertical-align: top;\n",
       "    }\n",
       "\n",
       "    .dataframe thead th {\n",
       "        text-align: right;\n",
       "    }\n",
       "</style>\n",
       "<table border=\"1\" class=\"dataframe\">\n",
       "  <thead>\n",
       "    <tr style=\"text-align: right;\">\n",
       "      <th></th>\n",
       "      <th>ref</th>\n",
       "      <th>company_manufacturer</th>\n",
       "      <th>company_location</th>\n",
       "      <th>review_date</th>\n",
       "      <th>country_of_bean_origin</th>\n",
       "      <th>specific_bean_origin_or_bar_name</th>\n",
       "      <th>cocoa_percent</th>\n",
       "      <th>ingredients</th>\n",
       "      <th>most_memorable_characteristics</th>\n",
       "      <th>rating</th>\n",
       "      <th>review_date_bin</th>\n",
       "      <th>cocoa_bucket</th>\n",
       "      <th>rating_class</th>\n",
       "      <th>bean_origin_bin</th>\n",
       "      <th>comp_manufact_bin</th>\n",
       "      <th>ingredient_list</th>\n",
       "    </tr>\n",
       "  </thead>\n",
       "  <tbody>\n",
       "    <tr>\n",
       "      <th>0</th>\n",
       "      <td>2454</td>\n",
       "      <td>5150</td>\n",
       "      <td>U.S.A.</td>\n",
       "      <td>2019</td>\n",
       "      <td>Madagascar</td>\n",
       "      <td>Bejofo Estate  batch 1</td>\n",
       "      <td>76.0</td>\n",
       "      <td>3  B S C</td>\n",
       "      <td>cocoa  blackberry  full body</td>\n",
       "      <td>3.75</td>\n",
       "      <td>b</td>\n",
       "      <td>(70.0, 100.0]</td>\n",
       "      <td>1</td>\n",
       "      <td>d</td>\n",
       "      <td>b</td>\n",
       "      <td>B S C</td>\n",
       "    </tr>\n",
       "    <tr>\n",
       "      <th>1</th>\n",
       "      <td>2458</td>\n",
       "      <td>5150</td>\n",
       "      <td>U.S.A.</td>\n",
       "      <td>2019</td>\n",
       "      <td>Dominican Republic</td>\n",
       "      <td>Zorzal  batch 1</td>\n",
       "      <td>76.0</td>\n",
       "      <td>3  B S C</td>\n",
       "      <td>cocoa  vegetal  savory</td>\n",
       "      <td>3.50</td>\n",
       "      <td>b</td>\n",
       "      <td>(70.0, 100.0]</td>\n",
       "      <td>1</td>\n",
       "      <td>d</td>\n",
       "      <td>b</td>\n",
       "      <td>B S C</td>\n",
       "    </tr>\n",
       "    <tr>\n",
       "      <th>2</th>\n",
       "      <td>2454</td>\n",
       "      <td>5150</td>\n",
       "      <td>U.S.A.</td>\n",
       "      <td>2019</td>\n",
       "      <td>Tanzania</td>\n",
       "      <td>Kokoa Kamili  batch 1</td>\n",
       "      <td>76.0</td>\n",
       "      <td>3  B S C</td>\n",
       "      <td>rich cocoa  fatty  bready</td>\n",
       "      <td>3.25</td>\n",
       "      <td>b</td>\n",
       "      <td>(70.0, 100.0]</td>\n",
       "      <td>1</td>\n",
       "      <td>c</td>\n",
       "      <td>b</td>\n",
       "      <td>B S C</td>\n",
       "    </tr>\n",
       "    <tr>\n",
       "      <th>3</th>\n",
       "      <td>797</td>\n",
       "      <td>A. Morin</td>\n",
       "      <td>France</td>\n",
       "      <td>2012</td>\n",
       "      <td>Peru</td>\n",
       "      <td>Peru</td>\n",
       "      <td>63.0</td>\n",
       "      <td>4  B S C L</td>\n",
       "      <td>fruity  melon  roasty</td>\n",
       "      <td>3.75</td>\n",
       "      <td>b</td>\n",
       "      <td>(41.999, 70.0]</td>\n",
       "      <td>1</td>\n",
       "      <td>d</td>\n",
       "      <td>d</td>\n",
       "      <td>B S C L</td>\n",
       "    </tr>\n",
       "    <tr>\n",
       "      <th>4</th>\n",
       "      <td>797</td>\n",
       "      <td>A. Morin</td>\n",
       "      <td>France</td>\n",
       "      <td>2012</td>\n",
       "      <td>Bolivia</td>\n",
       "      <td>Bolivia</td>\n",
       "      <td>70.0</td>\n",
       "      <td>4  B S C L</td>\n",
       "      <td>vegetal  nutty</td>\n",
       "      <td>3.50</td>\n",
       "      <td>b</td>\n",
       "      <td>(41.999, 70.0]</td>\n",
       "      <td>1</td>\n",
       "      <td>c</td>\n",
       "      <td>d</td>\n",
       "      <td>B S C L</td>\n",
       "    </tr>\n",
       "    <tr>\n",
       "      <th>...</th>\n",
       "      <td>...</td>\n",
       "      <td>...</td>\n",
       "      <td>...</td>\n",
       "      <td>...</td>\n",
       "      <td>...</td>\n",
       "      <td>...</td>\n",
       "      <td>...</td>\n",
       "      <td>...</td>\n",
       "      <td>...</td>\n",
       "      <td>...</td>\n",
       "      <td>...</td>\n",
       "      <td>...</td>\n",
       "      <td>...</td>\n",
       "      <td>...</td>\n",
       "      <td>...</td>\n",
       "      <td>...</td>\n",
       "    </tr>\n",
       "    <tr>\n",
       "      <th>2357</th>\n",
       "      <td>1205</td>\n",
       "      <td>Zotter</td>\n",
       "      <td>Austria</td>\n",
       "      <td>2014</td>\n",
       "      <td>Blend</td>\n",
       "      <td>Raw</td>\n",
       "      <td>80.0</td>\n",
       "      <td>4  B S* C Sa</td>\n",
       "      <td>waxy  cloying  vegetal</td>\n",
       "      <td>2.75</td>\n",
       "      <td>c</td>\n",
       "      <td>(70.0, 100.0]</td>\n",
       "      <td>0</td>\n",
       "      <td>d</td>\n",
       "      <td>d</td>\n",
       "      <td>B S* C Sa</td>\n",
       "    </tr>\n",
       "    <tr>\n",
       "      <th>2358</th>\n",
       "      <td>1996</td>\n",
       "      <td>Zotter</td>\n",
       "      <td>Austria</td>\n",
       "      <td>2017</td>\n",
       "      <td>Colombia</td>\n",
       "      <td>APROCAFA  Acandi</td>\n",
       "      <td>75.0</td>\n",
       "      <td>3  B S C</td>\n",
       "      <td>strong nutty  marshmallow</td>\n",
       "      <td>3.75</td>\n",
       "      <td>a</td>\n",
       "      <td>(70.0, 100.0]</td>\n",
       "      <td>1</td>\n",
       "      <td>c</td>\n",
       "      <td>d</td>\n",
       "      <td>B S C</td>\n",
       "    </tr>\n",
       "    <tr>\n",
       "      <th>2359</th>\n",
       "      <td>2170</td>\n",
       "      <td>Zotter</td>\n",
       "      <td>Austria</td>\n",
       "      <td>2018</td>\n",
       "      <td>Belize</td>\n",
       "      <td>Maya Mtn</td>\n",
       "      <td>72.0</td>\n",
       "      <td>3  B S C</td>\n",
       "      <td>muted  roasty  accessible</td>\n",
       "      <td>3.50</td>\n",
       "      <td>c</td>\n",
       "      <td>(70.0, 100.0]</td>\n",
       "      <td>1</td>\n",
       "      <td>c</td>\n",
       "      <td>d</td>\n",
       "      <td>B S C</td>\n",
       "    </tr>\n",
       "    <tr>\n",
       "      <th>2360</th>\n",
       "      <td>2170</td>\n",
       "      <td>Zotter</td>\n",
       "      <td>Austria</td>\n",
       "      <td>2018</td>\n",
       "      <td>Congo</td>\n",
       "      <td>Mountains of the Moon</td>\n",
       "      <td>70.0</td>\n",
       "      <td>3  B S C</td>\n",
       "      <td>fatty  mild nuts  mild fruit</td>\n",
       "      <td>3.25</td>\n",
       "      <td>c</td>\n",
       "      <td>(41.999, 70.0]</td>\n",
       "      <td>1</td>\n",
       "      <td>b</td>\n",
       "      <td>d</td>\n",
       "      <td>B S C</td>\n",
       "    </tr>\n",
       "    <tr>\n",
       "      <th>2361</th>\n",
       "      <td>2036</td>\n",
       "      <td>Zotter</td>\n",
       "      <td>Austria</td>\n",
       "      <td>2018</td>\n",
       "      <td>Blend</td>\n",
       "      <td>Dry Aged  30 yr Anniversary bar</td>\n",
       "      <td>75.0</td>\n",
       "      <td>3  B S C</td>\n",
       "      <td>fatty  earthy  cocoa</td>\n",
       "      <td>3.00</td>\n",
       "      <td>c</td>\n",
       "      <td>(70.0, 100.0]</td>\n",
       "      <td>1</td>\n",
       "      <td>d</td>\n",
       "      <td>d</td>\n",
       "      <td>B S C</td>\n",
       "    </tr>\n",
       "  </tbody>\n",
       "</table>\n",
       "<p>2231 rows × 16 columns</p>\n",
       "</div>"
      ],
      "text/plain": [
       "       ref company_manufacturer company_location  review_date  \\\n",
       "0     2454                 5150           U.S.A.         2019   \n",
       "1     2458                 5150           U.S.A.         2019   \n",
       "2     2454                 5150           U.S.A.         2019   \n",
       "3      797             A. Morin           France         2012   \n",
       "4      797             A. Morin           France         2012   \n",
       "...    ...                  ...              ...          ...   \n",
       "2357  1205               Zotter          Austria         2014   \n",
       "2358  1996               Zotter          Austria         2017   \n",
       "2359  2170               Zotter          Austria         2018   \n",
       "2360  2170               Zotter          Austria         2018   \n",
       "2361  2036               Zotter          Austria         2018   \n",
       "\n",
       "     country_of_bean_origin specific_bean_origin_or_bar_name  cocoa_percent  \\\n",
       "0                Madagascar           Bejofo Estate  batch 1           76.0   \n",
       "1        Dominican Republic                  Zorzal  batch 1           76.0   \n",
       "2                  Tanzania            Kokoa Kamili  batch 1           76.0   \n",
       "3                      Peru                             Peru           63.0   \n",
       "4                   Bolivia                          Bolivia           70.0   \n",
       "...                     ...                              ...            ...   \n",
       "2357                  Blend                              Raw           80.0   \n",
       "2358               Colombia                 APROCAFA  Acandi           75.0   \n",
       "2359                 Belize                         Maya Mtn           72.0   \n",
       "2360                  Congo            Mountains of the Moon           70.0   \n",
       "2361                  Blend  Dry Aged  30 yr Anniversary bar           75.0   \n",
       "\n",
       "       ingredients most_memorable_characteristics  rating review_date_bin  \\\n",
       "0         3  B S C   cocoa  blackberry  full body    3.75               b   \n",
       "1         3  B S C         cocoa  vegetal  savory    3.50               b   \n",
       "2         3  B S C      rich cocoa  fatty  bready    3.25               b   \n",
       "3       4  B S C L          fruity  melon  roasty    3.75               b   \n",
       "4       4  B S C L                 vegetal  nutty    3.50               b   \n",
       "...            ...                            ...     ...             ...   \n",
       "2357  4  B S* C Sa         waxy  cloying  vegetal    2.75               c   \n",
       "2358      3  B S C      strong nutty  marshmallow    3.75               a   \n",
       "2359      3  B S C      muted  roasty  accessible    3.50               c   \n",
       "2360      3  B S C   fatty  mild nuts  mild fruit    3.25               c   \n",
       "2361      3  B S C           fatty  earthy  cocoa    3.00               c   \n",
       "\n",
       "        cocoa_bucket  rating_class bean_origin_bin comp_manufact_bin  \\\n",
       "0      (70.0, 100.0]             1               d                 b   \n",
       "1      (70.0, 100.0]             1               d                 b   \n",
       "2      (70.0, 100.0]             1               c                 b   \n",
       "3     (41.999, 70.0]             1               d                 d   \n",
       "4     (41.999, 70.0]             1               c                 d   \n",
       "...              ...           ...             ...               ...   \n",
       "2357   (70.0, 100.0]             0               d                 d   \n",
       "2358   (70.0, 100.0]             1               c                 d   \n",
       "2359   (70.0, 100.0]             1               c                 d   \n",
       "2360  (41.999, 70.0]             1               b                 d   \n",
       "2361   (70.0, 100.0]             1               d                 d   \n",
       "\n",
       "     ingredient_list  \n",
       "0              B S C  \n",
       "1              B S C  \n",
       "2              B S C  \n",
       "3            B S C L  \n",
       "4            B S C L  \n",
       "...              ...  \n",
       "2357       B S* C Sa  \n",
       "2358           B S C  \n",
       "2359           B S C  \n",
       "2360           B S C  \n",
       "2361           B S C  \n",
       "\n",
       "[2231 rows x 16 columns]"
      ]
     },
     "execution_count": 60,
     "metadata": {},
     "output_type": "execute_result"
    }
   ],
   "source": [
    "df"
   ]
  },
  {
   "cell_type": "markdown",
   "metadata": {},
   "source": [
    "### Final Train Test Split ###"
   ]
  },
  {
   "cell_type": "code",
   "execution_count": 200,
   "metadata": {},
   "outputs": [],
   "source": [
    "# dropping the target (y) values from x and specific origin\n",
    "features = df.drop(['rating','specific_bean_origin_or_bar_name', 'ingredients', 'ref', 'review_date', 'cocoa_percent', 'company_manufacturer', 'country_of_bean_origin', 'company_location', 'most_memorable_characteristics', 'rating_class'], axis =1)\n",
    "X = features\n",
    "y = df.rating_class"
   ]
  },
  {
   "cell_type": "code",
   "execution_count": 201,
   "metadata": {},
   "outputs": [],
   "source": [
    "#performing train test split for test set (subsets 1/3)\n",
    "X_tr, X_test, y_tr, y_test = train_test_split(X, y, test_size=.15, random_state=42)\n",
    "\n",
    "\n",
    "#performing a train test split for train and validation set (subsets - 3/3)\n",
    "X_train, X_val, y_train, y_val = train_test_split(X_tr, y_tr, test_size=.15, random_state=42) "
   ]
  },
  {
   "cell_type": "code",
   "execution_count": 213,
   "metadata": {},
   "outputs": [
    {
     "data": {
      "text/html": [
       "<div>\n",
       "<style scoped>\n",
       "    .dataframe tbody tr th:only-of-type {\n",
       "        vertical-align: middle;\n",
       "    }\n",
       "\n",
       "    .dataframe tbody tr th {\n",
       "        vertical-align: top;\n",
       "    }\n",
       "\n",
       "    .dataframe thead th {\n",
       "        text-align: right;\n",
       "    }\n",
       "</style>\n",
       "<table border=\"1\" class=\"dataframe\">\n",
       "  <thead>\n",
       "    <tr style=\"text-align: right;\">\n",
       "      <th></th>\n",
       "      <th>review_date_bin</th>\n",
       "      <th>cocoa_bucket</th>\n",
       "      <th>bean_origin_bin</th>\n",
       "      <th>comp_manufact_bin</th>\n",
       "      <th>ingredient_list</th>\n",
       "    </tr>\n",
       "  </thead>\n",
       "  <tbody>\n",
       "    <tr>\n",
       "      <th>1327</th>\n",
       "      <td>a</td>\n",
       "      <td>(41.999, 70.0]</td>\n",
       "      <td>d</td>\n",
       "      <td>c</td>\n",
       "      <td>B S C V L</td>\n",
       "    </tr>\n",
       "    <tr>\n",
       "      <th>1535</th>\n",
       "      <td>a</td>\n",
       "      <td>(70.0, 100.0]</td>\n",
       "      <td>d</td>\n",
       "      <td>b</td>\n",
       "      <td>B S</td>\n",
       "    </tr>\n",
       "    <tr>\n",
       "      <th>1612</th>\n",
       "      <td>a</td>\n",
       "      <td>(41.999, 70.0]</td>\n",
       "      <td>b</td>\n",
       "      <td>d</td>\n",
       "      <td>B S</td>\n",
       "    </tr>\n",
       "    <tr>\n",
       "      <th>1293</th>\n",
       "      <td>a</td>\n",
       "      <td>(70.0, 100.0]</td>\n",
       "      <td>d</td>\n",
       "      <td>a</td>\n",
       "      <td>B S C V</td>\n",
       "    </tr>\n",
       "    <tr>\n",
       "      <th>860</th>\n",
       "      <td>b</td>\n",
       "      <td>(41.999, 70.0]</td>\n",
       "      <td>d</td>\n",
       "      <td>d</td>\n",
       "      <td>B S C</td>\n",
       "    </tr>\n",
       "    <tr>\n",
       "      <th>...</th>\n",
       "      <td>...</td>\n",
       "      <td>...</td>\n",
       "      <td>...</td>\n",
       "      <td>...</td>\n",
       "      <td>...</td>\n",
       "    </tr>\n",
       "    <tr>\n",
       "      <th>2043</th>\n",
       "      <td>a</td>\n",
       "      <td>(41.999, 70.0]</td>\n",
       "      <td>c</td>\n",
       "      <td>d</td>\n",
       "      <td>B S C</td>\n",
       "    </tr>\n",
       "    <tr>\n",
       "      <th>1978</th>\n",
       "      <td>b</td>\n",
       "      <td>(41.999, 70.0]</td>\n",
       "      <td>b</td>\n",
       "      <td>b</td>\n",
       "      <td>B S C</td>\n",
       "    </tr>\n",
       "    <tr>\n",
       "      <th>1169</th>\n",
       "      <td>b</td>\n",
       "      <td>(41.999, 70.0]</td>\n",
       "      <td>d</td>\n",
       "      <td>c</td>\n",
       "      <td>B S C</td>\n",
       "    </tr>\n",
       "    <tr>\n",
       "      <th>826</th>\n",
       "      <td>a</td>\n",
       "      <td>(41.999, 70.0]</td>\n",
       "      <td>b</td>\n",
       "      <td>b</td>\n",
       "      <td>B S C</td>\n",
       "    </tr>\n",
       "    <tr>\n",
       "      <th>1922</th>\n",
       "      <td>c</td>\n",
       "      <td>(41.999, 70.0]</td>\n",
       "      <td>b</td>\n",
       "      <td>c</td>\n",
       "      <td>B S</td>\n",
       "    </tr>\n",
       "  </tbody>\n",
       "</table>\n",
       "<p>1611 rows × 5 columns</p>\n",
       "</div>"
      ],
      "text/plain": [
       "     review_date_bin    cocoa_bucket bean_origin_bin comp_manufact_bin  \\\n",
       "1327               a  (41.999, 70.0]               d                 c   \n",
       "1535               a   (70.0, 100.0]               d                 b   \n",
       "1612               a  (41.999, 70.0]               b                 d   \n",
       "1293               a   (70.0, 100.0]               d                 a   \n",
       "860                b  (41.999, 70.0]               d                 d   \n",
       "...              ...             ...             ...               ...   \n",
       "2043               a  (41.999, 70.0]               c                 d   \n",
       "1978               b  (41.999, 70.0]               b                 b   \n",
       "1169               b  (41.999, 70.0]               d                 c   \n",
       "826                a  (41.999, 70.0]               b                 b   \n",
       "1922               c  (41.999, 70.0]               b                 c   \n",
       "\n",
       "     ingredient_list  \n",
       "1327       B S C V L  \n",
       "1535             B S  \n",
       "1612             B S  \n",
       "1293         B S C V  \n",
       "860            B S C  \n",
       "...              ...  \n",
       "2043           B S C  \n",
       "1978           B S C  \n",
       "1169           B S C  \n",
       "826            B S C  \n",
       "1922             B S  \n",
       "\n",
       "[1611 rows x 5 columns]"
      ]
     },
     "execution_count": 213,
     "metadata": {},
     "output_type": "execute_result"
    }
   ],
   "source": [
    "X_train"
   ]
  },
  {
   "cell_type": "markdown",
   "metadata": {},
   "source": [
    "### One Hot Encode Ingredient List ###"
   ]
  },
  {
   "cell_type": "code",
   "execution_count": 185,
   "metadata": {},
   "outputs": [],
   "source": [
    "ohe = OneHotEncoder(sparse=False, handle_unknown='ignore')"
   ]
  },
  {
   "cell_type": "code",
   "execution_count": 206,
   "metadata": {},
   "outputs": [
    {
     "data": {
      "text/html": [
       "<div>\n",
       "<style scoped>\n",
       "    .dataframe tbody tr th:only-of-type {\n",
       "        vertical-align: middle;\n",
       "    }\n",
       "\n",
       "    .dataframe tbody tr th {\n",
       "        vertical-align: top;\n",
       "    }\n",
       "\n",
       "    .dataframe thead th {\n",
       "        text-align: right;\n",
       "    }\n",
       "</style>\n",
       "<table border=\"1\" class=\"dataframe\">\n",
       "  <thead>\n",
       "    <tr style=\"text-align: right;\">\n",
       "      <th></th>\n",
       "      <th>x0_a</th>\n",
       "      <th>x0_b</th>\n",
       "      <th>x0_c</th>\n",
       "      <th>x1_(41.999, 70.0]</th>\n",
       "      <th>x1_(70.0, 100.0]</th>\n",
       "      <th>x2_a</th>\n",
       "      <th>x2_b</th>\n",
       "      <th>x2_c</th>\n",
       "      <th>x2_d</th>\n",
       "      <th>x3_a</th>\n",
       "      <th>...</th>\n",
       "      <th>x3_d</th>\n",
       "      <th>x4_B S</th>\n",
       "      <th>x4_B S C</th>\n",
       "      <th>x4_B S C L</th>\n",
       "      <th>x4_B S C V</th>\n",
       "      <th>x4_B S C V L</th>\n",
       "      <th>x4_B S L</th>\n",
       "      <th>x4_B S*</th>\n",
       "      <th>x4_B S* C</th>\n",
       "      <th>x4_B S* C Sa</th>\n",
       "    </tr>\n",
       "  </thead>\n",
       "  <tbody>\n",
       "    <tr>\n",
       "      <th>0</th>\n",
       "      <td>0.0</td>\n",
       "      <td>1.0</td>\n",
       "      <td>0.0</td>\n",
       "      <td>0.0</td>\n",
       "      <td>1.0</td>\n",
       "      <td>0.0</td>\n",
       "      <td>1.0</td>\n",
       "      <td>0.0</td>\n",
       "      <td>0.0</td>\n",
       "      <td>0.0</td>\n",
       "      <td>...</td>\n",
       "      <td>1.0</td>\n",
       "      <td>0.0</td>\n",
       "      <td>1.0</td>\n",
       "      <td>0.0</td>\n",
       "      <td>0.0</td>\n",
       "      <td>0.0</td>\n",
       "      <td>0.0</td>\n",
       "      <td>0.0</td>\n",
       "      <td>0.0</td>\n",
       "      <td>0.0</td>\n",
       "    </tr>\n",
       "    <tr>\n",
       "      <th>1</th>\n",
       "      <td>1.0</td>\n",
       "      <td>0.0</td>\n",
       "      <td>0.0</td>\n",
       "      <td>1.0</td>\n",
       "      <td>0.0</td>\n",
       "      <td>0.0</td>\n",
       "      <td>0.0</td>\n",
       "      <td>0.0</td>\n",
       "      <td>1.0</td>\n",
       "      <td>0.0</td>\n",
       "      <td>...</td>\n",
       "      <td>0.0</td>\n",
       "      <td>0.0</td>\n",
       "      <td>1.0</td>\n",
       "      <td>0.0</td>\n",
       "      <td>0.0</td>\n",
       "      <td>0.0</td>\n",
       "      <td>0.0</td>\n",
       "      <td>0.0</td>\n",
       "      <td>0.0</td>\n",
       "      <td>0.0</td>\n",
       "    </tr>\n",
       "    <tr>\n",
       "      <th>2</th>\n",
       "      <td>0.0</td>\n",
       "      <td>1.0</td>\n",
       "      <td>0.0</td>\n",
       "      <td>0.0</td>\n",
       "      <td>1.0</td>\n",
       "      <td>0.0</td>\n",
       "      <td>0.0</td>\n",
       "      <td>0.0</td>\n",
       "      <td>1.0</td>\n",
       "      <td>0.0</td>\n",
       "      <td>...</td>\n",
       "      <td>0.0</td>\n",
       "      <td>0.0</td>\n",
       "      <td>1.0</td>\n",
       "      <td>0.0</td>\n",
       "      <td>0.0</td>\n",
       "      <td>0.0</td>\n",
       "      <td>0.0</td>\n",
       "      <td>0.0</td>\n",
       "      <td>0.0</td>\n",
       "      <td>0.0</td>\n",
       "    </tr>\n",
       "    <tr>\n",
       "      <th>3</th>\n",
       "      <td>0.0</td>\n",
       "      <td>0.0</td>\n",
       "      <td>1.0</td>\n",
       "      <td>1.0</td>\n",
       "      <td>0.0</td>\n",
       "      <td>0.0</td>\n",
       "      <td>0.0</td>\n",
       "      <td>0.0</td>\n",
       "      <td>1.0</td>\n",
       "      <td>0.0</td>\n",
       "      <td>...</td>\n",
       "      <td>1.0</td>\n",
       "      <td>0.0</td>\n",
       "      <td>1.0</td>\n",
       "      <td>0.0</td>\n",
       "      <td>0.0</td>\n",
       "      <td>0.0</td>\n",
       "      <td>0.0</td>\n",
       "      <td>0.0</td>\n",
       "      <td>0.0</td>\n",
       "      <td>0.0</td>\n",
       "    </tr>\n",
       "    <tr>\n",
       "      <th>4</th>\n",
       "      <td>0.0</td>\n",
       "      <td>0.0</td>\n",
       "      <td>1.0</td>\n",
       "      <td>0.0</td>\n",
       "      <td>1.0</td>\n",
       "      <td>0.0</td>\n",
       "      <td>0.0</td>\n",
       "      <td>1.0</td>\n",
       "      <td>0.0</td>\n",
       "      <td>0.0</td>\n",
       "      <td>...</td>\n",
       "      <td>0.0</td>\n",
       "      <td>0.0</td>\n",
       "      <td>1.0</td>\n",
       "      <td>0.0</td>\n",
       "      <td>0.0</td>\n",
       "      <td>0.0</td>\n",
       "      <td>0.0</td>\n",
       "      <td>0.0</td>\n",
       "      <td>0.0</td>\n",
       "      <td>0.0</td>\n",
       "    </tr>\n",
       "    <tr>\n",
       "      <th>...</th>\n",
       "      <td>...</td>\n",
       "      <td>...</td>\n",
       "      <td>...</td>\n",
       "      <td>...</td>\n",
       "      <td>...</td>\n",
       "      <td>...</td>\n",
       "      <td>...</td>\n",
       "      <td>...</td>\n",
       "      <td>...</td>\n",
       "      <td>...</td>\n",
       "      <td>...</td>\n",
       "      <td>...</td>\n",
       "      <td>...</td>\n",
       "      <td>...</td>\n",
       "      <td>...</td>\n",
       "      <td>...</td>\n",
       "      <td>...</td>\n",
       "      <td>...</td>\n",
       "      <td>...</td>\n",
       "      <td>...</td>\n",
       "      <td>...</td>\n",
       "    </tr>\n",
       "    <tr>\n",
       "      <th>280</th>\n",
       "      <td>1.0</td>\n",
       "      <td>0.0</td>\n",
       "      <td>0.0</td>\n",
       "      <td>0.0</td>\n",
       "      <td>1.0</td>\n",
       "      <td>0.0</td>\n",
       "      <td>0.0</td>\n",
       "      <td>0.0</td>\n",
       "      <td>1.0</td>\n",
       "      <td>0.0</td>\n",
       "      <td>...</td>\n",
       "      <td>1.0</td>\n",
       "      <td>0.0</td>\n",
       "      <td>0.0</td>\n",
       "      <td>0.0</td>\n",
       "      <td>1.0</td>\n",
       "      <td>0.0</td>\n",
       "      <td>0.0</td>\n",
       "      <td>0.0</td>\n",
       "      <td>0.0</td>\n",
       "      <td>0.0</td>\n",
       "    </tr>\n",
       "    <tr>\n",
       "      <th>281</th>\n",
       "      <td>0.0</td>\n",
       "      <td>0.0</td>\n",
       "      <td>1.0</td>\n",
       "      <td>1.0</td>\n",
       "      <td>0.0</td>\n",
       "      <td>0.0</td>\n",
       "      <td>0.0</td>\n",
       "      <td>0.0</td>\n",
       "      <td>1.0</td>\n",
       "      <td>0.0</td>\n",
       "      <td>...</td>\n",
       "      <td>0.0</td>\n",
       "      <td>1.0</td>\n",
       "      <td>0.0</td>\n",
       "      <td>0.0</td>\n",
       "      <td>0.0</td>\n",
       "      <td>0.0</td>\n",
       "      <td>0.0</td>\n",
       "      <td>0.0</td>\n",
       "      <td>0.0</td>\n",
       "      <td>0.0</td>\n",
       "    </tr>\n",
       "    <tr>\n",
       "      <th>282</th>\n",
       "      <td>0.0</td>\n",
       "      <td>0.0</td>\n",
       "      <td>1.0</td>\n",
       "      <td>0.0</td>\n",
       "      <td>1.0</td>\n",
       "      <td>0.0</td>\n",
       "      <td>0.0</td>\n",
       "      <td>0.0</td>\n",
       "      <td>1.0</td>\n",
       "      <td>0.0</td>\n",
       "      <td>...</td>\n",
       "      <td>1.0</td>\n",
       "      <td>1.0</td>\n",
       "      <td>0.0</td>\n",
       "      <td>0.0</td>\n",
       "      <td>0.0</td>\n",
       "      <td>0.0</td>\n",
       "      <td>0.0</td>\n",
       "      <td>0.0</td>\n",
       "      <td>0.0</td>\n",
       "      <td>0.0</td>\n",
       "    </tr>\n",
       "    <tr>\n",
       "      <th>283</th>\n",
       "      <td>0.0</td>\n",
       "      <td>1.0</td>\n",
       "      <td>0.0</td>\n",
       "      <td>1.0</td>\n",
       "      <td>0.0</td>\n",
       "      <td>0.0</td>\n",
       "      <td>1.0</td>\n",
       "      <td>0.0</td>\n",
       "      <td>0.0</td>\n",
       "      <td>0.0</td>\n",
       "      <td>...</td>\n",
       "      <td>0.0</td>\n",
       "      <td>0.0</td>\n",
       "      <td>1.0</td>\n",
       "      <td>0.0</td>\n",
       "      <td>0.0</td>\n",
       "      <td>0.0</td>\n",
       "      <td>0.0</td>\n",
       "      <td>0.0</td>\n",
       "      <td>0.0</td>\n",
       "      <td>0.0</td>\n",
       "    </tr>\n",
       "    <tr>\n",
       "      <th>284</th>\n",
       "      <td>1.0</td>\n",
       "      <td>0.0</td>\n",
       "      <td>0.0</td>\n",
       "      <td>1.0</td>\n",
       "      <td>0.0</td>\n",
       "      <td>0.0</td>\n",
       "      <td>0.0</td>\n",
       "      <td>0.0</td>\n",
       "      <td>1.0</td>\n",
       "      <td>0.0</td>\n",
       "      <td>...</td>\n",
       "      <td>1.0</td>\n",
       "      <td>0.0</td>\n",
       "      <td>0.0</td>\n",
       "      <td>0.0</td>\n",
       "      <td>0.0</td>\n",
       "      <td>1.0</td>\n",
       "      <td>0.0</td>\n",
       "      <td>0.0</td>\n",
       "      <td>0.0</td>\n",
       "      <td>0.0</td>\n",
       "    </tr>\n",
       "  </tbody>\n",
       "</table>\n",
       "<p>285 rows × 22 columns</p>\n",
       "</div>"
      ],
      "text/plain": [
       "     x0_a  x0_b  x0_c  x1_(41.999, 70.0]  x1_(70.0, 100.0]  x2_a  x2_b  x2_c  \\\n",
       "0     0.0   1.0   0.0                0.0               1.0   0.0   1.0   0.0   \n",
       "1     1.0   0.0   0.0                1.0               0.0   0.0   0.0   0.0   \n",
       "2     0.0   1.0   0.0                0.0               1.0   0.0   0.0   0.0   \n",
       "3     0.0   0.0   1.0                1.0               0.0   0.0   0.0   0.0   \n",
       "4     0.0   0.0   1.0                0.0               1.0   0.0   0.0   1.0   \n",
       "..    ...   ...   ...                ...               ...   ...   ...   ...   \n",
       "280   1.0   0.0   0.0                0.0               1.0   0.0   0.0   0.0   \n",
       "281   0.0   0.0   1.0                1.0               0.0   0.0   0.0   0.0   \n",
       "282   0.0   0.0   1.0                0.0               1.0   0.0   0.0   0.0   \n",
       "283   0.0   1.0   0.0                1.0               0.0   0.0   1.0   0.0   \n",
       "284   1.0   0.0   0.0                1.0               0.0   0.0   0.0   0.0   \n",
       "\n",
       "     x2_d  x3_a  ...  x3_d  x4_B S  x4_B S C  x4_B S C L  x4_B S C V  \\\n",
       "0     0.0   0.0  ...   1.0     0.0       1.0         0.0         0.0   \n",
       "1     1.0   0.0  ...   0.0     0.0       1.0         0.0         0.0   \n",
       "2     1.0   0.0  ...   0.0     0.0       1.0         0.0         0.0   \n",
       "3     1.0   0.0  ...   1.0     0.0       1.0         0.0         0.0   \n",
       "4     0.0   0.0  ...   0.0     0.0       1.0         0.0         0.0   \n",
       "..    ...   ...  ...   ...     ...       ...         ...         ...   \n",
       "280   1.0   0.0  ...   1.0     0.0       0.0         0.0         1.0   \n",
       "281   1.0   0.0  ...   0.0     1.0       0.0         0.0         0.0   \n",
       "282   1.0   0.0  ...   1.0     1.0       0.0         0.0         0.0   \n",
       "283   0.0   0.0  ...   0.0     0.0       1.0         0.0         0.0   \n",
       "284   1.0   0.0  ...   1.0     0.0       0.0         0.0         0.0   \n",
       "\n",
       "     x4_B S C V L  x4_B S L  x4_B S*  x4_B S* C  x4_B S* C Sa  \n",
       "0             0.0       0.0      0.0        0.0           0.0  \n",
       "1             0.0       0.0      0.0        0.0           0.0  \n",
       "2             0.0       0.0      0.0        0.0           0.0  \n",
       "3             0.0       0.0      0.0        0.0           0.0  \n",
       "4             0.0       0.0      0.0        0.0           0.0  \n",
       "..            ...       ...      ...        ...           ...  \n",
       "280           0.0       0.0      0.0        0.0           0.0  \n",
       "281           0.0       0.0      0.0        0.0           0.0  \n",
       "282           0.0       0.0      0.0        0.0           0.0  \n",
       "283           0.0       0.0      0.0        0.0           0.0  \n",
       "284           1.0       0.0      0.0        0.0           0.0  \n",
       "\n",
       "[285 rows x 22 columns]"
      ]
     },
     "execution_count": 206,
     "metadata": {},
     "output_type": "execute_result"
    }
   ],
   "source": [
    "# fit on training categorical data\n",
    "ohe.fit(X_train)\n",
    "X_train_encoded = ohe.transform(X_train)\n",
    "X_val_encoded = ohe.transform(X_val)\n",
    "X_train_encoded_df = pd.DataFrame(X_train_encoded, columns=ohe.get_feature_names())\n",
    "X_val_encoded_df= pd.DataFrame(X_val_encoded, columns=ohe.get_feature_names())\n",
    "X_val_encoded_df"
   ]
  },
  {
   "cell_type": "code",
   "execution_count": 207,
   "metadata": {},
   "outputs": [
    {
     "data": {
      "text/html": [
       "<div>\n",
       "<style scoped>\n",
       "    .dataframe tbody tr th:only-of-type {\n",
       "        vertical-align: middle;\n",
       "    }\n",
       "\n",
       "    .dataframe tbody tr th {\n",
       "        vertical-align: top;\n",
       "    }\n",
       "\n",
       "    .dataframe thead th {\n",
       "        text-align: right;\n",
       "    }\n",
       "</style>\n",
       "<table border=\"1\" class=\"dataframe\">\n",
       "  <thead>\n",
       "    <tr style=\"text-align: right;\">\n",
       "      <th></th>\n",
       "      <th>x0_a</th>\n",
       "      <th>x0_b</th>\n",
       "      <th>x0_c</th>\n",
       "      <th>x1_(41.999, 70.0]</th>\n",
       "      <th>x1_(70.0, 100.0]</th>\n",
       "      <th>x2_a</th>\n",
       "      <th>x2_b</th>\n",
       "      <th>x2_c</th>\n",
       "      <th>x2_d</th>\n",
       "      <th>x3_a</th>\n",
       "      <th>...</th>\n",
       "      <th>x3_d</th>\n",
       "      <th>x4_B S</th>\n",
       "      <th>x4_B S C</th>\n",
       "      <th>x4_B S C L</th>\n",
       "      <th>x4_B S C V</th>\n",
       "      <th>x4_B S C V L</th>\n",
       "      <th>x4_B S L</th>\n",
       "      <th>x4_B S*</th>\n",
       "      <th>x4_B S* C</th>\n",
       "      <th>x4_B S* C Sa</th>\n",
       "    </tr>\n",
       "  </thead>\n",
       "  <tbody>\n",
       "    <tr>\n",
       "      <th>0</th>\n",
       "      <td>1.0</td>\n",
       "      <td>0.0</td>\n",
       "      <td>0.0</td>\n",
       "      <td>1.0</td>\n",
       "      <td>0.0</td>\n",
       "      <td>0.0</td>\n",
       "      <td>0.0</td>\n",
       "      <td>0.0</td>\n",
       "      <td>1.0</td>\n",
       "      <td>0.0</td>\n",
       "      <td>...</td>\n",
       "      <td>0.0</td>\n",
       "      <td>0.0</td>\n",
       "      <td>0.0</td>\n",
       "      <td>0.0</td>\n",
       "      <td>0.0</td>\n",
       "      <td>1.0</td>\n",
       "      <td>0.0</td>\n",
       "      <td>0.0</td>\n",
       "      <td>0.0</td>\n",
       "      <td>0.0</td>\n",
       "    </tr>\n",
       "    <tr>\n",
       "      <th>1</th>\n",
       "      <td>1.0</td>\n",
       "      <td>0.0</td>\n",
       "      <td>0.0</td>\n",
       "      <td>0.0</td>\n",
       "      <td>1.0</td>\n",
       "      <td>0.0</td>\n",
       "      <td>0.0</td>\n",
       "      <td>0.0</td>\n",
       "      <td>1.0</td>\n",
       "      <td>0.0</td>\n",
       "      <td>...</td>\n",
       "      <td>0.0</td>\n",
       "      <td>1.0</td>\n",
       "      <td>0.0</td>\n",
       "      <td>0.0</td>\n",
       "      <td>0.0</td>\n",
       "      <td>0.0</td>\n",
       "      <td>0.0</td>\n",
       "      <td>0.0</td>\n",
       "      <td>0.0</td>\n",
       "      <td>0.0</td>\n",
       "    </tr>\n",
       "    <tr>\n",
       "      <th>2</th>\n",
       "      <td>1.0</td>\n",
       "      <td>0.0</td>\n",
       "      <td>0.0</td>\n",
       "      <td>1.0</td>\n",
       "      <td>0.0</td>\n",
       "      <td>0.0</td>\n",
       "      <td>1.0</td>\n",
       "      <td>0.0</td>\n",
       "      <td>0.0</td>\n",
       "      <td>0.0</td>\n",
       "      <td>...</td>\n",
       "      <td>1.0</td>\n",
       "      <td>1.0</td>\n",
       "      <td>0.0</td>\n",
       "      <td>0.0</td>\n",
       "      <td>0.0</td>\n",
       "      <td>0.0</td>\n",
       "      <td>0.0</td>\n",
       "      <td>0.0</td>\n",
       "      <td>0.0</td>\n",
       "      <td>0.0</td>\n",
       "    </tr>\n",
       "    <tr>\n",
       "      <th>3</th>\n",
       "      <td>1.0</td>\n",
       "      <td>0.0</td>\n",
       "      <td>0.0</td>\n",
       "      <td>0.0</td>\n",
       "      <td>1.0</td>\n",
       "      <td>0.0</td>\n",
       "      <td>0.0</td>\n",
       "      <td>0.0</td>\n",
       "      <td>1.0</td>\n",
       "      <td>1.0</td>\n",
       "      <td>...</td>\n",
       "      <td>0.0</td>\n",
       "      <td>0.0</td>\n",
       "      <td>0.0</td>\n",
       "      <td>0.0</td>\n",
       "      <td>1.0</td>\n",
       "      <td>0.0</td>\n",
       "      <td>0.0</td>\n",
       "      <td>0.0</td>\n",
       "      <td>0.0</td>\n",
       "      <td>0.0</td>\n",
       "    </tr>\n",
       "    <tr>\n",
       "      <th>4</th>\n",
       "      <td>0.0</td>\n",
       "      <td>1.0</td>\n",
       "      <td>0.0</td>\n",
       "      <td>1.0</td>\n",
       "      <td>0.0</td>\n",
       "      <td>0.0</td>\n",
       "      <td>0.0</td>\n",
       "      <td>0.0</td>\n",
       "      <td>1.0</td>\n",
       "      <td>0.0</td>\n",
       "      <td>...</td>\n",
       "      <td>1.0</td>\n",
       "      <td>0.0</td>\n",
       "      <td>1.0</td>\n",
       "      <td>0.0</td>\n",
       "      <td>0.0</td>\n",
       "      <td>0.0</td>\n",
       "      <td>0.0</td>\n",
       "      <td>0.0</td>\n",
       "      <td>0.0</td>\n",
       "      <td>0.0</td>\n",
       "    </tr>\n",
       "    <tr>\n",
       "      <th>...</th>\n",
       "      <td>...</td>\n",
       "      <td>...</td>\n",
       "      <td>...</td>\n",
       "      <td>...</td>\n",
       "      <td>...</td>\n",
       "      <td>...</td>\n",
       "      <td>...</td>\n",
       "      <td>...</td>\n",
       "      <td>...</td>\n",
       "      <td>...</td>\n",
       "      <td>...</td>\n",
       "      <td>...</td>\n",
       "      <td>...</td>\n",
       "      <td>...</td>\n",
       "      <td>...</td>\n",
       "      <td>...</td>\n",
       "      <td>...</td>\n",
       "      <td>...</td>\n",
       "      <td>...</td>\n",
       "      <td>...</td>\n",
       "      <td>...</td>\n",
       "    </tr>\n",
       "    <tr>\n",
       "      <th>1606</th>\n",
       "      <td>1.0</td>\n",
       "      <td>0.0</td>\n",
       "      <td>0.0</td>\n",
       "      <td>1.0</td>\n",
       "      <td>0.0</td>\n",
       "      <td>0.0</td>\n",
       "      <td>0.0</td>\n",
       "      <td>1.0</td>\n",
       "      <td>0.0</td>\n",
       "      <td>0.0</td>\n",
       "      <td>...</td>\n",
       "      <td>1.0</td>\n",
       "      <td>0.0</td>\n",
       "      <td>1.0</td>\n",
       "      <td>0.0</td>\n",
       "      <td>0.0</td>\n",
       "      <td>0.0</td>\n",
       "      <td>0.0</td>\n",
       "      <td>0.0</td>\n",
       "      <td>0.0</td>\n",
       "      <td>0.0</td>\n",
       "    </tr>\n",
       "    <tr>\n",
       "      <th>1607</th>\n",
       "      <td>0.0</td>\n",
       "      <td>1.0</td>\n",
       "      <td>0.0</td>\n",
       "      <td>1.0</td>\n",
       "      <td>0.0</td>\n",
       "      <td>0.0</td>\n",
       "      <td>1.0</td>\n",
       "      <td>0.0</td>\n",
       "      <td>0.0</td>\n",
       "      <td>0.0</td>\n",
       "      <td>...</td>\n",
       "      <td>0.0</td>\n",
       "      <td>0.0</td>\n",
       "      <td>1.0</td>\n",
       "      <td>0.0</td>\n",
       "      <td>0.0</td>\n",
       "      <td>0.0</td>\n",
       "      <td>0.0</td>\n",
       "      <td>0.0</td>\n",
       "      <td>0.0</td>\n",
       "      <td>0.0</td>\n",
       "    </tr>\n",
       "    <tr>\n",
       "      <th>1608</th>\n",
       "      <td>0.0</td>\n",
       "      <td>1.0</td>\n",
       "      <td>0.0</td>\n",
       "      <td>1.0</td>\n",
       "      <td>0.0</td>\n",
       "      <td>0.0</td>\n",
       "      <td>0.0</td>\n",
       "      <td>0.0</td>\n",
       "      <td>1.0</td>\n",
       "      <td>0.0</td>\n",
       "      <td>...</td>\n",
       "      <td>0.0</td>\n",
       "      <td>0.0</td>\n",
       "      <td>1.0</td>\n",
       "      <td>0.0</td>\n",
       "      <td>0.0</td>\n",
       "      <td>0.0</td>\n",
       "      <td>0.0</td>\n",
       "      <td>0.0</td>\n",
       "      <td>0.0</td>\n",
       "      <td>0.0</td>\n",
       "    </tr>\n",
       "    <tr>\n",
       "      <th>1609</th>\n",
       "      <td>1.0</td>\n",
       "      <td>0.0</td>\n",
       "      <td>0.0</td>\n",
       "      <td>1.0</td>\n",
       "      <td>0.0</td>\n",
       "      <td>0.0</td>\n",
       "      <td>1.0</td>\n",
       "      <td>0.0</td>\n",
       "      <td>0.0</td>\n",
       "      <td>0.0</td>\n",
       "      <td>...</td>\n",
       "      <td>0.0</td>\n",
       "      <td>0.0</td>\n",
       "      <td>1.0</td>\n",
       "      <td>0.0</td>\n",
       "      <td>0.0</td>\n",
       "      <td>0.0</td>\n",
       "      <td>0.0</td>\n",
       "      <td>0.0</td>\n",
       "      <td>0.0</td>\n",
       "      <td>0.0</td>\n",
       "    </tr>\n",
       "    <tr>\n",
       "      <th>1610</th>\n",
       "      <td>0.0</td>\n",
       "      <td>0.0</td>\n",
       "      <td>1.0</td>\n",
       "      <td>1.0</td>\n",
       "      <td>0.0</td>\n",
       "      <td>0.0</td>\n",
       "      <td>1.0</td>\n",
       "      <td>0.0</td>\n",
       "      <td>0.0</td>\n",
       "      <td>0.0</td>\n",
       "      <td>...</td>\n",
       "      <td>0.0</td>\n",
       "      <td>1.0</td>\n",
       "      <td>0.0</td>\n",
       "      <td>0.0</td>\n",
       "      <td>0.0</td>\n",
       "      <td>0.0</td>\n",
       "      <td>0.0</td>\n",
       "      <td>0.0</td>\n",
       "      <td>0.0</td>\n",
       "      <td>0.0</td>\n",
       "    </tr>\n",
       "  </tbody>\n",
       "</table>\n",
       "<p>1611 rows × 22 columns</p>\n",
       "</div>"
      ],
      "text/plain": [
       "      x0_a  x0_b  x0_c  x1_(41.999, 70.0]  x1_(70.0, 100.0]  x2_a  x2_b  x2_c  \\\n",
       "0      1.0   0.0   0.0                1.0               0.0   0.0   0.0   0.0   \n",
       "1      1.0   0.0   0.0                0.0               1.0   0.0   0.0   0.0   \n",
       "2      1.0   0.0   0.0                1.0               0.0   0.0   1.0   0.0   \n",
       "3      1.0   0.0   0.0                0.0               1.0   0.0   0.0   0.0   \n",
       "4      0.0   1.0   0.0                1.0               0.0   0.0   0.0   0.0   \n",
       "...    ...   ...   ...                ...               ...   ...   ...   ...   \n",
       "1606   1.0   0.0   0.0                1.0               0.0   0.0   0.0   1.0   \n",
       "1607   0.0   1.0   0.0                1.0               0.0   0.0   1.0   0.0   \n",
       "1608   0.0   1.0   0.0                1.0               0.0   0.0   0.0   0.0   \n",
       "1609   1.0   0.0   0.0                1.0               0.0   0.0   1.0   0.0   \n",
       "1610   0.0   0.0   1.0                1.0               0.0   0.0   1.0   0.0   \n",
       "\n",
       "      x2_d  x3_a  ...  x3_d  x4_B S  x4_B S C  x4_B S C L  x4_B S C V  \\\n",
       "0      1.0   0.0  ...   0.0     0.0       0.0         0.0         0.0   \n",
       "1      1.0   0.0  ...   0.0     1.0       0.0         0.0         0.0   \n",
       "2      0.0   0.0  ...   1.0     1.0       0.0         0.0         0.0   \n",
       "3      1.0   1.0  ...   0.0     0.0       0.0         0.0         1.0   \n",
       "4      1.0   0.0  ...   1.0     0.0       1.0         0.0         0.0   \n",
       "...    ...   ...  ...   ...     ...       ...         ...         ...   \n",
       "1606   0.0   0.0  ...   1.0     0.0       1.0         0.0         0.0   \n",
       "1607   0.0   0.0  ...   0.0     0.0       1.0         0.0         0.0   \n",
       "1608   1.0   0.0  ...   0.0     0.0       1.0         0.0         0.0   \n",
       "1609   0.0   0.0  ...   0.0     0.0       1.0         0.0         0.0   \n",
       "1610   0.0   0.0  ...   0.0     1.0       0.0         0.0         0.0   \n",
       "\n",
       "      x4_B S C V L  x4_B S L  x4_B S*  x4_B S* C  x4_B S* C Sa  \n",
       "0              1.0       0.0      0.0        0.0           0.0  \n",
       "1              0.0       0.0      0.0        0.0           0.0  \n",
       "2              0.0       0.0      0.0        0.0           0.0  \n",
       "3              0.0       0.0      0.0        0.0           0.0  \n",
       "4              0.0       0.0      0.0        0.0           0.0  \n",
       "...            ...       ...      ...        ...           ...  \n",
       "1606           0.0       0.0      0.0        0.0           0.0  \n",
       "1607           0.0       0.0      0.0        0.0           0.0  \n",
       "1608           0.0       0.0      0.0        0.0           0.0  \n",
       "1609           0.0       0.0      0.0        0.0           0.0  \n",
       "1610           0.0       0.0      0.0        0.0           0.0  \n",
       "\n",
       "[1611 rows x 22 columns]"
      ]
     },
     "execution_count": 207,
     "metadata": {},
     "output_type": "execute_result"
    }
   ],
   "source": [
    "X_train_encoded_df"
   ]
  },
  {
   "cell_type": "code",
   "execution_count": 188,
   "metadata": {},
   "outputs": [
    {
     "data": {
      "text/html": [
       "<div>\n",
       "<style scoped>\n",
       "    .dataframe tbody tr th:only-of-type {\n",
       "        vertical-align: middle;\n",
       "    }\n",
       "\n",
       "    .dataframe tbody tr th {\n",
       "        vertical-align: top;\n",
       "    }\n",
       "\n",
       "    .dataframe thead th {\n",
       "        text-align: right;\n",
       "    }\n",
       "</style>\n",
       "<table border=\"1\" class=\"dataframe\">\n",
       "  <thead>\n",
       "    <tr style=\"text-align: right;\">\n",
       "      <th></th>\n",
       "      <th>cocoa_bucket</th>\n",
       "      <th>rating_class</th>\n",
       "      <th>x0_a</th>\n",
       "      <th>x0_b</th>\n",
       "      <th>x0_c</th>\n",
       "      <th>x1_a</th>\n",
       "      <th>x1_b</th>\n",
       "      <th>x1_c</th>\n",
       "      <th>x1_d</th>\n",
       "      <th>x2_a</th>\n",
       "      <th>...</th>\n",
       "      <th>x2_d</th>\n",
       "      <th>x3_B S</th>\n",
       "      <th>x3_B S C</th>\n",
       "      <th>x3_B S C L</th>\n",
       "      <th>x3_B S C V</th>\n",
       "      <th>x3_B S C V L</th>\n",
       "      <th>x3_B S L</th>\n",
       "      <th>x3_B S*</th>\n",
       "      <th>x3_B S* C</th>\n",
       "      <th>x3_B S* C Sa</th>\n",
       "    </tr>\n",
       "  </thead>\n",
       "  <tbody>\n",
       "    <tr>\n",
       "      <th>0</th>\n",
       "      <td>NaN</td>\n",
       "      <td>NaN</td>\n",
       "      <td>0.0</td>\n",
       "      <td>1.0</td>\n",
       "      <td>0.0</td>\n",
       "      <td>0.0</td>\n",
       "      <td>1.0</td>\n",
       "      <td>0.0</td>\n",
       "      <td>0.0</td>\n",
       "      <td>0.0</td>\n",
       "      <td>...</td>\n",
       "      <td>1.0</td>\n",
       "      <td>0.0</td>\n",
       "      <td>1.0</td>\n",
       "      <td>0.0</td>\n",
       "      <td>0.0</td>\n",
       "      <td>0.0</td>\n",
       "      <td>0.0</td>\n",
       "      <td>0.0</td>\n",
       "      <td>0.0</td>\n",
       "      <td>0.0</td>\n",
       "    </tr>\n",
       "    <tr>\n",
       "      <th>1</th>\n",
       "      <td>NaN</td>\n",
       "      <td>NaN</td>\n",
       "      <td>1.0</td>\n",
       "      <td>0.0</td>\n",
       "      <td>0.0</td>\n",
       "      <td>0.0</td>\n",
       "      <td>0.0</td>\n",
       "      <td>0.0</td>\n",
       "      <td>1.0</td>\n",
       "      <td>0.0</td>\n",
       "      <td>...</td>\n",
       "      <td>0.0</td>\n",
       "      <td>0.0</td>\n",
       "      <td>1.0</td>\n",
       "      <td>0.0</td>\n",
       "      <td>0.0</td>\n",
       "      <td>0.0</td>\n",
       "      <td>0.0</td>\n",
       "      <td>0.0</td>\n",
       "      <td>0.0</td>\n",
       "      <td>0.0</td>\n",
       "    </tr>\n",
       "    <tr>\n",
       "      <th>2</th>\n",
       "      <td>NaN</td>\n",
       "      <td>NaN</td>\n",
       "      <td>0.0</td>\n",
       "      <td>1.0</td>\n",
       "      <td>0.0</td>\n",
       "      <td>0.0</td>\n",
       "      <td>0.0</td>\n",
       "      <td>0.0</td>\n",
       "      <td>1.0</td>\n",
       "      <td>0.0</td>\n",
       "      <td>...</td>\n",
       "      <td>0.0</td>\n",
       "      <td>0.0</td>\n",
       "      <td>1.0</td>\n",
       "      <td>0.0</td>\n",
       "      <td>0.0</td>\n",
       "      <td>0.0</td>\n",
       "      <td>0.0</td>\n",
       "      <td>0.0</td>\n",
       "      <td>0.0</td>\n",
       "      <td>0.0</td>\n",
       "    </tr>\n",
       "    <tr>\n",
       "      <th>3</th>\n",
       "      <td>NaN</td>\n",
       "      <td>NaN</td>\n",
       "      <td>0.0</td>\n",
       "      <td>0.0</td>\n",
       "      <td>1.0</td>\n",
       "      <td>0.0</td>\n",
       "      <td>0.0</td>\n",
       "      <td>0.0</td>\n",
       "      <td>1.0</td>\n",
       "      <td>0.0</td>\n",
       "      <td>...</td>\n",
       "      <td>1.0</td>\n",
       "      <td>0.0</td>\n",
       "      <td>1.0</td>\n",
       "      <td>0.0</td>\n",
       "      <td>0.0</td>\n",
       "      <td>0.0</td>\n",
       "      <td>0.0</td>\n",
       "      <td>0.0</td>\n",
       "      <td>0.0</td>\n",
       "      <td>0.0</td>\n",
       "    </tr>\n",
       "    <tr>\n",
       "      <th>4</th>\n",
       "      <td>(41.999, 70.0]</td>\n",
       "      <td>1.0</td>\n",
       "      <td>0.0</td>\n",
       "      <td>0.0</td>\n",
       "      <td>1.0</td>\n",
       "      <td>0.0</td>\n",
       "      <td>0.0</td>\n",
       "      <td>1.0</td>\n",
       "      <td>0.0</td>\n",
       "      <td>0.0</td>\n",
       "      <td>...</td>\n",
       "      <td>0.0</td>\n",
       "      <td>0.0</td>\n",
       "      <td>1.0</td>\n",
       "      <td>0.0</td>\n",
       "      <td>0.0</td>\n",
       "      <td>0.0</td>\n",
       "      <td>0.0</td>\n",
       "      <td>0.0</td>\n",
       "      <td>0.0</td>\n",
       "      <td>0.0</td>\n",
       "    </tr>\n",
       "    <tr>\n",
       "      <th>...</th>\n",
       "      <td>...</td>\n",
       "      <td>...</td>\n",
       "      <td>...</td>\n",
       "      <td>...</td>\n",
       "      <td>...</td>\n",
       "      <td>...</td>\n",
       "      <td>...</td>\n",
       "      <td>...</td>\n",
       "      <td>...</td>\n",
       "      <td>...</td>\n",
       "      <td>...</td>\n",
       "      <td>...</td>\n",
       "      <td>...</td>\n",
       "      <td>...</td>\n",
       "      <td>...</td>\n",
       "      <td>...</td>\n",
       "      <td>...</td>\n",
       "      <td>...</td>\n",
       "      <td>...</td>\n",
       "      <td>...</td>\n",
       "      <td>...</td>\n",
       "    </tr>\n",
       "    <tr>\n",
       "      <th>2349</th>\n",
       "      <td>(41.999, 70.0]</td>\n",
       "      <td>1.0</td>\n",
       "      <td>NaN</td>\n",
       "      <td>NaN</td>\n",
       "      <td>NaN</td>\n",
       "      <td>NaN</td>\n",
       "      <td>NaN</td>\n",
       "      <td>NaN</td>\n",
       "      <td>NaN</td>\n",
       "      <td>NaN</td>\n",
       "      <td>...</td>\n",
       "      <td>NaN</td>\n",
       "      <td>NaN</td>\n",
       "      <td>NaN</td>\n",
       "      <td>NaN</td>\n",
       "      <td>NaN</td>\n",
       "      <td>NaN</td>\n",
       "      <td>NaN</td>\n",
       "      <td>NaN</td>\n",
       "      <td>NaN</td>\n",
       "      <td>NaN</td>\n",
       "    </tr>\n",
       "    <tr>\n",
       "      <th>2350</th>\n",
       "      <td>(41.999, 70.0]</td>\n",
       "      <td>1.0</td>\n",
       "      <td>NaN</td>\n",
       "      <td>NaN</td>\n",
       "      <td>NaN</td>\n",
       "      <td>NaN</td>\n",
       "      <td>NaN</td>\n",
       "      <td>NaN</td>\n",
       "      <td>NaN</td>\n",
       "      <td>NaN</td>\n",
       "      <td>...</td>\n",
       "      <td>NaN</td>\n",
       "      <td>NaN</td>\n",
       "      <td>NaN</td>\n",
       "      <td>NaN</td>\n",
       "      <td>NaN</td>\n",
       "      <td>NaN</td>\n",
       "      <td>NaN</td>\n",
       "      <td>NaN</td>\n",
       "      <td>NaN</td>\n",
       "      <td>NaN</td>\n",
       "    </tr>\n",
       "    <tr>\n",
       "      <th>2352</th>\n",
       "      <td>(70.0, 100.0]</td>\n",
       "      <td>1.0</td>\n",
       "      <td>NaN</td>\n",
       "      <td>NaN</td>\n",
       "      <td>NaN</td>\n",
       "      <td>NaN</td>\n",
       "      <td>NaN</td>\n",
       "      <td>NaN</td>\n",
       "      <td>NaN</td>\n",
       "      <td>NaN</td>\n",
       "      <td>...</td>\n",
       "      <td>NaN</td>\n",
       "      <td>NaN</td>\n",
       "      <td>NaN</td>\n",
       "      <td>NaN</td>\n",
       "      <td>NaN</td>\n",
       "      <td>NaN</td>\n",
       "      <td>NaN</td>\n",
       "      <td>NaN</td>\n",
       "      <td>NaN</td>\n",
       "      <td>NaN</td>\n",
       "    </tr>\n",
       "    <tr>\n",
       "      <th>2354</th>\n",
       "      <td>(41.999, 70.0]</td>\n",
       "      <td>1.0</td>\n",
       "      <td>NaN</td>\n",
       "      <td>NaN</td>\n",
       "      <td>NaN</td>\n",
       "      <td>NaN</td>\n",
       "      <td>NaN</td>\n",
       "      <td>NaN</td>\n",
       "      <td>NaN</td>\n",
       "      <td>NaN</td>\n",
       "      <td>...</td>\n",
       "      <td>NaN</td>\n",
       "      <td>NaN</td>\n",
       "      <td>NaN</td>\n",
       "      <td>NaN</td>\n",
       "      <td>NaN</td>\n",
       "      <td>NaN</td>\n",
       "      <td>NaN</td>\n",
       "      <td>NaN</td>\n",
       "      <td>NaN</td>\n",
       "      <td>NaN</td>\n",
       "    </tr>\n",
       "    <tr>\n",
       "      <th>2361</th>\n",
       "      <td>(70.0, 100.0]</td>\n",
       "      <td>1.0</td>\n",
       "      <td>NaN</td>\n",
       "      <td>NaN</td>\n",
       "      <td>NaN</td>\n",
       "      <td>NaN</td>\n",
       "      <td>NaN</td>\n",
       "      <td>NaN</td>\n",
       "      <td>NaN</td>\n",
       "      <td>NaN</td>\n",
       "      <td>...</td>\n",
       "      <td>NaN</td>\n",
       "      <td>NaN</td>\n",
       "      <td>NaN</td>\n",
       "      <td>NaN</td>\n",
       "      <td>NaN</td>\n",
       "      <td>NaN</td>\n",
       "      <td>NaN</td>\n",
       "      <td>NaN</td>\n",
       "      <td>NaN</td>\n",
       "      <td>NaN</td>\n",
       "    </tr>\n",
       "  </tbody>\n",
       "</table>\n",
       "<p>534 rows × 22 columns</p>\n",
       "</div>"
      ],
      "text/plain": [
       "        cocoa_bucket  rating_class  x0_a  x0_b  x0_c  x1_a  x1_b  x1_c  x1_d  \\\n",
       "0                NaN           NaN   0.0   1.0   0.0   0.0   1.0   0.0   0.0   \n",
       "1                NaN           NaN   1.0   0.0   0.0   0.0   0.0   0.0   1.0   \n",
       "2                NaN           NaN   0.0   1.0   0.0   0.0   0.0   0.0   1.0   \n",
       "3                NaN           NaN   0.0   0.0   1.0   0.0   0.0   0.0   1.0   \n",
       "4     (41.999, 70.0]           1.0   0.0   0.0   1.0   0.0   0.0   1.0   0.0   \n",
       "...              ...           ...   ...   ...   ...   ...   ...   ...   ...   \n",
       "2349  (41.999, 70.0]           1.0   NaN   NaN   NaN   NaN   NaN   NaN   NaN   \n",
       "2350  (41.999, 70.0]           1.0   NaN   NaN   NaN   NaN   NaN   NaN   NaN   \n",
       "2352   (70.0, 100.0]           1.0   NaN   NaN   NaN   NaN   NaN   NaN   NaN   \n",
       "2354  (41.999, 70.0]           1.0   NaN   NaN   NaN   NaN   NaN   NaN   NaN   \n",
       "2361   (70.0, 100.0]           1.0   NaN   NaN   NaN   NaN   NaN   NaN   NaN   \n",
       "\n",
       "      x2_a  ...  x2_d  x3_B S  x3_B S C  x3_B S C L  x3_B S C V  x3_B S C V L  \\\n",
       "0      0.0  ...   1.0     0.0       1.0         0.0         0.0           0.0   \n",
       "1      0.0  ...   0.0     0.0       1.0         0.0         0.0           0.0   \n",
       "2      0.0  ...   0.0     0.0       1.0         0.0         0.0           0.0   \n",
       "3      0.0  ...   1.0     0.0       1.0         0.0         0.0           0.0   \n",
       "4      0.0  ...   0.0     0.0       1.0         0.0         0.0           0.0   \n",
       "...    ...  ...   ...     ...       ...         ...         ...           ...   \n",
       "2349   NaN  ...   NaN     NaN       NaN         NaN         NaN           NaN   \n",
       "2350   NaN  ...   NaN     NaN       NaN         NaN         NaN           NaN   \n",
       "2352   NaN  ...   NaN     NaN       NaN         NaN         NaN           NaN   \n",
       "2354   NaN  ...   NaN     NaN       NaN         NaN         NaN           NaN   \n",
       "2361   NaN  ...   NaN     NaN       NaN         NaN         NaN           NaN   \n",
       "\n",
       "      x3_B S L  x3_B S*  x3_B S* C  x3_B S* C Sa  \n",
       "0          0.0      0.0        0.0           0.0  \n",
       "1          0.0      0.0        0.0           0.0  \n",
       "2          0.0      0.0        0.0           0.0  \n",
       "3          0.0      0.0        0.0           0.0  \n",
       "4          0.0      0.0        0.0           0.0  \n",
       "...        ...      ...        ...           ...  \n",
       "2349       NaN      NaN        NaN           NaN  \n",
       "2350       NaN      NaN        NaN           NaN  \n",
       "2352       NaN      NaN        NaN           NaN  \n",
       "2354       NaN      NaN        NaN           NaN  \n",
       "2361       NaN      NaN        NaN           NaN  \n",
       "\n",
       "[534 rows x 22 columns]"
      ]
     },
     "execution_count": 188,
     "metadata": {},
     "output_type": "execute_result"
    }
   ],
   "source": [
    "X_val_df"
   ]
  },
  {
   "cell_type": "code",
   "execution_count": 189,
   "metadata": {},
   "outputs": [],
   "source": [
    "X_train_df = pd.concat([X_train, X_train_encoded_df], axis=1)\n",
    "X_val_df = pd.concat([X_val, X_val_encoded_df], axis=1)"
   ]
  },
  {
   "cell_type": "code",
   "execution_count": 190,
   "metadata": {},
   "outputs": [
    {
     "data": {
      "text/html": [
       "<div>\n",
       "<style scoped>\n",
       "    .dataframe tbody tr th:only-of-type {\n",
       "        vertical-align: middle;\n",
       "    }\n",
       "\n",
       "    .dataframe tbody tr th {\n",
       "        vertical-align: top;\n",
       "    }\n",
       "\n",
       "    .dataframe thead th {\n",
       "        text-align: right;\n",
       "    }\n",
       "</style>\n",
       "<table border=\"1\" class=\"dataframe\">\n",
       "  <thead>\n",
       "    <tr style=\"text-align: right;\">\n",
       "      <th></th>\n",
       "      <th>review_date_bin</th>\n",
       "      <th>cocoa_bucket</th>\n",
       "      <th>rating_class</th>\n",
       "      <th>bean_origin_bin</th>\n",
       "      <th>comp_manufact_bin</th>\n",
       "      <th>ingredient_list</th>\n",
       "      <th>x0_a</th>\n",
       "      <th>x0_b</th>\n",
       "      <th>x0_c</th>\n",
       "      <th>x1_a</th>\n",
       "      <th>...</th>\n",
       "      <th>x3_B S C</th>\n",
       "      <th>x3_B S C L</th>\n",
       "      <th>x3_B S C V</th>\n",
       "      <th>x3_B S C V L</th>\n",
       "      <th>x3_B S L</th>\n",
       "      <th>x3_B S*</th>\n",
       "      <th>x3_B S* C</th>\n",
       "      <th>x3_B S* C Sa</th>\n",
       "      <th>x4_(41.999, 70.0]</th>\n",
       "      <th>x4_(70.0, 100.0]</th>\n",
       "    </tr>\n",
       "  </thead>\n",
       "  <tbody>\n",
       "    <tr>\n",
       "      <th>0</th>\n",
       "      <td>b</td>\n",
       "      <td>(70.0, 100.0]</td>\n",
       "      <td>1.0</td>\n",
       "      <td>d</td>\n",
       "      <td>b</td>\n",
       "      <td>B S C</td>\n",
       "      <td>1.0</td>\n",
       "      <td>0.0</td>\n",
       "      <td>0.0</td>\n",
       "      <td>0.0</td>\n",
       "      <td>...</td>\n",
       "      <td>0.0</td>\n",
       "      <td>0.0</td>\n",
       "      <td>0.0</td>\n",
       "      <td>1.0</td>\n",
       "      <td>0.0</td>\n",
       "      <td>0.0</td>\n",
       "      <td>0.0</td>\n",
       "      <td>0.0</td>\n",
       "      <td>1.0</td>\n",
       "      <td>0.0</td>\n",
       "    </tr>\n",
       "    <tr>\n",
       "      <th>1</th>\n",
       "      <td>b</td>\n",
       "      <td>(70.0, 100.0]</td>\n",
       "      <td>1.0</td>\n",
       "      <td>d</td>\n",
       "      <td>b</td>\n",
       "      <td>B S C</td>\n",
       "      <td>1.0</td>\n",
       "      <td>0.0</td>\n",
       "      <td>0.0</td>\n",
       "      <td>0.0</td>\n",
       "      <td>...</td>\n",
       "      <td>0.0</td>\n",
       "      <td>0.0</td>\n",
       "      <td>0.0</td>\n",
       "      <td>0.0</td>\n",
       "      <td>0.0</td>\n",
       "      <td>0.0</td>\n",
       "      <td>0.0</td>\n",
       "      <td>0.0</td>\n",
       "      <td>0.0</td>\n",
       "      <td>1.0</td>\n",
       "    </tr>\n",
       "    <tr>\n",
       "      <th>2</th>\n",
       "      <td>b</td>\n",
       "      <td>(70.0, 100.0]</td>\n",
       "      <td>1.0</td>\n",
       "      <td>c</td>\n",
       "      <td>b</td>\n",
       "      <td>B S C</td>\n",
       "      <td>1.0</td>\n",
       "      <td>0.0</td>\n",
       "      <td>0.0</td>\n",
       "      <td>0.0</td>\n",
       "      <td>...</td>\n",
       "      <td>0.0</td>\n",
       "      <td>0.0</td>\n",
       "      <td>0.0</td>\n",
       "      <td>0.0</td>\n",
       "      <td>0.0</td>\n",
       "      <td>0.0</td>\n",
       "      <td>0.0</td>\n",
       "      <td>0.0</td>\n",
       "      <td>1.0</td>\n",
       "      <td>0.0</td>\n",
       "    </tr>\n",
       "    <tr>\n",
       "      <th>3</th>\n",
       "      <td>b</td>\n",
       "      <td>(41.999, 70.0]</td>\n",
       "      <td>1.0</td>\n",
       "      <td>d</td>\n",
       "      <td>d</td>\n",
       "      <td>B S C L</td>\n",
       "      <td>1.0</td>\n",
       "      <td>0.0</td>\n",
       "      <td>0.0</td>\n",
       "      <td>0.0</td>\n",
       "      <td>...</td>\n",
       "      <td>0.0</td>\n",
       "      <td>0.0</td>\n",
       "      <td>1.0</td>\n",
       "      <td>0.0</td>\n",
       "      <td>0.0</td>\n",
       "      <td>0.0</td>\n",
       "      <td>0.0</td>\n",
       "      <td>0.0</td>\n",
       "      <td>0.0</td>\n",
       "      <td>1.0</td>\n",
       "    </tr>\n",
       "    <tr>\n",
       "      <th>4</th>\n",
       "      <td>NaN</td>\n",
       "      <td>NaN</td>\n",
       "      <td>NaN</td>\n",
       "      <td>NaN</td>\n",
       "      <td>NaN</td>\n",
       "      <td>NaN</td>\n",
       "      <td>0.0</td>\n",
       "      <td>1.0</td>\n",
       "      <td>0.0</td>\n",
       "      <td>0.0</td>\n",
       "      <td>...</td>\n",
       "      <td>1.0</td>\n",
       "      <td>0.0</td>\n",
       "      <td>0.0</td>\n",
       "      <td>0.0</td>\n",
       "      <td>0.0</td>\n",
       "      <td>0.0</td>\n",
       "      <td>0.0</td>\n",
       "      <td>0.0</td>\n",
       "      <td>1.0</td>\n",
       "      <td>0.0</td>\n",
       "    </tr>\n",
       "    <tr>\n",
       "      <th>...</th>\n",
       "      <td>...</td>\n",
       "      <td>...</td>\n",
       "      <td>...</td>\n",
       "      <td>...</td>\n",
       "      <td>...</td>\n",
       "      <td>...</td>\n",
       "      <td>...</td>\n",
       "      <td>...</td>\n",
       "      <td>...</td>\n",
       "      <td>...</td>\n",
       "      <td>...</td>\n",
       "      <td>...</td>\n",
       "      <td>...</td>\n",
       "      <td>...</td>\n",
       "      <td>...</td>\n",
       "      <td>...</td>\n",
       "      <td>...</td>\n",
       "      <td>...</td>\n",
       "      <td>...</td>\n",
       "      <td>...</td>\n",
       "      <td>...</td>\n",
       "    </tr>\n",
       "    <tr>\n",
       "      <th>2355</th>\n",
       "      <td>b</td>\n",
       "      <td>(70.0, 100.0]</td>\n",
       "      <td>1.0</td>\n",
       "      <td>d</td>\n",
       "      <td>d</td>\n",
       "      <td>B S* C Sa</td>\n",
       "      <td>NaN</td>\n",
       "      <td>NaN</td>\n",
       "      <td>NaN</td>\n",
       "      <td>NaN</td>\n",
       "      <td>...</td>\n",
       "      <td>NaN</td>\n",
       "      <td>NaN</td>\n",
       "      <td>NaN</td>\n",
       "      <td>NaN</td>\n",
       "      <td>NaN</td>\n",
       "      <td>NaN</td>\n",
       "      <td>NaN</td>\n",
       "      <td>NaN</td>\n",
       "      <td>NaN</td>\n",
       "      <td>NaN</td>\n",
       "    </tr>\n",
       "    <tr>\n",
       "      <th>2356</th>\n",
       "      <td>b</td>\n",
       "      <td>(70.0, 100.0]</td>\n",
       "      <td>1.0</td>\n",
       "      <td>b</td>\n",
       "      <td>d</td>\n",
       "      <td>B S* C Sa</td>\n",
       "      <td>NaN</td>\n",
       "      <td>NaN</td>\n",
       "      <td>NaN</td>\n",
       "      <td>NaN</td>\n",
       "      <td>...</td>\n",
       "      <td>NaN</td>\n",
       "      <td>NaN</td>\n",
       "      <td>NaN</td>\n",
       "      <td>NaN</td>\n",
       "      <td>NaN</td>\n",
       "      <td>NaN</td>\n",
       "      <td>NaN</td>\n",
       "      <td>NaN</td>\n",
       "      <td>NaN</td>\n",
       "      <td>NaN</td>\n",
       "    </tr>\n",
       "    <tr>\n",
       "      <th>2357</th>\n",
       "      <td>c</td>\n",
       "      <td>(70.0, 100.0]</td>\n",
       "      <td>0.0</td>\n",
       "      <td>d</td>\n",
       "      <td>d</td>\n",
       "      <td>B S* C Sa</td>\n",
       "      <td>NaN</td>\n",
       "      <td>NaN</td>\n",
       "      <td>NaN</td>\n",
       "      <td>NaN</td>\n",
       "      <td>...</td>\n",
       "      <td>NaN</td>\n",
       "      <td>NaN</td>\n",
       "      <td>NaN</td>\n",
       "      <td>NaN</td>\n",
       "      <td>NaN</td>\n",
       "      <td>NaN</td>\n",
       "      <td>NaN</td>\n",
       "      <td>NaN</td>\n",
       "      <td>NaN</td>\n",
       "      <td>NaN</td>\n",
       "    </tr>\n",
       "    <tr>\n",
       "      <th>2358</th>\n",
       "      <td>a</td>\n",
       "      <td>(70.0, 100.0]</td>\n",
       "      <td>1.0</td>\n",
       "      <td>c</td>\n",
       "      <td>d</td>\n",
       "      <td>B S C</td>\n",
       "      <td>NaN</td>\n",
       "      <td>NaN</td>\n",
       "      <td>NaN</td>\n",
       "      <td>NaN</td>\n",
       "      <td>...</td>\n",
       "      <td>NaN</td>\n",
       "      <td>NaN</td>\n",
       "      <td>NaN</td>\n",
       "      <td>NaN</td>\n",
       "      <td>NaN</td>\n",
       "      <td>NaN</td>\n",
       "      <td>NaN</td>\n",
       "      <td>NaN</td>\n",
       "      <td>NaN</td>\n",
       "      <td>NaN</td>\n",
       "    </tr>\n",
       "    <tr>\n",
       "      <th>2359</th>\n",
       "      <td>c</td>\n",
       "      <td>(70.0, 100.0]</td>\n",
       "      <td>1.0</td>\n",
       "      <td>c</td>\n",
       "      <td>d</td>\n",
       "      <td>B S C</td>\n",
       "      <td>NaN</td>\n",
       "      <td>NaN</td>\n",
       "      <td>NaN</td>\n",
       "      <td>NaN</td>\n",
       "      <td>...</td>\n",
       "      <td>NaN</td>\n",
       "      <td>NaN</td>\n",
       "      <td>NaN</td>\n",
       "      <td>NaN</td>\n",
       "      <td>NaN</td>\n",
       "      <td>NaN</td>\n",
       "      <td>NaN</td>\n",
       "      <td>NaN</td>\n",
       "      <td>NaN</td>\n",
       "      <td>NaN</td>\n",
       "    </tr>\n",
       "  </tbody>\n",
       "</table>\n",
       "<p>2136 rows × 28 columns</p>\n",
       "</div>"
      ],
      "text/plain": [
       "     review_date_bin    cocoa_bucket  rating_class bean_origin_bin  \\\n",
       "0                  b   (70.0, 100.0]           1.0               d   \n",
       "1                  b   (70.0, 100.0]           1.0               d   \n",
       "2                  b   (70.0, 100.0]           1.0               c   \n",
       "3                  b  (41.999, 70.0]           1.0               d   \n",
       "4                NaN             NaN           NaN             NaN   \n",
       "...              ...             ...           ...             ...   \n",
       "2355               b   (70.0, 100.0]           1.0               d   \n",
       "2356               b   (70.0, 100.0]           1.0               b   \n",
       "2357               c   (70.0, 100.0]           0.0               d   \n",
       "2358               a   (70.0, 100.0]           1.0               c   \n",
       "2359               c   (70.0, 100.0]           1.0               c   \n",
       "\n",
       "     comp_manufact_bin ingredient_list  x0_a  x0_b  x0_c  x1_a  ...  x3_B S C  \\\n",
       "0                    b           B S C   1.0   0.0   0.0   0.0  ...       0.0   \n",
       "1                    b           B S C   1.0   0.0   0.0   0.0  ...       0.0   \n",
       "2                    b           B S C   1.0   0.0   0.0   0.0  ...       0.0   \n",
       "3                    d         B S C L   1.0   0.0   0.0   0.0  ...       0.0   \n",
       "4                  NaN             NaN   0.0   1.0   0.0   0.0  ...       1.0   \n",
       "...                ...             ...   ...   ...   ...   ...  ...       ...   \n",
       "2355                 d       B S* C Sa   NaN   NaN   NaN   NaN  ...       NaN   \n",
       "2356                 d       B S* C Sa   NaN   NaN   NaN   NaN  ...       NaN   \n",
       "2357                 d       B S* C Sa   NaN   NaN   NaN   NaN  ...       NaN   \n",
       "2358                 d           B S C   NaN   NaN   NaN   NaN  ...       NaN   \n",
       "2359                 d           B S C   NaN   NaN   NaN   NaN  ...       NaN   \n",
       "\n",
       "      x3_B S C L  x3_B S C V  x3_B S C V L  x3_B S L  x3_B S*  x3_B S* C  \\\n",
       "0            0.0         0.0           1.0       0.0      0.0        0.0   \n",
       "1            0.0         0.0           0.0       0.0      0.0        0.0   \n",
       "2            0.0         0.0           0.0       0.0      0.0        0.0   \n",
       "3            0.0         1.0           0.0       0.0      0.0        0.0   \n",
       "4            0.0         0.0           0.0       0.0      0.0        0.0   \n",
       "...          ...         ...           ...       ...      ...        ...   \n",
       "2355         NaN         NaN           NaN       NaN      NaN        NaN   \n",
       "2356         NaN         NaN           NaN       NaN      NaN        NaN   \n",
       "2357         NaN         NaN           NaN       NaN      NaN        NaN   \n",
       "2358         NaN         NaN           NaN       NaN      NaN        NaN   \n",
       "2359         NaN         NaN           NaN       NaN      NaN        NaN   \n",
       "\n",
       "      x3_B S* C Sa  x4_(41.999, 70.0]  x4_(70.0, 100.0]  \n",
       "0              0.0                1.0               0.0  \n",
       "1              0.0                0.0               1.0  \n",
       "2              0.0                1.0               0.0  \n",
       "3              0.0                0.0               1.0  \n",
       "4              0.0                1.0               0.0  \n",
       "...            ...                ...               ...  \n",
       "2355           NaN                NaN               NaN  \n",
       "2356           NaN                NaN               NaN  \n",
       "2357           NaN                NaN               NaN  \n",
       "2358           NaN                NaN               NaN  \n",
       "2359           NaN                NaN               NaN  \n",
       "\n",
       "[2136 rows x 28 columns]"
      ]
     },
     "execution_count": 190,
     "metadata": {},
     "output_type": "execute_result"
    }
   ],
   "source": [
    "X_train_df"
   ]
  },
  {
   "cell_type": "code",
   "execution_count": 191,
   "metadata": {},
   "outputs": [],
   "source": [
    "X_train_df = X_train_df.drop(['review_date_bin','bean_origin_bin','comp_manufact_bin','ingredient_list','cocoa_bucket'], axis=1)\n",
    "X_val_df = X_val_df.drop(['review_date_bin','bean_origin_bin','comp_manufact_bin','ingredient_list','cocoa_bucket'], axis=1)"
   ]
  },
  {
   "cell_type": "code",
   "execution_count": 192,
   "metadata": {},
   "outputs": [
    {
     "data": {
      "text/plain": [
       "rating_class         float64\n",
       "x0_a                 float64\n",
       "x0_b                 float64\n",
       "x0_c                 float64\n",
       "x1_a                 float64\n",
       "x1_b                 float64\n",
       "x1_c                 float64\n",
       "x1_d                 float64\n",
       "x2_a                 float64\n",
       "x2_b                 float64\n",
       "x2_c                 float64\n",
       "x2_d                 float64\n",
       "x3_B S               float64\n",
       "x3_B S C             float64\n",
       "x3_B S C L           float64\n",
       "x3_B S C V           float64\n",
       "x3_B S C V L         float64\n",
       "x3_B S L             float64\n",
       "x3_B S*              float64\n",
       "x3_B S* C            float64\n",
       "x3_B S* C Sa         float64\n",
       "x4_(41.999, 70.0]    float64\n",
       "x4_(70.0, 100.0]     float64\n",
       "dtype: object"
      ]
     },
     "execution_count": 192,
     "metadata": {},
     "output_type": "execute_result"
    }
   ],
   "source": [
    "X_train_df.dtypes"
   ]
  },
  {
   "cell_type": "markdown",
   "metadata": {},
   "source": [
    "### Baseline Logistic Regression ###"
   ]
  },
  {
   "cell_type": "code",
   "execution_count": 261,
   "metadata": {},
   "outputs": [],
   "source": [
    "from sklearn.metrics import accuracy_score\n",
    "from sklearn.metrics import f1_score"
   ]
  },
  {
   "cell_type": "code",
   "execution_count": 210,
   "metadata": {},
   "outputs": [],
   "source": [
    "# Instantiate LogisticRegression\n",
    "logreg = LogisticRegression(solver='liblinear')"
   ]
  },
  {
   "cell_type": "code",
   "execution_count": 262,
   "metadata": {},
   "outputs": [],
   "source": [
    "def modeling_function(model, X_train, y_train, X_val, y_val):\n",
    "\n",
    "    # fit model on training data\n",
    "    model.fit(X_train, y_train)\n",
    "\n",
    "    # make predictions on training and validation data\n",
    "    train_preds = model.predict(X_train)\n",
    "    val_preds = model.predict(X_val)\n",
    "\n",
    "    # Print accuracy score\n",
    "    print('Training score: ', f1_score(y_train, train_preds))\n",
    "    print('Validation score: ', f1_score(y_val, val_preds))\n",
    "\n",
    "    # return fitted model\n",
    "    return model"
   ]
  },
  {
   "cell_type": "code",
   "execution_count": 263,
   "metadata": {},
   "outputs": [
    {
     "name": "stdout",
     "output_type": "stream",
     "text": [
      "Training score:  0.873653984206748\n",
      "Validation score:  0.8951612903225806\n"
     ]
    }
   ],
   "source": [
    "# call modeling function\n",
    "logreg = modeling_function(logreg, X_train_encoded_df, y_train, X_val_encoded_df, y_val)"
   ]
  },
  {
   "cell_type": "markdown",
   "metadata": {},
   "source": [
    "### Confusion Matrix ###"
   ]
  },
  {
   "cell_type": "code",
   "execution_count": 264,
   "metadata": {},
   "outputs": [],
   "source": [
    "from sklearn.metrics import plot_confusion_matrix"
   ]
  },
  {
   "cell_type": "code",
   "execution_count": 265,
   "metadata": {},
   "outputs": [
    {
     "data": {
      "text/plain": [
       "<sklearn.metrics._plot.confusion_matrix.ConfusionMatrixDisplay at 0x121985f40>"
      ]
     },
     "execution_count": 265,
     "metadata": {},
     "output_type": "execute_result"
    },
    {
     "data": {
      "image/png": "[encoded data removed]",
      "text/plain": [
       "<Figure size 432x288 with 2 Axes>"
      ]
     },
     "metadata": {
      "needs_background": "light"
     },
     "output_type": "display_data"
    }
   ],
   "source": [
    "plot_confusion_matrix(logreg, X_train_encoded_df, y_train)"
   ]
  },
  {
   "cell_type": "code",
   "execution_count": 266,
   "metadata": {},
   "outputs": [
    {
     "data": {
      "text/plain": [
       "1    1253\n",
       "0     358\n",
       "Name: rating_class, dtype: int64"
      ]
     },
     "execution_count": 266,
     "metadata": {},
     "output_type": "execute_result"
    }
   ],
   "source": [
    "y_train.value_counts()"
   ]
  },
  {
   "cell_type": "markdown",
   "metadata": {},
   "source": [
    "##### SMOTE #####"
   ]
  },
  {
   "cell_type": "markdown",
   "metadata": {},
   "source": [
    "to help fix this class imbalance and hopefully improve the model."
   ]
  },
  {
   "cell_type": "code",
   "execution_count": 267,
   "metadata": {},
   "outputs": [],
   "source": [
    "from imblearn.over_sampling import SMOTE"
   ]
  },
  {
   "cell_type": "code",
   "execution_count": 268,
   "metadata": {},
   "outputs": [],
   "source": [
    "sm = SMOTE(random_state=42)"
   ]
  },
  {
   "cell_type": "code",
   "execution_count": 269,
   "metadata": {},
   "outputs": [],
   "source": [
    "X_train_res, y_train_res = sm.fit_resample(X_train_encoded_df, y_train)"
   ]
  },
  {
   "cell_type": "code",
   "execution_count": 270,
   "metadata": {},
   "outputs": [
    {
     "data": {
      "text/plain": [
       "1    1253\n",
       "0    1253\n",
       "Name: rating_class, dtype: int64"
      ]
     },
     "execution_count": 270,
     "metadata": {},
     "output_type": "execute_result"
    }
   ],
   "source": [
    "y_train_res.value_counts()"
   ]
  },
  {
   "cell_type": "markdown",
   "metadata": {},
   "source": [
    "### Second LogisticRegression ###"
   ]
  },
  {
   "cell_type": "markdown",
   "metadata": {},
   "source": [
    "the class imbalance has been fixed!!"
   ]
  },
  {
   "cell_type": "code",
   "execution_count": 271,
   "metadata": {},
   "outputs": [],
   "source": [
    "# Instantiate second LogisticRegression\n",
    "logreg2 = LogisticRegression(solver='liblinear')"
   ]
  },
  {
   "cell_type": "code",
   "execution_count": 272,
   "metadata": {},
   "outputs": [
    {
     "data": {
      "text/plain": [
       "LogisticRegression(solver='liblinear')"
      ]
     },
     "execution_count": 272,
     "metadata": {},
     "output_type": "execute_result"
    }
   ],
   "source": [
    "logreg2.fit(X_train_res, y_train_res)"
   ]
  },
  {
   "cell_type": "code",
   "execution_count": 273,
   "metadata": {},
   "outputs": [
    {
     "name": "stdout",
     "output_type": "stream",
     "text": [
      "Training score:  0.6671785028790786\n",
      "Validation score:  0.7775061124694377\n"
     ]
    }
   ],
   "source": [
    "# call modeling function\n",
    "logreg2 = modeling_function(logreg2, X_train_res, y_train_res, X_val_encoded_df, y_val)"
   ]
  },
  {
   "cell_type": "code",
   "execution_count": 274,
   "metadata": {},
   "outputs": [
    {
     "data": {
      "text/plain": [
       "<sklearn.metrics._plot.confusion_matrix.ConfusionMatrixDisplay at 0x1246b4f10>"
      ]
     },
     "execution_count": 274,
     "metadata": {},
     "output_type": "execute_result"
    },
    {
     "data": {
      "image/png": "[encoded data removed]",
      "text/plain": [
       "<Figure size 432x288 with 2 Axes>"
      ]
     },
     "metadata": {
      "needs_background": "light"
     },
     "output_type": "display_data"
    }
   ],
   "source": [
    "plot_confusion_matrix(logreg2, X_train_res, y_train_res)"
   ]
  },
  {
   "cell_type": "code",
   "execution_count": 275,
   "metadata": {},
   "outputs": [
    {
     "data": {
      "text/plain": [
       "<sklearn.metrics._plot.confusion_matrix.ConfusionMatrixDisplay at 0x123f153a0>"
      ]
     },
     "execution_count": 275,
     "metadata": {},
     "output_type": "execute_result"
    },
    {
     "data": {
      "image/png": "[encoded data removed]",
      "text/plain": [
       "<Figure size 432x288 with 2 Axes>"
      ]
     },
     "metadata": {
      "needs_background": "light"
     },
     "output_type": "display_data"
    }
   ],
   "source": [
    "plot_confusion_matrix(logreg2, X_val_encoded_df, y_val)"
   ]
  },
  {
   "cell_type": "markdown",
   "metadata": {},
   "source": [
    "## Third LogisticRegression ##"
   ]
  },
  {
   "cell_type": "markdown",
   "metadata": {},
   "source": [
    "#### adding hyperperameters"
   ]
  },
  {
   "cell_type": "code",
   "execution_count": 276,
   "metadata": {},
   "outputs": [],
   "source": [
    "logreg3 = LogisticRegression(solver='liblinear', penalty='l1', C=.75)"
   ]
  },
  {
   "cell_type": "code",
   "execution_count": 277,
   "metadata": {},
   "outputs": [
    {
     "name": "stdout",
     "output_type": "stream",
     "text": [
      "Training score:  0.6725123903926802\n",
      "Validation score:  0.7893462469733655\n"
     ]
    }
   ],
   "source": [
    "# Call modeling function\n",
    "logreg3 = modeling_function(logreg3, X_train_res, y_train_res, X_val_encoded_df, y_val)"
   ]
  },
  {
   "cell_type": "code",
   "execution_count": 278,
   "metadata": {},
   "outputs": [],
   "source": [
    "#logistic regression = bad"
   ]
  },
  {
   "cell_type": "markdown",
   "metadata": {},
   "source": [
    "## --------------"
   ]
  },
  {
   "cell_type": "markdown",
   "metadata": {},
   "source": [
    "### Decision Tree Time!!!"
   ]
  },
  {
   "cell_type": "code",
   "execution_count": 279,
   "metadata": {},
   "outputs": [],
   "source": [
    "dt = DecisionTreeClassifier(random_state=42, max_depth=2)"
   ]
  },
  {
   "cell_type": "code",
   "execution_count": 280,
   "metadata": {},
   "outputs": [
    {
     "name": "stdout",
     "output_type": "stream",
     "text": [
      "Training score:  0.6937916520519115\n",
      "Validation score:  0.8428246013667425\n"
     ]
    }
   ],
   "source": [
    "dt = modeling_function(dt, X_train_res, y_train_res, X_val_encoded_df, y_val)"
   ]
  },
  {
   "cell_type": "code",
   "execution_count": 281,
   "metadata": {},
   "outputs": [
    {
     "data": {
      "text/plain": [
       "<sklearn.metrics._plot.confusion_matrix.ConfusionMatrixDisplay at 0x123f15520>"
      ]
     },
     "execution_count": 281,
     "metadata": {},
     "output_type": "execute_result"
    },
    {
     "data": {
      "image/png": "[encoded data removed]",
      "text/plain": [
       "<Figure size 432x288 with 2 Axes>"
      ]
     },
     "metadata": {
      "needs_background": "light"
     },
     "output_type": "display_data"
    }
   ],
   "source": [
    "plot_confusion_matrix(dt, X_train_res, y_train_res)"
   ]
  },
  {
   "cell_type": "code",
   "execution_count": 282,
   "metadata": {},
   "outputs": [
    {
     "data": {
      "text/plain": [
       "<sklearn.metrics._plot.confusion_matrix.ConfusionMatrixDisplay at 0x1224b33d0>"
      ]
     },
     "execution_count": 282,
     "metadata": {},
     "output_type": "execute_result"
    },
    {
     "data": {
      "image/png": "[encoded data removed]",
      "text/plain": [
       "<Figure size 432x288 with 2 Axes>"
      ]
     },
     "metadata": {
      "needs_background": "light"
     },
     "output_type": "display_data"
    }
   ],
   "source": [
    "plot_confusion_matrix(dt, X_val_encoded_df, y_val)"
   ]
  },
  {
   "cell_type": "markdown",
   "metadata": {},
   "source": [
    "##### Decision Tree with Hyperperameters"
   ]
  },
  {
   "cell_type": "code",
   "execution_count": 283,
   "metadata": {},
   "outputs": [],
   "source": [
    "dt2 = DecisionTreeClassifier(random_state=42, max_depth=10, criterion='entropy', min_samples_leaf=5)"
   ]
  },
  {
   "cell_type": "code",
   "execution_count": 284,
   "metadata": {},
   "outputs": [
    {
     "name": "stdout",
     "output_type": "stream",
     "text": [
      "Training score:  0.7794871794871795\n",
      "Validation score:  0.7981220657276995\n"
     ]
    }
   ],
   "source": [
    "dt2 = modeling_function(dt2, X_train_res, y_train_res, X_val_encoded_df, y_val)"
   ]
  },
  {
   "cell_type": "markdown",
   "metadata": {},
   "source": [
    "### GridSearchCV"
   ]
  },
  {
   "cell_type": "code",
   "execution_count": 307,
   "metadata": {},
   "outputs": [],
   "source": [
    "from sklearn.model_selection import train_test_split, GridSearchCV, cross_val_score"
   ]
  },
  {
   "cell_type": "code",
   "execution_count": 309,
   "metadata": {},
   "outputs": [
    {
     "data": {
      "text/plain": [
       "{'criterion': 'gini', 'max_depth': 4, 'max_leaf_nodes': 14}"
      ]
     },
     "execution_count": 309,
     "metadata": {},
     "output_type": "execute_result"
    }
   ],
   "source": [
    "param_grid = {'criterion' : ['gini', 'entropy'], 'max_depth' : [2,3,4,5,6,7,8,9,10], 'max_leaf_nodes': [2,3,4,5,6,7,8,9,10,11,12,13,14]}\n",
    "dt3 = DecisionTreeClassifier()\n",
    "dt3_gs = GridSearchCV(estimator=dt3, param_grid=param_grid, scoring=None)\n",
    "dt3_gs.fit(X_train_res,  y_train_res)\n",
    "best_params = dt3_gs.best_params_\n",
    "best_params"
   ]
  },
  {
   "cell_type": "code",
   "execution_count": 310,
   "metadata": {},
   "outputs": [
    {
     "name": "stdout",
     "output_type": "stream",
     "text": [
      "Training score:  0.7174651075066013\n",
      "Validation score:  0.8226950354609929\n"
     ]
    }
   ],
   "source": [
    "dt3_gs = modeling_function(dt3_gs, X_train_res, y_train_res, X_val_encoded_df, y_val)"
   ]
  },
  {
   "cell_type": "markdown",
   "metadata": {},
   "source": [
    "### RandomForestClassifier"
   ]
  },
  {
   "cell_type": "code",
   "execution_count": 288,
   "metadata": {},
   "outputs": [],
   "source": [
    "rf = RandomForestClassifier(random_state=42)"
   ]
  },
  {
   "cell_type": "code",
   "execution_count": 289,
   "metadata": {},
   "outputs": [
    {
     "name": "stdout",
     "output_type": "stream",
     "text": [
      "Training score:  0.8436419515943143\n",
      "Validation score:  0.8089887640449439\n"
     ]
    }
   ],
   "source": [
    "rf = modeling_function(rf, X_train_res, y_train_res, X_val_encoded_df, y_val)"
   ]
  },
  {
   "cell_type": "code",
   "execution_count": null,
   "metadata": {},
   "outputs": [],
   "source": []
  },
  {
   "cell_type": "markdown",
   "metadata": {},
   "source": [
    "1st logreg is good and random forest is good too"
   ]
  },
  {
   "cell_type": "markdown",
   "metadata": {},
   "source": [
    "#### RandomForestClassifier with Hyperperameters¶"
   ]
  },
  {
   "cell_type": "code",
   "execution_count": 303,
   "metadata": {},
   "outputs": [],
   "source": [
    "rf2 = RandomForestClassifier(random_state=42, max_depth=15, criterion='entropy', min_samples_leaf=5)"
   ]
  },
  {
   "cell_type": "code",
   "execution_count": 304,
   "metadata": {},
   "outputs": [
    {
     "name": "stdout",
     "output_type": "stream",
     "text": [
      "Training score:  0.8174114021571648\n",
      "Validation score:  0.8237986270022883\n"
     ]
    }
   ],
   "source": [
    "rf2 = modeling_function(rf2, X_train_res, y_train_res, X_val_encoded_df, y_val)"
   ]
  },
  {
   "cell_type": "markdown",
   "metadata": {},
   "source": [
    "### Random Forest with Grid Search"
   ]
  },
  {
   "cell_type": "code",
   "execution_count": 322,
   "metadata": {},
   "outputs": [
    {
     "data": {
      "text/plain": [
       "{'class_weight': {0: 0.78, 1: 0.22},\n",
       " 'criterion': 'entropy',\n",
       " 'max_depth': 4,\n",
       " 'max_leaf_nodes': 14}"
      ]
     },
     "execution_count": 322,
     "metadata": {},
     "output_type": "execute_result"
    }
   ],
   "source": [
    "#with class weight\n",
    "param_grid = {'criterion' : ['gini', 'entropy'], 'max_depth' : [2,3,4,5,6,7,8,9,10], 'max_leaf_nodes': [2,3,4,5,6,7,8,9,10,11,12,13,14], 'class_weight' : [{0:0.78 , 1:0.22}]}\n",
    "rfc3 = RandomForestClassifier()\n",
    "rfc3_gs = GridSearchCV(estimator=rfc3, param_grid=param_grid, scoring=None, n_jobs=-1)\n",
    "rfc3_gs.fit(X_train_encoded_df,  y_train)\n",
    "best_params = rfc3_gs.best_params_\n",
    "best_params"
   ]
  },
  {
   "cell_type": "code",
   "execution_count": 320,
   "metadata": {},
   "outputs": [
    {
     "name": "stdout",
     "output_type": "stream",
     "text": [
      "Training score:  0.9005979073243647\n",
      "Validation score:  0.872651356993737\n"
     ]
    }
   ],
   "source": [
    "rfc3 = modeling_function(rfc3, X_train_encoded_df, y_train, X_val_encoded_df, y_val)"
   ]
  },
  {
   "cell_type": "code",
   "execution_count": 326,
   "metadata": {},
   "outputs": [
    {
     "data": {
      "text/plain": [
       "{'criterion': 'gini', 'max_depth': 9, 'max_leaf_nodes': 14}"
      ]
     },
     "execution_count": 326,
     "metadata": {},
     "output_type": "execute_result"
    }
   ],
   "source": [
    "#without class weight\n",
    "param_grid = {'criterion' : ['gini', 'entropy'], 'max_depth' : [2,3,4,5,6,7,8,9,10], 'max_leaf_nodes': [2,3,4,5,6,7,8,9,10,11,12,13,14]}\n",
    "rfc4 = RandomForestClassifier()\n",
    "rfc4_gs = GridSearchCV(estimator=rfc4, param_grid=param_grid, scoring=None, n_jobs=-1)\n",
    "rfc4_gs.fit(X_train_res,  y_train_res)\n",
    "best_params = rfc4_gs.best_params_\n",
    "best_params"
   ]
  },
  {
   "cell_type": "code",
   "execution_count": 327,
   "metadata": {},
   "outputs": [
    {
     "name": "stdout",
     "output_type": "stream",
     "text": [
      "Training score:  0.844834159359512\n",
      "Validation score:  0.8195991091314031\n"
     ]
    }
   ],
   "source": [
    "rfc4 = modeling_function(rfc4, X_train_res, y_train_res, X_val_encoded_df, y_val)"
   ]
  },
  {
   "cell_type": "markdown",
   "metadata": {},
   "source": [
    "with class weight is better than without class weight"
   ]
  },
  {
   "cell_type": "markdown",
   "metadata": {},
   "source": [
    "### XG Boost Model ###"
   ]
  },
  {
   "cell_type": "markdown",
   "metadata": {},
   "source": [
    "*** this model is worse ***"
   ]
  },
  {
   "cell_type": "code",
   "execution_count": 329,
   "metadata": {},
   "outputs": [],
   "source": [
    "from xgboost import XGBClassifier"
   ]
  },
  {
   "cell_type": "code",
   "execution_count": 346,
   "metadata": {},
   "outputs": [
    {
     "name": "stderr",
     "output_type": "stream",
     "text": [
      "/Users/dorothyalexander/opt/anaconda3/envs/learn-env/lib/python3.8/site-packages/xgboost/sklearn.py:888: UserWarning: The use of label encoder in XGBClassifier is deprecated and will be removed in a future release. To remove this warning, do the following: 1) Pass option use_label_encoder=False when constructing XGBClassifier object; and 2) Encode your labels (y) as integers starting with 0, i.e. 0, 1, 2, ..., [num_class - 1].\n",
      "  warnings.warn(label_encoder_deprecation_msg, UserWarning)\n"
     ]
    },
    {
     "name": "stdout",
     "output_type": "stream",
     "text": [
      "[15:31:39] WARNING: /opt/concourse/worker/volumes/live/7a2b9f41-3287-451b-6691-43e9a6c0910f/volume/xgboost-split_1619728204606/work/src/learner.cc:1061: Starting in XGBoost 1.3.0, the default evaluation metric used with the objective 'binary:logistic' was changed from 'error' to 'logloss'. Explicitly set eval_metric if you'd like to restore the old behavior.\n",
      "Training Score: 84.15%\n",
      "Validation Score: 81.35%\n"
     ]
    }
   ],
   "source": [
    "# Instantiate XGBClassifier\n",
    "clf = XGBClassifier()\n",
    "\n",
    "# Fit XGBClassifier\n",
    "clf.fit(X_train_res, y_train_res)\n",
    "\n",
    "# Predict on training and test sets\n",
    "training_preds = clf.predict(X_train_res)\n",
    "test_preds = clf.predict(X_val_encoded_df)\n",
    "\n",
    "# Accuracy of training and test sets\n",
    "training_score = f1_score(y_train_res, training_preds)\n",
    "test_score = f1_score(y_val, test_preds)\n",
    "\n",
    "print('Training Score: {:.4}%'.format(training_score * 100))\n",
    "print('Validation Score: {:.4}%'.format(test_score * 100))"
   ]
  },
  {
   "cell_type": "code",
   "execution_count": 342,
   "metadata": {},
   "outputs": [],
   "source": [
    "X_train_res = X_train_res.rename({'x1_(41.999, 70.0]':'x1_lower', 'x1_(70.0, 100.0]':'x1_higher'}, axis='columns')"
   ]
  },
  {
   "cell_type": "code",
   "execution_count": 345,
   "metadata": {},
   "outputs": [],
   "source": [
    "X_val_encoded_df = X_val_encoded_df.rename({'x1_(41.999, 70.0]':'x1_lower', 'x1_(70.0, 100.0]':'x1_higher'}, axis='columns')"
   ]
  },
  {
   "cell_type": "code",
   "execution_count": null,
   "metadata": {},
   "outputs": [],
   "source": []
  }
 ],
 "metadata": {
  "kernelspec": {
   "display_name": "learn-env",
   "language": "python",
   "name": "learn-env"
  },
  "language_info": {
   "codemirror_mode": {
    "name": "ipython",
    "version": 3
   },
   "file_extension": ".py",
   "mimetype": "text/x-python",
   "name": "python",
   "nbconvert_exporter": "python",
   "pygments_lexer": "ipython3",
   "version": "3.8.5"
  }
 },
 "nbformat": 4,
 "nbformat_minor": 4
}
