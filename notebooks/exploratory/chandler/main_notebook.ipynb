{
 "cells": [
  {
   "cell_type": "markdown",
   "metadata": {
    "tags": []
   },
   "source": [
    "# Chocolate Rating Analysis"
   ]
  },
  {
   "cell_type": "markdown",
   "metadata": {
    "jp-MarkdownHeadingCollapsed": true,
    "tags": []
   },
   "source": [
    "# Web scraping data to then process, clean, etc. in the notebook."
   ]
  },
  {
   "cell_type": "code",
   "execution_count": 1,
   "metadata": {},
   "outputs": [],
   "source": [
    "# import warnings\n",
    "# warnings.filterwarnings('ignore')\n",
    "\n",
    "# from requests import get\n",
    "# from bs4 import BeautifulSoup\n",
    "# import pandas as pd\n",
    "# from selenium import webdriver\n",
    "# import chromedriver_autoinstaller\n",
    "# def create_driver(headless=True):\n",
    "#     driver = chromedriver_autoinstaller.install(cwd=True)\n",
    "#     chrome_options = webdriver.ChromeOptions()     \n",
    "#     if headless:\n",
    "#         chrome_options.add_argument(\"--headless\")\n",
    "#     driver = webdriver.Chrome(driver, \n",
    "#                              chrome_options = chrome_options)\n",
    "#     return driver\n",
    "# driver = create_driver()"
   ]
  },
  {
   "cell_type": "code",
   "execution_count": 2,
   "metadata": {},
   "outputs": [],
   "source": [
    "# driver.get(\"http://flavorsofcacao.com/chocolate_database.html\")"
   ]
  },
  {
   "cell_type": "code",
   "execution_count": 3,
   "metadata": {},
   "outputs": [],
   "source": [
    "# div_id = \"spryregion1\"\n",
    "\n",
    "# html = driver.page_source\n",
    "# soup = BeautifulSoup(html)\n",
    "# div = soup.find('div', {'id':div_id})\n",
    "# # div\n",
    "\n",
    "# table = div.find('table')\n",
    "# table\n"
   ]
  },
  {
   "cell_type": "code",
   "execution_count": 4,
   "metadata": {},
   "outputs": [],
   "source": [
    "# pd.read_html(str(table))[0]"
   ]
  },
  {
   "cell_type": "code",
   "execution_count": 5,
   "metadata": {},
   "outputs": [],
   "source": [
    "# df.to_csv('../../../data/chocolate.csv', index=False)"
   ]
  },
  {
   "cell_type": "markdown",
   "metadata": {},
   "source": [
    "# Importing Necessary Python Libraries "
   ]
  },
  {
   "cell_type": "code",
   "execution_count": 6,
   "metadata": {},
   "outputs": [
    {
     "data": {
      "text/html": [
       "<div>\n",
       "<style scoped>\n",
       "    .dataframe tbody tr th:only-of-type {\n",
       "        vertical-align: middle;\n",
       "    }\n",
       "\n",
       "    .dataframe tbody tr th {\n",
       "        vertical-align: top;\n",
       "    }\n",
       "\n",
       "    .dataframe thead th {\n",
       "        text-align: right;\n",
       "    }\n",
       "</style>\n",
       "<table border=\"1\" class=\"dataframe\">\n",
       "  <thead>\n",
       "    <tr style=\"text-align: right;\">\n",
       "      <th></th>\n",
       "      <th>REF</th>\n",
       "      <th>Company (Manufacturer)</th>\n",
       "      <th>Company Location</th>\n",
       "      <th>Review Date</th>\n",
       "      <th>Country of Bean Origin</th>\n",
       "      <th>Specific Bean Origin or Bar Name</th>\n",
       "      <th>Cocoa Percent</th>\n",
       "      <th>Ingredients</th>\n",
       "      <th>Most Memorable Characteristics</th>\n",
       "      <th>Rating</th>\n",
       "    </tr>\n",
       "  </thead>\n",
       "  <tbody>\n",
       "    <tr>\n",
       "      <th>0</th>\n",
       "      <td>2454</td>\n",
       "      <td>5150</td>\n",
       "      <td>U.S.A.</td>\n",
       "      <td>2019</td>\n",
       "      <td>Madagascar</td>\n",
       "      <td>Bejofo Estate, batch 1</td>\n",
       "      <td>76%</td>\n",
       "      <td>3- B,S,C</td>\n",
       "      <td>cocoa, blackberry, full body</td>\n",
       "      <td>3.75</td>\n",
       "    </tr>\n",
       "    <tr>\n",
       "      <th>1</th>\n",
       "      <td>2458</td>\n",
       "      <td>5150</td>\n",
       "      <td>U.S.A.</td>\n",
       "      <td>2019</td>\n",
       "      <td>Dominican Republic</td>\n",
       "      <td>Zorzal, batch 1</td>\n",
       "      <td>76%</td>\n",
       "      <td>3- B,S,C</td>\n",
       "      <td>cocoa, vegetal, savory</td>\n",
       "      <td>3.50</td>\n",
       "    </tr>\n",
       "    <tr>\n",
       "      <th>2</th>\n",
       "      <td>2454</td>\n",
       "      <td>5150</td>\n",
       "      <td>U.S.A.</td>\n",
       "      <td>2019</td>\n",
       "      <td>Tanzania</td>\n",
       "      <td>Kokoa Kamili, batch 1</td>\n",
       "      <td>76%</td>\n",
       "      <td>3- B,S,C</td>\n",
       "      <td>rich cocoa, fatty, bready</td>\n",
       "      <td>3.25</td>\n",
       "    </tr>\n",
       "    <tr>\n",
       "      <th>3</th>\n",
       "      <td>797</td>\n",
       "      <td>A. Morin</td>\n",
       "      <td>France</td>\n",
       "      <td>2012</td>\n",
       "      <td>Peru</td>\n",
       "      <td>Peru</td>\n",
       "      <td>63%</td>\n",
       "      <td>4- B,S,C,L</td>\n",
       "      <td>fruity, melon, roasty</td>\n",
       "      <td>3.75</td>\n",
       "    </tr>\n",
       "    <tr>\n",
       "      <th>4</th>\n",
       "      <td>797</td>\n",
       "      <td>A. Morin</td>\n",
       "      <td>France</td>\n",
       "      <td>2012</td>\n",
       "      <td>Bolivia</td>\n",
       "      <td>Bolivia</td>\n",
       "      <td>70%</td>\n",
       "      <td>4- B,S,C,L</td>\n",
       "      <td>vegetal, nutty</td>\n",
       "      <td>3.50</td>\n",
       "    </tr>\n",
       "  </tbody>\n",
       "</table>\n",
       "</div>"
      ],
      "text/plain": [
       "    REF Company (Manufacturer) Company Location  Review Date  \\\n",
       "0  2454                   5150           U.S.A.         2019   \n",
       "1  2458                   5150           U.S.A.         2019   \n",
       "2  2454                   5150           U.S.A.         2019   \n",
       "3   797               A. Morin           France         2012   \n",
       "4   797               A. Morin           France         2012   \n",
       "\n",
       "  Country of Bean Origin Specific Bean Origin or Bar Name Cocoa Percent  \\\n",
       "0             Madagascar           Bejofo Estate, batch 1           76%   \n",
       "1     Dominican Republic                  Zorzal, batch 1           76%   \n",
       "2               Tanzania            Kokoa Kamili, batch 1           76%   \n",
       "3                   Peru                             Peru           63%   \n",
       "4                Bolivia                          Bolivia           70%   \n",
       "\n",
       "  Ingredients Most Memorable Characteristics  Rating  \n",
       "0    3- B,S,C   cocoa, blackberry, full body    3.75  \n",
       "1    3- B,S,C         cocoa, vegetal, savory    3.50  \n",
       "2    3- B,S,C      rich cocoa, fatty, bready    3.25  \n",
       "3  4- B,S,C,L          fruity, melon, roasty    3.75  \n",
       "4  4- B,S,C,L                 vegetal, nutty    3.50  "
      ]
     },
     "execution_count": 6,
     "metadata": {},
     "output_type": "execute_result"
    }
   ],
   "source": [
    "import pandas as pd \n",
    "import numpy as np \n",
    "import seaborn as sns\n",
    "from sklearn.model_selection import cross_val_score, train_test_split\n",
    "from sklearn.impute import SimpleImputer\n",
    "from sklearn.ensemble import BaggingClassifier\n",
    "from sklearn.metrics import plot_confusion_matrix, auc, classification_report\n",
    "from sklearn.linear_model import LogisticRegression\n",
    "from sklearn.pipeline import Pipeline\n",
    "from sklearn.tree import DecisionTreeRegressor, DecisionTreeClassifier\n",
    "from sklearn.preprocessing import OneHotEncoder, StandardScaler\n",
    "from sklearn.ensemble import RandomForestClassifier, RandomForestRegressor\n",
    "from imblearn.over_sampling import SMOTE\n",
    "\n",
    "all_data = pd.read_csv('../../../data/chocolate.csv')\n",
    "all_data.head()"
   ]
  },
  {
   "cell_type": "markdown",
   "metadata": {
    "tags": []
   },
   "source": [
    "# Data Cleaning "
   ]
  },
  {
   "cell_type": "markdown",
   "metadata": {},
   "source": [
    "### Replacing column spaces with underscores and lower casing column names for simplicity when calling them. "
   ]
  },
  {
   "cell_type": "code",
   "execution_count": 7,
   "metadata": {},
   "outputs": [],
   "source": [
    "#breaking away from original dataset and creating a copy to maintain the original structure as \"all_data\"\n",
    "df = all_data.copy()"
   ]
  },
  {
   "cell_type": "code",
   "execution_count": 8,
   "metadata": {},
   "outputs": [
    {
     "data": {
      "text/html": [
       "<div>\n",
       "<style scoped>\n",
       "    .dataframe tbody tr th:only-of-type {\n",
       "        vertical-align: middle;\n",
       "    }\n",
       "\n",
       "    .dataframe tbody tr th {\n",
       "        vertical-align: top;\n",
       "    }\n",
       "\n",
       "    .dataframe thead th {\n",
       "        text-align: right;\n",
       "    }\n",
       "</style>\n",
       "<table border=\"1\" class=\"dataframe\">\n",
       "  <thead>\n",
       "    <tr style=\"text-align: right;\">\n",
       "      <th></th>\n",
       "      <th>ref</th>\n",
       "      <th>company_manufacturer</th>\n",
       "      <th>company_location</th>\n",
       "      <th>review_date</th>\n",
       "      <th>country_of_bean_origin</th>\n",
       "      <th>specific_bean_origin_or_bar_name</th>\n",
       "      <th>cocoa_percent</th>\n",
       "      <th>ingredients</th>\n",
       "      <th>most_memorable_characteristics</th>\n",
       "      <th>rating</th>\n",
       "    </tr>\n",
       "  </thead>\n",
       "  <tbody>\n",
       "    <tr>\n",
       "      <th>0</th>\n",
       "      <td>2454</td>\n",
       "      <td>5150</td>\n",
       "      <td>U.S.A.</td>\n",
       "      <td>2019</td>\n",
       "      <td>Madagascar</td>\n",
       "      <td>Bejofo Estate, batch 1</td>\n",
       "      <td>76.0</td>\n",
       "      <td>3- B,S,C</td>\n",
       "      <td>cocoa, blackberry, full body</td>\n",
       "      <td>3.75</td>\n",
       "    </tr>\n",
       "    <tr>\n",
       "      <th>1</th>\n",
       "      <td>2458</td>\n",
       "      <td>5150</td>\n",
       "      <td>U.S.A.</td>\n",
       "      <td>2019</td>\n",
       "      <td>Dominican Republic</td>\n",
       "      <td>Zorzal, batch 1</td>\n",
       "      <td>76.0</td>\n",
       "      <td>3- B,S,C</td>\n",
       "      <td>cocoa, vegetal, savory</td>\n",
       "      <td>3.50</td>\n",
       "    </tr>\n",
       "    <tr>\n",
       "      <th>2</th>\n",
       "      <td>2454</td>\n",
       "      <td>5150</td>\n",
       "      <td>U.S.A.</td>\n",
       "      <td>2019</td>\n",
       "      <td>Tanzania</td>\n",
       "      <td>Kokoa Kamili, batch 1</td>\n",
       "      <td>76.0</td>\n",
       "      <td>3- B,S,C</td>\n",
       "      <td>rich cocoa, fatty, bready</td>\n",
       "      <td>3.25</td>\n",
       "    </tr>\n",
       "    <tr>\n",
       "      <th>3</th>\n",
       "      <td>797</td>\n",
       "      <td>A. Morin</td>\n",
       "      <td>France</td>\n",
       "      <td>2012</td>\n",
       "      <td>Peru</td>\n",
       "      <td>Peru</td>\n",
       "      <td>63.0</td>\n",
       "      <td>4- B,S,C,L</td>\n",
       "      <td>fruity, melon, roasty</td>\n",
       "      <td>3.75</td>\n",
       "    </tr>\n",
       "    <tr>\n",
       "      <th>4</th>\n",
       "      <td>797</td>\n",
       "      <td>A. Morin</td>\n",
       "      <td>France</td>\n",
       "      <td>2012</td>\n",
       "      <td>Bolivia</td>\n",
       "      <td>Bolivia</td>\n",
       "      <td>70.0</td>\n",
       "      <td>4- B,S,C,L</td>\n",
       "      <td>vegetal, nutty</td>\n",
       "      <td>3.50</td>\n",
       "    </tr>\n",
       "  </tbody>\n",
       "</table>\n",
       "</div>"
      ],
      "text/plain": [
       "    ref company_manufacturer company_location  review_date  \\\n",
       "0  2454                 5150           U.S.A.         2019   \n",
       "1  2458                 5150           U.S.A.         2019   \n",
       "2  2454                 5150           U.S.A.         2019   \n",
       "3   797             A. Morin           France         2012   \n",
       "4   797             A. Morin           France         2012   \n",
       "\n",
       "  country_of_bean_origin specific_bean_origin_or_bar_name  cocoa_percent  \\\n",
       "0             Madagascar           Bejofo Estate, batch 1           76.0   \n",
       "1     Dominican Republic                  Zorzal, batch 1           76.0   \n",
       "2               Tanzania            Kokoa Kamili, batch 1           76.0   \n",
       "3                   Peru                             Peru           63.0   \n",
       "4                Bolivia                          Bolivia           70.0   \n",
       "\n",
       "  ingredients most_memorable_characteristics  rating  \n",
       "0    3- B,S,C   cocoa, blackberry, full body    3.75  \n",
       "1    3- B,S,C         cocoa, vegetal, savory    3.50  \n",
       "2    3- B,S,C      rich cocoa, fatty, bready    3.25  \n",
       "3  4- B,S,C,L          fruity, melon, roasty    3.75  \n",
       "4  4- B,S,C,L                 vegetal, nutty    3.50  "
      ]
     },
     "execution_count": 8,
     "metadata": {},
     "output_type": "execute_result"
    }
   ],
   "source": [
    "#removing parenthesis and spaces from columns \n",
    "df.columns = df.columns.str.replace(' ', '_').str.replace('(', '').str.replace(')', '').str.lower()\n",
    "\n",
    "#removing percent signs from row cocoa_percent\n",
    "df = df.replace(\"%\", \"\", regex=True)\n",
    "# turning percentage of cocoa into a float\n",
    "df[\"cocoa_percent\"] = df.cocoa_percent.astype(float)\n",
    "\n",
    "df.head()"
   ]
  },
  {
   "cell_type": "markdown",
   "metadata": {},
   "source": [
    "# Exploratory Data Analysis: \n",
    "Determining the goals for the features in terms of which to compare to the target variable and the take aways for each feaure"
   ]
  },
  {
   "cell_type": "markdown",
   "metadata": {
    "tags": []
   },
   "source": [
    "## Looking into the relationships of chocolate characteristics, company manufacturer and company location. "
   ]
  },
  {
   "cell_type": "markdown",
   "metadata": {},
   "source": [
    "### Evaluating the most memorable characteristics "
   ]
  },
  {
   "cell_type": "code",
   "execution_count": 9,
   "metadata": {},
   "outputs": [
    {
     "data": {
      "text/plain": [
       "2362"
      ]
     },
     "execution_count": 9,
     "metadata": {},
     "output_type": "execute_result"
    }
   ],
   "source": [
    "# over 2300 combinations of flavors \n",
    "df.most_memorable_characteristics.value_counts().sum()"
   ]
  },
  {
   "cell_type": "code",
   "execution_count": 10,
   "metadata": {},
   "outputs": [
    {
     "data": {
      "text/plain": [
       "spicy, cocoa                 4\n",
       "creamy, nutty, cocoa         4\n",
       "sweet, vanilla, cocoa        3\n",
       "sandy, sweet, cocoa          3\n",
       "cherry, rich choco           3\n",
       "                            ..\n",
       "vegetable and honey          1\n",
       "woody, nutty, short          1\n",
       "dried fruit, cocoa           1\n",
       "intense plum, harsh woody    1\n",
       "dry, chalky, fudge-like      1\n",
       "Name: most_memorable_characteristics, Length: 2320, dtype: int64"
      ]
     },
     "execution_count": 10,
     "metadata": {},
     "output_type": "execute_result"
    }
   ],
   "source": [
    "df.most_memorable_characteristics.value_counts()"
   ]
  },
  {
   "cell_type": "code",
   "execution_count": 11,
   "metadata": {},
   "outputs": [],
   "source": [
    "from collections import Counter"
   ]
  },
  {
   "cell_type": "markdown",
   "metadata": {},
   "source": [
    "* could break up flavors individually and determine which flavors occured most in the chocolate bars "
   ]
  },
  {
   "cell_type": "code",
   "execution_count": 12,
   "metadata": {},
   "outputs": [
    {
     "data": {
      "text/html": [
       "<div>\n",
       "<style scoped>\n",
       "    .dataframe tbody tr th:only-of-type {\n",
       "        vertical-align: middle;\n",
       "    }\n",
       "\n",
       "    .dataframe tbody tr th {\n",
       "        vertical-align: top;\n",
       "    }\n",
       "\n",
       "    .dataframe thead th {\n",
       "        text-align: right;\n",
       "    }\n",
       "</style>\n",
       "<table border=\"1\" class=\"dataframe\">\n",
       "  <thead>\n",
       "    <tr style=\"text-align: right;\">\n",
       "      <th></th>\n",
       "      <th>word</th>\n",
       "      <th>count</th>\n",
       "    </tr>\n",
       "  </thead>\n",
       "  <tbody>\n",
       "    <tr>\n",
       "      <th>360</th>\n",
       "      <td>molasses</td>\n",
       "      <td>90</td>\n",
       "    </tr>\n",
       "    <tr>\n",
       "      <th>564</th>\n",
       "      <td>toffee</td>\n",
       "      <td>9</td>\n",
       "    </tr>\n",
       "    <tr>\n",
       "      <th>159</th>\n",
       "      <td>cream</td>\n",
       "      <td>9</td>\n",
       "    </tr>\n",
       "    <tr>\n",
       "      <th>89</th>\n",
       "      <td>buttery</td>\n",
       "      <td>9</td>\n",
       "    </tr>\n",
       "    <tr>\n",
       "      <th>282</th>\n",
       "      <td>hazelnut</td>\n",
       "      <td>9</td>\n",
       "    </tr>\n",
       "    <tr>\n",
       "      <th>...</th>\n",
       "      <td>...</td>\n",
       "      <td>...</td>\n",
       "    </tr>\n",
       "    <tr>\n",
       "      <th>385</th>\n",
       "      <td>noticeable</td>\n",
       "      <td>1</td>\n",
       "    </tr>\n",
       "    <tr>\n",
       "      <th>51</th>\n",
       "      <td>berrypowerful</td>\n",
       "      <td>1</td>\n",
       "    </tr>\n",
       "    <tr>\n",
       "      <th>155</th>\n",
       "      <td>cooling</td>\n",
       "      <td>1</td>\n",
       "    </tr>\n",
       "    <tr>\n",
       "      <th>382</th>\n",
       "      <td>not</td>\n",
       "      <td>1</td>\n",
       "    </tr>\n",
       "    <tr>\n",
       "      <th>362</th>\n",
       "      <td>molassestoffeecoffee</td>\n",
       "      <td>1</td>\n",
       "    </tr>\n",
       "  </tbody>\n",
       "</table>\n",
       "<p>614 rows × 2 columns</p>\n",
       "</div>"
      ],
      "text/plain": [
       "                     word count\n",
       "360              molasses    90\n",
       "564                toffee     9\n",
       "159                 cream     9\n",
       "89                buttery     9\n",
       "282              hazelnut     9\n",
       "..                    ...   ...\n",
       "385            noticeable     1\n",
       "51          berrypowerful     1\n",
       "155               cooling     1\n",
       "382                   not     1\n",
       "362  molassestoffeecoffee     1\n",
       "\n",
       "[614 rows x 2 columns]"
      ]
     },
     "execution_count": 12,
     "metadata": {},
     "output_type": "execute_result"
    }
   ],
   "source": [
    "word_list = [word.strip().replace(',', '').replace('\"', '') for word in \" \".join(df.most_memorable_characteristics).split()]\n",
    "word_counts = np.unique(word_list, return_counts=True)\n",
    "word_c = np.array([word_counts[0], word_counts[1]])\n",
    "word_df = pd.DataFrame(word_c.T, columns=['word', 'count'])\n",
    "word_df.sort_values(by='count', ascending=False)"
   ]
  },
  {
   "cell_type": "code",
   "execution_count": 13,
   "metadata": {},
   "outputs": [
    {
     "data": {
      "text/plain": [
       "[('sweet,', 213),\n",
       " ('cocoa', 199),\n",
       " ('mild', 198),\n",
       " ('creamy,', 174),\n",
       " ('nutty,', 163),\n",
       " ('cocoa,', 157),\n",
       " ('sandy,', 154),\n",
       " ('fruit,', 140),\n",
       " ('sour', 127),\n",
       " ('fatty,', 123),\n",
       " ('roasty,', 117),\n",
       " ('intense,', 112),\n",
       " ('floral,', 108),\n",
       " ('earthy,', 105),\n",
       " ('spicy,', 103),\n",
       " ('rich', 97),\n",
       " ('nutty', 97),\n",
       " ('fruit', 96),\n",
       " ('off', 94),\n",
       " ('roasty', 93),\n",
       " ('earthy', 80),\n",
       " ('sweet', 74),\n",
       " ('sticky,', 71),\n",
       " ('vanilla,', 67),\n",
       " ('dried', 67)]"
      ]
     },
     "execution_count": 13,
     "metadata": {},
     "output_type": "execute_result"
    }
   ],
   "source": [
    "char = Counter(\" \".join(df.most_memorable_characteristics).split()).most_common(25)\n",
    "char"
   ]
  },
  {
   "cell_type": "code",
   "execution_count": 14,
   "metadata": {},
   "outputs": [
    {
     "data": {
      "text/plain": [
       "248"
      ]
     },
     "execution_count": 14,
     "metadata": {},
     "output_type": "execute_result"
    }
   ],
   "source": [
    "count = 0\n",
    "for c in df.most_memorable_characteristics.values:\n",
    "    if 'sweet' in [x.strip().replace(',', '').replace('\"', '') for x in c.split(', ')]:\n",
    "        count += 1\n",
    "count"
   ]
  },
  {
   "cell_type": "code",
   "execution_count": 15,
   "metadata": {},
   "outputs": [
    {
     "data": {
      "text/plain": [
       "[('cocoa', 356),\n",
       " ('sweet', 287),\n",
       " ('nutty', 260),\n",
       " ('fruit', 236),\n",
       " ('roasty', 210),\n",
       " ('mild', 208),\n",
       " ('sour', 185),\n",
       " ('earthy', 185),\n",
       " ('creamy', 183),\n",
       " ('intense', 166),\n",
       " ('sandy', 161),\n",
       " ('fatty', 157),\n",
       " ('floral', 150),\n",
       " ('spicy', 144),\n",
       " ('rich', 141),\n",
       " ('bitter', 120),\n",
       " ('off', 104),\n",
       " ('vanilla', 101),\n",
       " ('molasses', 90),\n",
       " ('coffee', 87),\n",
       " ('woody', 85),\n",
       " ('spice', 79),\n",
       " ('sticky', 78),\n",
       " ('berry', 72),\n",
       " ('tart', 70)]"
      ]
     },
     "execution_count": 15,
     "metadata": {},
     "output_type": "execute_result"
    }
   ],
   "source": [
    "word_count_list = Counter(word_list).most_common(25)\n",
    "word_count_list"
   ]
  },
  {
   "cell_type": "code",
   "execution_count": 16,
   "metadata": {},
   "outputs": [],
   "source": [
    "x = [count_list[0] for count_list in word_count_list]\n",
    "y = [count_list[1] for count_list in word_count_list]"
   ]
  },
  {
   "cell_type": "code",
   "execution_count": 17,
   "metadata": {},
   "outputs": [
    {
     "data": {
      "text/plain": [
       "['cocoa',\n",
       " 'sweet',\n",
       " 'nutty',\n",
       " 'fruit',\n",
       " 'roasty',\n",
       " 'mild',\n",
       " 'sour',\n",
       " 'earthy',\n",
       " 'creamy',\n",
       " 'intense',\n",
       " 'sandy',\n",
       " 'fatty',\n",
       " 'floral',\n",
       " 'spicy',\n",
       " 'rich',\n",
       " 'bitter',\n",
       " 'off',\n",
       " 'vanilla',\n",
       " 'molasses',\n",
       " 'coffee',\n",
       " 'woody',\n",
       " 'spice',\n",
       " 'sticky',\n",
       " 'berry',\n",
       " 'tart']"
      ]
     },
     "execution_count": 17,
     "metadata": {},
     "output_type": "execute_result"
    }
   ],
   "source": [
    "# df['individual_chars'] = df\n",
    "x"
   ]
  },
  {
   "cell_type": "markdown",
   "metadata": {},
   "source": [
    "- Loop through words in `x`\n",
    "\n",
    "\n",
    "- Filter dataframe where that word is in most memorable characteristics (split and clean words)\n",
    "\n",
    "\n",
    "`x.strip().replace(',', '').replace('\"', '') for x in c.split(', ')`\n",
    "\n",
    "- Calculate average rating for filtered dataframe\n",
    "- Save as key-value pair in dictionary\n",
    "\n"
   ]
  },
  {
   "cell_type": "code",
   "execution_count": 24,
   "metadata": {},
   "outputs": [],
   "source": [
    "cleaned_word_list = []\n",
    "for char in df['most_memorable_characteristics'].values:\n",
    "    l = char.split(', ')\n",
    "    clean_list = [word.replace(',', '').replace('\"', '').strip() for word in l] \n",
    "    cleaned_word_list.append(clean_list)"
   ]
  },
  {
   "cell_type": "code",
   "execution_count": 26,
   "metadata": {},
   "outputs": [],
   "source": [
    "df['memorable_characteristics_list'] = cleaned_word_list"
   ]
  },
  {
   "cell_type": "code",
   "execution_count": 28,
   "metadata": {},
   "outputs": [
    {
     "data": {
      "text/html": [
       "<div>\n",
       "<style scoped>\n",
       "    .dataframe tbody tr th:only-of-type {\n",
       "        vertical-align: middle;\n",
       "    }\n",
       "\n",
       "    .dataframe tbody tr th {\n",
       "        vertical-align: top;\n",
       "    }\n",
       "\n",
       "    .dataframe thead th {\n",
       "        text-align: right;\n",
       "    }\n",
       "</style>\n",
       "<table border=\"1\" class=\"dataframe\">\n",
       "  <thead>\n",
       "    <tr style=\"text-align: right;\">\n",
       "      <th></th>\n",
       "      <th>ref</th>\n",
       "      <th>company_manufacturer</th>\n",
       "      <th>company_location</th>\n",
       "      <th>review_date</th>\n",
       "      <th>country_of_bean_origin</th>\n",
       "      <th>specific_bean_origin_or_bar_name</th>\n",
       "      <th>cocoa_percent</th>\n",
       "      <th>ingredients</th>\n",
       "      <th>most_memorable_characteristics</th>\n",
       "      <th>rating</th>\n",
       "      <th>memorable_characteristics_list</th>\n",
       "    </tr>\n",
       "  </thead>\n",
       "  <tbody>\n",
       "    <tr>\n",
       "      <th>0</th>\n",
       "      <td>2454</td>\n",
       "      <td>5150</td>\n",
       "      <td>U.S.A.</td>\n",
       "      <td>2019</td>\n",
       "      <td>Madagascar</td>\n",
       "      <td>Bejofo Estate, batch 1</td>\n",
       "      <td>76.0</td>\n",
       "      <td>3- B,S,C</td>\n",
       "      <td>cocoa, blackberry, full body</td>\n",
       "      <td>3.75</td>\n",
       "      <td>[cocoa, blackberry, full body]</td>\n",
       "    </tr>\n",
       "    <tr>\n",
       "      <th>1</th>\n",
       "      <td>2458</td>\n",
       "      <td>5150</td>\n",
       "      <td>U.S.A.</td>\n",
       "      <td>2019</td>\n",
       "      <td>Dominican Republic</td>\n",
       "      <td>Zorzal, batch 1</td>\n",
       "      <td>76.0</td>\n",
       "      <td>3- B,S,C</td>\n",
       "      <td>cocoa, vegetal, savory</td>\n",
       "      <td>3.50</td>\n",
       "      <td>[cocoa, vegetal, savory]</td>\n",
       "    </tr>\n",
       "    <tr>\n",
       "      <th>6</th>\n",
       "      <td>1019</td>\n",
       "      <td>A. Morin</td>\n",
       "      <td>France</td>\n",
       "      <td>2013</td>\n",
       "      <td>Peru</td>\n",
       "      <td>Chanchamayo Province</td>\n",
       "      <td>63.0</td>\n",
       "      <td>3- B,S,C</td>\n",
       "      <td>sweet, cocoa, tangerine</td>\n",
       "      <td>4.00</td>\n",
       "      <td>[sweet, cocoa, tangerine]</td>\n",
       "    </tr>\n",
       "    <tr>\n",
       "      <th>7</th>\n",
       "      <td>1011</td>\n",
       "      <td>A. Morin</td>\n",
       "      <td>France</td>\n",
       "      <td>2013</td>\n",
       "      <td>Ecuador</td>\n",
       "      <td>Equateur</td>\n",
       "      <td>70.0</td>\n",
       "      <td>4- B,S,C,L</td>\n",
       "      <td>sandy, nutty, cocoa, fig</td>\n",
       "      <td>3.75</td>\n",
       "      <td>[sandy, nutty, cocoa, fig]</td>\n",
       "    </tr>\n",
       "    <tr>\n",
       "      <th>11</th>\n",
       "      <td>1019</td>\n",
       "      <td>A. Morin</td>\n",
       "      <td>France</td>\n",
       "      <td>2013</td>\n",
       "      <td>Peru</td>\n",
       "      <td>Piura</td>\n",
       "      <td>70.0</td>\n",
       "      <td>4- B,S,C,L</td>\n",
       "      <td>green, nutty, cocoa</td>\n",
       "      <td>3.25</td>\n",
       "      <td>[green, nutty, cocoa]</td>\n",
       "    </tr>\n",
       "    <tr>\n",
       "      <th>...</th>\n",
       "      <td>...</td>\n",
       "      <td>...</td>\n",
       "      <td>...</td>\n",
       "      <td>...</td>\n",
       "      <td>...</td>\n",
       "      <td>...</td>\n",
       "      <td>...</td>\n",
       "      <td>...</td>\n",
       "      <td>...</td>\n",
       "      <td>...</td>\n",
       "      <td>...</td>\n",
       "    </tr>\n",
       "    <tr>\n",
       "      <th>2267</th>\n",
       "      <td>153</td>\n",
       "      <td>Vintage Plantations (Tulicorp)</td>\n",
       "      <td>U.S.A.</td>\n",
       "      <td>2007</td>\n",
       "      <td>Ecuador</td>\n",
       "      <td>Los Rios, Rancho Grande 2007</td>\n",
       "      <td>65.0</td>\n",
       "      <td>3- B,S,C</td>\n",
       "      <td>sticky, cocoa, earthy</td>\n",
       "      <td>3.00</td>\n",
       "      <td>[sticky, cocoa, earthy]</td>\n",
       "    </tr>\n",
       "    <tr>\n",
       "      <th>2274</th>\n",
       "      <td>1502</td>\n",
       "      <td>Violet Sky</td>\n",
       "      <td>U.S.A.</td>\n",
       "      <td>2015</td>\n",
       "      <td>Guatemala</td>\n",
       "      <td>Cahabon</td>\n",
       "      <td>77.0</td>\n",
       "      <td>2- B,S</td>\n",
       "      <td>creamy, cocoa, pungent</td>\n",
       "      <td>2.75</td>\n",
       "      <td>[creamy, cocoa, pungent]</td>\n",
       "    </tr>\n",
       "    <tr>\n",
       "      <th>2275</th>\n",
       "      <td>1724</td>\n",
       "      <td>Vivra</td>\n",
       "      <td>U.S.A.</td>\n",
       "      <td>2016</td>\n",
       "      <td>Dominican Republic</td>\n",
       "      <td>Dominican Republic</td>\n",
       "      <td>70.0</td>\n",
       "      <td>5- B,S,C,V,L</td>\n",
       "      <td>sweet, simple, cocoa</td>\n",
       "      <td>3.00</td>\n",
       "      <td>[sweet, simple, cocoa]</td>\n",
       "    </tr>\n",
       "    <tr>\n",
       "      <th>2293</th>\n",
       "      <td>593</td>\n",
       "      <td>Willie's Cacao</td>\n",
       "      <td>U.K.</td>\n",
       "      <td>2010</td>\n",
       "      <td>Venezuela</td>\n",
       "      <td>Hacienda Las Trincheras</td>\n",
       "      <td>72.0</td>\n",
       "      <td>3- B,S,C</td>\n",
       "      <td>dry, nutty, cocoa</td>\n",
       "      <td>3.50</td>\n",
       "      <td>[dry, nutty, cocoa]</td>\n",
       "    </tr>\n",
       "    <tr>\n",
       "      <th>2361</th>\n",
       "      <td>2036</td>\n",
       "      <td>Zotter</td>\n",
       "      <td>Austria</td>\n",
       "      <td>2018</td>\n",
       "      <td>Blend</td>\n",
       "      <td>Dry Aged, 30 yr Anniversary bar</td>\n",
       "      <td>75.0</td>\n",
       "      <td>3- B,S,C</td>\n",
       "      <td>fatty, earthy, cocoa</td>\n",
       "      <td>3.00</td>\n",
       "      <td>[fatty, earthy, cocoa]</td>\n",
       "    </tr>\n",
       "  </tbody>\n",
       "</table>\n",
       "<p>213 rows × 11 columns</p>\n",
       "</div>"
      ],
      "text/plain": [
       "       ref            company_manufacturer company_location  review_date  \\\n",
       "0     2454                            5150           U.S.A.         2019   \n",
       "1     2458                            5150           U.S.A.         2019   \n",
       "6     1019                        A. Morin           France         2013   \n",
       "7     1011                        A. Morin           France         2013   \n",
       "11    1019                        A. Morin           France         2013   \n",
       "...    ...                             ...              ...          ...   \n",
       "2267   153  Vintage Plantations (Tulicorp)           U.S.A.         2007   \n",
       "2274  1502                      Violet Sky           U.S.A.         2015   \n",
       "2275  1724                           Vivra           U.S.A.         2016   \n",
       "2293   593                  Willie's Cacao             U.K.         2010   \n",
       "2361  2036                          Zotter          Austria         2018   \n",
       "\n",
       "     country_of_bean_origin specific_bean_origin_or_bar_name  cocoa_percent  \\\n",
       "0                Madagascar           Bejofo Estate, batch 1           76.0   \n",
       "1        Dominican Republic                  Zorzal, batch 1           76.0   \n",
       "6                      Peru             Chanchamayo Province           63.0   \n",
       "7                   Ecuador                         Equateur           70.0   \n",
       "11                     Peru                            Piura           70.0   \n",
       "...                     ...                              ...            ...   \n",
       "2267                Ecuador     Los Rios, Rancho Grande 2007           65.0   \n",
       "2274              Guatemala                          Cahabon           77.0   \n",
       "2275     Dominican Republic               Dominican Republic           70.0   \n",
       "2293              Venezuela          Hacienda Las Trincheras           72.0   \n",
       "2361                  Blend  Dry Aged, 30 yr Anniversary bar           75.0   \n",
       "\n",
       "       ingredients most_memorable_characteristics  rating  \\\n",
       "0         3- B,S,C   cocoa, blackberry, full body    3.75   \n",
       "1         3- B,S,C         cocoa, vegetal, savory    3.50   \n",
       "6         3- B,S,C        sweet, cocoa, tangerine    4.00   \n",
       "7       4- B,S,C,L       sandy, nutty, cocoa, fig    3.75   \n",
       "11      4- B,S,C,L            green, nutty, cocoa    3.25   \n",
       "...            ...                            ...     ...   \n",
       "2267      3- B,S,C          sticky, cocoa, earthy    3.00   \n",
       "2274        2- B,S         creamy, cocoa, pungent    2.75   \n",
       "2275  5- B,S,C,V,L           sweet, simple, cocoa    3.00   \n",
       "2293      3- B,S,C              dry, nutty, cocoa    3.50   \n",
       "2361      3- B,S,C           fatty, earthy, cocoa    3.00   \n",
       "\n",
       "      memorable_characteristics_list  \n",
       "0     [cocoa, blackberry, full body]  \n",
       "1           [cocoa, vegetal, savory]  \n",
       "6          [sweet, cocoa, tangerine]  \n",
       "7         [sandy, nutty, cocoa, fig]  \n",
       "11             [green, nutty, cocoa]  \n",
       "...                              ...  \n",
       "2267         [sticky, cocoa, earthy]  \n",
       "2274        [creamy, cocoa, pungent]  \n",
       "2275          [sweet, simple, cocoa]  \n",
       "2293             [dry, nutty, cocoa]  \n",
       "2361          [fatty, earthy, cocoa]  \n",
       "\n",
       "[213 rows x 11 columns]"
      ]
     },
     "execution_count": 28,
     "metadata": {},
     "output_type": "execute_result"
    }
   ],
   "source": [
    "df[df['memorable_characteristics_list'].apply(lambda lst: x[0] in lst)]"
   ]
  },
  {
   "cell_type": "code",
   "execution_count": 40,
   "metadata": {},
   "outputs": [
    {
     "data": {
      "text/plain": [
       "2362"
      ]
     },
     "execution_count": 40,
     "metadata": {},
     "output_type": "execute_result"
    }
   ],
   "source": [
    "num_rows = df.shape[0]\n",
    "num_rows"
   ]
  },
  {
   "cell_type": "code",
   "execution_count": 41,
   "metadata": {},
   "outputs": [],
   "source": [
    "#creating a for loop using isin method \n",
    "weighted_chars = {}\n",
    "for word in x:\n",
    "    #the df[df is returning the values associated with the list comprehension - lambda rather than a boolean\n",
    "    word_df = df[df['memorable_characteristics_list'].apply(lambda lst: word in lst)]\n",
    "    avg_rating = word_df['rating'].mean()\n",
    "    weight = len(word_df) / num_rows\n",
    "    weighted_chars[word] = avg_rating * weight \n",
    "    \n",
    "#split on the existing words \n",
    "#average the new data \n",
    "#saving as key-val pairs"
   ]
  },
  {
   "cell_type": "code",
   "execution_count": 54,
   "metadata": {},
   "outputs": [
    {
     "data": {
      "text/plain": [
       "{'cocoa': 0.30450889077053345,\n",
       " 'sweet': 0.3197502116850127,\n",
       " 'nutty': 0.3386960203217612,\n",
       " 'fruit': 0.10605419136325149,\n",
       " 'roasty': 0.27180355630821335,\n",
       " 'mild': 0.015664690939881456,\n",
       " 'sour': 0.1561176968670618,\n",
       " 'earthy': 0.22629127857747672,\n",
       " 'creamy': 0.26926333615580017,\n",
       " 'intense': 0.17506350550381033,\n",
       " 'sandy': 0.20745131244707876,\n",
       " 'fatty': 0.19856054191363254,\n",
       " 'floral': 0.18844199830651992,\n",
       " 'spicy': 0.18480101608806096,\n",
       " 'rich': 0.0979043183742591,\n",
       " 'bitter': 0.07430143945808637,\n",
       " 'off': 0.03492802709568162,\n",
       " 'vanilla': 0.10160880609652838,\n",
       " 'molasses': 0.10192633361558001,\n",
       " 'coffee': 0.09568162574089754,\n",
       " 'woody': 0.10499576629974597,\n",
       " 'spice': 0.08012277730736664,\n",
       " 'sticky': 0.10319644369178663,\n",
       " 'berry': 0.024343776460626586,\n",
       " 'tart': 0.07758255715495342}"
      ]
     },
     "execution_count": 54,
     "metadata": {},
     "output_type": "execute_result"
    }
   ],
   "source": [
    "weighted_chars"
   ]
  },
  {
   "cell_type": "code",
   "execution_count": 64,
   "metadata": {},
   "outputs": [
    {
     "data": {
      "text/plain": [
       "dict_values([0.30450889077053345, 0.3197502116850127, 0.3386960203217612, 0.10605419136325149, 0.27180355630821335, 0.015664690939881456, 0.1561176968670618, 0.22629127857747672, 0.26926333615580017, 0.17506350550381033, 0.20745131244707876, 0.19856054191363254, 0.18844199830651992, 0.18480101608806096, 0.0979043183742591, 0.07430143945808637, 0.03492802709568162, 0.10160880609652838, 0.10192633361558001, 0.09568162574089754, 0.10499576629974597, 0.08012277730736664, 0.10319644369178663, 0.024343776460626586, 0.07758255715495342])"
      ]
     },
     "execution_count": 64,
     "metadata": {},
     "output_type": "execute_result"
    }
   ],
   "source": [
    "weighted_chars.values()"
   ]
  },
  {
   "cell_type": "code",
   "execution_count": 68,
   "metadata": {},
   "outputs": [
    {
     "data": {
      "text/plain": [
       "<BarContainer object of 25 artists>"
      ]
     },
     "execution_count": 68,
     "metadata": {},
     "output_type": "execute_result"
    },
    {
     "data": {
      "image/png": "[encoded data removed]",
      "text/plain": [
       "<Figure size 432x288 with 1 Axes>"
      ]
     },
     "metadata": {
      "needs_background": "light"
     },
     "output_type": "display_data"
    }
   ],
   "source": [
    "# Plotting the most memorable characteristics\n",
    "\n",
    "import matplotlib.pyplot as plt\n",
    "\n",
    "x = weighted_chars.keys()\n",
    "\n",
    "y = weighted_chars.values()\n",
    "\n",
    "plt.bar(x,y)"
   ]
  },
  {
   "cell_type": "code",
   "execution_count": null,
   "metadata": {},
   "outputs": [],
   "source": [
    "# company manufacturer\n",
    "x = df.most_memorable_characteristics\n",
    "y = df.rating \n",
    "\n",
    "sns.barplot(x=x, y=y, hue=None, data=df)\n",
    "\n"
   ]
  },
  {
   "cell_type": "code",
   "execution_count": null,
   "metadata": {},
   "outputs": [],
   "source": [
    "# company location\n",
    "x = df.most_memorable_characteristics\n",
    "y = df.rating \n",
    "\n",
    "sns.barplot(x=x, y=y, hue=None, data=df)\n",
    "\n"
   ]
  },
  {
   "cell_type": "markdown",
   "metadata": {
    "tags": []
   },
   "source": [
    "# Feature Engineering:\n",
    "\n",
    " Checking the Feauture's Relationships to Rating"
   ]
  },
  {
   "cell_type": "markdown",
   "metadata": {
    "tags": []
   },
   "source": [
    "### Inspecting the company location's weighted average in relation to rating"
   ]
  },
  {
   "cell_type": "code",
   "execution_count": null,
   "metadata": {},
   "outputs": [],
   "source": [
    "# Average rating of each country. ex: 'Puerto Rico': 2.625\n",
    "average_ratings_company_location = df.groupby('company_location')['rating'].mean().sort_values().to_dict()\n"
   ]
  },
  {
   "cell_type": "code",
   "execution_count": null,
   "metadata": {},
   "outputs": [],
   "source": [
    "# Percentage of Country appearances. ex: 'U.S.A.': 0.42929720575783237\n",
    "company_location_counts = df['company_location'].value_counts(normalize=True).to_dict()\n"
   ]
  },
  {
   "cell_type": "code",
   "execution_count": null,
   "metadata": {},
   "outputs": [],
   "source": [
    "#creating a weighted average number of appearances * rating\n",
    "import matplotlib.pyplot as plt\n",
    "companies_loc = df.company_location.unique()\n",
    "\n",
    "\n",
    "#Inspecting the weighting average of the appearance of countries and the rating \n",
    "\n",
    "#ex: country appearance percentage * country average rating \n",
    "weighted_rating = []\n",
    "for company in companies_loc:\n",
    "    count = company_location_counts[company]\n",
    "    rating = average_ratings_company_location[company]\n",
    "    weighted_rating.append(count * rating)\n",
    "    \n",
    "sorted_vals = sorted(list(zip(weighted_rating, companies_loc)))\n",
    "x = [val[1] for val in sorted_vals]\n",
    "y = [val[0] for val in sorted_vals]\n",
    "\n",
    "# Creating a vizualization for the relationships\n",
    "plt.figure(figsize=(15,6))\n",
    "plt.bar(x, y)\n",
    "plt.xticks(rotation=90);\n",
    "sorted_vals"
   ]
  },
  {
   "cell_type": "markdown",
   "metadata": {},
   "source": [
    "## Feature Engineering the Companies' Countries Number of Appearances by Setting them to Low / Medium / High. "
   ]
  },
  {
   "cell_type": "code",
   "execution_count": null,
   "metadata": {},
   "outputs": [],
   "source": [
    "#Matching the country weighted ratings with each country.\n",
    "#company_loc -> unique country non-repeated \n",
    "group_df = pd.DataFrame(list(zip(companies_loc, weighted_rating)), columns=['country', 'weighted_rating'])\n",
    "group_df.head()"
   ]
  },
  {
   "cell_type": "markdown",
   "metadata": {},
   "source": [
    "### Using q-cut with a Value of 3"
   ]
  },
  {
   "cell_type": "code",
   "execution_count": null,
   "metadata": {},
   "outputs": [],
   "source": [
    "group_df['weighted_company_bins'] = pd.qcut(group_df['weighted_rating'], \n",
    "                                            labels=['low', 'middle', 'high'], q=3)"
   ]
  },
  {
   "cell_type": "code",
   "execution_count": null,
   "metadata": {},
   "outputs": [],
   "source": [
    "weighted_company_bins = group_df.set_index('country')['weighted_company_bins'].to_dict()"
   ]
  },
  {
   "cell_type": "code",
   "execution_count": null,
   "metadata": {},
   "outputs": [],
   "source": [
    "df['company_bins'] = df['company_location'].map(weighted_company_bins)"
   ]
  },
  {
   "cell_type": "code",
   "execution_count": null,
   "metadata": {},
   "outputs": [],
   "source": [
    "df.head(2)"
   ]
  },
  {
   "cell_type": "markdown",
   "metadata": {},
   "source": [
    "### Binning the Company Location into Groups of  A / B / C"
   ]
  },
  {
   "cell_type": "code",
   "execution_count": null,
   "metadata": {},
   "outputs": [],
   "source": [
    "first_bin = x[:47]\n",
    "df['comp_location_bin'] = 1\n",
    "\n",
    "bin_a_index = df[df.company_location.isin(first_bin)].index\n",
    "df.at[bin_a_index, 'comp_location_bin'] = 'a'"
   ]
  },
  {
   "cell_type": "code",
   "execution_count": null,
   "metadata": {},
   "outputs": [],
   "source": [
    "idx = x.index('Italy') + 1\n",
    "second_bin = x[47:idx]\n",
    "\n",
    "bin_b_index = df[df.company_location.isin(second_bin)].index\n",
    "df.at[bin_b_index, 'comp_location_bin'] = 'b'\n",
    "\n"
   ]
  },
  {
   "cell_type": "code",
   "execution_count": null,
   "metadata": {},
   "outputs": [],
   "source": [
    "idx2 = x.index('U.K.') \n",
    "third_bin = x[idx2:]\n",
    "\n",
    "bin_c_index = df[df.company_location.isin(third_bin)].index\n",
    "df.at[bin_c_index, 'comp_location_bin'] = 'c'"
   ]
  },
  {
   "cell_type": "code",
   "execution_count": null,
   "metadata": {},
   "outputs": [],
   "source": [
    "x[idx2:]"
   ]
  },
  {
   "cell_type": "code",
   "execution_count": null,
   "metadata": {},
   "outputs": [],
   "source": [
    "df.value_counts('comp_location_bin')"
   ]
  },
  {
   "cell_type": "code",
   "execution_count": null,
   "metadata": {},
   "outputs": [],
   "source": [
    "df[df.comp_location_bin == 1].company_location.unique()"
   ]
  },
  {
   "cell_type": "code",
   "execution_count": null,
   "metadata": {},
   "outputs": [],
   "source": [
    "df['company_bin'] = df['comp_location_bin']"
   ]
  },
  {
   "cell_type": "markdown",
   "metadata": {
    "tags": []
   },
   "source": [
    "### Binning the Company Location into Groups of  1 / 2 / 3"
   ]
  },
  {
   "cell_type": "code",
   "execution_count": null,
   "metadata": {
    "tags": []
   },
   "outputs": [],
   "source": [
    "company_bin = []\n",
    "for c in df['company_location'].values:\n",
    "    if c in first_bin:\n",
    "        company_bin.append(1)\n",
    "    elif c in second_bin:\n",
    "        company_bin.append(2)\n",
    "    else:\n",
    "        company_bin.append(3)\n",
    "        \n",
    "df['company_bin'] = company_bin"
   ]
  },
  {
   "cell_type": "code",
   "execution_count": null,
   "metadata": {},
   "outputs": [],
   "source": [
    "df['company_bin'].value_counts()"
   ]
  },
  {
   "cell_type": "code",
   "execution_count": null,
   "metadata": {},
   "outputs": [],
   "source": [
    "df.head()"
   ]
  },
  {
   "cell_type": "code",
   "execution_count": null,
   "metadata": {},
   "outputs": [],
   "source": []
  },
  {
   "cell_type": "code",
   "execution_count": null,
   "metadata": {},
   "outputs": [],
   "source": []
  },
  {
   "cell_type": "markdown",
   "metadata": {
    "tags": []
   },
   "source": [
    "### Removing the unnecissary information leading up to the ingredient names"
   ]
  },
  {
   "cell_type": "code",
   "execution_count": null,
   "metadata": {},
   "outputs": [],
   "source": [
    "# retreiving rows from the third index and on - leaving out rows with empty values\n",
    "df['ingredient_list'] = [np.nan if l is np.nan else l[3:] for l in df['ingredients']]"
   ]
  },
  {
   "cell_type": "markdown",
   "metadata": {},
   "source": [
    "### Inspecting the value (occurance count) and leaving out those with a low number of occurances"
   ]
  },
  {
   "cell_type": "code",
   "execution_count": null,
   "metadata": {},
   "outputs": [],
   "source": [
    "df['ingredient_list'].value_counts()"
   ]
  },
  {
   "cell_type": "code",
   "execution_count": null,
   "metadata": {},
   "outputs": [],
   "source": [
    "# leaving out occurances below 8 \n",
    "\n",
    "most_common = (df['ingredient_list'].value_counts()).iloc[:9].index\n",
    "\n",
    "\n",
    "df = df[df['ingredient_list'].isin(most_common)]\n"
   ]
  },
  {
   "cell_type": "code",
   "execution_count": null,
   "metadata": {},
   "outputs": [],
   "source": [
    "#ensuring that values below 8 were removed\n",
    "df.ingredient_list.value_counts()"
   ]
  },
  {
   "cell_type": "markdown",
   "metadata": {},
   "source": [
    "------"
   ]
  },
  {
   "cell_type": "markdown",
   "metadata": {
    "tags": []
   },
   "source": [
    "### -- Only use if we BREAK UP INGREDIENTS and MOST_MEM_CHAR --  Separating multiple into their own individual rows ----"
   ]
  },
  {
   "cell_type": "code",
   "execution_count": null,
   "metadata": {},
   "outputs": [],
   "source": [
    "#placing each ingredient into a new list sepparated by commas\n",
    "\n",
    "# df.most_memorable_characteristics = df.most_memorable_characteristics.str.split(',')\n",
    "\n",
    "\n",
    "# df['split_ingredients'] = df['ingredient_list'].str.split(',')\n",
    "\n",
    "# df = df.explode('split_ingredients')\n",
    "# df = df.explode('most_memorable_characteristics')\n"
   ]
  },
  {
   "cell_type": "markdown",
   "metadata": {},
   "source": [
    "------------"
   ]
  },
  {
   "cell_type": "markdown",
   "metadata": {},
   "source": [
    "------------"
   ]
  },
  {
   "cell_type": "code",
   "execution_count": null,
   "metadata": {},
   "outputs": [],
   "source": [
    "df.head(2)"
   ]
  },
  {
   "cell_type": "markdown",
   "metadata": {},
   "source": [
    "## Checking to see whether specific_bean_origin_or_bar_name is important or not"
   ]
  },
  {
   "cell_type": "code",
   "execution_count": null,
   "metadata": {},
   "outputs": [],
   "source": [
    "df['specific_bean_origin_or_bar_name'].value_counts()[:50].plot(kind='bar', figsize=(15,6))"
   ]
  },
  {
   "cell_type": "markdown",
   "metadata": {},
   "source": [
    "## Clarifying important predictor values (x) for the target value (y)."
   ]
  },
  {
   "cell_type": "code",
   "execution_count": null,
   "metadata": {},
   "outputs": [],
   "source": [
    "# dropping the target (y) values from x and specific origin\n",
    "features = df.drop(['rating','specific_bean_origin_or_bar_name', 'ingredients', 'review_date', 'ref'], axis =1)\n",
    "X = features\n",
    "y = df.rating\n"
   ]
  },
  {
   "cell_type": "markdown",
   "metadata": {
    "tags": []
   },
   "source": [
    "### Splitting the data into three subsets of training and validation data for the future models.\n",
    "    Two train test splits create three subsets of the original dataset which allows for the training data to not be bled into the test data - this reduced model's bias towards the pre-existing testing data, thus assuring maximum performance on future test sets which the model has never been exposed. "
   ]
  },
  {
   "cell_type": "code",
   "execution_count": null,
   "metadata": {},
   "outputs": [],
   "source": [
    "#performing train test split for test set (subsets 1/3)\n",
    "X_tr, X_test, y_tr, y_test = train_test_split(X, y, test_size=.15, random_state=42)\n",
    "\n",
    "\n",
    "#performing a train test split for train and validation set (subsets - 3/3)\n",
    "X_train, X_val, y_train, y_val = train_test_split(X_tr, y_tr, test_size=.15, random_state=42) "
   ]
  },
  {
   "cell_type": "code",
   "execution_count": null,
   "metadata": {},
   "outputs": [],
   "source": [
    "#checking to ensure the shape of the columns and rows are still the same for the X and y values after the train test split.\n",
    "X_tr.shape, y_tr.shape"
   ]
  },
  {
   "cell_type": "markdown",
   "metadata": {},
   "source": [
    "### Replacing any existing missing values  "
   ]
  },
  {
   "cell_type": "code",
   "execution_count": null,
   "metadata": {
    "tags": []
   },
   "outputs": [],
   "source": [
    "#ingredients have 88 rows that have no imputs.\n",
    "X_val.isna().sum()"
   ]
  },
  {
   "cell_type": "code",
   "execution_count": null,
   "metadata": {},
   "outputs": [],
   "source": [
    "# the empty value replacement will be done using the most frequent fill strategy\n",
    "imputer = SimpleImputer(missing_values=np.nan, strategy='most_frequent')\n",
    "\n",
    "X_train_imputed = pd.DataFrame(imputer.fit_transform(X_train), columns = X.columns)\n",
    "\n",
    "X_val_imputed = pd.DataFrame(imputer.fit_transform(X_val),columns = X.columns)"
   ]
  },
  {
   "cell_type": "code",
   "execution_count": null,
   "metadata": {
    "tags": []
   },
   "outputs": [],
   "source": [
    "#ensuring that the missing values from ingredients are now filled in with the most frequent occuring value\n",
    "\n",
    "X_val_imputed.isna().sum()"
   ]
  },
  {
   "cell_type": "markdown",
   "metadata": {},
   "source": [
    "### Separating groups into numeric and catagorical data types "
   ]
  },
  {
   "cell_type": "code",
   "execution_count": null,
   "metadata": {},
   "outputs": [],
   "source": [
    "#taking a look at the groups data types to ensure that they are separated correctly\n",
    "X_train.info()"
   ]
  },
  {
   "cell_type": "code",
   "execution_count": null,
   "metadata": {},
   "outputs": [],
   "source": [
    "# X_train_numeric \n",
    "# X_train_cat\n",
    "\n",
    "# X_val_numerica"
   ]
  },
  {
   "cell_type": "code",
   "execution_count": null,
   "metadata": {},
   "outputs": [],
   "source": []
  },
  {
   "cell_type": "markdown",
   "metadata": {},
   "source": [
    "## Preprocessing:"
   ]
  },
  {
   "cell_type": "code",
   "execution_count": null,
   "metadata": {},
   "outputs": [],
   "source": []
  }
 ],
 "metadata": {
  "kernelspec": {
   "display_name": "learn-env",
   "language": "python",
   "name": "python3"
  },
  "language_info": {
   "codemirror_mode": {
    "name": "ipython",
    "version": 3
   },
   "file_extension": ".py",
   "mimetype": "text/x-python",
   "name": "python",
   "nbconvert_exporter": "python",
   "pygments_lexer": "ipython3",
   "version": "3.8.5"
  }
 },
 "nbformat": 4,
 "nbformat_minor": 4
}
