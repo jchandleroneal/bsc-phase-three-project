{
 "cells": [
  {
   "cell_type": "markdown",
   "metadata": {
    "tags": []
   },
   "source": [
    "# Chocolate Rating Analysis"
   ]
  },
  {
   "cell_type": "markdown",
   "metadata": {
    "jp-MarkdownHeadingCollapsed": true,
    "tags": []
   },
   "source": [
    "# Web scraping data to then process, clean, etc. in the notebook."
   ]
  },
  {
   "cell_type": "code",
   "execution_count": 1,
   "metadata": {},
   "outputs": [],
   "source": [
    "# import warnings\n",
    "# warnings.filterwarnings('ignore')\n",
    "\n",
    "# from requests import get\n",
    "# from bs4 import BeautifulSoup\n",
    "# import pandas as pd\n",
    "# from selenium import webdriver\n",
    "# import chromedriver_autoinstaller\n",
    "# def create_driver(headless=True):\n",
    "#     driver = chromedriver_autoinstaller.install(cwd=True)\n",
    "#     chrome_options = webdriver.ChromeOptions()     \n",
    "#     if headless:\n",
    "#         chrome_options.add_argument(\"--headless\")\n",
    "#     driver = webdriver.Chrome(driver, \n",
    "#                              chrome_options = chrome_options)\n",
    "#     return driver\n",
    "# driver = create_driver()"
   ]
  },
  {
   "cell_type": "code",
   "execution_count": 2,
   "metadata": {},
   "outputs": [],
   "source": [
    "# driver.get(\"http://flavorsofcacao.com/chocolate_database.html\")"
   ]
  },
  {
   "cell_type": "code",
   "execution_count": 3,
   "metadata": {},
   "outputs": [],
   "source": [
    "# div_id = \"spryregion1\"\n",
    "\n",
    "# html = driver.page_source\n",
    "# soup = BeautifulSoup(html)\n",
    "# div = soup.find('div', {'id':div_id})\n",
    "# # div\n",
    "\n",
    "# table = div.find('table')\n",
    "# table\n"
   ]
  },
  {
   "cell_type": "code",
   "execution_count": 4,
   "metadata": {},
   "outputs": [],
   "source": [
    "# pd.read_html(str(table))[0]"
   ]
  },
  {
   "cell_type": "code",
   "execution_count": 5,
   "metadata": {},
   "outputs": [],
   "source": [
    "# df.to_csv('../../../data/chocolate.csv', index=False)"
   ]
  },
  {
   "cell_type": "markdown",
   "metadata": {
    "tags": []
   },
   "source": [
    "# Importing Necessary Python Libraries "
   ]
  },
  {
   "cell_type": "code",
   "execution_count": 6,
   "metadata": {},
   "outputs": [
    {
     "data": {
      "text/html": [
       "<div>\n",
       "<style scoped>\n",
       "    .dataframe tbody tr th:only-of-type {\n",
       "        vertical-align: middle;\n",
       "    }\n",
       "\n",
       "    .dataframe tbody tr th {\n",
       "        vertical-align: top;\n",
       "    }\n",
       "\n",
       "    .dataframe thead th {\n",
       "        text-align: right;\n",
       "    }\n",
       "</style>\n",
       "<table border=\"1\" class=\"dataframe\">\n",
       "  <thead>\n",
       "    <tr style=\"text-align: right;\">\n",
       "      <th></th>\n",
       "      <th>REF</th>\n",
       "      <th>Company (Manufacturer)</th>\n",
       "      <th>Company Location</th>\n",
       "      <th>Review Date</th>\n",
       "      <th>Country of Bean Origin</th>\n",
       "      <th>Specific Bean Origin or Bar Name</th>\n",
       "      <th>Cocoa Percent</th>\n",
       "      <th>Ingredients</th>\n",
       "      <th>Most Memorable Characteristics</th>\n",
       "      <th>Rating</th>\n",
       "    </tr>\n",
       "  </thead>\n",
       "  <tbody>\n",
       "    <tr>\n",
       "      <th>0</th>\n",
       "      <td>2454</td>\n",
       "      <td>5150</td>\n",
       "      <td>U.S.A.</td>\n",
       "      <td>2019</td>\n",
       "      <td>Madagascar</td>\n",
       "      <td>Bejofo Estate, batch 1</td>\n",
       "      <td>76%</td>\n",
       "      <td>3- B,S,C</td>\n",
       "      <td>cocoa, blackberry, full body</td>\n",
       "      <td>3.75</td>\n",
       "    </tr>\n",
       "    <tr>\n",
       "      <th>1</th>\n",
       "      <td>2458</td>\n",
       "      <td>5150</td>\n",
       "      <td>U.S.A.</td>\n",
       "      <td>2019</td>\n",
       "      <td>Dominican Republic</td>\n",
       "      <td>Zorzal, batch 1</td>\n",
       "      <td>76%</td>\n",
       "      <td>3- B,S,C</td>\n",
       "      <td>cocoa, vegetal, savory</td>\n",
       "      <td>3.50</td>\n",
       "    </tr>\n",
       "    <tr>\n",
       "      <th>2</th>\n",
       "      <td>2454</td>\n",
       "      <td>5150</td>\n",
       "      <td>U.S.A.</td>\n",
       "      <td>2019</td>\n",
       "      <td>Tanzania</td>\n",
       "      <td>Kokoa Kamili, batch 1</td>\n",
       "      <td>76%</td>\n",
       "      <td>3- B,S,C</td>\n",
       "      <td>rich cocoa, fatty, bready</td>\n",
       "      <td>3.25</td>\n",
       "    </tr>\n",
       "    <tr>\n",
       "      <th>3</th>\n",
       "      <td>797</td>\n",
       "      <td>A. Morin</td>\n",
       "      <td>France</td>\n",
       "      <td>2012</td>\n",
       "      <td>Peru</td>\n",
       "      <td>Peru</td>\n",
       "      <td>63%</td>\n",
       "      <td>4- B,S,C,L</td>\n",
       "      <td>fruity, melon, roasty</td>\n",
       "      <td>3.75</td>\n",
       "    </tr>\n",
       "    <tr>\n",
       "      <th>4</th>\n",
       "      <td>797</td>\n",
       "      <td>A. Morin</td>\n",
       "      <td>France</td>\n",
       "      <td>2012</td>\n",
       "      <td>Bolivia</td>\n",
       "      <td>Bolivia</td>\n",
       "      <td>70%</td>\n",
       "      <td>4- B,S,C,L</td>\n",
       "      <td>vegetal, nutty</td>\n",
       "      <td>3.50</td>\n",
       "    </tr>\n",
       "  </tbody>\n",
       "</table>\n",
       "</div>"
      ],
      "text/plain": [
       "    REF Company (Manufacturer) Company Location  Review Date  \\\n",
       "0  2454                   5150           U.S.A.         2019   \n",
       "1  2458                   5150           U.S.A.         2019   \n",
       "2  2454                   5150           U.S.A.         2019   \n",
       "3   797               A. Morin           France         2012   \n",
       "4   797               A. Morin           France         2012   \n",
       "\n",
       "  Country of Bean Origin Specific Bean Origin or Bar Name Cocoa Percent  \\\n",
       "0             Madagascar           Bejofo Estate, batch 1           76%   \n",
       "1     Dominican Republic                  Zorzal, batch 1           76%   \n",
       "2               Tanzania            Kokoa Kamili, batch 1           76%   \n",
       "3                   Peru                             Peru           63%   \n",
       "4                Bolivia                          Bolivia           70%   \n",
       "\n",
       "  Ingredients Most Memorable Characteristics  Rating  \n",
       "0    3- B,S,C   cocoa, blackberry, full body    3.75  \n",
       "1    3- B,S,C         cocoa, vegetal, savory    3.50  \n",
       "2    3- B,S,C      rich cocoa, fatty, bready    3.25  \n",
       "3  4- B,S,C,L          fruity, melon, roasty    3.75  \n",
       "4  4- B,S,C,L                 vegetal, nutty    3.50  "
      ]
     },
     "execution_count": 6,
     "metadata": {},
     "output_type": "execute_result"
    }
   ],
   "source": [
    "import pandas as pd \n",
    "import numpy as np \n",
    "import seaborn as sns\n",
    "import matplotlib.pyplot as plt\n",
    "from sklearn.model_selection import cross_val_score, train_test_split\n",
    "from sklearn.impute import SimpleImputer\n",
    "from sklearn.ensemble import BaggingClassifier\n",
    "from sklearn.metrics import plot_confusion_matrix, auc, classification_report\n",
    "from sklearn.linear_model import LogisticRegression\n",
    "from sklearn.pipeline import Pipeline\n",
    "from sklearn.tree import DecisionTreeRegressor, DecisionTreeClassifier\n",
    "from sklearn.preprocessing import OneHotEncoder, StandardScaler\n",
    "from sklearn.ensemble import RandomForestClassifier, RandomForestRegressor\n",
    "from imblearn.over_sampling import SMOTE\n",
    "from collections import Counter\n",
    "\n",
    "all_data = pd.read_csv('../../../data/chocolate.csv')\n",
    "all_data.head()"
   ]
  },
  {
   "cell_type": "markdown",
   "metadata": {
    "tags": []
   },
   "source": [
    "# Data Cleaning "
   ]
  },
  {
   "cell_type": "markdown",
   "metadata": {},
   "source": [
    "### Replacing column spaces with underscores and lower casing column names for simplicity when calling them. "
   ]
  },
  {
   "cell_type": "code",
   "execution_count": 7,
   "metadata": {},
   "outputs": [],
   "source": [
    "#breaking away from original dataset and creating a copy to maintain the original structure as \"all_data\"\n",
    "df = all_data.copy()"
   ]
  },
  {
   "cell_type": "code",
   "execution_count": 8,
   "metadata": {},
   "outputs": [
    {
     "data": {
      "text/html": [
       "<div>\n",
       "<style scoped>\n",
       "    .dataframe tbody tr th:only-of-type {\n",
       "        vertical-align: middle;\n",
       "    }\n",
       "\n",
       "    .dataframe tbody tr th {\n",
       "        vertical-align: top;\n",
       "    }\n",
       "\n",
       "    .dataframe thead th {\n",
       "        text-align: right;\n",
       "    }\n",
       "</style>\n",
       "<table border=\"1\" class=\"dataframe\">\n",
       "  <thead>\n",
       "    <tr style=\"text-align: right;\">\n",
       "      <th></th>\n",
       "      <th>ref</th>\n",
       "      <th>company_manufacturer</th>\n",
       "      <th>company_location</th>\n",
       "      <th>review_date</th>\n",
       "      <th>country_of_bean_origin</th>\n",
       "      <th>specific_bean_origin_or_bar_name</th>\n",
       "      <th>cocoa_percent</th>\n",
       "      <th>ingredients</th>\n",
       "      <th>most_memorable_characteristics</th>\n",
       "      <th>rating</th>\n",
       "    </tr>\n",
       "  </thead>\n",
       "  <tbody>\n",
       "    <tr>\n",
       "      <th>0</th>\n",
       "      <td>2454</td>\n",
       "      <td>5150</td>\n",
       "      <td>U.S.A.</td>\n",
       "      <td>2019</td>\n",
       "      <td>Madagascar</td>\n",
       "      <td>Bejofo Estate, batch 1</td>\n",
       "      <td>76.0</td>\n",
       "      <td>3- B,S,C</td>\n",
       "      <td>cocoa, blackberry, full body</td>\n",
       "      <td>3.75</td>\n",
       "    </tr>\n",
       "    <tr>\n",
       "      <th>1</th>\n",
       "      <td>2458</td>\n",
       "      <td>5150</td>\n",
       "      <td>U.S.A.</td>\n",
       "      <td>2019</td>\n",
       "      <td>Dominican Republic</td>\n",
       "      <td>Zorzal, batch 1</td>\n",
       "      <td>76.0</td>\n",
       "      <td>3- B,S,C</td>\n",
       "      <td>cocoa, vegetal, savory</td>\n",
       "      <td>3.50</td>\n",
       "    </tr>\n",
       "    <tr>\n",
       "      <th>2</th>\n",
       "      <td>2454</td>\n",
       "      <td>5150</td>\n",
       "      <td>U.S.A.</td>\n",
       "      <td>2019</td>\n",
       "      <td>Tanzania</td>\n",
       "      <td>Kokoa Kamili, batch 1</td>\n",
       "      <td>76.0</td>\n",
       "      <td>3- B,S,C</td>\n",
       "      <td>rich cocoa, fatty, bready</td>\n",
       "      <td>3.25</td>\n",
       "    </tr>\n",
       "    <tr>\n",
       "      <th>3</th>\n",
       "      <td>797</td>\n",
       "      <td>A. Morin</td>\n",
       "      <td>France</td>\n",
       "      <td>2012</td>\n",
       "      <td>Peru</td>\n",
       "      <td>Peru</td>\n",
       "      <td>63.0</td>\n",
       "      <td>4- B,S,C,L</td>\n",
       "      <td>fruity, melon, roasty</td>\n",
       "      <td>3.75</td>\n",
       "    </tr>\n",
       "    <tr>\n",
       "      <th>4</th>\n",
       "      <td>797</td>\n",
       "      <td>A. Morin</td>\n",
       "      <td>France</td>\n",
       "      <td>2012</td>\n",
       "      <td>Bolivia</td>\n",
       "      <td>Bolivia</td>\n",
       "      <td>70.0</td>\n",
       "      <td>4- B,S,C,L</td>\n",
       "      <td>vegetal, nutty</td>\n",
       "      <td>3.50</td>\n",
       "    </tr>\n",
       "  </tbody>\n",
       "</table>\n",
       "</div>"
      ],
      "text/plain": [
       "    ref company_manufacturer company_location  review_date  \\\n",
       "0  2454                 5150           U.S.A.         2019   \n",
       "1  2458                 5150           U.S.A.         2019   \n",
       "2  2454                 5150           U.S.A.         2019   \n",
       "3   797             A. Morin           France         2012   \n",
       "4   797             A. Morin           France         2012   \n",
       "\n",
       "  country_of_bean_origin specific_bean_origin_or_bar_name  cocoa_percent  \\\n",
       "0             Madagascar           Bejofo Estate, batch 1           76.0   \n",
       "1     Dominican Republic                  Zorzal, batch 1           76.0   \n",
       "2               Tanzania            Kokoa Kamili, batch 1           76.0   \n",
       "3                   Peru                             Peru           63.0   \n",
       "4                Bolivia                          Bolivia           70.0   \n",
       "\n",
       "  ingredients most_memorable_characteristics  rating  \n",
       "0    3- B,S,C   cocoa, blackberry, full body    3.75  \n",
       "1    3- B,S,C         cocoa, vegetal, savory    3.50  \n",
       "2    3- B,S,C      rich cocoa, fatty, bready    3.25  \n",
       "3  4- B,S,C,L          fruity, melon, roasty    3.75  \n",
       "4  4- B,S,C,L                 vegetal, nutty    3.50  "
      ]
     },
     "execution_count": 8,
     "metadata": {},
     "output_type": "execute_result"
    }
   ],
   "source": [
    "#removing parenthesis and spaces from columns \n",
    "df.columns = df.columns.str.replace(' ', '_').str.replace('(', '').str.replace(')', '').str.lower()\n",
    "\n",
    "#removing percent signs from row cocoa_percent\n",
    "df = df.replace(\"%\", \"\", regex=True)\n",
    "# turning percentage of cocoa into a float\n",
    "df[\"cocoa_percent\"] = df.cocoa_percent.astype(float)\n",
    "\n",
    "df.head()"
   ]
  },
  {
   "cell_type": "markdown",
   "metadata": {
    "tags": []
   },
   "source": [
    "# Exploratory Data Analysis: \n",
    "Determining the goals for the features in terms of which to compare to the target variable and the take aways for each feaure"
   ]
  },
  {
   "cell_type": "markdown",
   "metadata": {
    "tags": []
   },
   "source": [
    "## Looking into the relationships of chocolate characteristics and company location. "
   ]
  },
  {
   "cell_type": "markdown",
   "metadata": {},
   "source": [
    "### Evaluating the most memorable characteristics "
   ]
  },
  {
   "cell_type": "code",
   "execution_count": 71,
   "metadata": {},
   "outputs": [
    {
     "data": {
      "text/plain": [
       "2231"
      ]
     },
     "execution_count": 71,
     "metadata": {},
     "output_type": "execute_result"
    }
   ],
   "source": [
    "# over 2300 combinations of flavors \n",
    "df.most_memorable_characteristics.value_counts().sum()"
   ]
  },
  {
   "cell_type": "code",
   "execution_count": 72,
   "metadata": {},
   "outputs": [
    {
     "data": {
      "text/plain": [
       "spicy, cocoa                    4\n",
       "creamy, nutty, cocoa            4\n",
       "cherry, rich choco              3\n",
       "sweet, marshmallow              3\n",
       "sandy, sweet, cocoa             3\n",
       "                               ..\n",
       "complex, fruit, nut, rich       1\n",
       "smooth, tart, earthy            1\n",
       "off notes, sour, roasty         1\n",
       "distinct, short, dried fruit    1\n",
       "creamy, cocoa, smokey           1\n",
       "Name: most_memorable_characteristics, Length: 2191, dtype: int64"
      ]
     },
     "execution_count": 72,
     "metadata": {},
     "output_type": "execute_result"
    }
   ],
   "source": [
    "df.most_memorable_characteristics.value_counts()"
   ]
  },
  {
   "cell_type": "markdown",
   "metadata": {
    "tags": []
   },
   "source": [
    "### Breaking up flavors individually and determining the weighted average (weighted_occurance * rating) for the top 25 flavors"
   ]
  },
  {
   "cell_type": "code",
   "execution_count": 73,
   "metadata": {},
   "outputs": [],
   "source": [
    "###? delete the few below?"
   ]
  },
  {
   "cell_type": "code",
   "execution_count": 74,
   "metadata": {},
   "outputs": [],
   "source": [
    "#word list returns words from the dataframe that have been split\n",
    "# word_list = [word.strip().replace(',', '').replace('\"', '') for word in \" \".join(df.most_memorable_characteristics).split()]\n",
    "\n",
    "# word_counts = np.unique(word_list, return_counts=True)\n",
    "# word_c = np.array([word_counts[0], word_counts[1]])\n",
    "# word_df = pd.DataFrame(word_c.T, columns=['word', 'count'])\n",
    "# word_df.sort_values(by='count', ascending=False)"
   ]
  },
  {
   "cell_type": "markdown",
   "metadata": {},
   "source": [
    "### Checking to see how many times each flavor appears"
   ]
  },
  {
   "cell_type": "code",
   "execution_count": 75,
   "metadata": {},
   "outputs": [
    {
     "data": {
      "text/plain": [
       "230"
      ]
     },
     "execution_count": 75,
     "metadata": {},
     "output_type": "execute_result"
    }
   ],
   "source": [
    "count = 0\n",
    "for c in df.most_memorable_characteristics.values:\n",
    "    if 'sweet' in [x.strip().replace(',', '').replace('\"', '') for x in c.split(', ')]:\n",
    "        count += 1\n",
    "count"
   ]
  },
  {
   "cell_type": "code",
   "execution_count": 76,
   "metadata": {},
   "outputs": [
    {
     "data": {
      "text/plain": [
       "[('cocoa', 356),\n",
       " ('sweet', 287),\n",
       " ('nutty', 260),\n",
       " ('fruit', 236),\n",
       " ('roasty', 210),\n",
       " ('mild', 208),\n",
       " ('sour', 185),\n",
       " ('earthy', 185),\n",
       " ('creamy', 183),\n",
       " ('intense', 166),\n",
       " ('sandy', 161),\n",
       " ('fatty', 157),\n",
       " ('floral', 150),\n",
       " ('spicy', 144),\n",
       " ('rich', 141),\n",
       " ('bitter', 120),\n",
       " ('off', 104),\n",
       " ('vanilla', 101),\n",
       " ('molasses', 90),\n",
       " ('coffee', 87),\n",
       " ('woody', 85),\n",
       " ('spice', 79),\n",
       " ('sticky', 78),\n",
       " ('berry', 72),\n",
       " ('tart', 70)]"
      ]
     },
     "execution_count": 76,
     "metadata": {},
     "output_type": "execute_result"
    }
   ],
   "source": [
    "word_count_list = Counter(word_list).most_common(25)\n",
    "word_count_list"
   ]
  },
  {
   "cell_type": "code",
   "execution_count": 77,
   "metadata": {},
   "outputs": [],
   "source": [
    "x = [count_list[0] for count_list in word_count_list]\n",
    "y = [count_list[1] for count_list in word_count_list]"
   ]
  },
  {
   "cell_type": "code",
   "execution_count": 78,
   "metadata": {},
   "outputs": [],
   "source": [
    "cleaned_word_list = []\n",
    "\n",
    "#grabbing an arry of charcteristics, splitting (sepparating them by columns) and cleaning them\n",
    "for char in df['most_memorable_characteristics'].values:\n",
    "    l = char.split(', ')\n",
    "    clean_list = [word.replace(',', '').replace('\"', '').strip() for word in l] \n",
    "    cleaned_word_list.append(clean_list)\n",
    "     \n",
    "#assigning the clean word list to the memorable char column\n",
    "df['memorable_characteristics_list'] = cleaned_word_list"
   ]
  },
  {
   "cell_type": "code",
   "execution_count": 79,
   "metadata": {},
   "outputs": [],
   "source": [
    "# grabbing the shape of the full dataframe\n",
    "num_rows = df.shape[0]\n",
    "\n",
    "# creating an empty dictionary to fill with the chocolate characteristics and their weighted averages \n",
    "weighted_chars = {}\n",
    "\n",
    "for word in x:\n",
    "    #the df[df is returning the values associated with the list comprehension - lambda rather than a boolean\n",
    "    word_df = df[df['memorable_characteristics_list'].apply(lambda lst: word in lst)]\n",
    "    avg_rating = word_df['rating'].mean()\n",
    "    weight = len(word_df) / num_rows\n",
    "    weighted_chars[word] = avg_rating * weight \n",
    "    "
   ]
  },
  {
   "cell_type": "code",
   "execution_count": 80,
   "metadata": {},
   "outputs": [
    {
     "data": {
      "text/html": [
       "<div>\n",
       "<style scoped>\n",
       "    .dataframe tbody tr th:only-of-type {\n",
       "        vertical-align: middle;\n",
       "    }\n",
       "\n",
       "    .dataframe tbody tr th {\n",
       "        vertical-align: top;\n",
       "    }\n",
       "\n",
       "    .dataframe thead th {\n",
       "        text-align: right;\n",
       "    }\n",
       "</style>\n",
       "<table border=\"1\" class=\"dataframe\">\n",
       "  <thead>\n",
       "    <tr style=\"text-align: right;\">\n",
       "      <th></th>\n",
       "      <th>chocolate_char</th>\n",
       "      <th>weighted_rating</th>\n",
       "    </tr>\n",
       "  </thead>\n",
       "  <tbody>\n",
       "    <tr>\n",
       "      <th>2</th>\n",
       "      <td>nutty</td>\n",
       "      <td>0.343120</td>\n",
       "    </tr>\n",
       "    <tr>\n",
       "      <th>1</th>\n",
       "      <td>sweet</td>\n",
       "      <td>0.314097</td>\n",
       "    </tr>\n",
       "    <tr>\n",
       "      <th>0</th>\n",
       "      <td>cocoa</td>\n",
       "      <td>0.308494</td>\n",
       "    </tr>\n",
       "  </tbody>\n",
       "</table>\n",
       "</div>"
      ],
      "text/plain": [
       "  chocolate_char  weighted_rating\n",
       "2          nutty         0.343120\n",
       "1          sweet         0.314097\n",
       "0          cocoa         0.308494"
      ]
     },
     "execution_count": 80,
     "metadata": {},
     "output_type": "execute_result"
    }
   ],
   "source": [
    "#turning the dictionary into a dataframe\n",
    "sorted_weighted_chars_df = pd.DataFrame(list(zip(weighted_chars.keys(), weighted_chars.values())), columns=['chocolate_char', 'weighted_rating']).sort_values(by='weighted_rating',ascending=False)\n",
    "\n",
    "#ensuring that the chocolate characteristics are sorted according to their weighted averages\n",
    "sorted_weighted_chars_df.head(3)"
   ]
  },
  {
   "cell_type": "code",
   "execution_count": 81,
   "metadata": {},
   "outputs": [
    {
     "data": {
      "image/png": "[encoded data removed]",
      "text/plain": [
       "<Figure size 1224x360 with 1 Axes>"
      ]
     },
     "metadata": {
      "needs_background": "light"
     },
     "output_type": "display_data"
    }
   ],
   "source": [
    "# Plotting the most memorable characteristics\n",
    "\n",
    "import matplotlib.pyplot as plt\n",
    "\n",
    "x = sorted_weighted_chars_df['chocolate_char']\n",
    "\n",
    "y = sorted_weighted_chars_df['weighted_rating']\n",
    "\n",
    "fig, ax = plt.subplots(figsize=(17,5))\n",
    "plt.xticks(rotation = 45)\n",
    "plt.title('Weighted Chocolated Characteristic Ratings', fontsize=25)\n",
    "plt.xlabel('Chocolate Characteristics', fontsize=18)\n",
    "plt.ylabel('Weighted Rating', fontsize=18)\n",
    "\n",
    "plt.bar(x,y)\n",
    "plt.show()"
   ]
  },
  {
   "cell_type": "markdown",
   "metadata": {},
   "source": [
    "* The chocolate characteristics appears to have visual groups in relation to the weighted ratings. It might be helpful to group them before modeling"
   ]
  },
  {
   "cell_type": "code",
   "execution_count": 82,
   "metadata": {},
   "outputs": [],
   "source": [
    "# company manufacturer\n",
    "\n",
    "\n",
    "\n"
   ]
  },
  {
   "cell_type": "code",
   "execution_count": 83,
   "metadata": {},
   "outputs": [],
   "source": [
    "# company location\n",
    "\n",
    "# x = \n",
    "# y = \n",
    "\n",
    "# sns.barplot(x=x, y=y, hue=None, data=df)\n",
    "\n"
   ]
  },
  {
   "cell_type": "markdown",
   "metadata": {
    "tags": []
   },
   "source": [
    "## Evaluating the Company Location"
   ]
  },
  {
   "cell_type": "markdown",
   "metadata": {
    "tags": []
   },
   "source": [
    "### Inspecting the company location's weighted average in relation to rating"
   ]
  },
  {
   "cell_type": "code",
   "execution_count": 84,
   "metadata": {},
   "outputs": [],
   "source": [
    "# Average rating of each country. ex: 'Puerto Rico': 2.625\n",
    "average_ratings_company_location = df.groupby('company_location')['rating'].mean().sort_values().to_dict()\n"
   ]
  },
  {
   "cell_type": "code",
   "execution_count": 85,
   "metadata": {},
   "outputs": [],
   "source": [
    "# Percentage of Country appearances. ex: 'U.S.A.': 0.42929720575783237\n",
    "company_location_counts = df['company_location'].value_counts(normalize=True).to_dict()\n"
   ]
  },
  {
   "cell_type": "code",
   "execution_count": 86,
   "metadata": {},
   "outputs": [
    {
     "data": {
      "text/plain": [
       "[(0.001232631107126849, 'Ghana'),\n",
       " (0.001232631107126849, 'St.Vincent-Grenadines'),\n",
       " (0.001232631107126849, 'Wales'),\n",
       " (0.0014567458538771853, 'Russia'),\n",
       " (0.0014567458538771853, 'Suriname'),\n",
       " (0.0022411474675033617, 'Puerto Rico'),\n",
       " (0.00235320484087853, 'India'),\n",
       " (0.0029134917077543706, 'Bolivia'),\n",
       " (0.0029134917077543706, 'Finland'),\n",
       " (0.003361721201255043, 'Chile'),\n",
       " (0.0036978933213805466, 'Portugal'),\n",
       " (0.0036978933213805466, 'St. Lucia'),\n",
       " (0.003809950694755715, 'Grenada'),\n",
       " (0.003809950694755715, 'Malaysia'),\n",
       " (0.004034065441506051, 'Czech Republic'),\n",
       " (0.004034065441506051, 'El Salvador'),\n",
       " (0.0044822949350067235, 'Norway'),\n",
       " (0.00470640968175706, 'Sao Tome'),\n",
       " (0.004930524428507396, 'South Africa'),\n",
       " (0.004930524428507396, 'Vanuatu'),\n",
       " (0.005042581801882564, 'Sao Tome & Principe'),\n",
       " (0.005826983415508741, 'Fiji'),\n",
       " (0.005826983415508741, 'Philippines'),\n",
       " (0.005939040788883909, 'Iceland'),\n",
       " (0.006051098162259077, 'U.A.E.'),\n",
       " (0.006275212909009413, 'Argentina'),\n",
       " (0.006499327655759749, 'Ireland'),\n",
       " (0.007395786642761093, 'Thailand'),\n",
       " (0.008068130883012102, 'Sweden'),\n",
       " (0.008628417749887943, 'Honduras'),\n",
       " (0.010645450470640968, 'Mexico'),\n",
       " (0.010981622590766472, 'Poland'),\n",
       " (0.01120573733751681, 'Lithuania'),\n",
       " (0.01120573733751681, 'Netherlands'),\n",
       " (0.011317794710891978, 'South Korea'),\n",
       " (0.01232631107126849, 'Scotland'),\n",
       " (0.012662483191393993, 'Costa Rica'),\n",
       " (0.013110712684894667, 'Israel'),\n",
       " (0.013895114298520844, 'Nicaragua'),\n",
       " (0.013895114298520844, 'Taiwan'),\n",
       " (0.014051994621246079, 'Dominican Republic'),\n",
       " (0.015015688032272524, 'Guatemala'),\n",
       " (0.01624831913939937, 'Amsterdam'),\n",
       " (0.018265351860152396, 'Madagascar'),\n",
       " (0.018377409233527566, 'Singapore'),\n",
       " (0.022411474675033616, 'Vietnam'),\n",
       " (0.026109367996414164, 'Peru'),\n",
       " (0.033729269385925596, 'Brazil'),\n",
       " (0.03428955625280143, 'Colombia'),\n",
       " (0.03585835948005379, 'Hungary'),\n",
       " (0.03653070372030479, 'New Zealand'),\n",
       " (0.037315105333930974, 'Japan'),\n",
       " (0.043254146122814884, 'Venezuela'),\n",
       " (0.04381443298969072, 'Austria'),\n",
       " (0.04639175257731959, 'Denmark'),\n",
       " (0.051210219632451814, 'Spain'),\n",
       " (0.05692514567458539, 'Germany'),\n",
       " (0.06387270282384581, 'Switzerland'),\n",
       " (0.07003585835948005, 'Ecuador'),\n",
       " (0.07698341550874048, 'Australia'),\n",
       " (0.08000896458987002, 'Belgium'),\n",
       " (0.08908561183325862, 'Italy'),\n",
       " (0.1614746750336172, 'U.K.'),\n",
       " (0.23330345136709993, 'Canada'),\n",
       " (0.2362169430748543, 'France'),\n",
       " (1.3961228148812193, 'U.S.A.')]"
      ]
     },
     "execution_count": 86,
     "metadata": {},
     "output_type": "execute_result"
    },
    {
     "data": {
      "image/png": "[encoded data removed]",
      "text/plain": [
       "<Figure size 1080x432 with 1 Axes>"
      ]
     },
     "metadata": {
      "needs_background": "light"
     },
     "output_type": "display_data"
    }
   ],
   "source": [
    "#creating a weighted average number of appearances * rating\n",
    "companies_loc = df.company_location.unique()\n",
    "\n",
    "\n",
    "#Inspecting the weighting average of the appearance of countries and the rating \n",
    "\n",
    "#ex: country appearance percentage * country average rating \n",
    "weighted_rating = []\n",
    "for company in companies_loc:\n",
    "    count = company_location_counts[company]\n",
    "    rating = average_ratings_company_location[company]\n",
    "    weighted_rating.append(count * rating)\n",
    "    \n",
    "sorted_vals = sorted(list(zip(weighted_rating, companies_loc)))\n",
    "x = [val[1] for val in sorted_vals]\n",
    "y = [val[0] for val in sorted_vals]\n",
    "\n",
    "# Creating a vizualization for the relationships\n",
    "plt.figure(figsize=(15,6))\n",
    "plt.bar(x, y)\n",
    "plt.xticks(rotation=90);\n",
    "sorted_vals"
   ]
  },
  {
   "cell_type": "markdown",
   "metadata": {
    "tags": []
   },
   "source": [
    "## Feature Engineering the Companies' Countries Number of Appearances by Setting them to Low / Medium / High. "
   ]
  },
  {
   "cell_type": "code",
   "execution_count": 87,
   "metadata": {},
   "outputs": [
    {
     "data": {
      "text/html": [
       "<div>\n",
       "<style scoped>\n",
       "    .dataframe tbody tr th:only-of-type {\n",
       "        vertical-align: middle;\n",
       "    }\n",
       "\n",
       "    .dataframe tbody tr th {\n",
       "        vertical-align: top;\n",
       "    }\n",
       "\n",
       "    .dataframe thead th {\n",
       "        text-align: right;\n",
       "    }\n",
       "</style>\n",
       "<table border=\"1\" class=\"dataframe\">\n",
       "  <thead>\n",
       "    <tr style=\"text-align: right;\">\n",
       "      <th></th>\n",
       "      <th>country</th>\n",
       "      <th>weighted_rating</th>\n",
       "    </tr>\n",
       "  </thead>\n",
       "  <tbody>\n",
       "    <tr>\n",
       "      <th>0</th>\n",
       "      <td>U.S.A.</td>\n",
       "      <td>1.396123</td>\n",
       "    </tr>\n",
       "    <tr>\n",
       "      <th>1</th>\n",
       "      <td>France</td>\n",
       "      <td>0.236217</td>\n",
       "    </tr>\n",
       "    <tr>\n",
       "      <th>2</th>\n",
       "      <td>Fiji</td>\n",
       "      <td>0.005827</td>\n",
       "    </tr>\n",
       "    <tr>\n",
       "      <th>3</th>\n",
       "      <td>Vanuatu</td>\n",
       "      <td>0.004931</td>\n",
       "    </tr>\n",
       "    <tr>\n",
       "      <th>4</th>\n",
       "      <td>Ecuador</td>\n",
       "      <td>0.070036</td>\n",
       "    </tr>\n",
       "  </tbody>\n",
       "</table>\n",
       "</div>"
      ],
      "text/plain": [
       "   country  weighted_rating\n",
       "0   U.S.A.         1.396123\n",
       "1   France         0.236217\n",
       "2     Fiji         0.005827\n",
       "3  Vanuatu         0.004931\n",
       "4  Ecuador         0.070036"
      ]
     },
     "execution_count": 87,
     "metadata": {},
     "output_type": "execute_result"
    }
   ],
   "source": [
    "#Matching the country weighted ratings with each country.\n",
    "#company_loc -> unique country non-repeated \n",
    "group_df = pd.DataFrame(list(zip(companies_loc, weighted_rating)), columns=['country', 'weighted_rating'])\n",
    "group_df.head()"
   ]
  },
  {
   "cell_type": "markdown",
   "metadata": {},
   "source": [
    "### Using q-cut with a Value of 3"
   ]
  },
  {
   "cell_type": "code",
   "execution_count": 88,
   "metadata": {},
   "outputs": [],
   "source": [
    "group_df['weighted_company_bins'] = pd.qcut(group_df['weighted_rating'], \n",
    "                                            labels=['low', 'middle', 'high'], q=3)"
   ]
  },
  {
   "cell_type": "code",
   "execution_count": 89,
   "metadata": {},
   "outputs": [],
   "source": [
    "weighted_company_bins = group_df.set_index('country')['weighted_company_bins'].to_dict()"
   ]
  },
  {
   "cell_type": "code",
   "execution_count": 90,
   "metadata": {},
   "outputs": [],
   "source": [
    "df['company_bins'] = df['company_location'].map(weighted_company_bins)"
   ]
  },
  {
   "cell_type": "markdown",
   "metadata": {},
   "source": [
    "### Binning the Company Location into Groups of  A / B / C"
   ]
  },
  {
   "cell_type": "code",
   "execution_count": 91,
   "metadata": {},
   "outputs": [],
   "source": [
    "first_bin = x[:47]\n",
    "df['comp_location_bin'] = 1\n",
    "\n",
    "bin_a_index = df[df.company_location.isin(first_bin)].index\n",
    "df.at[bin_a_index, 'comp_location_bin'] = 'a'"
   ]
  },
  {
   "cell_type": "code",
   "execution_count": 92,
   "metadata": {},
   "outputs": [],
   "source": [
    "idx = x.index('Italy') + 1\n",
    "second_bin = x[47:idx]\n",
    "\n",
    "bin_b_index = df[df.company_location.isin(second_bin)].index\n",
    "df.at[bin_b_index, 'comp_location_bin'] = 'b'\n",
    "\n"
   ]
  },
  {
   "cell_type": "code",
   "execution_count": 93,
   "metadata": {},
   "outputs": [],
   "source": [
    "idx2 = x.index('U.K.') \n",
    "third_bin = x[idx2:]\n",
    "\n",
    "bin_c_index = df[df.company_location.isin(third_bin)].index\n",
    "df.at[bin_c_index, 'comp_location_bin'] = 'c'"
   ]
  },
  {
   "cell_type": "code",
   "execution_count": 94,
   "metadata": {},
   "outputs": [
    {
     "data": {
      "text/plain": [
       "['U.K.', 'Canada', 'France', 'U.S.A.']"
      ]
     },
     "execution_count": 94,
     "metadata": {},
     "output_type": "execute_result"
    }
   ],
   "source": [
    "x[idx2:]"
   ]
  },
  {
   "cell_type": "code",
   "execution_count": 95,
   "metadata": {},
   "outputs": [
    {
     "data": {
      "text/plain": [
       "comp_location_bin\n",
       "c    1411\n",
       "b     551\n",
       "a     269\n",
       "dtype: int64"
      ]
     },
     "execution_count": 95,
     "metadata": {},
     "output_type": "execute_result"
    }
   ],
   "source": [
    "df.value_counts('comp_location_bin')"
   ]
  },
  {
   "cell_type": "code",
   "execution_count": 96,
   "metadata": {},
   "outputs": [
    {
     "data": {
      "text/plain": [
       "array([], dtype=object)"
      ]
     },
     "execution_count": 96,
     "metadata": {},
     "output_type": "execute_result"
    }
   ],
   "source": [
    "df[df.comp_location_bin == 1].company_location.unique()"
   ]
  },
  {
   "cell_type": "code",
   "execution_count": 97,
   "metadata": {},
   "outputs": [],
   "source": [
    "df['company_bin'] = df['comp_location_bin']"
   ]
  },
  {
   "cell_type": "markdown",
   "metadata": {
    "tags": []
   },
   "source": [
    "### Binning the Company Location into Groups of  1 / 2 / 3"
   ]
  },
  {
   "cell_type": "code",
   "execution_count": 98,
   "metadata": {
    "tags": []
   },
   "outputs": [],
   "source": [
    "company_bin = []\n",
    "for c in df['company_location'].values:\n",
    "    if c in first_bin:\n",
    "        company_bin.append(1)\n",
    "    elif c in second_bin:\n",
    "        company_bin.append(2)\n",
    "    else:\n",
    "        company_bin.append(3)\n",
    "        \n",
    "df['company_bin'] = company_bin"
   ]
  },
  {
   "cell_type": "code",
   "execution_count": 99,
   "metadata": {},
   "outputs": [
    {
     "data": {
      "text/plain": [
       "3    1411\n",
       "2     551\n",
       "1     269\n",
       "Name: company_bin, dtype: int64"
      ]
     },
     "execution_count": 99,
     "metadata": {},
     "output_type": "execute_result"
    }
   ],
   "source": [
    "df['company_bin'].value_counts()"
   ]
  },
  {
   "cell_type": "code",
   "execution_count": 100,
   "metadata": {},
   "outputs": [
    {
     "data": {
      "text/html": [
       "<div>\n",
       "<style scoped>\n",
       "    .dataframe tbody tr th:only-of-type {\n",
       "        vertical-align: middle;\n",
       "    }\n",
       "\n",
       "    .dataframe tbody tr th {\n",
       "        vertical-align: top;\n",
       "    }\n",
       "\n",
       "    .dataframe thead th {\n",
       "        text-align: right;\n",
       "    }\n",
       "</style>\n",
       "<table border=\"1\" class=\"dataframe\">\n",
       "  <thead>\n",
       "    <tr style=\"text-align: right;\">\n",
       "      <th></th>\n",
       "      <th>ref</th>\n",
       "      <th>company_manufacturer</th>\n",
       "      <th>company_location</th>\n",
       "      <th>review_date</th>\n",
       "      <th>country_of_bean_origin</th>\n",
       "      <th>specific_bean_origin_or_bar_name</th>\n",
       "      <th>cocoa_percent</th>\n",
       "      <th>ingredients</th>\n",
       "      <th>most_memorable_characteristics</th>\n",
       "      <th>rating</th>\n",
       "      <th>memorable_characteristics_list</th>\n",
       "      <th>company_bins</th>\n",
       "      <th>comp_location_bin</th>\n",
       "      <th>company_bin</th>\n",
       "      <th>ingredient_list</th>\n",
       "    </tr>\n",
       "  </thead>\n",
       "  <tbody>\n",
       "    <tr>\n",
       "      <th>0</th>\n",
       "      <td>2454</td>\n",
       "      <td>5150</td>\n",
       "      <td>U.S.A.</td>\n",
       "      <td>2019</td>\n",
       "      <td>Madagascar</td>\n",
       "      <td>Bejofo Estate, batch 1</td>\n",
       "      <td>76.0</td>\n",
       "      <td>3- B,S,C</td>\n",
       "      <td>cocoa, blackberry, full body</td>\n",
       "      <td>3.75</td>\n",
       "      <td>[cocoa, blackberry, full body]</td>\n",
       "      <td>high</td>\n",
       "      <td>c</td>\n",
       "      <td>3</td>\n",
       "      <td>B,S,C</td>\n",
       "    </tr>\n",
       "    <tr>\n",
       "      <th>1</th>\n",
       "      <td>2458</td>\n",
       "      <td>5150</td>\n",
       "      <td>U.S.A.</td>\n",
       "      <td>2019</td>\n",
       "      <td>Dominican Republic</td>\n",
       "      <td>Zorzal, batch 1</td>\n",
       "      <td>76.0</td>\n",
       "      <td>3- B,S,C</td>\n",
       "      <td>cocoa, vegetal, savory</td>\n",
       "      <td>3.50</td>\n",
       "      <td>[cocoa, vegetal, savory]</td>\n",
       "      <td>high</td>\n",
       "      <td>c</td>\n",
       "      <td>3</td>\n",
       "      <td>B,S,C</td>\n",
       "    </tr>\n",
       "    <tr>\n",
       "      <th>2</th>\n",
       "      <td>2454</td>\n",
       "      <td>5150</td>\n",
       "      <td>U.S.A.</td>\n",
       "      <td>2019</td>\n",
       "      <td>Tanzania</td>\n",
       "      <td>Kokoa Kamili, batch 1</td>\n",
       "      <td>76.0</td>\n",
       "      <td>3- B,S,C</td>\n",
       "      <td>rich cocoa, fatty, bready</td>\n",
       "      <td>3.25</td>\n",
       "      <td>[rich cocoa, fatty, bready]</td>\n",
       "      <td>high</td>\n",
       "      <td>c</td>\n",
       "      <td>3</td>\n",
       "      <td>B,S,C</td>\n",
       "    </tr>\n",
       "    <tr>\n",
       "      <th>3</th>\n",
       "      <td>797</td>\n",
       "      <td>A. Morin</td>\n",
       "      <td>France</td>\n",
       "      <td>2012</td>\n",
       "      <td>Peru</td>\n",
       "      <td>Peru</td>\n",
       "      <td>63.0</td>\n",
       "      <td>4- B,S,C,L</td>\n",
       "      <td>fruity, melon, roasty</td>\n",
       "      <td>3.75</td>\n",
       "      <td>[fruity, melon, roasty]</td>\n",
       "      <td>high</td>\n",
       "      <td>c</td>\n",
       "      <td>3</td>\n",
       "      <td>B,S,C,L</td>\n",
       "    </tr>\n",
       "    <tr>\n",
       "      <th>4</th>\n",
       "      <td>797</td>\n",
       "      <td>A. Morin</td>\n",
       "      <td>France</td>\n",
       "      <td>2012</td>\n",
       "      <td>Bolivia</td>\n",
       "      <td>Bolivia</td>\n",
       "      <td>70.0</td>\n",
       "      <td>4- B,S,C,L</td>\n",
       "      <td>vegetal, nutty</td>\n",
       "      <td>3.50</td>\n",
       "      <td>[vegetal, nutty]</td>\n",
       "      <td>high</td>\n",
       "      <td>c</td>\n",
       "      <td>3</td>\n",
       "      <td>B,S,C,L</td>\n",
       "    </tr>\n",
       "  </tbody>\n",
       "</table>\n",
       "</div>"
      ],
      "text/plain": [
       "    ref company_manufacturer company_location  review_date  \\\n",
       "0  2454                 5150           U.S.A.         2019   \n",
       "1  2458                 5150           U.S.A.         2019   \n",
       "2  2454                 5150           U.S.A.         2019   \n",
       "3   797             A. Morin           France         2012   \n",
       "4   797             A. Morin           France         2012   \n",
       "\n",
       "  country_of_bean_origin specific_bean_origin_or_bar_name  cocoa_percent  \\\n",
       "0             Madagascar           Bejofo Estate, batch 1           76.0   \n",
       "1     Dominican Republic                  Zorzal, batch 1           76.0   \n",
       "2               Tanzania            Kokoa Kamili, batch 1           76.0   \n",
       "3                   Peru                             Peru           63.0   \n",
       "4                Bolivia                          Bolivia           70.0   \n",
       "\n",
       "  ingredients most_memorable_characteristics  rating  \\\n",
       "0    3- B,S,C   cocoa, blackberry, full body    3.75   \n",
       "1    3- B,S,C         cocoa, vegetal, savory    3.50   \n",
       "2    3- B,S,C      rich cocoa, fatty, bready    3.25   \n",
       "3  4- B,S,C,L          fruity, melon, roasty    3.75   \n",
       "4  4- B,S,C,L                 vegetal, nutty    3.50   \n",
       "\n",
       "   memorable_characteristics_list company_bins comp_location_bin  company_bin  \\\n",
       "0  [cocoa, blackberry, full body]         high                 c            3   \n",
       "1        [cocoa, vegetal, savory]         high                 c            3   \n",
       "2     [rich cocoa, fatty, bready]         high                 c            3   \n",
       "3         [fruity, melon, roasty]         high                 c            3   \n",
       "4                [vegetal, nutty]         high                 c            3   \n",
       "\n",
       "  ingredient_list  \n",
       "0           B,S,C  \n",
       "1           B,S,C  \n",
       "2           B,S,C  \n",
       "3         B,S,C,L  \n",
       "4         B,S,C,L  "
      ]
     },
     "execution_count": 100,
     "metadata": {},
     "output_type": "execute_result"
    }
   ],
   "source": [
    "df.head()"
   ]
  },
  {
   "cell_type": "markdown",
   "metadata": {},
   "source": [
    "### Removing the unnecissary information leading up to the ingredient names"
   ]
  },
  {
   "cell_type": "code",
   "execution_count": 101,
   "metadata": {},
   "outputs": [],
   "source": [
    "# retreiving rows from the third index and on - leaving out rows with empty values\n",
    "df['ingredient_list'] = [np.nan if l is np.nan else l[3:] for l in df['ingredients']]"
   ]
  },
  {
   "cell_type": "markdown",
   "metadata": {},
   "source": [
    "### Inspecting the value (occurance count) and leaving out those with a low number of occurances"
   ]
  },
  {
   "cell_type": "code",
   "execution_count": 103,
   "metadata": {},
   "outputs": [
    {
     "data": {
      "text/plain": [
       "B,S,C        903\n",
       "B,S          661\n",
       "B,S,C,L      273\n",
       "B,S,C,V,L    184\n",
       "B,S,C,V      139\n",
       "B,S*          31\n",
       "B,S*,C,Sa     20\n",
       "B,S*,C        12\n",
       "B,S,L          8\n",
       "Name: ingredient_list, dtype: int64"
      ]
     },
     "execution_count": 103,
     "metadata": {},
     "output_type": "execute_result"
    }
   ],
   "source": [
    "df['ingredient_list'].value_counts()"
   ]
  },
  {
   "cell_type": "code",
   "execution_count": 104,
   "metadata": {},
   "outputs": [],
   "source": [
    "# leaving out occurances below 8 \n",
    "\n",
    "most_common = (df['ingredient_list'].value_counts()).iloc[:9].index\n",
    "\n",
    "\n",
    "df = df[df['ingredient_list'].isin(most_common)]\n"
   ]
  },
  {
   "cell_type": "code",
   "execution_count": 105,
   "metadata": {},
   "outputs": [
    {
     "data": {
      "text/plain": [
       "B,S,C        903\n",
       "B,S          661\n",
       "B,S,C,L      273\n",
       "B,S,C,V,L    184\n",
       "B,S,C,V      139\n",
       "B,S*          31\n",
       "B,S*,C,Sa     20\n",
       "B,S*,C        12\n",
       "B,S,L          8\n",
       "Name: ingredient_list, dtype: int64"
      ]
     },
     "execution_count": 105,
     "metadata": {},
     "output_type": "execute_result"
    }
   ],
   "source": [
    "#ensuring that values below 8 were removed\n",
    "df.ingredient_list.value_counts()"
   ]
  },
  {
   "cell_type": "code",
   "execution_count": 106,
   "metadata": {},
   "outputs": [
    {
     "data": {
      "text/html": [
       "<div>\n",
       "<style scoped>\n",
       "    .dataframe tbody tr th:only-of-type {\n",
       "        vertical-align: middle;\n",
       "    }\n",
       "\n",
       "    .dataframe tbody tr th {\n",
       "        vertical-align: top;\n",
       "    }\n",
       "\n",
       "    .dataframe thead th {\n",
       "        text-align: right;\n",
       "    }\n",
       "</style>\n",
       "<table border=\"1\" class=\"dataframe\">\n",
       "  <thead>\n",
       "    <tr style=\"text-align: right;\">\n",
       "      <th></th>\n",
       "      <th>ref</th>\n",
       "      <th>company_manufacturer</th>\n",
       "      <th>company_location</th>\n",
       "      <th>review_date</th>\n",
       "      <th>country_of_bean_origin</th>\n",
       "      <th>specific_bean_origin_or_bar_name</th>\n",
       "      <th>cocoa_percent</th>\n",
       "      <th>ingredients</th>\n",
       "      <th>most_memorable_characteristics</th>\n",
       "      <th>rating</th>\n",
       "      <th>memorable_characteristics_list</th>\n",
       "      <th>company_bins</th>\n",
       "      <th>comp_location_bin</th>\n",
       "      <th>company_bin</th>\n",
       "      <th>ingredient_list</th>\n",
       "    </tr>\n",
       "  </thead>\n",
       "  <tbody>\n",
       "    <tr>\n",
       "      <th>0</th>\n",
       "      <td>2454</td>\n",
       "      <td>5150</td>\n",
       "      <td>U.S.A.</td>\n",
       "      <td>2019</td>\n",
       "      <td>Madagascar</td>\n",
       "      <td>Bejofo Estate, batch 1</td>\n",
       "      <td>76.0</td>\n",
       "      <td>3- B,S,C</td>\n",
       "      <td>cocoa, blackberry, full body</td>\n",
       "      <td>3.75</td>\n",
       "      <td>[cocoa, blackberry, full body]</td>\n",
       "      <td>high</td>\n",
       "      <td>c</td>\n",
       "      <td>3</td>\n",
       "      <td>B,S,C</td>\n",
       "    </tr>\n",
       "    <tr>\n",
       "      <th>1</th>\n",
       "      <td>2458</td>\n",
       "      <td>5150</td>\n",
       "      <td>U.S.A.</td>\n",
       "      <td>2019</td>\n",
       "      <td>Dominican Republic</td>\n",
       "      <td>Zorzal, batch 1</td>\n",
       "      <td>76.0</td>\n",
       "      <td>3- B,S,C</td>\n",
       "      <td>cocoa, vegetal, savory</td>\n",
       "      <td>3.50</td>\n",
       "      <td>[cocoa, vegetal, savory]</td>\n",
       "      <td>high</td>\n",
       "      <td>c</td>\n",
       "      <td>3</td>\n",
       "      <td>B,S,C</td>\n",
       "    </tr>\n",
       "  </tbody>\n",
       "</table>\n",
       "</div>"
      ],
      "text/plain": [
       "    ref company_manufacturer company_location  review_date  \\\n",
       "0  2454                 5150           U.S.A.         2019   \n",
       "1  2458                 5150           U.S.A.         2019   \n",
       "\n",
       "  country_of_bean_origin specific_bean_origin_or_bar_name  cocoa_percent  \\\n",
       "0             Madagascar           Bejofo Estate, batch 1           76.0   \n",
       "1     Dominican Republic                  Zorzal, batch 1           76.0   \n",
       "\n",
       "  ingredients most_memorable_characteristics  rating  \\\n",
       "0    3- B,S,C   cocoa, blackberry, full body    3.75   \n",
       "1    3- B,S,C         cocoa, vegetal, savory    3.50   \n",
       "\n",
       "   memorable_characteristics_list company_bins comp_location_bin  company_bin  \\\n",
       "0  [cocoa, blackberry, full body]         high                 c            3   \n",
       "1        [cocoa, vegetal, savory]         high                 c            3   \n",
       "\n",
       "  ingredient_list  \n",
       "0           B,S,C  \n",
       "1           B,S,C  "
      ]
     },
     "execution_count": 106,
     "metadata": {},
     "output_type": "execute_result"
    }
   ],
   "source": [
    "df.head(2)"
   ]
  },
  {
   "cell_type": "markdown",
   "metadata": {},
   "source": [
    "## Determining whether or not county of bean origin is impactful to the target when paired with company location"
   ]
  },
  {
   "cell_type": "code",
   "execution_count": 120,
   "metadata": {},
   "outputs": [
    {
     "data": {
      "text/plain": [
       "<AxesSubplot:>"
      ]
     },
     "execution_count": 120,
     "metadata": {},
     "output_type": "execute_result"
    },
    {
     "data": {
      "image/png": "[encoded data removed]",
      "text/plain": [
       "<Figure size 1080x432 with 1 Axes>"
      ]
     },
     "metadata": {
      "needs_background": "light"
     },
     "output_type": "display_data"
    }
   ],
   "source": [
    "df['specific_bean_origin_or_bar_name'].value_counts()[:50].plot(kind='bar', figsize=(15,6))"
   ]
  },
  {
   "cell_type": "markdown",
   "metadata": {},
   "source": [
    "* inspecting the "
   ]
  },
  {
   "cell_type": "code",
   "execution_count": 112,
   "metadata": {},
   "outputs": [
    {
     "data": {
      "text/html": [
       "<div>\n",
       "<style scoped>\n",
       "    .dataframe tbody tr th:only-of-type {\n",
       "        vertical-align: middle;\n",
       "    }\n",
       "\n",
       "    .dataframe tbody tr th {\n",
       "        vertical-align: top;\n",
       "    }\n",
       "\n",
       "    .dataframe thead th {\n",
       "        text-align: right;\n",
       "    }\n",
       "</style>\n",
       "<table border=\"1\" class=\"dataframe\">\n",
       "  <thead>\n",
       "    <tr style=\"text-align: right;\">\n",
       "      <th></th>\n",
       "      <th>ref</th>\n",
       "      <th>company_manufacturer</th>\n",
       "      <th>company_location</th>\n",
       "      <th>review_date</th>\n",
       "      <th>country_of_bean_origin</th>\n",
       "      <th>specific_bean_origin_or_bar_name</th>\n",
       "      <th>cocoa_percent</th>\n",
       "      <th>ingredients</th>\n",
       "      <th>most_memorable_characteristics</th>\n",
       "      <th>rating</th>\n",
       "      <th>memorable_characteristics_list</th>\n",
       "      <th>company_bins</th>\n",
       "      <th>comp_location_bin</th>\n",
       "      <th>company_bin</th>\n",
       "      <th>ingredient_list</th>\n",
       "    </tr>\n",
       "  </thead>\n",
       "  <tbody>\n",
       "    <tr>\n",
       "      <th>0</th>\n",
       "      <td>2454</td>\n",
       "      <td>5150</td>\n",
       "      <td>U.S.A.</td>\n",
       "      <td>2019</td>\n",
       "      <td>Madagascar</td>\n",
       "      <td>Bejofo Estate, batch 1</td>\n",
       "      <td>76.0</td>\n",
       "      <td>3- B,S,C</td>\n",
       "      <td>cocoa, blackberry, full body</td>\n",
       "      <td>3.75</td>\n",
       "      <td>[cocoa, blackberry, full body]</td>\n",
       "      <td>high</td>\n",
       "      <td>c</td>\n",
       "      <td>3</td>\n",
       "      <td>B,S,C</td>\n",
       "    </tr>\n",
       "    <tr>\n",
       "      <th>1</th>\n",
       "      <td>2458</td>\n",
       "      <td>5150</td>\n",
       "      <td>U.S.A.</td>\n",
       "      <td>2019</td>\n",
       "      <td>Dominican Republic</td>\n",
       "      <td>Zorzal, batch 1</td>\n",
       "      <td>76.0</td>\n",
       "      <td>3- B,S,C</td>\n",
       "      <td>cocoa, vegetal, savory</td>\n",
       "      <td>3.50</td>\n",
       "      <td>[cocoa, vegetal, savory]</td>\n",
       "      <td>high</td>\n",
       "      <td>c</td>\n",
       "      <td>3</td>\n",
       "      <td>B,S,C</td>\n",
       "    </tr>\n",
       "  </tbody>\n",
       "</table>\n",
       "</div>"
      ],
      "text/plain": [
       "    ref company_manufacturer company_location  review_date  \\\n",
       "0  2454                 5150           U.S.A.         2019   \n",
       "1  2458                 5150           U.S.A.         2019   \n",
       "\n",
       "  country_of_bean_origin specific_bean_origin_or_bar_name  cocoa_percent  \\\n",
       "0             Madagascar           Bejofo Estate, batch 1           76.0   \n",
       "1     Dominican Republic                  Zorzal, batch 1           76.0   \n",
       "\n",
       "  ingredients most_memorable_characteristics  rating  \\\n",
       "0    3- B,S,C   cocoa, blackberry, full body    3.75   \n",
       "1    3- B,S,C         cocoa, vegetal, savory    3.50   \n",
       "\n",
       "   memorable_characteristics_list company_bins comp_location_bin  company_bin  \\\n",
       "0  [cocoa, blackberry, full body]         high                 c            3   \n",
       "1        [cocoa, vegetal, savory]         high                 c            3   \n",
       "\n",
       "  ingredient_list  \n",
       "0           B,S,C  \n",
       "1           B,S,C  "
      ]
     },
     "execution_count": 112,
     "metadata": {},
     "output_type": "execute_result"
    }
   ],
   "source": [
    "df.head(2)"
   ]
  },
  {
   "cell_type": "code",
   "execution_count": 114,
   "metadata": {},
   "outputs": [
    {
     "data": {
      "text/plain": [
       "Dominican Republic    136\n",
       "Peru                   98\n",
       "Venezuela              81\n",
       "Ecuador                77\n",
       "Madagascar             66\n",
       "Blend                  50\n",
       "Bolivia                48\n",
       "Belize                 44\n",
       "Tanzania               42\n",
       "Nicaragua              30\n",
       "Guatemala              28\n",
       "Costa Rica             26\n",
       "Brazil                 25\n",
       "U.S.A.                 25\n",
       "Vietnam                22\n",
       "Ghana                  18\n",
       "Trinidad               18\n",
       "Colombia               17\n",
       "Mexico                 16\n",
       "Jamaica                14\n",
       "Papua New Guinea       13\n",
       "India                  12\n",
       "Honduras               12\n",
       "Haiti                  11\n",
       "Uganda                 10\n",
       "Fiji                    8\n",
       "Indonesia               5\n",
       "Sierra Leone            4\n",
       "Philippines             4\n",
       "Puerto Rico             3\n",
       "Liberia                 3\n",
       "Congo                   2\n",
       "Grenada                 2\n",
       "Ivory Coast             2\n",
       "Solomon Islands         2\n",
       "Panama                  1\n",
       "Nigeria                 1\n",
       "Cameroon                1\n",
       "Name: country_of_bean_origin, dtype: int64"
      ]
     },
     "execution_count": 114,
     "metadata": {},
     "output_type": "execute_result"
    }
   ],
   "source": [
    "df[df.company_location == 'U.S.A.'].country_of_bean_origin.value_counts()"
   ]
  },
  {
   "cell_type": "code",
   "execution_count": 109,
   "metadata": {},
   "outputs": [
    {
     "data": {
      "text/plain": [
       "Dominican Republic              25\n",
       "Ecuador                         20\n",
       "Madagascar                      19\n",
       "Peru                            16\n",
       "Kokoa Kamili                    15\n",
       "                                ..\n",
       "Bolivia, batch 101               1\n",
       "Johe                             1\n",
       "Markham Valley, #221, DR, MC     1\n",
       "Criollo, Dominican Republic      1\n",
       "Ben Tre, 2018 Harvest            1\n",
       "Name: specific_bean_origin_or_bar_name, Length: 661, dtype: int64"
      ]
     },
     "execution_count": 109,
     "metadata": {},
     "output_type": "execute_result"
    }
   ],
   "source": [
    "df[df.company_location == 'U.S.A.'].specific_bean_origin_or_bar_name.value_counts()"
   ]
  },
  {
   "cell_type": "code",
   "execution_count": 110,
   "metadata": {},
   "outputs": [
    {
     "data": {
      "text/plain": [
       "<AxesSubplot:>"
      ]
     },
     "execution_count": 110,
     "metadata": {},
     "output_type": "execute_result"
    },
    {
     "data": {
      "image/png": "[encoded data removed]",
      "text/plain": [
       "<Figure size 432x288 with 1 Axes>"
      ]
     },
     "metadata": {
      "needs_background": "light"
     },
     "output_type": "display_data"
    }
   ],
   "source": [
    "df[df.company_location == 'U.S.A.'].rating.hist()"
   ]
  },
  {
   "cell_type": "markdown",
   "metadata": {},
   "source": [
    "## Clarifying important predictor values (x) for the target value (y)."
   ]
  },
  {
   "cell_type": "code",
   "execution_count": 47,
   "metadata": {},
   "outputs": [],
   "source": [
    "# dropping the target (y) values from x and specific origin\n",
    "features = df.drop(['rating','specific_bean_origin_or_bar_name', 'ingredients', 'review_date', 'ref'], axis =1)\n",
    "X = features\n",
    "y = df.rating\n"
   ]
  },
  {
   "cell_type": "markdown",
   "metadata": {
    "tags": []
   },
   "source": [
    "### Splitting the data into three subsets of training and validation data for the future models.\n",
    "    Two train test splits create three subsets of the original dataset which allows for the training data to not be bled into the test data - this reduced model's bias towards the pre-existing testing data, thus assuring maximum performance on future test sets which the model has never been exposed. "
   ]
  },
  {
   "cell_type": "code",
   "execution_count": 48,
   "metadata": {},
   "outputs": [],
   "source": [
    "#performing train test split for test set (subsets 1/3)\n",
    "X_tr, X_test, y_tr, y_test = train_test_split(X, y, test_size=.15, random_state=42)\n",
    "\n",
    "\n",
    "#performing a train test split for train and validation set (subsets - 3/3)\n",
    "X_train, X_val, y_train, y_val = train_test_split(X_tr, y_tr, test_size=.15, random_state=42) "
   ]
  },
  {
   "cell_type": "code",
   "execution_count": 49,
   "metadata": {},
   "outputs": [
    {
     "data": {
      "text/plain": [
       "((1896, 10), (1896,))"
      ]
     },
     "execution_count": 49,
     "metadata": {},
     "output_type": "execute_result"
    }
   ],
   "source": [
    "#checking to ensure the shape of the columns and rows are still the same for the X and y values after the train test split.\n",
    "X_tr.shape, y_tr.shape"
   ]
  },
  {
   "cell_type": "markdown",
   "metadata": {},
   "source": [
    "### Replacing any existing missing values  "
   ]
  },
  {
   "cell_type": "code",
   "execution_count": 50,
   "metadata": {
    "tags": []
   },
   "outputs": [
    {
     "data": {
      "text/plain": [
       "company_manufacturer              0\n",
       "company_location                  0\n",
       "country_of_bean_origin            0\n",
       "cocoa_percent                     0\n",
       "most_memorable_characteristics    0\n",
       "memorable_characteristics_list    0\n",
       "company_bins                      0\n",
       "comp_location_bin                 0\n",
       "company_bin                       0\n",
       "ingredient_list                   0\n",
       "dtype: int64"
      ]
     },
     "execution_count": 50,
     "metadata": {},
     "output_type": "execute_result"
    }
   ],
   "source": [
    "#ingredients have 88 rows that have no imputs.\n",
    "X_val.isna().sum()"
   ]
  },
  {
   "cell_type": "code",
   "execution_count": 51,
   "metadata": {},
   "outputs": [
    {
     "ename": "TypeError",
     "evalue": "unhashable type: 'list'",
     "output_type": "error",
     "traceback": [
      "\u001b[0;31m---------------------------------------------------------------------------\u001b[0m",
      "\u001b[0;31mTypeError\u001b[0m                                 Traceback (most recent call last)",
      "\u001b[0;32m<ipython-input-51-28834d12afb8>\u001b[0m in \u001b[0;36m<module>\u001b[0;34m\u001b[0m\n\u001b[1;32m      2\u001b[0m \u001b[0mimputer\u001b[0m \u001b[0;34m=\u001b[0m \u001b[0mSimpleImputer\u001b[0m\u001b[0;34m(\u001b[0m\u001b[0mmissing_values\u001b[0m\u001b[0;34m=\u001b[0m\u001b[0mnp\u001b[0m\u001b[0;34m.\u001b[0m\u001b[0mnan\u001b[0m\u001b[0;34m,\u001b[0m \u001b[0mstrategy\u001b[0m\u001b[0;34m=\u001b[0m\u001b[0;34m'most_frequent'\u001b[0m\u001b[0;34m)\u001b[0m\u001b[0;34m\u001b[0m\u001b[0;34m\u001b[0m\u001b[0m\n\u001b[1;32m      3\u001b[0m \u001b[0;34m\u001b[0m\u001b[0m\n\u001b[0;32m----> 4\u001b[0;31m \u001b[0mX_train_imputed\u001b[0m \u001b[0;34m=\u001b[0m \u001b[0mpd\u001b[0m\u001b[0;34m.\u001b[0m\u001b[0mDataFrame\u001b[0m\u001b[0;34m(\u001b[0m\u001b[0mimputer\u001b[0m\u001b[0;34m.\u001b[0m\u001b[0mfit_transform\u001b[0m\u001b[0;34m(\u001b[0m\u001b[0mX_train\u001b[0m\u001b[0;34m)\u001b[0m\u001b[0;34m,\u001b[0m \u001b[0mcolumns\u001b[0m \u001b[0;34m=\u001b[0m \u001b[0mX\u001b[0m\u001b[0;34m.\u001b[0m\u001b[0mcolumns\u001b[0m\u001b[0;34m)\u001b[0m\u001b[0;34m\u001b[0m\u001b[0;34m\u001b[0m\u001b[0m\n\u001b[0m\u001b[1;32m      5\u001b[0m \u001b[0;34m\u001b[0m\u001b[0m\n\u001b[1;32m      6\u001b[0m \u001b[0mX_val_imputed\u001b[0m \u001b[0;34m=\u001b[0m \u001b[0mpd\u001b[0m\u001b[0;34m.\u001b[0m\u001b[0mDataFrame\u001b[0m\u001b[0;34m(\u001b[0m\u001b[0mimputer\u001b[0m\u001b[0;34m.\u001b[0m\u001b[0mfit_transform\u001b[0m\u001b[0;34m(\u001b[0m\u001b[0mX_val\u001b[0m\u001b[0;34m)\u001b[0m\u001b[0;34m,\u001b[0m\u001b[0mcolumns\u001b[0m \u001b[0;34m=\u001b[0m \u001b[0mX\u001b[0m\u001b[0;34m.\u001b[0m\u001b[0mcolumns\u001b[0m\u001b[0;34m)\u001b[0m\u001b[0;34m\u001b[0m\u001b[0;34m\u001b[0m\u001b[0m\n",
      "\u001b[0;32m/opt/anaconda3/envs/learn-env/lib/python3.8/site-packages/sklearn/base.py\u001b[0m in \u001b[0;36mfit_transform\u001b[0;34m(self, X, y, **fit_params)\u001b[0m\n\u001b[1;32m    697\u001b[0m         \u001b[0;32mif\u001b[0m \u001b[0my\u001b[0m \u001b[0;32mis\u001b[0m \u001b[0;32mNone\u001b[0m\u001b[0;34m:\u001b[0m\u001b[0;34m\u001b[0m\u001b[0;34m\u001b[0m\u001b[0m\n\u001b[1;32m    698\u001b[0m             \u001b[0;31m# fit method of arity 1 (unsupervised transformation)\u001b[0m\u001b[0;34m\u001b[0m\u001b[0;34m\u001b[0m\u001b[0;34m\u001b[0m\u001b[0m\n\u001b[0;32m--> 699\u001b[0;31m             \u001b[0;32mreturn\u001b[0m \u001b[0mself\u001b[0m\u001b[0;34m.\u001b[0m\u001b[0mfit\u001b[0m\u001b[0;34m(\u001b[0m\u001b[0mX\u001b[0m\u001b[0;34m,\u001b[0m \u001b[0;34m**\u001b[0m\u001b[0mfit_params\u001b[0m\u001b[0;34m)\u001b[0m\u001b[0;34m.\u001b[0m\u001b[0mtransform\u001b[0m\u001b[0;34m(\u001b[0m\u001b[0mX\u001b[0m\u001b[0;34m)\u001b[0m\u001b[0;34m\u001b[0m\u001b[0;34m\u001b[0m\u001b[0m\n\u001b[0m\u001b[1;32m    700\u001b[0m         \u001b[0;32melse\u001b[0m\u001b[0;34m:\u001b[0m\u001b[0;34m\u001b[0m\u001b[0;34m\u001b[0m\u001b[0m\n\u001b[1;32m    701\u001b[0m             \u001b[0;31m# fit method of arity 2 (supervised transformation)\u001b[0m\u001b[0;34m\u001b[0m\u001b[0;34m\u001b[0m\u001b[0;34m\u001b[0m\u001b[0m\n",
      "\u001b[0;32m/opt/anaconda3/envs/learn-env/lib/python3.8/site-packages/sklearn/impute/_base.py\u001b[0m in \u001b[0;36mfit\u001b[0;34m(self, X, y)\u001b[0m\n\u001b[1;32m    320\u001b[0m \u001b[0;34m\u001b[0m\u001b[0m\n\u001b[1;32m    321\u001b[0m         \u001b[0;32melse\u001b[0m\u001b[0;34m:\u001b[0m\u001b[0;34m\u001b[0m\u001b[0;34m\u001b[0m\u001b[0m\n\u001b[0;32m--> 322\u001b[0;31m             self.statistics_ = self._dense_fit(X,\n\u001b[0m\u001b[1;32m    323\u001b[0m                                                \u001b[0mself\u001b[0m\u001b[0;34m.\u001b[0m\u001b[0mstrategy\u001b[0m\u001b[0;34m,\u001b[0m\u001b[0;34m\u001b[0m\u001b[0;34m\u001b[0m\u001b[0m\n\u001b[1;32m    324\u001b[0m                                                \u001b[0mself\u001b[0m\u001b[0;34m.\u001b[0m\u001b[0mmissing_values\u001b[0m\u001b[0;34m,\u001b[0m\u001b[0;34m\u001b[0m\u001b[0;34m\u001b[0m\u001b[0m\n",
      "\u001b[0;32m/opt/anaconda3/envs/learn-env/lib/python3.8/site-packages/sklearn/impute/_base.py\u001b[0m in \u001b[0;36m_dense_fit\u001b[0;34m(self, X, strategy, missing_values, fill_value)\u001b[0m\n\u001b[1;32m    410\u001b[0m                 \u001b[0mrow_mask\u001b[0m \u001b[0;34m=\u001b[0m \u001b[0mnp\u001b[0m\u001b[0;34m.\u001b[0m\u001b[0mlogical_not\u001b[0m\u001b[0;34m(\u001b[0m\u001b[0mrow_mask\u001b[0m\u001b[0;34m)\u001b[0m\u001b[0;34m.\u001b[0m\u001b[0mastype\u001b[0m\u001b[0;34m(\u001b[0m\u001b[0mbool\u001b[0m\u001b[0;34m)\u001b[0m\u001b[0;34m\u001b[0m\u001b[0;34m\u001b[0m\u001b[0m\n\u001b[1;32m    411\u001b[0m                 \u001b[0mrow\u001b[0m \u001b[0;34m=\u001b[0m \u001b[0mrow\u001b[0m\u001b[0;34m[\u001b[0m\u001b[0mrow_mask\u001b[0m\u001b[0;34m]\u001b[0m\u001b[0;34m\u001b[0m\u001b[0;34m\u001b[0m\u001b[0m\n\u001b[0;32m--> 412\u001b[0;31m                 \u001b[0mmost_frequent\u001b[0m\u001b[0;34m[\u001b[0m\u001b[0mi\u001b[0m\u001b[0;34m]\u001b[0m \u001b[0;34m=\u001b[0m \u001b[0m_most_frequent\u001b[0m\u001b[0;34m(\u001b[0m\u001b[0mrow\u001b[0m\u001b[0;34m,\u001b[0m \u001b[0mnp\u001b[0m\u001b[0;34m.\u001b[0m\u001b[0mnan\u001b[0m\u001b[0;34m,\u001b[0m \u001b[0;36m0\u001b[0m\u001b[0;34m)\u001b[0m\u001b[0;34m\u001b[0m\u001b[0;34m\u001b[0m\u001b[0m\n\u001b[0m\u001b[1;32m    413\u001b[0m \u001b[0;34m\u001b[0m\u001b[0m\n\u001b[1;32m    414\u001b[0m             \u001b[0;32mreturn\u001b[0m \u001b[0mmost_frequent\u001b[0m\u001b[0;34m\u001b[0m\u001b[0;34m\u001b[0m\u001b[0m\n",
      "\u001b[0;32m/opt/anaconda3/envs/learn-env/lib/python3.8/site-packages/sklearn/impute/_base.py\u001b[0m in \u001b[0;36m_most_frequent\u001b[0;34m(array, extra_value, n_repeat)\u001b[0m\n\u001b[1;32m     39\u001b[0m             \u001b[0;31m# scipy.stats.mode is slow with object dtype array.\u001b[0m\u001b[0;34m\u001b[0m\u001b[0;34m\u001b[0m\u001b[0;34m\u001b[0m\u001b[0m\n\u001b[1;32m     40\u001b[0m             \u001b[0;31m# Python Counter is more efficient\u001b[0m\u001b[0;34m\u001b[0m\u001b[0;34m\u001b[0m\u001b[0;34m\u001b[0m\u001b[0m\n\u001b[0;32m---> 41\u001b[0;31m             \u001b[0mcounter\u001b[0m \u001b[0;34m=\u001b[0m \u001b[0mCounter\u001b[0m\u001b[0;34m(\u001b[0m\u001b[0marray\u001b[0m\u001b[0;34m)\u001b[0m\u001b[0;34m\u001b[0m\u001b[0;34m\u001b[0m\u001b[0m\n\u001b[0m\u001b[1;32m     42\u001b[0m             \u001b[0mmost_frequent_count\u001b[0m \u001b[0;34m=\u001b[0m \u001b[0mcounter\u001b[0m\u001b[0;34m.\u001b[0m\u001b[0mmost_common\u001b[0m\u001b[0;34m(\u001b[0m\u001b[0;36m1\u001b[0m\u001b[0;34m)\u001b[0m\u001b[0;34m[\u001b[0m\u001b[0;36m0\u001b[0m\u001b[0;34m]\u001b[0m\u001b[0;34m[\u001b[0m\u001b[0;36m1\u001b[0m\u001b[0;34m]\u001b[0m\u001b[0;34m\u001b[0m\u001b[0;34m\u001b[0m\u001b[0m\n\u001b[1;32m     43\u001b[0m             \u001b[0;31m# tie breaking similarly to scipy.stats.mode\u001b[0m\u001b[0;34m\u001b[0m\u001b[0;34m\u001b[0m\u001b[0;34m\u001b[0m\u001b[0m\n",
      "\u001b[0;32m/opt/anaconda3/envs/learn-env/lib/python3.8/collections/__init__.py\u001b[0m in \u001b[0;36m__init__\u001b[0;34m(self, iterable, **kwds)\u001b[0m\n\u001b[1;32m    550\u001b[0m         '''\n\u001b[1;32m    551\u001b[0m         \u001b[0msuper\u001b[0m\u001b[0;34m(\u001b[0m\u001b[0mCounter\u001b[0m\u001b[0;34m,\u001b[0m \u001b[0mself\u001b[0m\u001b[0;34m)\u001b[0m\u001b[0;34m.\u001b[0m\u001b[0m__init__\u001b[0m\u001b[0;34m(\u001b[0m\u001b[0;34m)\u001b[0m\u001b[0;34m\u001b[0m\u001b[0;34m\u001b[0m\u001b[0m\n\u001b[0;32m--> 552\u001b[0;31m         \u001b[0mself\u001b[0m\u001b[0;34m.\u001b[0m\u001b[0mupdate\u001b[0m\u001b[0;34m(\u001b[0m\u001b[0miterable\u001b[0m\u001b[0;34m,\u001b[0m \u001b[0;34m**\u001b[0m\u001b[0mkwds\u001b[0m\u001b[0;34m)\u001b[0m\u001b[0;34m\u001b[0m\u001b[0;34m\u001b[0m\u001b[0m\n\u001b[0m\u001b[1;32m    553\u001b[0m \u001b[0;34m\u001b[0m\u001b[0m\n\u001b[1;32m    554\u001b[0m     \u001b[0;32mdef\u001b[0m \u001b[0m__missing__\u001b[0m\u001b[0;34m(\u001b[0m\u001b[0mself\u001b[0m\u001b[0;34m,\u001b[0m \u001b[0mkey\u001b[0m\u001b[0;34m)\u001b[0m\u001b[0;34m:\u001b[0m\u001b[0;34m\u001b[0m\u001b[0;34m\u001b[0m\u001b[0m\n",
      "\u001b[0;32m/opt/anaconda3/envs/learn-env/lib/python3.8/collections/__init__.py\u001b[0m in \u001b[0;36mupdate\u001b[0;34m(self, iterable, **kwds)\u001b[0m\n\u001b[1;32m    635\u001b[0m                     \u001b[0msuper\u001b[0m\u001b[0;34m(\u001b[0m\u001b[0mCounter\u001b[0m\u001b[0;34m,\u001b[0m \u001b[0mself\u001b[0m\u001b[0;34m)\u001b[0m\u001b[0;34m.\u001b[0m\u001b[0mupdate\u001b[0m\u001b[0;34m(\u001b[0m\u001b[0miterable\u001b[0m\u001b[0;34m)\u001b[0m \u001b[0;31m# fast path when counter is empty\u001b[0m\u001b[0;34m\u001b[0m\u001b[0;34m\u001b[0m\u001b[0m\n\u001b[1;32m    636\u001b[0m             \u001b[0;32melse\u001b[0m\u001b[0;34m:\u001b[0m\u001b[0;34m\u001b[0m\u001b[0;34m\u001b[0m\u001b[0m\n\u001b[0;32m--> 637\u001b[0;31m                 \u001b[0m_count_elements\u001b[0m\u001b[0;34m(\u001b[0m\u001b[0mself\u001b[0m\u001b[0;34m,\u001b[0m \u001b[0miterable\u001b[0m\u001b[0;34m)\u001b[0m\u001b[0;34m\u001b[0m\u001b[0;34m\u001b[0m\u001b[0m\n\u001b[0m\u001b[1;32m    638\u001b[0m         \u001b[0;32mif\u001b[0m \u001b[0mkwds\u001b[0m\u001b[0;34m:\u001b[0m\u001b[0;34m\u001b[0m\u001b[0;34m\u001b[0m\u001b[0m\n\u001b[1;32m    639\u001b[0m             \u001b[0mself\u001b[0m\u001b[0;34m.\u001b[0m\u001b[0mupdate\u001b[0m\u001b[0;34m(\u001b[0m\u001b[0mkwds\u001b[0m\u001b[0;34m)\u001b[0m\u001b[0;34m\u001b[0m\u001b[0;34m\u001b[0m\u001b[0m\n",
      "\u001b[0;31mTypeError\u001b[0m: unhashable type: 'list'"
     ]
    }
   ],
   "source": [
    "# the empty value replacement will be done using the most frequent fill strategy\n",
    "imputer = SimpleImputer(missing_values=np.nan, strategy='most_frequent')\n",
    "\n",
    "X_train_imputed = pd.DataFrame(imputer.fit_transform(X_train), columns = X.columns)\n",
    "\n",
    "X_val_imputed = pd.DataFrame(imputer.fit_transform(X_val),columns = X.columns)"
   ]
  },
  {
   "cell_type": "code",
   "execution_count": null,
   "metadata": {
    "tags": []
   },
   "outputs": [],
   "source": [
    "#ensuring that the missing values from ingredients are now filled in with the most frequent occuring value\n",
    "\n",
    "X_val_imputed.isna().sum()"
   ]
  },
  {
   "cell_type": "markdown",
   "metadata": {},
   "source": [
    "### Separating groups into numeric and catagorical data types "
   ]
  },
  {
   "cell_type": "code",
   "execution_count": null,
   "metadata": {},
   "outputs": [],
   "source": [
    "#taking a look at the groups data types to ensure that they are separated correctly\n",
    "X_train.info()"
   ]
  },
  {
   "cell_type": "code",
   "execution_count": null,
   "metadata": {},
   "outputs": [],
   "source": [
    "# X_train_numeric \n",
    "# X_train_cat\n",
    "\n",
    "# X_val_numerica"
   ]
  },
  {
   "cell_type": "code",
   "execution_count": null,
   "metadata": {},
   "outputs": [],
   "source": []
  },
  {
   "cell_type": "markdown",
   "metadata": {},
   "source": [
    "## Preprocessing:"
   ]
  },
  {
   "cell_type": "code",
   "execution_count": null,
   "metadata": {},
   "outputs": [],
   "source": []
  }
 ],
 "metadata": {
  "kernelspec": {
   "display_name": "learn-env",
   "language": "python",
   "name": "python3"
  },
  "language_info": {
   "codemirror_mode": {
    "name": "ipython",
    "version": 3
   },
   "file_extension": ".py",
   "mimetype": "text/x-python",
   "name": "python",
   "nbconvert_exporter": "python",
   "pygments_lexer": "ipython3",
   "version": "3.8.5"
  }
 },
 "nbformat": 4,
 "nbformat_minor": 4
}
