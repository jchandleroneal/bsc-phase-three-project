{
 "cells": [
  {
   "cell_type": "markdown",
   "metadata": {
    "tags": []
   },
   "source": [
    "# Chocolate Rating Analysis"
   ]
  },
  {
   "cell_type": "markdown",
   "metadata": {
    "jp-MarkdownHeadingCollapsed": true,
    "tags": []
   },
   "source": [
    "## Web scraping data to then process, clean, etc. in the notebook."
   ]
  },
  {
   "cell_type": "code",
   "execution_count": 1,
   "metadata": {},
   "outputs": [],
   "source": [
    "# import warnings\n",
    "# warnings.filterwarnings('ignore')\n",
    "\n",
    "# from requests import get\n",
    "# from bs4 import BeautifulSoup\n",
    "# import pandas as pd\n",
    "# from selenium import webdriver\n",
    "# import chromedriver_autoinstaller\n",
    "# def create_driver(headless=True):\n",
    "#     driver = chromedriver_autoinstaller.install(cwd=True)\n",
    "#     chrome_options = webdriver.ChromeOptions()     \n",
    "#     if headless:\n",
    "#         chrome_options.add_argument(\"--headless\")\n",
    "#     driver = webdriver.Chrome(driver, \n",
    "#                              chrome_options = chrome_options)\n",
    "#     return driver\n",
    "# driver = create_driver()"
   ]
  },
  {
   "cell_type": "code",
   "execution_count": 2,
   "metadata": {},
   "outputs": [],
   "source": [
    "# driver.get(\"http://flavorsofcacao.com/chocolate_database.html\")"
   ]
  },
  {
   "cell_type": "code",
   "execution_count": 3,
   "metadata": {},
   "outputs": [],
   "source": [
    "# div_id = \"spryregion1\"\n",
    "\n",
    "# html = driver.page_source\n",
    "# soup = BeautifulSoup(html)\n",
    "# div = soup.find('div', {'id':div_id})\n",
    "# # div\n",
    "\n",
    "# table = div.find('table')\n",
    "# table\n"
   ]
  },
  {
   "cell_type": "code",
   "execution_count": 4,
   "metadata": {},
   "outputs": [],
   "source": [
    "# pd.read_html(str(table))[0]"
   ]
  },
  {
   "cell_type": "code",
   "execution_count": 5,
   "metadata": {},
   "outputs": [],
   "source": [
    "# df.to_csv('../../../data/chocolate.csv', index=False)"
   ]
  },
  {
   "cell_type": "markdown",
   "metadata": {},
   "source": [
    "## Importing Necessary Python Libraries "
   ]
  },
  {
   "cell_type": "code",
   "execution_count": 27,
   "metadata": {},
   "outputs": [
    {
     "data": {
      "text/html": [
       "<div>\n",
       "<style scoped>\n",
       "    .dataframe tbody tr th:only-of-type {\n",
       "        vertical-align: middle;\n",
       "    }\n",
       "\n",
       "    .dataframe tbody tr th {\n",
       "        vertical-align: top;\n",
       "    }\n",
       "\n",
       "    .dataframe thead th {\n",
       "        text-align: right;\n",
       "    }\n",
       "</style>\n",
       "<table border=\"1\" class=\"dataframe\">\n",
       "  <thead>\n",
       "    <tr style=\"text-align: right;\">\n",
       "      <th></th>\n",
       "      <th>REF</th>\n",
       "      <th>Company (Manufacturer)</th>\n",
       "      <th>Company Location</th>\n",
       "      <th>Review Date</th>\n",
       "      <th>Country of Bean Origin</th>\n",
       "      <th>Specific Bean Origin or Bar Name</th>\n",
       "      <th>Cocoa Percent</th>\n",
       "      <th>Ingredients</th>\n",
       "      <th>Most Memorable Characteristics</th>\n",
       "      <th>Rating</th>\n",
       "    </tr>\n",
       "  </thead>\n",
       "  <tbody>\n",
       "    <tr>\n",
       "      <th>0</th>\n",
       "      <td>2454</td>\n",
       "      <td>5150</td>\n",
       "      <td>U.S.A.</td>\n",
       "      <td>2019</td>\n",
       "      <td>Madagascar</td>\n",
       "      <td>Bejofo Estate, batch 1</td>\n",
       "      <td>76%</td>\n",
       "      <td>3- B,S,C</td>\n",
       "      <td>cocoa, blackberry, full body</td>\n",
       "      <td>3.75</td>\n",
       "    </tr>\n",
       "    <tr>\n",
       "      <th>1</th>\n",
       "      <td>2458</td>\n",
       "      <td>5150</td>\n",
       "      <td>U.S.A.</td>\n",
       "      <td>2019</td>\n",
       "      <td>Dominican Republic</td>\n",
       "      <td>Zorzal, batch 1</td>\n",
       "      <td>76%</td>\n",
       "      <td>3- B,S,C</td>\n",
       "      <td>cocoa, vegetal, savory</td>\n",
       "      <td>3.50</td>\n",
       "    </tr>\n",
       "    <tr>\n",
       "      <th>2</th>\n",
       "      <td>2454</td>\n",
       "      <td>5150</td>\n",
       "      <td>U.S.A.</td>\n",
       "      <td>2019</td>\n",
       "      <td>Tanzania</td>\n",
       "      <td>Kokoa Kamili, batch 1</td>\n",
       "      <td>76%</td>\n",
       "      <td>3- B,S,C</td>\n",
       "      <td>rich cocoa, fatty, bready</td>\n",
       "      <td>3.25</td>\n",
       "    </tr>\n",
       "    <tr>\n",
       "      <th>3</th>\n",
       "      <td>797</td>\n",
       "      <td>A. Morin</td>\n",
       "      <td>France</td>\n",
       "      <td>2012</td>\n",
       "      <td>Peru</td>\n",
       "      <td>Peru</td>\n",
       "      <td>63%</td>\n",
       "      <td>4- B,S,C,L</td>\n",
       "      <td>fruity, melon, roasty</td>\n",
       "      <td>3.75</td>\n",
       "    </tr>\n",
       "    <tr>\n",
       "      <th>4</th>\n",
       "      <td>797</td>\n",
       "      <td>A. Morin</td>\n",
       "      <td>France</td>\n",
       "      <td>2012</td>\n",
       "      <td>Bolivia</td>\n",
       "      <td>Bolivia</td>\n",
       "      <td>70%</td>\n",
       "      <td>4- B,S,C,L</td>\n",
       "      <td>vegetal, nutty</td>\n",
       "      <td>3.50</td>\n",
       "    </tr>\n",
       "  </tbody>\n",
       "</table>\n",
       "</div>"
      ],
      "text/plain": [
       "    REF Company (Manufacturer) Company Location  Review Date  \\\n",
       "0  2454                   5150           U.S.A.         2019   \n",
       "1  2458                   5150           U.S.A.         2019   \n",
       "2  2454                   5150           U.S.A.         2019   \n",
       "3   797               A. Morin           France         2012   \n",
       "4   797               A. Morin           France         2012   \n",
       "\n",
       "  Country of Bean Origin Specific Bean Origin or Bar Name Cocoa Percent  \\\n",
       "0             Madagascar           Bejofo Estate, batch 1           76%   \n",
       "1     Dominican Republic                  Zorzal, batch 1           76%   \n",
       "2               Tanzania            Kokoa Kamili, batch 1           76%   \n",
       "3                   Peru                             Peru           63%   \n",
       "4                Bolivia                          Bolivia           70%   \n",
       "\n",
       "  Ingredients Most Memorable Characteristics  Rating  \n",
       "0    3- B,S,C   cocoa, blackberry, full body    3.75  \n",
       "1    3- B,S,C         cocoa, vegetal, savory    3.50  \n",
       "2    3- B,S,C      rich cocoa, fatty, bready    3.25  \n",
       "3  4- B,S,C,L          fruity, melon, roasty    3.75  \n",
       "4  4- B,S,C,L                 vegetal, nutty    3.50  "
      ]
     },
     "execution_count": 27,
     "metadata": {},
     "output_type": "execute_result"
    }
   ],
   "source": [
    "import pandas as pd \n",
    "import numpy as np \n",
    "from sklearn.model_selection import cross_val_score, train_test_split\n",
    "from sklearn.impute import SimpleImputer\n",
    "from sklearn.ensemble import BaggingClassifier\n",
    "from sklearn.metrics import plot_confusion_matrix, auc, classification_report\n",
    "from sklearn.linear_model import LogisticRegression\n",
    "from sklearn.pipeline import Pipeline\n",
    "from sklearn.tree import DecisionTreeRegressor, DecisionTreeClassifier\n",
    "from sklearn.preprocessing import OneHotEncoder, StandardScaler\n",
    "from sklearn.ensemble import RandomForestClassifier, RandomForestRegressor\n",
    "from imblearn.over_sampling import SMOTE\n",
    "\n",
    "all_data = pd.read_csv('../../../data/chocolate.csv')\n",
    "all_data.head()"
   ]
  },
  {
   "cell_type": "markdown",
   "metadata": {
    "tags": []
   },
   "source": [
    "## Data Cleaning "
   ]
  },
  {
   "cell_type": "markdown",
   "metadata": {},
   "source": [
    "### Replacing column spaces with underscores and lower casing column names for simplicity when calling them. "
   ]
  },
  {
   "cell_type": "code",
   "execution_count": 28,
   "metadata": {},
   "outputs": [],
   "source": [
    "#breaking away from original dataset and creating a copy to maintain the original structure as \"all_data\"\n",
    "df = all_data.copy()"
   ]
  },
  {
   "cell_type": "code",
   "execution_count": 29,
   "metadata": {},
   "outputs": [
    {
     "data": {
      "text/html": [
       "<div>\n",
       "<style scoped>\n",
       "    .dataframe tbody tr th:only-of-type {\n",
       "        vertical-align: middle;\n",
       "    }\n",
       "\n",
       "    .dataframe tbody tr th {\n",
       "        vertical-align: top;\n",
       "    }\n",
       "\n",
       "    .dataframe thead th {\n",
       "        text-align: right;\n",
       "    }\n",
       "</style>\n",
       "<table border=\"1\" class=\"dataframe\">\n",
       "  <thead>\n",
       "    <tr style=\"text-align: right;\">\n",
       "      <th></th>\n",
       "      <th>ref</th>\n",
       "      <th>company_manufacturer</th>\n",
       "      <th>company_location</th>\n",
       "      <th>review_date</th>\n",
       "      <th>country_of_bean_origin</th>\n",
       "      <th>specific_bean_origin_or_bar_name</th>\n",
       "      <th>cocoa_percent</th>\n",
       "      <th>ingredients</th>\n",
       "      <th>most_memorable_characteristics</th>\n",
       "      <th>rating</th>\n",
       "    </tr>\n",
       "  </thead>\n",
       "  <tbody>\n",
       "    <tr>\n",
       "      <th>0</th>\n",
       "      <td>2454</td>\n",
       "      <td>5150</td>\n",
       "      <td>U.S.A.</td>\n",
       "      <td>2019</td>\n",
       "      <td>Madagascar</td>\n",
       "      <td>Bejofo Estate, batch 1</td>\n",
       "      <td>76</td>\n",
       "      <td>3- B,S,C</td>\n",
       "      <td>cocoa, blackberry, full body</td>\n",
       "      <td>3.75</td>\n",
       "    </tr>\n",
       "    <tr>\n",
       "      <th>1</th>\n",
       "      <td>2458</td>\n",
       "      <td>5150</td>\n",
       "      <td>U.S.A.</td>\n",
       "      <td>2019</td>\n",
       "      <td>Dominican Republic</td>\n",
       "      <td>Zorzal, batch 1</td>\n",
       "      <td>76</td>\n",
       "      <td>3- B,S,C</td>\n",
       "      <td>cocoa, vegetal, savory</td>\n",
       "      <td>3.50</td>\n",
       "    </tr>\n",
       "    <tr>\n",
       "      <th>2</th>\n",
       "      <td>2454</td>\n",
       "      <td>5150</td>\n",
       "      <td>U.S.A.</td>\n",
       "      <td>2019</td>\n",
       "      <td>Tanzania</td>\n",
       "      <td>Kokoa Kamili, batch 1</td>\n",
       "      <td>76</td>\n",
       "      <td>3- B,S,C</td>\n",
       "      <td>rich cocoa, fatty, bready</td>\n",
       "      <td>3.25</td>\n",
       "    </tr>\n",
       "    <tr>\n",
       "      <th>3</th>\n",
       "      <td>797</td>\n",
       "      <td>A. Morin</td>\n",
       "      <td>France</td>\n",
       "      <td>2012</td>\n",
       "      <td>Peru</td>\n",
       "      <td>Peru</td>\n",
       "      <td>63</td>\n",
       "      <td>4- B,S,C,L</td>\n",
       "      <td>fruity, melon, roasty</td>\n",
       "      <td>3.75</td>\n",
       "    </tr>\n",
       "    <tr>\n",
       "      <th>4</th>\n",
       "      <td>797</td>\n",
       "      <td>A. Morin</td>\n",
       "      <td>France</td>\n",
       "      <td>2012</td>\n",
       "      <td>Bolivia</td>\n",
       "      <td>Bolivia</td>\n",
       "      <td>70</td>\n",
       "      <td>4- B,S,C,L</td>\n",
       "      <td>vegetal, nutty</td>\n",
       "      <td>3.50</td>\n",
       "    </tr>\n",
       "  </tbody>\n",
       "</table>\n",
       "</div>"
      ],
      "text/plain": [
       "    ref company_manufacturer company_location  review_date  \\\n",
       "0  2454                 5150           U.S.A.         2019   \n",
       "1  2458                 5150           U.S.A.         2019   \n",
       "2  2454                 5150           U.S.A.         2019   \n",
       "3   797             A. Morin           France         2012   \n",
       "4   797             A. Morin           France         2012   \n",
       "\n",
       "  country_of_bean_origin specific_bean_origin_or_bar_name cocoa_percent  \\\n",
       "0             Madagascar           Bejofo Estate, batch 1            76   \n",
       "1     Dominican Republic                  Zorzal, batch 1            76   \n",
       "2               Tanzania            Kokoa Kamili, batch 1            76   \n",
       "3                   Peru                             Peru            63   \n",
       "4                Bolivia                          Bolivia            70   \n",
       "\n",
       "  ingredients most_memorable_characteristics  rating  \n",
       "0    3- B,S,C   cocoa, blackberry, full body    3.75  \n",
       "1    3- B,S,C         cocoa, vegetal, savory    3.50  \n",
       "2    3- B,S,C      rich cocoa, fatty, bready    3.25  \n",
       "3  4- B,S,C,L          fruity, melon, roasty    3.75  \n",
       "4  4- B,S,C,L                 vegetal, nutty    3.50  "
      ]
     },
     "execution_count": 29,
     "metadata": {},
     "output_type": "execute_result"
    }
   ],
   "source": [
    "#removing parenthesis and spaces from columns \n",
    "df.columns = df.columns.str.replace(' ', '_').str.replace('(', '').str.replace(')', '').str.lower()\n",
    "\n",
    "#removing percent signs from row cocoa_percent\n",
    "df = df.replace(\"%\", \"\", regex=True)\n",
    "\n",
    "df.head()"
   ]
  },
  {
   "cell_type": "markdown",
   "metadata": {},
   "source": [
    "### Removing the unnecissary information leading up to the ingredient names"
   ]
  },
  {
   "cell_type": "code",
   "execution_count": 30,
   "metadata": {},
   "outputs": [],
   "source": [
    "# retreiving rows from the third index and on - leaving out rows with empty values\n",
    "df['ingredient_list'] = [np.nan if l is np.nan else l[3:] for l in df['ingredients']]"
   ]
  },
  {
   "cell_type": "markdown",
   "metadata": {},
   "source": [
    "### Inspecting the value (occurance count) and leaving out those with a low number of occurances"
   ]
  },
  {
   "cell_type": "code",
   "execution_count": 31,
   "metadata": {},
   "outputs": [
    {
     "data": {
      "text/plain": [
       "B,S,C          903\n",
       "B,S            661\n",
       "B,S,C,L        273\n",
       "B,S,C,V,L      184\n",
       "B,S,C,V        139\n",
       "B,S*            31\n",
       "B,S*,C,Sa       20\n",
       "B,S*,C          12\n",
       "B,S,L            8\n",
       "B,S*,C,V         7\n",
       ",S,C,V,Sa        6\n",
       "B,S,C,Sa         5\n",
       "B,S,V,L          5\n",
       "B                5\n",
       ",S,C,V,L,Sa      4\n",
       "B,S,V            3\n",
       "B,S*,V,L         3\n",
       "B,S*,C,L         2\n",
       "B,S,C,L,Sa       1\n",
       "B,S*,Sa          1\n",
       "B,C              1\n",
       "Name: ingredient_list, dtype: int64"
      ]
     },
     "execution_count": 31,
     "metadata": {},
     "output_type": "execute_result"
    }
   ],
   "source": [
    "df['ingredient_list'].value_counts()"
   ]
  },
  {
   "cell_type": "code",
   "execution_count": 32,
   "metadata": {},
   "outputs": [],
   "source": [
    "# leaving out occurances below 8 \n",
    "\n",
    "most_common = (df['ingredient_list'].value_counts()).iloc[:9].index\n",
    "\n",
    "\n",
    "df = df[df['ingredient_list'].isin(most_common)]\n"
   ]
  },
  {
   "cell_type": "code",
   "execution_count": 33,
   "metadata": {},
   "outputs": [
    {
     "data": {
      "text/html": [
       "<div>\n",
       "<style scoped>\n",
       "    .dataframe tbody tr th:only-of-type {\n",
       "        vertical-align: middle;\n",
       "    }\n",
       "\n",
       "    .dataframe tbody tr th {\n",
       "        vertical-align: top;\n",
       "    }\n",
       "\n",
       "    .dataframe thead th {\n",
       "        text-align: right;\n",
       "    }\n",
       "</style>\n",
       "<table border=\"1\" class=\"dataframe\">\n",
       "  <thead>\n",
       "    <tr style=\"text-align: right;\">\n",
       "      <th></th>\n",
       "      <th>ref</th>\n",
       "      <th>company_manufacturer</th>\n",
       "      <th>company_location</th>\n",
       "      <th>review_date</th>\n",
       "      <th>country_of_bean_origin</th>\n",
       "      <th>specific_bean_origin_or_bar_name</th>\n",
       "      <th>cocoa_percent</th>\n",
       "      <th>ingredients</th>\n",
       "      <th>most_memorable_characteristics</th>\n",
       "      <th>rating</th>\n",
       "      <th>ingredient_list</th>\n",
       "    </tr>\n",
       "  </thead>\n",
       "  <tbody>\n",
       "    <tr>\n",
       "      <th>0</th>\n",
       "      <td>2454</td>\n",
       "      <td>5150</td>\n",
       "      <td>U.S.A.</td>\n",
       "      <td>2019</td>\n",
       "      <td>Madagascar</td>\n",
       "      <td>Bejofo Estate, batch 1</td>\n",
       "      <td>76</td>\n",
       "      <td>3- B,S,C</td>\n",
       "      <td>cocoa, blackberry, full body</td>\n",
       "      <td>3.75</td>\n",
       "      <td>B,S,C</td>\n",
       "    </tr>\n",
       "    <tr>\n",
       "      <th>1</th>\n",
       "      <td>2458</td>\n",
       "      <td>5150</td>\n",
       "      <td>U.S.A.</td>\n",
       "      <td>2019</td>\n",
       "      <td>Dominican Republic</td>\n",
       "      <td>Zorzal, batch 1</td>\n",
       "      <td>76</td>\n",
       "      <td>3- B,S,C</td>\n",
       "      <td>cocoa, vegetal, savory</td>\n",
       "      <td>3.50</td>\n",
       "      <td>B,S,C</td>\n",
       "    </tr>\n",
       "    <tr>\n",
       "      <th>2</th>\n",
       "      <td>2454</td>\n",
       "      <td>5150</td>\n",
       "      <td>U.S.A.</td>\n",
       "      <td>2019</td>\n",
       "      <td>Tanzania</td>\n",
       "      <td>Kokoa Kamili, batch 1</td>\n",
       "      <td>76</td>\n",
       "      <td>3- B,S,C</td>\n",
       "      <td>rich cocoa, fatty, bready</td>\n",
       "      <td>3.25</td>\n",
       "      <td>B,S,C</td>\n",
       "    </tr>\n",
       "    <tr>\n",
       "      <th>3</th>\n",
       "      <td>797</td>\n",
       "      <td>A. Morin</td>\n",
       "      <td>France</td>\n",
       "      <td>2012</td>\n",
       "      <td>Peru</td>\n",
       "      <td>Peru</td>\n",
       "      <td>63</td>\n",
       "      <td>4- B,S,C,L</td>\n",
       "      <td>fruity, melon, roasty</td>\n",
       "      <td>3.75</td>\n",
       "      <td>B,S,C,L</td>\n",
       "    </tr>\n",
       "    <tr>\n",
       "      <th>4</th>\n",
       "      <td>797</td>\n",
       "      <td>A. Morin</td>\n",
       "      <td>France</td>\n",
       "      <td>2012</td>\n",
       "      <td>Bolivia</td>\n",
       "      <td>Bolivia</td>\n",
       "      <td>70</td>\n",
       "      <td>4- B,S,C,L</td>\n",
       "      <td>vegetal, nutty</td>\n",
       "      <td>3.50</td>\n",
       "      <td>B,S,C,L</td>\n",
       "    </tr>\n",
       "    <tr>\n",
       "      <th>...</th>\n",
       "      <td>...</td>\n",
       "      <td>...</td>\n",
       "      <td>...</td>\n",
       "      <td>...</td>\n",
       "      <td>...</td>\n",
       "      <td>...</td>\n",
       "      <td>...</td>\n",
       "      <td>...</td>\n",
       "      <td>...</td>\n",
       "      <td>...</td>\n",
       "      <td>...</td>\n",
       "    </tr>\n",
       "    <tr>\n",
       "      <th>2357</th>\n",
       "      <td>1205</td>\n",
       "      <td>Zotter</td>\n",
       "      <td>Austria</td>\n",
       "      <td>2014</td>\n",
       "      <td>Blend</td>\n",
       "      <td>Raw</td>\n",
       "      <td>80</td>\n",
       "      <td>4- B,S*,C,Sa</td>\n",
       "      <td>waxy, cloying, vegetal</td>\n",
       "      <td>2.75</td>\n",
       "      <td>B,S*,C,Sa</td>\n",
       "    </tr>\n",
       "    <tr>\n",
       "      <th>2358</th>\n",
       "      <td>1996</td>\n",
       "      <td>Zotter</td>\n",
       "      <td>Austria</td>\n",
       "      <td>2017</td>\n",
       "      <td>Colombia</td>\n",
       "      <td>APROCAFA, Acandi</td>\n",
       "      <td>75</td>\n",
       "      <td>3- B,S,C</td>\n",
       "      <td>strong nutty, marshmallow</td>\n",
       "      <td>3.75</td>\n",
       "      <td>B,S,C</td>\n",
       "    </tr>\n",
       "    <tr>\n",
       "      <th>2359</th>\n",
       "      <td>2170</td>\n",
       "      <td>Zotter</td>\n",
       "      <td>Austria</td>\n",
       "      <td>2018</td>\n",
       "      <td>Belize</td>\n",
       "      <td>Maya Mtn</td>\n",
       "      <td>72</td>\n",
       "      <td>3- B,S,C</td>\n",
       "      <td>muted, roasty, accessible</td>\n",
       "      <td>3.50</td>\n",
       "      <td>B,S,C</td>\n",
       "    </tr>\n",
       "    <tr>\n",
       "      <th>2360</th>\n",
       "      <td>2170</td>\n",
       "      <td>Zotter</td>\n",
       "      <td>Austria</td>\n",
       "      <td>2018</td>\n",
       "      <td>Congo</td>\n",
       "      <td>Mountains of the Moon</td>\n",
       "      <td>70</td>\n",
       "      <td>3- B,S,C</td>\n",
       "      <td>fatty, mild nuts, mild fruit</td>\n",
       "      <td>3.25</td>\n",
       "      <td>B,S,C</td>\n",
       "    </tr>\n",
       "    <tr>\n",
       "      <th>2361</th>\n",
       "      <td>2036</td>\n",
       "      <td>Zotter</td>\n",
       "      <td>Austria</td>\n",
       "      <td>2018</td>\n",
       "      <td>Blend</td>\n",
       "      <td>Dry Aged, 30 yr Anniversary bar</td>\n",
       "      <td>75</td>\n",
       "      <td>3- B,S,C</td>\n",
       "      <td>fatty, earthy, cocoa</td>\n",
       "      <td>3.00</td>\n",
       "      <td>B,S,C</td>\n",
       "    </tr>\n",
       "  </tbody>\n",
       "</table>\n",
       "<p>2231 rows × 11 columns</p>\n",
       "</div>"
      ],
      "text/plain": [
       "       ref company_manufacturer company_location  review_date  \\\n",
       "0     2454                 5150           U.S.A.         2019   \n",
       "1     2458                 5150           U.S.A.         2019   \n",
       "2     2454                 5150           U.S.A.         2019   \n",
       "3      797             A. Morin           France         2012   \n",
       "4      797             A. Morin           France         2012   \n",
       "...    ...                  ...              ...          ...   \n",
       "2357  1205               Zotter          Austria         2014   \n",
       "2358  1996               Zotter          Austria         2017   \n",
       "2359  2170               Zotter          Austria         2018   \n",
       "2360  2170               Zotter          Austria         2018   \n",
       "2361  2036               Zotter          Austria         2018   \n",
       "\n",
       "     country_of_bean_origin specific_bean_origin_or_bar_name cocoa_percent  \\\n",
       "0                Madagascar           Bejofo Estate, batch 1            76   \n",
       "1        Dominican Republic                  Zorzal, batch 1            76   \n",
       "2                  Tanzania            Kokoa Kamili, batch 1            76   \n",
       "3                      Peru                             Peru            63   \n",
       "4                   Bolivia                          Bolivia            70   \n",
       "...                     ...                              ...           ...   \n",
       "2357                  Blend                              Raw            80   \n",
       "2358               Colombia                 APROCAFA, Acandi            75   \n",
       "2359                 Belize                         Maya Mtn            72   \n",
       "2360                  Congo            Mountains of the Moon            70   \n",
       "2361                  Blend  Dry Aged, 30 yr Anniversary bar            75   \n",
       "\n",
       "       ingredients most_memorable_characteristics  rating ingredient_list  \n",
       "0         3- B,S,C   cocoa, blackberry, full body    3.75           B,S,C  \n",
       "1         3- B,S,C         cocoa, vegetal, savory    3.50           B,S,C  \n",
       "2         3- B,S,C      rich cocoa, fatty, bready    3.25           B,S,C  \n",
       "3       4- B,S,C,L          fruity, melon, roasty    3.75         B,S,C,L  \n",
       "4       4- B,S,C,L                 vegetal, nutty    3.50         B,S,C,L  \n",
       "...            ...                            ...     ...             ...  \n",
       "2357  4- B,S*,C,Sa         waxy, cloying, vegetal    2.75       B,S*,C,Sa  \n",
       "2358      3- B,S,C      strong nutty, marshmallow    3.75           B,S,C  \n",
       "2359      3- B,S,C      muted, roasty, accessible    3.50           B,S,C  \n",
       "2360      3- B,S,C   fatty, mild nuts, mild fruit    3.25           B,S,C  \n",
       "2361      3- B,S,C           fatty, earthy, cocoa    3.00           B,S,C  \n",
       "\n",
       "[2231 rows x 11 columns]"
      ]
     },
     "execution_count": 33,
     "metadata": {},
     "output_type": "execute_result"
    }
   ],
   "source": [
    "df"
   ]
  },
  {
   "cell_type": "code",
   "execution_count": 34,
   "metadata": {},
   "outputs": [
    {
     "data": {
      "text/plain": [
       "B,S,C        903\n",
       "B,S          661\n",
       "B,S,C,L      273\n",
       "B,S,C,V,L    184\n",
       "B,S,C,V      139\n",
       "B,S*          31\n",
       "B,S*,C,Sa     20\n",
       "B,S*,C        12\n",
       "B,S,L          8\n",
       "Name: ingredient_list, dtype: int64"
      ]
     },
     "execution_count": 34,
     "metadata": {},
     "output_type": "execute_result"
    }
   ],
   "source": [
    "df.ingredient_list.value_counts()"
   ]
  },
  {
   "cell_type": "markdown",
   "metadata": {},
   "source": [
    "------"
   ]
  },
  {
   "cell_type": "markdown",
   "metadata": {
    "tags": []
   },
   "source": [
    "### -- Only use if we BREAK UP INGREDIENTS and MOST_MEM_CHAR --  Separating multiple into their own individual rows ----"
   ]
  },
  {
   "cell_type": "code",
   "execution_count": 13,
   "metadata": {},
   "outputs": [],
   "source": [
    "#placing each ingredient into a new list sepparated by commas\n",
    "\n",
    "# df.most_memorable_characteristics = df.most_memorable_characteristics.str.split(',')\n",
    "\n",
    "\n",
    "# df['split_ingredients'] = df['ingredient_list'].str.split(',')\n",
    "\n",
    "# df = df.explode('split_ingredients')\n",
    "# df = df.explode('most_memorable_characteristics')\n"
   ]
  },
  {
   "cell_type": "markdown",
   "metadata": {},
   "source": [
    "------------"
   ]
  },
  {
   "cell_type": "markdown",
   "metadata": {},
   "source": [
    "------------"
   ]
  },
  {
   "cell_type": "markdown",
   "metadata": {},
   "source": [
    "### Clarifying important predictor values (x) for the target value (y)."
   ]
  },
  {
   "cell_type": "code",
   "execution_count": 23,
   "metadata": {},
   "outputs": [],
   "source": [
    "# dropping the target (y) values from x and specific origin\n",
    "features = df.drop(['rating','specific_bean_origin_or_bar_name', 'ingredients'], axis =1)\n",
    "X = features\n",
    "y = df.rating\n"
   ]
  },
  {
   "cell_type": "markdown",
   "metadata": {
    "tags": []
   },
   "source": [
    "### Splitting the data into three subsets of training and validation data for the future models.\n",
    "    Two train test splits create three subsets of the original dataset which allows for the training data to not be bled into the test data - this reduced model's bias towards the pre-existing testing data, thus assuring maximum performance on future test sets which the model has never been exposed. "
   ]
  },
  {
   "cell_type": "code",
   "execution_count": 24,
   "metadata": {},
   "outputs": [],
   "source": [
    "#performing train test split for test set (subsets 1/3)\n",
    "X_tr, X_test, y_tr, y_test = train_test_split(X, y, test_size=.15, random_state=42)\n",
    "\n",
    "\n",
    "#performing a train test split for train and validation set (subsets - 3/3)\n",
    "X_train, X_val, y_train, y_val = train_test_split(X_tr, y_tr, test_size=.15, random_state=42) "
   ]
  },
  {
   "cell_type": "code",
   "execution_count": 26,
   "metadata": {},
   "outputs": [
    {
     "data": {
      "text/plain": [
       "((2007, 8), (2007,))"
      ]
     },
     "execution_count": 26,
     "metadata": {},
     "output_type": "execute_result"
    }
   ],
   "source": [
    "#checking to ensure the shape of the columns and rows are still the same for the X and y values after the train test split.\n",
    "X_tr.shape, y_tr.shape"
   ]
  },
  {
   "cell_type": "markdown",
   "metadata": {},
   "source": [
    "### Replacing any existing missing values  "
   ]
  },
  {
   "cell_type": "code",
   "execution_count": 27,
   "metadata": {
    "tags": []
   },
   "outputs": [
    {
     "data": {
      "text/plain": [
       "ref                                0\n",
       "company_manufacturer               0\n",
       "company_location                   0\n",
       "review_date                        0\n",
       "country_of_bean_origin             0\n",
       "cocoa_percent                      0\n",
       "most_memorable_characteristics     0\n",
       "ingredient_list                   10\n",
       "dtype: int64"
      ]
     },
     "execution_count": 27,
     "metadata": {},
     "output_type": "execute_result"
    }
   ],
   "source": [
    "#ingredients have 88 rows that have no imputs.\n",
    "X_val.isna().sum()"
   ]
  },
  {
   "cell_type": "code",
   "execution_count": 18,
   "metadata": {},
   "outputs": [],
   "source": [
    "# the empty value replacement will be done using the most frequent fill strategy\n",
    "imputer = SimpleImputer(missing_values=np.nan, strategy='most_frequent')\n",
    "\n",
    "X_train_imputed = pd.DataFrame(imputer.fit_transform(X_train), columns = X.columns)\n",
    "\n",
    "X_val_imputed = pd.DataFrame(imputer.fit_transform(X_val),columns = X.columns)"
   ]
  },
  {
   "cell_type": "code",
   "execution_count": 19,
   "metadata": {
    "tags": []
   },
   "outputs": [
    {
     "data": {
      "text/plain": [
       "ref                               0\n",
       "company_manufacturer              0\n",
       "company_location                  0\n",
       "review_date                       0\n",
       "country_of_bean_origin            0\n",
       "cocoa_percent                     0\n",
       "ingredients                       0\n",
       "most_memorable_characteristics    0\n",
       "ingredient_list                   0\n",
       "dtype: int64"
      ]
     },
     "execution_count": 19,
     "metadata": {},
     "output_type": "execute_result"
    }
   ],
   "source": [
    "#ensuring that the missing values from ingredients are now filled in with the most frequent occuring value\n",
    "\n",
    "X_val_imputed.isna().sum()"
   ]
  },
  {
   "cell_type": "markdown",
   "metadata": {},
   "source": [
    "### Separating groups into numeric and catagorical data types "
   ]
  },
  {
   "cell_type": "code",
   "execution_count": 20,
   "metadata": {},
   "outputs": [
    {
     "name": "stdout",
     "output_type": "stream",
     "text": [
      "<class 'pandas.core.frame.DataFrame'>\n",
      "Int64Index: 1705 entries, 108 to 624\n",
      "Data columns (total 9 columns):\n",
      " #   Column                          Non-Null Count  Dtype \n",
      "---  ------                          --------------  ----- \n",
      " 0   ref                             1705 non-null   int64 \n",
      " 1   company_manufacturer            1705 non-null   object\n",
      " 2   company_location                1705 non-null   object\n",
      " 3   review_date                     1705 non-null   int64 \n",
      " 4   country_of_bean_origin          1705 non-null   object\n",
      " 5   cocoa_percent                   1705 non-null   object\n",
      " 6   ingredients                     1636 non-null   object\n",
      " 7   most_memorable_characteristics  1705 non-null   object\n",
      " 8   ingredient_list                 1636 non-null   object\n",
      "dtypes: int64(2), object(7)\n",
      "memory usage: 133.2+ KB\n"
     ]
    }
   ],
   "source": [
    "#taking a look at the groups data types to ensure that they are separated correctly\n",
    "X_train.info()"
   ]
  },
  {
   "cell_type": "code",
   "execution_count": 21,
   "metadata": {},
   "outputs": [
    {
     "ename": "NameError",
     "evalue": "name 'X_train_numeric' is not defined",
     "output_type": "error",
     "traceback": [
      "\u001b[0;31m---------------------------------------------------------------------------\u001b[0m",
      "\u001b[0;31mNameError\u001b[0m                                 Traceback (most recent call last)",
      "\u001b[0;32m<ipython-input-21-99c60a9150b0>\u001b[0m in \u001b[0;36m<module>\u001b[0;34m\u001b[0m\n\u001b[0;32m----> 1\u001b[0;31m \u001b[0mX_train_numeric\u001b[0m\u001b[0;34m\u001b[0m\u001b[0;34m\u001b[0m\u001b[0m\n\u001b[0m\u001b[1;32m      2\u001b[0m \u001b[0mX_train_cat\u001b[0m\u001b[0;34m\u001b[0m\u001b[0;34m\u001b[0m\u001b[0m\n\u001b[1;32m      3\u001b[0m \u001b[0;34m\u001b[0m\u001b[0m\n\u001b[1;32m      4\u001b[0m \u001b[0mX_val_numerica\u001b[0m\u001b[0;34m\u001b[0m\u001b[0;34m\u001b[0m\u001b[0m\n",
      "\u001b[0;31mNameError\u001b[0m: name 'X_train_numeric' is not defined"
     ]
    }
   ],
   "source": [
    "X_train_numeric \n",
    "X_train_cat\n",
    "\n",
    "X_val_numerica"
   ]
  },
  {
   "cell_type": "code",
   "execution_count": null,
   "metadata": {},
   "outputs": [],
   "source": []
  },
  {
   "cell_type": "markdown",
   "metadata": {},
   "source": [
    "## Preprocessing:"
   ]
  },
  {
   "cell_type": "code",
   "execution_count": null,
   "metadata": {},
   "outputs": [],
   "source": []
  },
  {
   "cell_type": "code",
   "execution_count": null,
   "metadata": {},
   "outputs": [],
   "source": [
    "git fetch \n",
    "\n",
    "git merge/chandler"
   ]
  }
 ],
 "metadata": {
  "kernelspec": {
   "display_name": "Python 3",
   "language": "python",
   "name": "python3"
  },
  "language_info": {
   "codemirror_mode": {
    "name": "ipython",
    "version": 3
   },
   "file_extension": ".py",
   "mimetype": "text/x-python",
   "name": "python",
   "nbconvert_exporter": "python",
   "pygments_lexer": "ipython3",
   "version": "3.8.5"
  }
 },
 "nbformat": 4,
 "nbformat_minor": 4
}
